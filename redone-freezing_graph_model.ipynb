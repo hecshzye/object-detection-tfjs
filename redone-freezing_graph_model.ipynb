{
  "nbformat": 4,
  "nbformat_minor": 0,
  "metadata": {
    "colab": {
      "name": "tfod_fabrik_model.ipynb",
      "provenance": [],
      "collapsed_sections": [],
      "mount_file_id": "1595h-E4f1DKs2x-3ibziFYT7inbpf20L",
      "authorship_tag": "ABX9TyOAn5xHtv7DVTT1ej/STcRO",
      "include_colab_link": true
    },
    "kernelspec": {
      "name": "python3",
      "display_name": "Python 3"
    },
    "language_info": {
      "name": "python"
    },
    "accelerator": "GPU"
  },
  "cells": [
    {
      "cell_type": "markdown",
      "metadata": {
        "id": "view-in-github",
        "colab_type": "text"
      },
      "source": [
        "<a href=\"https://colab.research.google.com/github/hecshzye/object-detection-tfjs/blob/main/redone-freezing_graph_model.ipynb\" target=\"_parent\"><img src=\"https://colab.research.google.com/assets/colab-badge.svg\" alt=\"Open In Colab\"/></a>"
      ]
    },
    {
      "cell_type": "markdown",
      "source": [
        "# **Realtime Detection using TensorFlow**"
      ],
      "metadata": {
        "id": "gFOO_OJNe6Ww"
      }
    },
    {
      "cell_type": "markdown",
      "source": [
        "## **Objective**\n",
        "\n",
        "  - To construct a Computer Vision algorithm using TensorFlow and TensorFlow Js to recognise the connector inside a machinery (🚘)\n",
        "\n",
        "  - Build a web application where the TensorFlow Js model is running inference over the live webcam."
      ],
      "metadata": {
        "id": "Qrhi6O9Ce6O8"
      }
    },
    {
      "cell_type": "markdown",
      "source": [
        "## **Tools**\n",
        "\n",
        "  - TensorFlow Training Custom Object Detector API\n",
        "    - https://github.com/tensorflow/models/tree/master/research/object_detection\n",
        "\n",
        "  - TFOD API Pretrained Model: ssd_mobilenet_v2 fpnlite 320x320\n",
        "    - https://github.com/tensorflow/models/blob/master/research/object_detection/g3doc/tf2_detection_zoo.md#:~:text=SSD%20MobileNet%20V2%20FPNLite%20320x320\n",
        "\n",
        "\n",
        "  - Dataset labelled using LabelImg\n",
        "    - https://github.com/tzutalin/labelImg "
      ],
      "metadata": {
        "id": "vVGqwFThe6Dq"
      }
    },
    {
      "cell_type": "code",
      "source": [
        "# Connect Google Drive\n",
        "\n",
        "from google.colab import drive\n",
        "drive.mount('/content/drive')"
      ],
      "metadata": {
        "colab": {
          "base_uri": "https://localhost:8080/"
        },
        "id": "2JFI5riG5zj3",
        "outputId": "80bdcd0b-ae9e-4626-995e-57d6ac36d5e2"
      },
      "execution_count": 64,
      "outputs": [
        {
          "output_type": "stream",
          "name": "stdout",
          "text": [
            "Drive already mounted at /content/drive; to attempt to forcibly remount, call drive.mount(\"/content/drive\", force_remount=True).\n"
          ]
        }
      ]
    },
    {
      "cell_type": "markdown",
      "source": [
        "####Libraries "
      ],
      "metadata": {
        "id": "em9-g5OJiU5i"
      }
    },
    {
      "cell_type": "code",
      "source": [
        "import tensorflow as tf\n",
        "print(tf.__version__)"
      ],
      "metadata": {
        "colab": {
          "base_uri": "https://localhost:8080/"
        },
        "id": "AFNzaauhiDR0",
        "outputId": "184d0473-36eb-4312-c27a-4d54bb97b6cf"
      },
      "execution_count": null,
      "outputs": [
        {
          "output_type": "stream",
          "name": "stdout",
          "text": [
            "2.8.0\n"
          ]
        }
      ]
    },
    {
      "cell_type": "code",
      "source": [
        "# Tensorflow js for inference\n",
        "\n",
        "#!pip install tensorflowjs"
      ],
      "metadata": {
        "colab": {
          "base_uri": "https://localhost:8080/"
        },
        "id": "Qf5acTNDhuzn",
        "outputId": "73aab09c-24d6-484a-f2ab-afdcefb99878"
      },
      "execution_count": null,
      "outputs": [
        {
          "output_type": "stream",
          "name": "stdout",
          "text": [
            "Collecting tensorflowjs\n",
            "  Downloading tensorflowjs-3.15.0-py3-none-any.whl (77 kB)\n",
            "\u001b[?25l\r\u001b[K     |████▎                           | 10 kB 25.2 MB/s eta 0:00:01\r\u001b[K     |████████▌                       | 20 kB 30.0 MB/s eta 0:00:01\r\u001b[K     |████████████▊                   | 30 kB 32.9 MB/s eta 0:00:01\r\u001b[K     |█████████████████               | 40 kB 16.3 MB/s eta 0:00:01\r\u001b[K     |█████████████████████▏          | 51 kB 13.9 MB/s eta 0:00:01\r\u001b[K     |█████████████████████████▍      | 61 kB 16.2 MB/s eta 0:00:01\r\u001b[K     |█████████████████████████████▋  | 71 kB 16.4 MB/s eta 0:00:01\r\u001b[K     |████████████████████████████████| 77 kB 5.2 MB/s \n",
            "\u001b[?25hRequirement already satisfied: six<2,>=1.12.0 in /usr/local/lib/python3.7/dist-packages (from tensorflowjs) (1.15.0)\n",
            "Requirement already satisfied: tensorflow-hub<0.13,>=0.7.0 in /usr/local/lib/python3.7/dist-packages (from tensorflowjs) (0.12.0)\n",
            "Requirement already satisfied: tensorflow<3,>=2.1.0 in /usr/local/lib/python3.7/dist-packages (from tensorflowjs) (2.8.0)\n",
            "Requirement already satisfied: google-pasta>=0.1.1 in /usr/local/lib/python3.7/dist-packages (from tensorflow<3,>=2.1.0->tensorflowjs) (0.2.0)\n",
            "Requirement already satisfied: setuptools in /usr/local/lib/python3.7/dist-packages (from tensorflow<3,>=2.1.0->tensorflowjs) (57.4.0)\n",
            "Collecting tf-estimator-nightly==2.8.0.dev2021122109\n",
            "  Downloading tf_estimator_nightly-2.8.0.dev2021122109-py2.py3-none-any.whl (462 kB)\n",
            "\u001b[K     |████████████████████████████████| 462 kB 36.6 MB/s \n",
            "\u001b[?25hRequirement already satisfied: tensorflow-io-gcs-filesystem>=0.23.1 in /usr/local/lib/python3.7/dist-packages (from tensorflow<3,>=2.1.0->tensorflowjs) (0.24.0)\n",
            "Requirement already satisfied: gast>=0.2.1 in /usr/local/lib/python3.7/dist-packages (from tensorflow<3,>=2.1.0->tensorflowjs) (0.5.3)\n",
            "Requirement already satisfied: protobuf>=3.9.2 in /usr/local/lib/python3.7/dist-packages (from tensorflow<3,>=2.1.0->tensorflowjs) (3.17.3)\n",
            "Requirement already satisfied: termcolor>=1.1.0 in /usr/local/lib/python3.7/dist-packages (from tensorflow<3,>=2.1.0->tensorflowjs) (1.1.0)\n",
            "Requirement already satisfied: flatbuffers>=1.12 in /usr/local/lib/python3.7/dist-packages (from tensorflow<3,>=2.1.0->tensorflowjs) (2.0)\n",
            "Requirement already satisfied: typing-extensions>=3.6.6 in /usr/local/lib/python3.7/dist-packages (from tensorflow<3,>=2.1.0->tensorflowjs) (4.1.1)\n",
            "Requirement already satisfied: grpcio<2.0,>=1.24.3 in /usr/local/lib/python3.7/dist-packages (from tensorflow<3,>=2.1.0->tensorflowjs) (1.44.0)\n",
            "Requirement already satisfied: tensorboard<2.9,>=2.8 in /usr/local/lib/python3.7/dist-packages (from tensorflow<3,>=2.1.0->tensorflowjs) (2.8.0)\n",
            "Requirement already satisfied: absl-py>=0.4.0 in /usr/local/lib/python3.7/dist-packages (from tensorflow<3,>=2.1.0->tensorflowjs) (1.0.0)\n",
            "Requirement already satisfied: numpy>=1.20 in /usr/local/lib/python3.7/dist-packages (from tensorflow<3,>=2.1.0->tensorflowjs) (1.21.6)\n",
            "Requirement already satisfied: libclang>=9.0.1 in /usr/local/lib/python3.7/dist-packages (from tensorflow<3,>=2.1.0->tensorflowjs) (13.0.0)\n",
            "Requirement already satisfied: h5py>=2.9.0 in /usr/local/lib/python3.7/dist-packages (from tensorflow<3,>=2.1.0->tensorflowjs) (3.1.0)\n",
            "Requirement already satisfied: astunparse>=1.6.0 in /usr/local/lib/python3.7/dist-packages (from tensorflow<3,>=2.1.0->tensorflowjs) (1.6.3)\n",
            "Requirement already satisfied: wrapt>=1.11.0 in /usr/local/lib/python3.7/dist-packages (from tensorflow<3,>=2.1.0->tensorflowjs) (1.14.0)\n",
            "Requirement already satisfied: keras-preprocessing>=1.1.1 in /usr/local/lib/python3.7/dist-packages (from tensorflow<3,>=2.1.0->tensorflowjs) (1.1.2)\n",
            "Requirement already satisfied: opt-einsum>=2.3.2 in /usr/local/lib/python3.7/dist-packages (from tensorflow<3,>=2.1.0->tensorflowjs) (3.3.0)\n",
            "Requirement already satisfied: keras<2.9,>=2.8.0rc0 in /usr/local/lib/python3.7/dist-packages (from tensorflow<3,>=2.1.0->tensorflowjs) (2.8.0)\n",
            "Requirement already satisfied: wheel<1.0,>=0.23.0 in /usr/local/lib/python3.7/dist-packages (from astunparse>=1.6.0->tensorflow<3,>=2.1.0->tensorflowjs) (0.37.1)\n",
            "Requirement already satisfied: cached-property in /usr/local/lib/python3.7/dist-packages (from h5py>=2.9.0->tensorflow<3,>=2.1.0->tensorflowjs) (1.5.2)\n",
            "Requirement already satisfied: markdown>=2.6.8 in /usr/local/lib/python3.7/dist-packages (from tensorboard<2.9,>=2.8->tensorflow<3,>=2.1.0->tensorflowjs) (3.3.6)\n",
            "Requirement already satisfied: tensorboard-data-server<0.7.0,>=0.6.0 in /usr/local/lib/python3.7/dist-packages (from tensorboard<2.9,>=2.8->tensorflow<3,>=2.1.0->tensorflowjs) (0.6.1)\n",
            "Requirement already satisfied: google-auth-oauthlib<0.5,>=0.4.1 in /usr/local/lib/python3.7/dist-packages (from tensorboard<2.9,>=2.8->tensorflow<3,>=2.1.0->tensorflowjs) (0.4.6)\n",
            "Requirement already satisfied: google-auth<3,>=1.6.3 in /usr/local/lib/python3.7/dist-packages (from tensorboard<2.9,>=2.8->tensorflow<3,>=2.1.0->tensorflowjs) (1.35.0)\n",
            "Requirement already satisfied: tensorboard-plugin-wit>=1.6.0 in /usr/local/lib/python3.7/dist-packages (from tensorboard<2.9,>=2.8->tensorflow<3,>=2.1.0->tensorflowjs) (1.8.1)\n",
            "Requirement already satisfied: werkzeug>=0.11.15 in /usr/local/lib/python3.7/dist-packages (from tensorboard<2.9,>=2.8->tensorflow<3,>=2.1.0->tensorflowjs) (1.0.1)\n",
            "Requirement already satisfied: requests<3,>=2.21.0 in /usr/local/lib/python3.7/dist-packages (from tensorboard<2.9,>=2.8->tensorflow<3,>=2.1.0->tensorflowjs) (2.23.0)\n",
            "Requirement already satisfied: pyasn1-modules>=0.2.1 in /usr/local/lib/python3.7/dist-packages (from google-auth<3,>=1.6.3->tensorboard<2.9,>=2.8->tensorflow<3,>=2.1.0->tensorflowjs) (0.2.8)\n",
            "Requirement already satisfied: cachetools<5.0,>=2.0.0 in /usr/local/lib/python3.7/dist-packages (from google-auth<3,>=1.6.3->tensorboard<2.9,>=2.8->tensorflow<3,>=2.1.0->tensorflowjs) (4.2.4)\n",
            "Requirement already satisfied: rsa<5,>=3.1.4 in /usr/local/lib/python3.7/dist-packages (from google-auth<3,>=1.6.3->tensorboard<2.9,>=2.8->tensorflow<3,>=2.1.0->tensorflowjs) (4.8)\n",
            "Requirement already satisfied: requests-oauthlib>=0.7.0 in /usr/local/lib/python3.7/dist-packages (from google-auth-oauthlib<0.5,>=0.4.1->tensorboard<2.9,>=2.8->tensorflow<3,>=2.1.0->tensorflowjs) (1.3.1)\n",
            "Requirement already satisfied: importlib-metadata>=4.4 in /usr/local/lib/python3.7/dist-packages (from markdown>=2.6.8->tensorboard<2.9,>=2.8->tensorflow<3,>=2.1.0->tensorflowjs) (4.11.3)\n",
            "Requirement already satisfied: zipp>=0.5 in /usr/local/lib/python3.7/dist-packages (from importlib-metadata>=4.4->markdown>=2.6.8->tensorboard<2.9,>=2.8->tensorflow<3,>=2.1.0->tensorflowjs) (3.8.0)\n",
            "Requirement already satisfied: pyasn1<0.5.0,>=0.4.6 in /usr/local/lib/python3.7/dist-packages (from pyasn1-modules>=0.2.1->google-auth<3,>=1.6.3->tensorboard<2.9,>=2.8->tensorflow<3,>=2.1.0->tensorflowjs) (0.4.8)\n",
            "Requirement already satisfied: certifi>=2017.4.17 in /usr/local/lib/python3.7/dist-packages (from requests<3,>=2.21.0->tensorboard<2.9,>=2.8->tensorflow<3,>=2.1.0->tensorflowjs) (2021.10.8)\n",
            "Requirement already satisfied: chardet<4,>=3.0.2 in /usr/local/lib/python3.7/dist-packages (from requests<3,>=2.21.0->tensorboard<2.9,>=2.8->tensorflow<3,>=2.1.0->tensorflowjs) (3.0.4)\n",
            "Requirement already satisfied: idna<3,>=2.5 in /usr/local/lib/python3.7/dist-packages (from requests<3,>=2.21.0->tensorboard<2.9,>=2.8->tensorflow<3,>=2.1.0->tensorflowjs) (2.10)\n",
            "Requirement already satisfied: urllib3!=1.25.0,!=1.25.1,<1.26,>=1.21.1 in /usr/local/lib/python3.7/dist-packages (from requests<3,>=2.21.0->tensorboard<2.9,>=2.8->tensorflow<3,>=2.1.0->tensorflowjs) (1.24.3)\n",
            "Requirement already satisfied: oauthlib>=3.0.0 in /usr/local/lib/python3.7/dist-packages (from requests-oauthlib>=0.7.0->google-auth-oauthlib<0.5,>=0.4.1->tensorboard<2.9,>=2.8->tensorflow<3,>=2.1.0->tensorflowjs) (3.2.0)\n",
            "Installing collected packages: tf-estimator-nightly, tensorflowjs\n",
            "Successfully installed tensorflowjs-3.15.0 tf-estimator-nightly-2.8.0.dev2021122109\n"
          ]
        }
      ]
    },
    {
      "cell_type": "code",
      "source": [
        "import numpy as np\n",
        "import pandas as pd\n",
        "import os\n",
        "import pathlib\n",
        "import matplotlib.pyplot as plt\n",
        "import sklearn\n",
        "import cv2\n",
        "import argparse\n",
        "from google.colab.patches import cv2_imshow"
      ],
      "metadata": {
        "id": "Yy1Fx0UBjEHA"
      },
      "execution_count": null,
      "outputs": []
    },
    {
      "cell_type": "code",
      "source": [
        "# In case of version issues\n",
        "\n",
        "#!pip install tensorflow-gpu\n",
        "#pip uninstall opencv-python-headless==4.5.5.62\n",
        "#pip install opencv-python-headless==4.5.2.52\n",
        "#!pip install tensorflow==2.7.0\n",
        "#!apt install --allow-change-held-packages libcudnn8=8.1.0.77-1+cuda11.2"
      ],
      "metadata": {
        "id": "yNzvm-mWiJsm"
      },
      "execution_count": null,
      "outputs": []
    },
    {
      "cell_type": "code",
      "source": [
        "# Check GPU Availability \n",
        "\n",
        "print(\"GPU\", \"available\" if tf.config.list_physical_devices(\"GPU\") else \"not available\")"
      ],
      "metadata": {
        "colab": {
          "base_uri": "https://localhost:8080/"
        },
        "id": "7t-Veb0OiBaj",
        "outputId": "6a212607-8eb6-48a6-fa35-4df0d16b7186"
      },
      "execution_count": null,
      "outputs": [
        {
          "output_type": "stream",
          "name": "stdout",
          "text": [
            "GPU available\n"
          ]
        }
      ]
    },
    {
      "cell_type": "code",
      "execution_count": null,
      "metadata": {
        "colab": {
          "base_uri": "https://localhost:8080/"
        },
        "id": "CTPFpd1aerLJ",
        "outputId": "91b757cb-6e57-4ed7-dda1-0959d25d7f68"
      },
      "outputs": [
        {
          "output_type": "stream",
          "name": "stdout",
          "text": [
            "GPU 0: Tesla T4 (UUID: GPU-786aaedc-3ea7-502c-3b51-1f6391614e02)\n"
          ]
        }
      ],
      "source": [
        "# GPU \n",
        "\n",
        "!nvidia-smi -L"
      ]
    },
    {
      "cell_type": "markdown",
      "source": [
        "### Clone Tensorflow Object Detection Models"
      ],
      "metadata": {
        "id": "YTAkuVfdkORy"
      }
    },
    {
      "cell_type": "code",
      "source": [
        "!git clone https://github.com/tensorflow/models.git"
      ],
      "metadata": {
        "colab": {
          "base_uri": "https://localhost:8080/"
        },
        "id": "JZq2U9KCkFl0",
        "outputId": "7abe5182-af55-464a-a95e-0b7ea92f06c7"
      },
      "execution_count": null,
      "outputs": [
        {
          "output_type": "stream",
          "name": "stdout",
          "text": [
            "Cloning into 'models'...\n",
            "remote: Enumerating objects: 72017, done.\u001b[K\n",
            "remote: Total 72017 (delta 0), reused 0 (delta 0), pack-reused 72017\u001b[K\n",
            "Receiving objects: 100% (72017/72017), 578.92 MiB | 23.65 MiB/s, done.\n",
            "Resolving deltas: 100% (50951/50951), done.\n"
          ]
        }
      ]
    },
    {
      "cell_type": "markdown",
      "source": [
        "####From the TFOD Official Documentation, installing protobuf inside the TFOD research folder\n"
      ],
      "metadata": {
        "id": "sqVrfUvqkau6"
      }
    },
    {
      "cell_type": "code",
      "source": [
        "cd /content/models/research"
      ],
      "metadata": {
        "colab": {
          "base_uri": "https://localhost:8080/"
        },
        "id": "Ui78zwJ0kYI0",
        "outputId": "a1e67932-11ae-4071-a5dc-00aaf4f244a1"
      },
      "execution_count": null,
      "outputs": [
        {
          "output_type": "stream",
          "name": "stdout",
          "text": [
            "/content/models/research\n"
          ]
        }
      ]
    },
    {
      "cell_type": "code",
      "source": [
        "# Install protobuf\n",
        "\n",
        "!protoc object_detection/protos/*.proto --python_out=."
      ],
      "metadata": {
        "id": "tQf2GILdkhP7"
      },
      "execution_count": null,
      "outputs": []
    },
    {
      "cell_type": "code",
      "source": [
        "# Install COCO API \n",
        "\n",
        "!git clone https://github.com/cocodataset/cocoapi.git"
      ],
      "metadata": {
        "colab": {
          "base_uri": "https://localhost:8080/"
        },
        "id": "iPNMMAREkot7",
        "outputId": "baa2be18-37b6-41e3-bbc6-651266fcbdbe"
      },
      "execution_count": null,
      "outputs": [
        {
          "output_type": "stream",
          "name": "stdout",
          "text": [
            "Cloning into 'cocoapi'...\n",
            "remote: Enumerating objects: 975, done.\u001b[K\n",
            "remote: Total 975 (delta 0), reused 0 (delta 0), pack-reused 975\u001b[K\n",
            "Receiving objects: 100% (975/975), 11.72 MiB | 24.65 MiB/s, done.\n",
            "Resolving deltas: 100% (576/576), done.\n"
          ]
        }
      ]
    },
    {
      "cell_type": "code",
      "source": [
        "cd cocoapi/PythonAPI"
      ],
      "metadata": {
        "colab": {
          "base_uri": "https://localhost:8080/"
        },
        "id": "cXj9Hx7Pkoki",
        "outputId": "6e3b64c4-4625-48be-eca6-53cc81d12e0a"
      },
      "execution_count": null,
      "outputs": [
        {
          "output_type": "stream",
          "name": "stdout",
          "text": [
            "/content/models/research/cocoapi/PythonAPI\n"
          ]
        }
      ]
    },
    {
      "cell_type": "code",
      "source": [
        "!make"
      ],
      "metadata": {
        "colab": {
          "base_uri": "https://localhost:8080/"
        },
        "id": "Wj7DlaQSkn6V",
        "outputId": "beb50a32-efd3-40fb-ee52-ef793e07782c"
      },
      "execution_count": null,
      "outputs": [
        {
          "output_type": "stream",
          "name": "stdout",
          "text": [
            "python setup.py build_ext --inplace\n",
            "running build_ext\n",
            "cythoning pycocotools/_mask.pyx to pycocotools/_mask.c\n",
            "/usr/local/lib/python3.7/dist-packages/Cython/Compiler/Main.py:369: FutureWarning: Cython directive 'language_level' not set, using 2 for now (Py2). This will change in a later release! File: /content/models/research/cocoapi/PythonAPI/pycocotools/_mask.pyx\n",
            "  tree = Parsing.p_module(s, pxd, full_module_name)\n",
            "building 'pycocotools._mask' extension\n",
            "creating build\n",
            "creating build/common\n",
            "creating build/temp.linux-x86_64-3.7\n",
            "creating build/temp.linux-x86_64-3.7/pycocotools\n",
            "x86_64-linux-gnu-gcc -pthread -Wno-unused-result -Wsign-compare -DNDEBUG -g -fwrapv -O2 -Wall -g -fdebug-prefix-map=/build/python3.7-dIfpci/python3.7-3.7.13=. -fstack-protector-strong -Wformat -Werror=format-security -g -fdebug-prefix-map=/build/python3.7-dIfpci/python3.7-3.7.13=. -fstack-protector-strong -Wformat -Werror=format-security -Wdate-time -D_FORTIFY_SOURCE=2 -fPIC -I/usr/local/lib/python3.7/dist-packages/numpy/core/include -I../common -I/usr/include/python3.7m -c ../common/maskApi.c -o build/temp.linux-x86_64-3.7/../common/maskApi.o -Wno-cpp -Wno-unused-function -std=c99\n",
            "\u001b[01m\u001b[K../common/maskApi.c:\u001b[m\u001b[K In function ‘\u001b[01m\u001b[KrleDecode\u001b[m\u001b[K’:\n",
            "\u001b[01m\u001b[K../common/maskApi.c:46:7:\u001b[m\u001b[K \u001b[01;35m\u001b[Kwarning: \u001b[m\u001b[Kthis ‘\u001b[01m\u001b[Kfor\u001b[m\u001b[K’ clause does not guard... [\u001b[01;35m\u001b[K-Wmisleading-indentation\u001b[m\u001b[K]\n",
            "       \u001b[01;35m\u001b[Kfor\u001b[m\u001b[K( k=0; k<R[i].cnts[j]; k++ ) *(M++)=v; v=!v; }}\n",
            "       \u001b[01;35m\u001b[K^~~\u001b[m\u001b[K\n",
            "\u001b[01m\u001b[K../common/maskApi.c:46:49:\u001b[m\u001b[K \u001b[01;36m\u001b[Knote: \u001b[m\u001b[K...this statement, but the latter is misleadingly indented as if it were guarded by the ‘\u001b[01m\u001b[Kfor\u001b[m\u001b[K’\n",
            "       for( k=0; k<R[i].cnts[j]; k++ ) *(M++)=v; \u001b[01;36m\u001b[Kv\u001b[m\u001b[K=!v; }}\n",
            "                                                 \u001b[01;36m\u001b[K^\u001b[m\u001b[K\n",
            "\u001b[01m\u001b[K../common/maskApi.c:\u001b[m\u001b[K In function ‘\u001b[01m\u001b[KrleFrPoly\u001b[m\u001b[K’:\n",
            "\u001b[01m\u001b[K../common/maskApi.c:166:3:\u001b[m\u001b[K \u001b[01;35m\u001b[Kwarning: \u001b[m\u001b[Kthis ‘\u001b[01m\u001b[Kfor\u001b[m\u001b[K’ clause does not guard... [\u001b[01;35m\u001b[K-Wmisleading-indentation\u001b[m\u001b[K]\n",
            "   \u001b[01;35m\u001b[Kfor\u001b[m\u001b[K(j=0; j<k; j++) x[j]=(int)(scale*xy[j*2+0]+.5); x[k]=x[0];\n",
            "   \u001b[01;35m\u001b[K^~~\u001b[m\u001b[K\n",
            "\u001b[01m\u001b[K../common/maskApi.c:166:54:\u001b[m\u001b[K \u001b[01;36m\u001b[Knote: \u001b[m\u001b[K...this statement, but the latter is misleadingly indented as if it were guarded by the ‘\u001b[01m\u001b[Kfor\u001b[m\u001b[K’\n",
            "   for(j=0; j<k; j++) x[j]=(int)(scale*xy[j*2+0]+.5); \u001b[01;36m\u001b[Kx\u001b[m\u001b[K[k]=x[0];\n",
            "                                                      \u001b[01;36m\u001b[K^\u001b[m\u001b[K\n",
            "\u001b[01m\u001b[K../common/maskApi.c:167:3:\u001b[m\u001b[K \u001b[01;35m\u001b[Kwarning: \u001b[m\u001b[Kthis ‘\u001b[01m\u001b[Kfor\u001b[m\u001b[K’ clause does not guard... [\u001b[01;35m\u001b[K-Wmisleading-indentation\u001b[m\u001b[K]\n",
            "   \u001b[01;35m\u001b[Kfor\u001b[m\u001b[K(j=0; j<k; j++) y[j]=(int)(scale*xy[j*2+1]+.5); y[k]=y[0];\n",
            "   \u001b[01;35m\u001b[K^~~\u001b[m\u001b[K\n",
            "\u001b[01m\u001b[K../common/maskApi.c:167:54:\u001b[m\u001b[K \u001b[01;36m\u001b[Knote: \u001b[m\u001b[K...this statement, but the latter is misleadingly indented as if it were guarded by the ‘\u001b[01m\u001b[Kfor\u001b[m\u001b[K’\n",
            "   for(j=0; j<k; j++) y[j]=(int)(scale*xy[j*2+1]+.5); \u001b[01;36m\u001b[Ky\u001b[m\u001b[K[k]=y[0];\n",
            "                                                      \u001b[01;36m\u001b[K^\u001b[m\u001b[K\n",
            "\u001b[01m\u001b[K../common/maskApi.c:\u001b[m\u001b[K In function ‘\u001b[01m\u001b[KrleToString\u001b[m\u001b[K’:\n",
            "\u001b[01m\u001b[K../common/maskApi.c:212:7:\u001b[m\u001b[K \u001b[01;35m\u001b[Kwarning: \u001b[m\u001b[Kthis ‘\u001b[01m\u001b[Kif\u001b[m\u001b[K’ clause does not guard... [\u001b[01;35m\u001b[K-Wmisleading-indentation\u001b[m\u001b[K]\n",
            "       \u001b[01;35m\u001b[Kif\u001b[m\u001b[K(more) c |= 0x20; c+=48; s[p++]=c;\n",
            "       \u001b[01;35m\u001b[K^~\u001b[m\u001b[K\n",
            "\u001b[01m\u001b[K../common/maskApi.c:212:27:\u001b[m\u001b[K \u001b[01;36m\u001b[Knote: \u001b[m\u001b[K...this statement, but the latter is misleadingly indented as if it were guarded by the ‘\u001b[01m\u001b[Kif\u001b[m\u001b[K’\n",
            "       if(more) c |= 0x20; \u001b[01;36m\u001b[Kc\u001b[m\u001b[K+=48; s[p++]=c;\n",
            "                           \u001b[01;36m\u001b[K^\u001b[m\u001b[K\n",
            "\u001b[01m\u001b[K../common/maskApi.c:\u001b[m\u001b[K In function ‘\u001b[01m\u001b[KrleFrString\u001b[m\u001b[K’:\n",
            "\u001b[01m\u001b[K../common/maskApi.c:220:3:\u001b[m\u001b[K \u001b[01;35m\u001b[Kwarning: \u001b[m\u001b[Kthis ‘\u001b[01m\u001b[Kwhile\u001b[m\u001b[K’ clause does not guard... [\u001b[01;35m\u001b[K-Wmisleading-indentation\u001b[m\u001b[K]\n",
            "   \u001b[01;35m\u001b[Kwhile\u001b[m\u001b[K( s[m] ) m++; cnts=malloc(sizeof(uint)*m); m=0;\n",
            "   \u001b[01;35m\u001b[K^~~~~\u001b[m\u001b[K\n",
            "\u001b[01m\u001b[K../common/maskApi.c:220:22:\u001b[m\u001b[K \u001b[01;36m\u001b[Knote: \u001b[m\u001b[K...this statement, but the latter is misleadingly indented as if it were guarded by the ‘\u001b[01m\u001b[Kwhile\u001b[m\u001b[K’\n",
            "   while( s[m] ) m++; \u001b[01;36m\u001b[Kcnts\u001b[m\u001b[K=malloc(sizeof(uint)*m); m=0;\n",
            "                      \u001b[01;36m\u001b[K^~~~\u001b[m\u001b[K\n",
            "\u001b[01m\u001b[K../common/maskApi.c:228:5:\u001b[m\u001b[K \u001b[01;35m\u001b[Kwarning: \u001b[m\u001b[Kthis ‘\u001b[01m\u001b[Kif\u001b[m\u001b[K’ clause does not guard... [\u001b[01;35m\u001b[K-Wmisleading-indentation\u001b[m\u001b[K]\n",
            "     \u001b[01;35m\u001b[Kif\u001b[m\u001b[K(m>2) x+=(long) cnts[m-2]; cnts[m++]=(uint) x;\n",
            "     \u001b[01;35m\u001b[K^~\u001b[m\u001b[K\n",
            "\u001b[01m\u001b[K../common/maskApi.c:228:34:\u001b[m\u001b[K \u001b[01;36m\u001b[Knote: \u001b[m\u001b[K...this statement, but the latter is misleadingly indented as if it were guarded by the ‘\u001b[01m\u001b[Kif\u001b[m\u001b[K’\n",
            "     if(m>2) x+=(long) cnts[m-2]; \u001b[01;36m\u001b[Kcnts\u001b[m\u001b[K[m++]=(uint) x;\n",
            "                                  \u001b[01;36m\u001b[K^~~~\u001b[m\u001b[K\n",
            "\u001b[01m\u001b[K../common/maskApi.c:\u001b[m\u001b[K In function ‘\u001b[01m\u001b[KrleToBbox\u001b[m\u001b[K’:\n",
            "\u001b[01m\u001b[K../common/maskApi.c:141:31:\u001b[m\u001b[K \u001b[01;35m\u001b[Kwarning: \u001b[m\u001b[K‘\u001b[01m\u001b[Kxp\u001b[m\u001b[K’ may be used uninitialized in this function [\u001b[01;35m\u001b[K-Wmaybe-uninitialized\u001b[m\u001b[K]\n",
            "       if(j%2==0) xp=x; else if\u001b[01;35m\u001b[K(\u001b[m\u001b[Kxp<x) { ys=0; ye=h-1; }\n",
            "                               \u001b[01;35m\u001b[K^\u001b[m\u001b[K\n",
            "x86_64-linux-gnu-gcc -pthread -Wno-unused-result -Wsign-compare -DNDEBUG -g -fwrapv -O2 -Wall -g -fdebug-prefix-map=/build/python3.7-dIfpci/python3.7-3.7.13=. -fstack-protector-strong -Wformat -Werror=format-security -g -fdebug-prefix-map=/build/python3.7-dIfpci/python3.7-3.7.13=. -fstack-protector-strong -Wformat -Werror=format-security -Wdate-time -D_FORTIFY_SOURCE=2 -fPIC -I/usr/local/lib/python3.7/dist-packages/numpy/core/include -I../common -I/usr/include/python3.7m -c pycocotools/_mask.c -o build/temp.linux-x86_64-3.7/pycocotools/_mask.o -Wno-cpp -Wno-unused-function -std=c99\n",
            "creating build/lib.linux-x86_64-3.7\n",
            "creating build/lib.linux-x86_64-3.7/pycocotools\n",
            "x86_64-linux-gnu-gcc -pthread -shared -Wl,-O1 -Wl,-Bsymbolic-functions -Wl,-Bsymbolic-functions -Wl,-z,relro -Wl,-Bsymbolic-functions -Wl,-z,relro -g -fdebug-prefix-map=/build/python3.7-dIfpci/python3.7-3.7.13=. -fstack-protector-strong -Wformat -Werror=format-security -Wdate-time -D_FORTIFY_SOURCE=2 build/temp.linux-x86_64-3.7/../common/maskApi.o build/temp.linux-x86_64-3.7/pycocotools/_mask.o -o build/lib.linux-x86_64-3.7/pycocotools/_mask.cpython-37m-x86_64-linux-gnu.so\n",
            "copying build/lib.linux-x86_64-3.7/pycocotools/_mask.cpython-37m-x86_64-linux-gnu.so -> pycocotools\n",
            "rm -rf build\n"
          ]
        }
      ]
    },
    {
      "cell_type": "code",
      "source": [
        "cp -r pycocotools /content/models/research"
      ],
      "metadata": {
        "id": "Bz2sPqTSk3-W"
      },
      "execution_count": null,
      "outputs": []
    },
    {
      "cell_type": "markdown",
      "source": [
        "###Install TensorFlow Object Detection API"
      ],
      "metadata": {
        "id": "937EBO0alAxI"
      }
    },
    {
      "cell_type": "code",
      "source": [
        "cd .."
      ],
      "metadata": {
        "colab": {
          "base_uri": "https://localhost:8080/"
        },
        "id": "UQx8AGu1k8wa",
        "outputId": "bf3057ef-73d9-4f86-8882-87ae887c2d2c"
      },
      "execution_count": null,
      "outputs": [
        {
          "output_type": "stream",
          "name": "stdout",
          "text": [
            "/content/models/research/cocoapi\n"
          ]
        }
      ]
    },
    {
      "cell_type": "code",
      "source": [
        "cd .."
      ],
      "metadata": {
        "colab": {
          "base_uri": "https://localhost:8080/"
        },
        "id": "73e-bI3_k8hX",
        "outputId": "31b1c394-9e6b-474e-851d-d12a69d58082"
      },
      "execution_count": null,
      "outputs": [
        {
          "output_type": "stream",
          "name": "stdout",
          "text": [
            "/content/models/research\n"
          ]
        }
      ]
    },
    {
      "cell_type": "code",
      "source": [
        "cp object_detection/packages/tf2/setup.py ."
      ],
      "metadata": {
        "id": "9obg9t43lJQ6"
      },
      "execution_count": null,
      "outputs": []
    },
    {
      "cell_type": "code",
      "source": [
        "# Install\n",
        "\n",
        "!python -m pip install ."
      ],
      "metadata": {
        "colab": {
          "base_uri": "https://localhost:8080/"
        },
        "id": "AhoBRmt_lJA2",
        "outputId": "7214780e-3a1f-46f8-fb9c-5352a75fad21"
      },
      "execution_count": null,
      "outputs": [
        {
          "output_type": "stream",
          "name": "stdout",
          "text": [
            "Processing /content/models/research\n",
            "\u001b[33m  DEPRECATION: A future pip version will change local packages to be built in-place without first copying to a temporary directory. We recommend you use --use-feature=in-tree-build to test your packages with this new behavior before it becomes the default.\n",
            "   pip 21.3 will remove support for this functionality. You can find discussion regarding this at https://github.com/pypa/pip/issues/7555.\u001b[0m\n",
            "Collecting avro-python3\n",
            "  Downloading avro-python3-1.10.2.tar.gz (38 kB)\n",
            "Collecting apache-beam\n",
            "  Downloading apache_beam-2.38.0-cp37-cp37m-manylinux2010_x86_64.whl (10.2 MB)\n",
            "\u001b[K     |████████████████████████████████| 10.2 MB 21.3 MB/s \n",
            "\u001b[?25hRequirement already satisfied: pillow in /usr/local/lib/python3.7/dist-packages (from object-detection==0.1) (7.1.2)\n",
            "Requirement already satisfied: lxml in /usr/local/lib/python3.7/dist-packages (from object-detection==0.1) (4.2.6)\n",
            "Requirement already satisfied: matplotlib in /usr/local/lib/python3.7/dist-packages (from object-detection==0.1) (3.2.2)\n",
            "Requirement already satisfied: Cython in /usr/local/lib/python3.7/dist-packages (from object-detection==0.1) (0.29.28)\n",
            "Requirement already satisfied: contextlib2 in /usr/local/lib/python3.7/dist-packages (from object-detection==0.1) (0.5.5)\n",
            "Collecting tf-slim\n",
            "  Downloading tf_slim-1.1.0-py2.py3-none-any.whl (352 kB)\n",
            "\u001b[K     |████████████████████████████████| 352 kB 72.1 MB/s \n",
            "\u001b[?25hRequirement already satisfied: six in /usr/local/lib/python3.7/dist-packages (from object-detection==0.1) (1.15.0)\n",
            "Requirement already satisfied: pycocotools in /usr/local/lib/python3.7/dist-packages (from object-detection==0.1) (2.0.4)\n",
            "Collecting lvis\n",
            "  Downloading lvis-0.5.3-py3-none-any.whl (14 kB)\n",
            "Requirement already satisfied: scipy in /usr/local/lib/python3.7/dist-packages (from object-detection==0.1) (1.4.1)\n",
            "Requirement already satisfied: pandas in /usr/local/lib/python3.7/dist-packages (from object-detection==0.1) (1.3.5)\n",
            "Collecting tf-models-official>=2.5.1\n",
            "  Downloading tf_models_official-2.8.0-py2.py3-none-any.whl (2.2 MB)\n",
            "\u001b[K     |████████████████████████████████| 2.2 MB 52.2 MB/s \n",
            "\u001b[?25hCollecting tensorflow_io\n",
            "  Downloading tensorflow_io-0.24.0-cp37-cp37m-manylinux_2_12_x86_64.manylinux2010_x86_64.whl (23.4 MB)\n",
            "\u001b[K     |████████████████████████████████| 23.4 MB 1.4 MB/s \n",
            "\u001b[?25hRequirement already satisfied: keras in /usr/local/lib/python3.7/dist-packages (from object-detection==0.1) (2.8.0)\n",
            "Requirement already satisfied: psutil>=5.4.3 in /usr/local/lib/python3.7/dist-packages (from tf-models-official>=2.5.1->object-detection==0.1) (5.4.8)\n",
            "Collecting tensorflow-model-optimization>=0.4.1\n",
            "  Downloading tensorflow_model_optimization-0.7.2-py2.py3-none-any.whl (237 kB)\n",
            "\u001b[K     |████████████████████████████████| 237 kB 76.8 MB/s \n",
            "\u001b[?25hCollecting opencv-python-headless\n",
            "  Downloading opencv_python_headless-4.5.5.64-cp36-abi3-manylinux_2_17_x86_64.manylinux2014_x86_64.whl (47.8 MB)\n",
            "\u001b[K     |████████████████████████████████| 47.8 MB 44 kB/s \n",
            "\u001b[?25hRequirement already satisfied: tensorflow~=2.8.0 in /usr/local/lib/python3.7/dist-packages (from tf-models-official>=2.5.1->object-detection==0.1) (2.8.0)\n",
            "Requirement already satisfied: google-api-python-client>=1.6.7 in /usr/local/lib/python3.7/dist-packages (from tf-models-official>=2.5.1->object-detection==0.1) (1.12.11)\n",
            "Collecting tensorflow-text~=2.8.0\n",
            "  Downloading tensorflow_text-2.8.2-cp37-cp37m-manylinux_2_12_x86_64.manylinux2010_x86_64.whl (4.9 MB)\n",
            "\u001b[K     |████████████████████████████████| 4.9 MB 51.2 MB/s \n",
            "\u001b[?25hCollecting sacrebleu\n",
            "  Downloading sacrebleu-2.0.0-py3-none-any.whl (90 kB)\n",
            "\u001b[K     |████████████████████████████████| 90 kB 11.6 MB/s \n",
            "\u001b[?25hCollecting pyyaml<6.0,>=5.1\n",
            "  Downloading PyYAML-5.4.1-cp37-cp37m-manylinux1_x86_64.whl (636 kB)\n",
            "\u001b[K     |████████████████████████████████| 636 kB 70.2 MB/s \n",
            "\u001b[?25hRequirement already satisfied: oauth2client in /usr/local/lib/python3.7/dist-packages (from tf-models-official>=2.5.1->object-detection==0.1) (4.1.3)\n",
            "Collecting py-cpuinfo>=3.3.0\n",
            "  Downloading py-cpuinfo-8.0.0.tar.gz (99 kB)\n",
            "\u001b[K     |████████████████████████████████| 99 kB 12.0 MB/s \n",
            "\u001b[?25hRequirement already satisfied: tensorflow-hub>=0.6.0 in /usr/local/lib/python3.7/dist-packages (from tf-models-official>=2.5.1->object-detection==0.1) (0.12.0)\n",
            "Requirement already satisfied: kaggle>=1.3.9 in /usr/local/lib/python3.7/dist-packages (from tf-models-official>=2.5.1->object-detection==0.1) (1.5.12)\n",
            "Collecting sentencepiece\n",
            "  Downloading sentencepiece-0.1.96-cp37-cp37m-manylinux_2_17_x86_64.manylinux2014_x86_64.whl (1.2 MB)\n",
            "\u001b[K     |████████████████████████████████| 1.2 MB 52.2 MB/s \n",
            "\u001b[?25hCollecting tensorflow-addons\n",
            "  Downloading tensorflow_addons-0.16.1-cp37-cp37m-manylinux_2_12_x86_64.manylinux2010_x86_64.whl (1.1 MB)\n",
            "\u001b[K     |████████████████████████████████| 1.1 MB 57.1 MB/s \n",
            "\u001b[?25hRequirement already satisfied: gin-config in /usr/local/lib/python3.7/dist-packages (from tf-models-official>=2.5.1->object-detection==0.1) (0.5.0)\n",
            "Requirement already satisfied: numpy>=1.15.4 in /usr/local/lib/python3.7/dist-packages (from tf-models-official>=2.5.1->object-detection==0.1) (1.21.6)\n",
            "Requirement already satisfied: tensorflow-datasets in /usr/local/lib/python3.7/dist-packages (from tf-models-official>=2.5.1->object-detection==0.1) (4.0.1)\n",
            "Collecting seqeval\n",
            "  Downloading seqeval-1.2.2.tar.gz (43 kB)\n",
            "\u001b[K     |████████████████████████████████| 43 kB 2.3 MB/s \n",
            "\u001b[?25hRequirement already satisfied: google-api-core<3dev,>=1.21.0 in /usr/local/lib/python3.7/dist-packages (from google-api-python-client>=1.6.7->tf-models-official>=2.5.1->object-detection==0.1) (1.31.5)\n",
            "Requirement already satisfied: uritemplate<4dev,>=3.0.0 in /usr/local/lib/python3.7/dist-packages (from google-api-python-client>=1.6.7->tf-models-official>=2.5.1->object-detection==0.1) (3.0.1)\n",
            "Requirement already satisfied: httplib2<1dev,>=0.15.0 in /usr/local/lib/python3.7/dist-packages (from google-api-python-client>=1.6.7->tf-models-official>=2.5.1->object-detection==0.1) (0.17.4)\n",
            "Requirement already satisfied: google-auth-httplib2>=0.0.3 in /usr/local/lib/python3.7/dist-packages (from google-api-python-client>=1.6.7->tf-models-official>=2.5.1->object-detection==0.1) (0.0.4)\n",
            "Requirement already satisfied: google-auth<3dev,>=1.16.0 in /usr/local/lib/python3.7/dist-packages (from google-api-python-client>=1.6.7->tf-models-official>=2.5.1->object-detection==0.1) (1.35.0)\n",
            "Requirement already satisfied: protobuf>=3.12.0 in /usr/local/lib/python3.7/dist-packages (from google-api-core<3dev,>=1.21.0->google-api-python-client>=1.6.7->tf-models-official>=2.5.1->object-detection==0.1) (3.17.3)\n",
            "Requirement already satisfied: googleapis-common-protos<2.0dev,>=1.6.0 in /usr/local/lib/python3.7/dist-packages (from google-api-core<3dev,>=1.21.0->google-api-python-client>=1.6.7->tf-models-official>=2.5.1->object-detection==0.1) (1.56.0)\n",
            "Requirement already satisfied: packaging>=14.3 in /usr/local/lib/python3.7/dist-packages (from google-api-core<3dev,>=1.21.0->google-api-python-client>=1.6.7->tf-models-official>=2.5.1->object-detection==0.1) (21.3)\n",
            "Requirement already satisfied: setuptools>=40.3.0 in /usr/local/lib/python3.7/dist-packages (from google-api-core<3dev,>=1.21.0->google-api-python-client>=1.6.7->tf-models-official>=2.5.1->object-detection==0.1) (57.4.0)\n",
            "Requirement already satisfied: pytz in /usr/local/lib/python3.7/dist-packages (from google-api-core<3dev,>=1.21.0->google-api-python-client>=1.6.7->tf-models-official>=2.5.1->object-detection==0.1) (2022.1)\n",
            "Requirement already satisfied: requests<3.0.0dev,>=2.18.0 in /usr/local/lib/python3.7/dist-packages (from google-api-core<3dev,>=1.21.0->google-api-python-client>=1.6.7->tf-models-official>=2.5.1->object-detection==0.1) (2.23.0)\n",
            "Requirement already satisfied: rsa<5,>=3.1.4 in /usr/local/lib/python3.7/dist-packages (from google-auth<3dev,>=1.16.0->google-api-python-client>=1.6.7->tf-models-official>=2.5.1->object-detection==0.1) (4.8)\n",
            "Requirement already satisfied: pyasn1-modules>=0.2.1 in /usr/local/lib/python3.7/dist-packages (from google-auth<3dev,>=1.16.0->google-api-python-client>=1.6.7->tf-models-official>=2.5.1->object-detection==0.1) (0.2.8)\n",
            "Requirement already satisfied: cachetools<5.0,>=2.0.0 in /usr/local/lib/python3.7/dist-packages (from google-auth<3dev,>=1.16.0->google-api-python-client>=1.6.7->tf-models-official>=2.5.1->object-detection==0.1) (4.2.4)\n",
            "Requirement already satisfied: urllib3 in /usr/local/lib/python3.7/dist-packages (from kaggle>=1.3.9->tf-models-official>=2.5.1->object-detection==0.1) (1.24.3)\n",
            "Requirement already satisfied: python-slugify in /usr/local/lib/python3.7/dist-packages (from kaggle>=1.3.9->tf-models-official>=2.5.1->object-detection==0.1) (6.1.1)\n",
            "Requirement already satisfied: certifi in /usr/local/lib/python3.7/dist-packages (from kaggle>=1.3.9->tf-models-official>=2.5.1->object-detection==0.1) (2021.10.8)\n",
            "Requirement already satisfied: tqdm in /usr/local/lib/python3.7/dist-packages (from kaggle>=1.3.9->tf-models-official>=2.5.1->object-detection==0.1) (4.64.0)\n",
            "Requirement already satisfied: python-dateutil in /usr/local/lib/python3.7/dist-packages (from kaggle>=1.3.9->tf-models-official>=2.5.1->object-detection==0.1) (2.8.2)\n",
            "Requirement already satisfied: pyparsing!=3.0.5,>=2.0.2 in /usr/local/lib/python3.7/dist-packages (from packaging>=14.3->google-api-core<3dev,>=1.21.0->google-api-python-client>=1.6.7->tf-models-official>=2.5.1->object-detection==0.1) (3.0.8)\n",
            "Requirement already satisfied: pyasn1<0.5.0,>=0.4.6 in /usr/local/lib/python3.7/dist-packages (from pyasn1-modules>=0.2.1->google-auth<3dev,>=1.16.0->google-api-python-client>=1.6.7->tf-models-official>=2.5.1->object-detection==0.1) (0.4.8)\n",
            "Requirement already satisfied: idna<3,>=2.5 in /usr/local/lib/python3.7/dist-packages (from requests<3.0.0dev,>=2.18.0->google-api-core<3dev,>=1.21.0->google-api-python-client>=1.6.7->tf-models-official>=2.5.1->object-detection==0.1) (2.10)\n",
            "Requirement already satisfied: chardet<4,>=3.0.2 in /usr/local/lib/python3.7/dist-packages (from requests<3.0.0dev,>=2.18.0->google-api-core<3dev,>=1.21.0->google-api-python-client>=1.6.7->tf-models-official>=2.5.1->object-detection==0.1) (3.0.4)\n",
            "Requirement already satisfied: tensorboard<2.9,>=2.8 in /usr/local/lib/python3.7/dist-packages (from tensorflow~=2.8.0->tf-models-official>=2.5.1->object-detection==0.1) (2.8.0)\n",
            "Requirement already satisfied: absl-py>=0.4.0 in /usr/local/lib/python3.7/dist-packages (from tensorflow~=2.8.0->tf-models-official>=2.5.1->object-detection==0.1) (1.0.0)\n",
            "Requirement already satisfied: astunparse>=1.6.0 in /usr/local/lib/python3.7/dist-packages (from tensorflow~=2.8.0->tf-models-official>=2.5.1->object-detection==0.1) (1.6.3)\n",
            "Requirement already satisfied: flatbuffers>=1.12 in /usr/local/lib/python3.7/dist-packages (from tensorflow~=2.8.0->tf-models-official>=2.5.1->object-detection==0.1) (2.0)\n",
            "Requirement already satisfied: gast>=0.2.1 in /usr/local/lib/python3.7/dist-packages (from tensorflow~=2.8.0->tf-models-official>=2.5.1->object-detection==0.1) (0.5.3)\n",
            "Requirement already satisfied: h5py>=2.9.0 in /usr/local/lib/python3.7/dist-packages (from tensorflow~=2.8.0->tf-models-official>=2.5.1->object-detection==0.1) (3.1.0)\n",
            "Requirement already satisfied: typing-extensions>=3.6.6 in /usr/local/lib/python3.7/dist-packages (from tensorflow~=2.8.0->tf-models-official>=2.5.1->object-detection==0.1) (4.1.1)\n",
            "Requirement already satisfied: opt-einsum>=2.3.2 in /usr/local/lib/python3.7/dist-packages (from tensorflow~=2.8.0->tf-models-official>=2.5.1->object-detection==0.1) (3.3.0)\n",
            "Requirement already satisfied: libclang>=9.0.1 in /usr/local/lib/python3.7/dist-packages (from tensorflow~=2.8.0->tf-models-official>=2.5.1->object-detection==0.1) (13.0.0)\n",
            "Requirement already satisfied: grpcio<2.0,>=1.24.3 in /usr/local/lib/python3.7/dist-packages (from tensorflow~=2.8.0->tf-models-official>=2.5.1->object-detection==0.1) (1.44.0)\n",
            "Requirement already satisfied: keras-preprocessing>=1.1.1 in /usr/local/lib/python3.7/dist-packages (from tensorflow~=2.8.0->tf-models-official>=2.5.1->object-detection==0.1) (1.1.2)\n",
            "Requirement already satisfied: termcolor>=1.1.0 in /usr/local/lib/python3.7/dist-packages (from tensorflow~=2.8.0->tf-models-official>=2.5.1->object-detection==0.1) (1.1.0)\n",
            "Requirement already satisfied: tensorflow-io-gcs-filesystem>=0.23.1 in /usr/local/lib/python3.7/dist-packages (from tensorflow~=2.8.0->tf-models-official>=2.5.1->object-detection==0.1) (0.24.0)\n",
            "Requirement already satisfied: wrapt>=1.11.0 in /usr/local/lib/python3.7/dist-packages (from tensorflow~=2.8.0->tf-models-official>=2.5.1->object-detection==0.1) (1.14.0)\n",
            "Requirement already satisfied: google-pasta>=0.1.1 in /usr/local/lib/python3.7/dist-packages (from tensorflow~=2.8.0->tf-models-official>=2.5.1->object-detection==0.1) (0.2.0)\n",
            "Collecting tf-estimator-nightly==2.8.0.dev2021122109\n",
            "  Downloading tf_estimator_nightly-2.8.0.dev2021122109-py2.py3-none-any.whl (462 kB)\n",
            "\u001b[K     |████████████████████████████████| 462 kB 70.6 MB/s \n",
            "\u001b[?25hRequirement already satisfied: wheel<1.0,>=0.23.0 in /usr/local/lib/python3.7/dist-packages (from astunparse>=1.6.0->tensorflow~=2.8.0->tf-models-official>=2.5.1->object-detection==0.1) (0.37.1)\n",
            "Requirement already satisfied: cached-property in /usr/local/lib/python3.7/dist-packages (from h5py>=2.9.0->tensorflow~=2.8.0->tf-models-official>=2.5.1->object-detection==0.1) (1.5.2)\n",
            "Requirement already satisfied: markdown>=2.6.8 in /usr/local/lib/python3.7/dist-packages (from tensorboard<2.9,>=2.8->tensorflow~=2.8.0->tf-models-official>=2.5.1->object-detection==0.1) (3.3.6)\n",
            "Requirement already satisfied: tensorboard-plugin-wit>=1.6.0 in /usr/local/lib/python3.7/dist-packages (from tensorboard<2.9,>=2.8->tensorflow~=2.8.0->tf-models-official>=2.5.1->object-detection==0.1) (1.8.1)\n",
            "Requirement already satisfied: werkzeug>=0.11.15 in /usr/local/lib/python3.7/dist-packages (from tensorboard<2.9,>=2.8->tensorflow~=2.8.0->tf-models-official>=2.5.1->object-detection==0.1) (1.0.1)\n",
            "Requirement already satisfied: google-auth-oauthlib<0.5,>=0.4.1 in /usr/local/lib/python3.7/dist-packages (from tensorboard<2.9,>=2.8->tensorflow~=2.8.0->tf-models-official>=2.5.1->object-detection==0.1) (0.4.6)\n",
            "Requirement already satisfied: tensorboard-data-server<0.7.0,>=0.6.0 in /usr/local/lib/python3.7/dist-packages (from tensorboard<2.9,>=2.8->tensorflow~=2.8.0->tf-models-official>=2.5.1->object-detection==0.1) (0.6.1)\n",
            "Requirement already satisfied: requests-oauthlib>=0.7.0 in /usr/local/lib/python3.7/dist-packages (from google-auth-oauthlib<0.5,>=0.4.1->tensorboard<2.9,>=2.8->tensorflow~=2.8.0->tf-models-official>=2.5.1->object-detection==0.1) (1.3.1)\n",
            "Requirement already satisfied: importlib-metadata>=4.4 in /usr/local/lib/python3.7/dist-packages (from markdown>=2.6.8->tensorboard<2.9,>=2.8->tensorflow~=2.8.0->tf-models-official>=2.5.1->object-detection==0.1) (4.11.3)\n",
            "Requirement already satisfied: zipp>=0.5 in /usr/local/lib/python3.7/dist-packages (from importlib-metadata>=4.4->markdown>=2.6.8->tensorboard<2.9,>=2.8->tensorflow~=2.8.0->tf-models-official>=2.5.1->object-detection==0.1) (3.8.0)\n",
            "Requirement already satisfied: oauthlib>=3.0.0 in /usr/local/lib/python3.7/dist-packages (from requests-oauthlib>=0.7.0->google-auth-oauthlib<0.5,>=0.4.1->tensorboard<2.9,>=2.8->tensorflow~=2.8.0->tf-models-official>=2.5.1->object-detection==0.1) (3.2.0)\n",
            "Requirement already satisfied: dm-tree~=0.1.1 in /usr/local/lib/python3.7/dist-packages (from tensorflow-model-optimization>=0.4.1->tf-models-official>=2.5.1->object-detection==0.1) (0.1.7)\n",
            "Collecting proto-plus<2,>=1.7.1\n",
            "  Downloading proto_plus-1.20.3-py3-none-any.whl (46 kB)\n",
            "\u001b[K     |████████████████████████████████| 46 kB 4.3 MB/s \n",
            "\u001b[?25hCollecting requests<3.0.0dev,>=2.18.0\n",
            "  Downloading requests-2.27.1-py2.py3-none-any.whl (63 kB)\n",
            "\u001b[K     |████████████████████████████████| 63 kB 2.1 MB/s \n",
            "\u001b[?25hCollecting cloudpickle<3,>=2.0.0\n",
            "  Downloading cloudpickle-2.0.0-py3-none-any.whl (25 kB)\n",
            "Collecting hdfs<3.0.0,>=2.1.0\n",
            "  Downloading hdfs-2.7.0-py3-none-any.whl (34 kB)\n",
            "Requirement already satisfied: pyarrow<7.0.0,>=0.15.1 in /usr/local/lib/python3.7/dist-packages (from apache-beam->object-detection==0.1) (6.0.1)\n",
            "Collecting pymongo<4.0.0,>=3.8.0\n",
            "  Downloading pymongo-3.12.3-cp37-cp37m-manylinux_2_17_x86_64.manylinux2014_x86_64.whl (508 kB)\n",
            "\u001b[K     |████████████████████████████████| 508 kB 73.4 MB/s \n",
            "\u001b[?25hRequirement already satisfied: pydot<2,>=1.2.0 in /usr/local/lib/python3.7/dist-packages (from apache-beam->object-detection==0.1) (1.3.0)\n",
            "Collecting dill<0.3.2,>=0.3.1.1\n",
            "  Downloading dill-0.3.1.1.tar.gz (151 kB)\n",
            "\u001b[K     |████████████████████████████████| 151 kB 78.2 MB/s \n",
            "\u001b[?25hCollecting fastavro<2,>=0.23.6\n",
            "  Downloading fastavro-1.4.10-cp37-cp37m-manylinux_2_17_x86_64.manylinux2014_x86_64.whl (2.3 MB)\n",
            "\u001b[K     |████████████████████████████████| 2.3 MB 49.2 MB/s \n",
            "\u001b[?25hCollecting orjson<4.0\n",
            "  Downloading orjson-3.6.8-cp37-cp37m-manylinux_2_24_x86_64.whl (253 kB)\n",
            "\u001b[K     |████████████████████████████████| 253 kB 74.3 MB/s \n",
            "\u001b[?25hRequirement already satisfied: crcmod<2.0,>=1.7 in /usr/local/lib/python3.7/dist-packages (from apache-beam->object-detection==0.1) (1.7)\n",
            "Requirement already satisfied: docopt in /usr/local/lib/python3.7/dist-packages (from hdfs<3.0.0,>=2.1.0->apache-beam->object-detection==0.1) (0.6.2)\n",
            "Collecting protobuf>=3.12.0\n",
            "  Downloading protobuf-3.20.0-cp37-cp37m-manylinux_2_5_x86_64.manylinux1_x86_64.whl (1.0 MB)\n",
            "\u001b[K     |████████████████████████████████| 1.0 MB 65.9 MB/s \n",
            "\u001b[?25hRequirement already satisfied: charset-normalizer~=2.0.0 in /usr/local/lib/python3.7/dist-packages (from requests<3.0.0dev,>=2.18.0->google-api-core<3dev,>=1.21.0->google-api-python-client>=1.6.7->tf-models-official>=2.5.1->object-detection==0.1) (2.0.12)\n",
            "Requirement already satisfied: kiwisolver>=1.1.0 in /usr/local/lib/python3.7/dist-packages (from lvis->object-detection==0.1) (1.4.2)\n",
            "Requirement already satisfied: cycler>=0.10.0 in /usr/local/lib/python3.7/dist-packages (from lvis->object-detection==0.1) (0.11.0)\n",
            "Requirement already satisfied: opencv-python>=4.1.0.25 in /usr/local/lib/python3.7/dist-packages (from lvis->object-detection==0.1) (4.1.2.30)\n",
            "Requirement already satisfied: text-unidecode>=1.3 in /usr/local/lib/python3.7/dist-packages (from python-slugify->kaggle>=1.3.9->tf-models-official>=2.5.1->object-detection==0.1) (1.3)\n",
            "Requirement already satisfied: tabulate>=0.8.9 in /usr/local/lib/python3.7/dist-packages (from sacrebleu->tf-models-official>=2.5.1->object-detection==0.1) (0.8.9)\n",
            "Collecting portalocker\n",
            "  Downloading portalocker-2.4.0-py2.py3-none-any.whl (16 kB)\n",
            "Collecting colorama\n",
            "  Downloading colorama-0.4.4-py2.py3-none-any.whl (16 kB)\n",
            "Requirement already satisfied: regex in /usr/local/lib/python3.7/dist-packages (from sacrebleu->tf-models-official>=2.5.1->object-detection==0.1) (2019.12.20)\n",
            "Requirement already satisfied: scikit-learn>=0.21.3 in /usr/local/lib/python3.7/dist-packages (from seqeval->tf-models-official>=2.5.1->object-detection==0.1) (1.0.2)\n",
            "Requirement already satisfied: joblib>=0.11 in /usr/local/lib/python3.7/dist-packages (from scikit-learn>=0.21.3->seqeval->tf-models-official>=2.5.1->object-detection==0.1) (1.1.0)\n",
            "Requirement already satisfied: threadpoolctl>=2.0.0 in /usr/local/lib/python3.7/dist-packages (from scikit-learn>=0.21.3->seqeval->tf-models-official>=2.5.1->object-detection==0.1) (3.1.0)\n",
            "Requirement already satisfied: typeguard>=2.7 in /usr/local/lib/python3.7/dist-packages (from tensorflow-addons->tf-models-official>=2.5.1->object-detection==0.1) (2.7.1)\n",
            "Requirement already satisfied: importlib-resources in /usr/local/lib/python3.7/dist-packages (from tensorflow-datasets->tf-models-official>=2.5.1->object-detection==0.1) (5.7.0)\n",
            "Requirement already satisfied: attrs>=18.1.0 in /usr/local/lib/python3.7/dist-packages (from tensorflow-datasets->tf-models-official>=2.5.1->object-detection==0.1) (21.4.0)\n",
            "Requirement already satisfied: promise in /usr/local/lib/python3.7/dist-packages (from tensorflow-datasets->tf-models-official>=2.5.1->object-detection==0.1) (2.3)\n",
            "Requirement already satisfied: tensorflow-metadata in /usr/local/lib/python3.7/dist-packages (from tensorflow-datasets->tf-models-official>=2.5.1->object-detection==0.1) (1.7.0)\n",
            "Requirement already satisfied: future in /usr/local/lib/python3.7/dist-packages (from tensorflow-datasets->tf-models-official>=2.5.1->object-detection==0.1) (0.16.0)\n",
            "Building wheels for collected packages: object-detection, py-cpuinfo, dill, avro-python3, seqeval\n",
            "  Building wheel for object-detection (setup.py) ... \u001b[?25l\u001b[?25hdone\n",
            "  Created wheel for object-detection: filename=object_detection-0.1-py3-none-any.whl size=1690985 sha256=c22ce7e5592d3c52a770cf836a9959c9d1783c0b61d7cec1dc48354194c88d86\n",
            "  Stored in directory: /tmp/pip-ephem-wheel-cache-4g_glr4d/wheels/fa/a4/d2/e9a5057e414fd46c8e543d2706cd836d64e1fcd9eccceb2329\n",
            "  Building wheel for py-cpuinfo (setup.py) ... \u001b[?25l\u001b[?25hdone\n",
            "  Created wheel for py-cpuinfo: filename=py_cpuinfo-8.0.0-py3-none-any.whl size=22257 sha256=0e3be0e8583aba4c426d83d1a6fd547a5aafb817ad1aaed1b4d3315d9310dac4\n",
            "  Stored in directory: /root/.cache/pip/wheels/d2/f1/1f/041add21dc9c4220157f1bd2bd6afe1f1a49524c3396b94401\n",
            "  Building wheel for dill (setup.py) ... \u001b[?25l\u001b[?25hdone\n",
            "  Created wheel for dill: filename=dill-0.3.1.1-py3-none-any.whl size=78544 sha256=c0db0f4c40e0f03a0b58929d47bb76a650aa93fbead95fe506a5483097682152\n",
            "  Stored in directory: /root/.cache/pip/wheels/a4/61/fd/c57e374e580aa78a45ed78d5859b3a44436af17e22ca53284f\n",
            "  Building wheel for avro-python3 (setup.py) ... \u001b[?25l\u001b[?25hdone\n",
            "  Created wheel for avro-python3: filename=avro_python3-1.10.2-py3-none-any.whl size=44010 sha256=813e6abcb824c601efeb7c05558028e3088bf3213c71c6e489a31a6baabfcde3\n",
            "  Stored in directory: /root/.cache/pip/wheels/d6/e5/b1/6b151d9b535ee50aaa6ab27d145a0104b6df02e5636f0376da\n",
            "  Building wheel for seqeval (setup.py) ... \u001b[?25l\u001b[?25hdone\n",
            "  Created wheel for seqeval: filename=seqeval-1.2.2-py3-none-any.whl size=16180 sha256=ad092f348fa8bc592efcb2ae29a0010a4cb2bb0bac3c01b6acd0ab460390828d\n",
            "  Stored in directory: /root/.cache/pip/wheels/05/96/ee/7cac4e74f3b19e3158dce26a20a1c86b3533c43ec72a549fd7\n",
            "Successfully built object-detection py-cpuinfo dill avro-python3 seqeval\n",
            "Installing collected packages: requests, protobuf, tf-estimator-nightly, portalocker, dill, colorama, tf-slim, tensorflow-text, tensorflow-model-optimization, tensorflow-addons, seqeval, sentencepiece, sacrebleu, pyyaml, pymongo, py-cpuinfo, proto-plus, orjson, opencv-python-headless, hdfs, fastavro, cloudpickle, tf-models-official, tensorflow-io, lvis, avro-python3, apache-beam, object-detection\n",
            "  Attempting uninstall: requests\n",
            "    Found existing installation: requests 2.23.0\n",
            "    Uninstalling requests-2.23.0:\n",
            "      Successfully uninstalled requests-2.23.0\n",
            "  Attempting uninstall: protobuf\n",
            "    Found existing installation: protobuf 3.17.3\n",
            "    Uninstalling protobuf-3.17.3:\n",
            "      Successfully uninstalled protobuf-3.17.3\n",
            "  Attempting uninstall: dill\n",
            "    Found existing installation: dill 0.3.4\n",
            "    Uninstalling dill-0.3.4:\n",
            "      Successfully uninstalled dill-0.3.4\n",
            "  Attempting uninstall: pyyaml\n",
            "    Found existing installation: PyYAML 3.13\n",
            "    Uninstalling PyYAML-3.13:\n",
            "      Successfully uninstalled PyYAML-3.13\n",
            "  Attempting uninstall: pymongo\n",
            "    Found existing installation: pymongo 4.1.1\n",
            "    Uninstalling pymongo-4.1.1:\n",
            "      Successfully uninstalled pymongo-4.1.1\n",
            "  Attempting uninstall: cloudpickle\n",
            "    Found existing installation: cloudpickle 1.3.0\n",
            "    Uninstalling cloudpickle-1.3.0:\n",
            "      Successfully uninstalled cloudpickle-1.3.0\n",
            "\u001b[31mERROR: pip's dependency resolver does not currently take into account all the packages that are installed. This behaviour is the source of the following dependency conflicts.\n",
            "multiprocess 0.70.12.2 requires dill>=0.3.4, but you have dill 0.3.1.1 which is incompatible.\n",
            "gym 0.17.3 requires cloudpickle<1.7.0,>=1.2.0, but you have cloudpickle 2.0.0 which is incompatible.\n",
            "google-colab 1.0.0 requires requests~=2.23.0, but you have requests 2.27.1 which is incompatible.\n",
            "datascience 0.10.6 requires folium==0.2.1, but you have folium 0.8.3 which is incompatible.\u001b[0m\n",
            "Successfully installed apache-beam-2.38.0 avro-python3-1.10.2 cloudpickle-2.0.0 colorama-0.4.4 dill-0.3.1.1 fastavro-1.4.10 hdfs-2.7.0 lvis-0.5.3 object-detection-0.1 opencv-python-headless-4.5.5.64 orjson-3.6.8 portalocker-2.4.0 proto-plus-1.20.3 protobuf-3.20.0 py-cpuinfo-8.0.0 pymongo-3.12.3 pyyaml-5.4.1 requests-2.27.1 sacrebleu-2.0.0 sentencepiece-0.1.96 seqeval-1.2.2 tensorflow-addons-0.16.1 tensorflow-io-0.24.0 tensorflow-model-optimization-0.7.2 tensorflow-text-2.8.2 tf-estimator-nightly-2.8.0.dev2021122109 tf-models-official-2.8.0 tf-slim-1.1.0\n"
          ]
        }
      ]
    },
    {
      "cell_type": "code",
      "source": [
        "# Check Tensorflow version \n",
        "\n",
        "print(tf.__version__)"
      ],
      "metadata": {
        "colab": {
          "base_uri": "https://localhost:8080/"
        },
        "id": "632l_hv7lhOx",
        "outputId": "2bac48cf-f61e-4e99-f9bc-cb16305d67e5"
      },
      "execution_count": null,
      "outputs": [
        {
          "output_type": "stream",
          "name": "stdout",
          "text": [
            "2.8.0\n"
          ]
        }
      ]
    },
    {
      "cell_type": "markdown",
      "source": [
        "###Test run the TFOD API"
      ],
      "metadata": {
        "id": "JrX9itNrlzFQ"
      }
    },
    {
      "cell_type": "code",
      "source": [
        "!python object_detection/builders/model_builder_tf2_test.py"
      ],
      "metadata": {
        "colab": {
          "base_uri": "https://localhost:8080/"
        },
        "id": "NVOB3g_TlwbZ",
        "outputId": "15fba372-6597-4185-df77-925ad7c400b3"
      },
      "execution_count": null,
      "outputs": [
        {
          "output_type": "stream",
          "name": "stdout",
          "text": [
            "Running tests under Python 3.7.13: /usr/bin/python3\n",
            "[ RUN      ] ModelBuilderTF2Test.test_create_center_net_deepmac\n",
            "2022-04-21 11:36:05.961957: W tensorflow/core/common_runtime/gpu/gpu_bfc_allocator.cc:39] Overriding allow_growth setting because the TF_FORCE_GPU_ALLOW_GROWTH environment variable is set. Original config value was 0.\n",
            "W0421 11:36:06.215100 139735367100288 model_builder.py:1102] Building experimental DeepMAC meta-arch. Some features may be omitted.\n",
            "INFO:tensorflow:time(__main__.ModelBuilderTF2Test.test_create_center_net_deepmac): 3.43s\n",
            "I0421 11:36:06.574267 139735367100288 test_util.py:2374] time(__main__.ModelBuilderTF2Test.test_create_center_net_deepmac): 3.43s\n",
            "[       OK ] ModelBuilderTF2Test.test_create_center_net_deepmac\n",
            "[ RUN      ] ModelBuilderTF2Test.test_create_center_net_model0 (customize_head_params=True)\n",
            "INFO:tensorflow:time(__main__.ModelBuilderTF2Test.test_create_center_net_model0 (customize_head_params=True)): 0.52s\n",
            "I0421 11:36:07.098807 139735367100288 test_util.py:2374] time(__main__.ModelBuilderTF2Test.test_create_center_net_model0 (customize_head_params=True)): 0.52s\n",
            "[       OK ] ModelBuilderTF2Test.test_create_center_net_model0 (customize_head_params=True)\n",
            "[ RUN      ] ModelBuilderTF2Test.test_create_center_net_model1 (customize_head_params=False)\n",
            "INFO:tensorflow:time(__main__.ModelBuilderTF2Test.test_create_center_net_model1 (customize_head_params=False)): 0.25s\n",
            "I0421 11:36:07.350904 139735367100288 test_util.py:2374] time(__main__.ModelBuilderTF2Test.test_create_center_net_model1 (customize_head_params=False)): 0.25s\n",
            "[       OK ] ModelBuilderTF2Test.test_create_center_net_model1 (customize_head_params=False)\n",
            "[ RUN      ] ModelBuilderTF2Test.test_create_center_net_model_from_keypoints\n",
            "INFO:tensorflow:time(__main__.ModelBuilderTF2Test.test_create_center_net_model_from_keypoints): 0.26s\n",
            "I0421 11:36:07.613222 139735367100288 test_util.py:2374] time(__main__.ModelBuilderTF2Test.test_create_center_net_model_from_keypoints): 0.26s\n",
            "[       OK ] ModelBuilderTF2Test.test_create_center_net_model_from_keypoints\n",
            "[ RUN      ] ModelBuilderTF2Test.test_create_center_net_model_mobilenet\n",
            "INFO:tensorflow:time(__main__.ModelBuilderTF2Test.test_create_center_net_model_mobilenet): 1.88s\n",
            "I0421 11:36:09.498054 139735367100288 test_util.py:2374] time(__main__.ModelBuilderTF2Test.test_create_center_net_model_mobilenet): 1.88s\n",
            "[       OK ] ModelBuilderTF2Test.test_create_center_net_model_mobilenet\n",
            "[ RUN      ] ModelBuilderTF2Test.test_create_experimental_model\n",
            "INFO:tensorflow:time(__main__.ModelBuilderTF2Test.test_create_experimental_model): 0.0s\n",
            "I0421 11:36:09.499024 139735367100288 test_util.py:2374] time(__main__.ModelBuilderTF2Test.test_create_experimental_model): 0.0s\n",
            "[       OK ] ModelBuilderTF2Test.test_create_experimental_model\n",
            "[ RUN      ] ModelBuilderTF2Test.test_create_faster_rcnn_from_config_with_crop_feature0 (True)\n",
            "INFO:tensorflow:time(__main__.ModelBuilderTF2Test.test_create_faster_rcnn_from_config_with_crop_feature0 (True)): 0.02s\n",
            "I0421 11:36:09.520820 139735367100288 test_util.py:2374] time(__main__.ModelBuilderTF2Test.test_create_faster_rcnn_from_config_with_crop_feature0 (True)): 0.02s\n",
            "[       OK ] ModelBuilderTF2Test.test_create_faster_rcnn_from_config_with_crop_feature0 (True)\n",
            "[ RUN      ] ModelBuilderTF2Test.test_create_faster_rcnn_from_config_with_crop_feature1 (False)\n",
            "INFO:tensorflow:time(__main__.ModelBuilderTF2Test.test_create_faster_rcnn_from_config_with_crop_feature1 (False)): 0.01s\n",
            "I0421 11:36:09.534387 139735367100288 test_util.py:2374] time(__main__.ModelBuilderTF2Test.test_create_faster_rcnn_from_config_with_crop_feature1 (False)): 0.01s\n",
            "[       OK ] ModelBuilderTF2Test.test_create_faster_rcnn_from_config_with_crop_feature1 (False)\n",
            "[ RUN      ] ModelBuilderTF2Test.test_create_faster_rcnn_model_from_config_with_example_miner\n",
            "INFO:tensorflow:time(__main__.ModelBuilderTF2Test.test_create_faster_rcnn_model_from_config_with_example_miner): 0.01s\n",
            "I0421 11:36:09.548755 139735367100288 test_util.py:2374] time(__main__.ModelBuilderTF2Test.test_create_faster_rcnn_model_from_config_with_example_miner): 0.01s\n",
            "[       OK ] ModelBuilderTF2Test.test_create_faster_rcnn_model_from_config_with_example_miner\n",
            "[ RUN      ] ModelBuilderTF2Test.test_create_faster_rcnn_models_from_config_faster_rcnn_with_matmul\n",
            "INFO:tensorflow:time(__main__.ModelBuilderTF2Test.test_create_faster_rcnn_models_from_config_faster_rcnn_with_matmul): 0.09s\n",
            "I0421 11:36:09.641916 139735367100288 test_util.py:2374] time(__main__.ModelBuilderTF2Test.test_create_faster_rcnn_models_from_config_faster_rcnn_with_matmul): 0.09s\n",
            "[       OK ] ModelBuilderTF2Test.test_create_faster_rcnn_models_from_config_faster_rcnn_with_matmul\n",
            "[ RUN      ] ModelBuilderTF2Test.test_create_faster_rcnn_models_from_config_faster_rcnn_without_matmul\n",
            "INFO:tensorflow:time(__main__.ModelBuilderTF2Test.test_create_faster_rcnn_models_from_config_faster_rcnn_without_matmul): 0.09s\n",
            "I0421 11:36:09.728943 139735367100288 test_util.py:2374] time(__main__.ModelBuilderTF2Test.test_create_faster_rcnn_models_from_config_faster_rcnn_without_matmul): 0.09s\n",
            "[       OK ] ModelBuilderTF2Test.test_create_faster_rcnn_models_from_config_faster_rcnn_without_matmul\n",
            "[ RUN      ] ModelBuilderTF2Test.test_create_faster_rcnn_models_from_config_mask_rcnn_with_matmul\n",
            "INFO:tensorflow:time(__main__.ModelBuilderTF2Test.test_create_faster_rcnn_models_from_config_mask_rcnn_with_matmul): 0.1s\n",
            "I0421 11:36:09.824728 139735367100288 test_util.py:2374] time(__main__.ModelBuilderTF2Test.test_create_faster_rcnn_models_from_config_mask_rcnn_with_matmul): 0.1s\n",
            "[       OK ] ModelBuilderTF2Test.test_create_faster_rcnn_models_from_config_mask_rcnn_with_matmul\n",
            "[ RUN      ] ModelBuilderTF2Test.test_create_faster_rcnn_models_from_config_mask_rcnn_without_matmul\n",
            "INFO:tensorflow:time(__main__.ModelBuilderTF2Test.test_create_faster_rcnn_models_from_config_mask_rcnn_without_matmul): 0.09s\n",
            "I0421 11:36:09.918144 139735367100288 test_util.py:2374] time(__main__.ModelBuilderTF2Test.test_create_faster_rcnn_models_from_config_mask_rcnn_without_matmul): 0.09s\n",
            "[       OK ] ModelBuilderTF2Test.test_create_faster_rcnn_models_from_config_mask_rcnn_without_matmul\n",
            "[ RUN      ] ModelBuilderTF2Test.test_create_rfcn_model_from_config\n",
            "INFO:tensorflow:time(__main__.ModelBuilderTF2Test.test_create_rfcn_model_from_config): 0.1s\n",
            "I0421 11:36:10.014352 139735367100288 test_util.py:2374] time(__main__.ModelBuilderTF2Test.test_create_rfcn_model_from_config): 0.1s\n",
            "[       OK ] ModelBuilderTF2Test.test_create_rfcn_model_from_config\n",
            "[ RUN      ] ModelBuilderTF2Test.test_create_ssd_fpn_model_from_config\n",
            "INFO:tensorflow:time(__main__.ModelBuilderTF2Test.test_create_ssd_fpn_model_from_config): 0.03s\n",
            "I0421 11:36:10.040956 139735367100288 test_util.py:2374] time(__main__.ModelBuilderTF2Test.test_create_ssd_fpn_model_from_config): 0.03s\n",
            "[       OK ] ModelBuilderTF2Test.test_create_ssd_fpn_model_from_config\n",
            "[ RUN      ] ModelBuilderTF2Test.test_create_ssd_models_from_config\n",
            "I0421 11:36:10.206756 139735367100288 ssd_efficientnet_bifpn_feature_extractor.py:146] EfficientDet EfficientNet backbone version: efficientnet-b0\n",
            "I0421 11:36:10.206887 139735367100288 ssd_efficientnet_bifpn_feature_extractor.py:147] EfficientDet BiFPN num filters: 64\n",
            "I0421 11:36:10.206957 139735367100288 ssd_efficientnet_bifpn_feature_extractor.py:149] EfficientDet BiFPN num iterations: 3\n",
            "I0421 11:36:10.209008 139735367100288 efficientnet_model.py:144] round_filter input=32 output=32\n",
            "I0421 11:36:10.224047 139735367100288 efficientnet_model.py:144] round_filter input=32 output=32\n",
            "I0421 11:36:10.224173 139735367100288 efficientnet_model.py:144] round_filter input=16 output=16\n",
            "I0421 11:36:10.279747 139735367100288 efficientnet_model.py:144] round_filter input=16 output=16\n",
            "I0421 11:36:10.279881 139735367100288 efficientnet_model.py:144] round_filter input=24 output=24\n",
            "I0421 11:36:10.418444 139735367100288 efficientnet_model.py:144] round_filter input=24 output=24\n",
            "I0421 11:36:10.418596 139735367100288 efficientnet_model.py:144] round_filter input=40 output=40\n",
            "I0421 11:36:10.557666 139735367100288 efficientnet_model.py:144] round_filter input=40 output=40\n",
            "I0421 11:36:10.557824 139735367100288 efficientnet_model.py:144] round_filter input=80 output=80\n",
            "I0421 11:36:10.764780 139735367100288 efficientnet_model.py:144] round_filter input=80 output=80\n",
            "I0421 11:36:10.764928 139735367100288 efficientnet_model.py:144] round_filter input=112 output=112\n",
            "I0421 11:36:10.971355 139735367100288 efficientnet_model.py:144] round_filter input=112 output=112\n",
            "I0421 11:36:10.971518 139735367100288 efficientnet_model.py:144] round_filter input=192 output=192\n",
            "I0421 11:36:11.403395 139735367100288 efficientnet_model.py:144] round_filter input=192 output=192\n",
            "I0421 11:36:11.403561 139735367100288 efficientnet_model.py:144] round_filter input=320 output=320\n",
            "I0421 11:36:11.469370 139735367100288 efficientnet_model.py:144] round_filter input=1280 output=1280\n",
            "I0421 11:36:11.496362 139735367100288 efficientnet_model.py:454] Building model efficientnet with params ModelConfig(width_coefficient=1.0, depth_coefficient=1.0, resolution=224, dropout_rate=0.2, blocks=(BlockConfig(input_filters=32, output_filters=16, kernel_size=3, num_repeat=1, expand_ratio=1, strides=(1, 1), se_ratio=0.25, id_skip=True, fused_conv=False, conv_type='depthwise'), BlockConfig(input_filters=16, output_filters=24, kernel_size=3, num_repeat=2, expand_ratio=6, strides=(2, 2), se_ratio=0.25, id_skip=True, fused_conv=False, conv_type='depthwise'), BlockConfig(input_filters=24, output_filters=40, kernel_size=5, num_repeat=2, expand_ratio=6, strides=(2, 2), se_ratio=0.25, id_skip=True, fused_conv=False, conv_type='depthwise'), BlockConfig(input_filters=40, output_filters=80, kernel_size=3, num_repeat=3, expand_ratio=6, strides=(2, 2), se_ratio=0.25, id_skip=True, fused_conv=False, conv_type='depthwise'), BlockConfig(input_filters=80, output_filters=112, kernel_size=5, num_repeat=3, expand_ratio=6, strides=(1, 1), se_ratio=0.25, id_skip=True, fused_conv=False, conv_type='depthwise'), BlockConfig(input_filters=112, output_filters=192, kernel_size=5, num_repeat=4, expand_ratio=6, strides=(2, 2), se_ratio=0.25, id_skip=True, fused_conv=False, conv_type='depthwise'), BlockConfig(input_filters=192, output_filters=320, kernel_size=3, num_repeat=1, expand_ratio=6, strides=(1, 1), se_ratio=0.25, id_skip=True, fused_conv=False, conv_type='depthwise')), stem_base_filters=32, top_base_filters=1280, activation='simple_swish', batch_norm='default', bn_momentum=0.99, bn_epsilon=0.001, weight_decay=5e-06, drop_connect_rate=0.2, depth_divisor=8, min_depth=None, use_se=True, input_channels=3, num_classes=1000, model_name='efficientnet', rescale_input=False, data_format='channels_last', dtype='float32')\n",
            "I0421 11:36:11.544519 139735367100288 ssd_efficientnet_bifpn_feature_extractor.py:146] EfficientDet EfficientNet backbone version: efficientnet-b1\n",
            "I0421 11:36:11.544648 139735367100288 ssd_efficientnet_bifpn_feature_extractor.py:147] EfficientDet BiFPN num filters: 88\n",
            "I0421 11:36:11.544728 139735367100288 ssd_efficientnet_bifpn_feature_extractor.py:149] EfficientDet BiFPN num iterations: 4\n",
            "I0421 11:36:11.546194 139735367100288 efficientnet_model.py:144] round_filter input=32 output=32\n",
            "I0421 11:36:11.559767 139735367100288 efficientnet_model.py:144] round_filter input=32 output=32\n",
            "I0421 11:36:11.559872 139735367100288 efficientnet_model.py:144] round_filter input=16 output=16\n",
            "I0421 11:36:11.666265 139735367100288 efficientnet_model.py:144] round_filter input=16 output=16\n",
            "I0421 11:36:11.666378 139735367100288 efficientnet_model.py:144] round_filter input=24 output=24\n",
            "I0421 11:36:11.872805 139735367100288 efficientnet_model.py:144] round_filter input=24 output=24\n",
            "I0421 11:36:11.872959 139735367100288 efficientnet_model.py:144] round_filter input=40 output=40\n",
            "I0421 11:36:12.088287 139735367100288 efficientnet_model.py:144] round_filter input=40 output=40\n",
            "I0421 11:36:12.088452 139735367100288 efficientnet_model.py:144] round_filter input=80 output=80\n",
            "I0421 11:36:12.371386 139735367100288 efficientnet_model.py:144] round_filter input=80 output=80\n",
            "I0421 11:36:12.371551 139735367100288 efficientnet_model.py:144] round_filter input=112 output=112\n",
            "I0421 11:36:12.648361 139735367100288 efficientnet_model.py:144] round_filter input=112 output=112\n",
            "I0421 11:36:12.648539 139735367100288 efficientnet_model.py:144] round_filter input=192 output=192\n",
            "I0421 11:36:13.002607 139735367100288 efficientnet_model.py:144] round_filter input=192 output=192\n",
            "I0421 11:36:13.002788 139735367100288 efficientnet_model.py:144] round_filter input=320 output=320\n",
            "I0421 11:36:13.143788 139735367100288 efficientnet_model.py:144] round_filter input=1280 output=1280\n",
            "I0421 11:36:13.171307 139735367100288 efficientnet_model.py:454] Building model efficientnet with params ModelConfig(width_coefficient=1.0, depth_coefficient=1.1, resolution=240, dropout_rate=0.2, blocks=(BlockConfig(input_filters=32, output_filters=16, kernel_size=3, num_repeat=1, expand_ratio=1, strides=(1, 1), se_ratio=0.25, id_skip=True, fused_conv=False, conv_type='depthwise'), BlockConfig(input_filters=16, output_filters=24, kernel_size=3, num_repeat=2, expand_ratio=6, strides=(2, 2), se_ratio=0.25, id_skip=True, fused_conv=False, conv_type='depthwise'), BlockConfig(input_filters=24, output_filters=40, kernel_size=5, num_repeat=2, expand_ratio=6, strides=(2, 2), se_ratio=0.25, id_skip=True, fused_conv=False, conv_type='depthwise'), BlockConfig(input_filters=40, output_filters=80, kernel_size=3, num_repeat=3, expand_ratio=6, strides=(2, 2), se_ratio=0.25, id_skip=True, fused_conv=False, conv_type='depthwise'), BlockConfig(input_filters=80, output_filters=112, kernel_size=5, num_repeat=3, expand_ratio=6, strides=(1, 1), se_ratio=0.25, id_skip=True, fused_conv=False, conv_type='depthwise'), BlockConfig(input_filters=112, output_filters=192, kernel_size=5, num_repeat=4, expand_ratio=6, strides=(2, 2), se_ratio=0.25, id_skip=True, fused_conv=False, conv_type='depthwise'), BlockConfig(input_filters=192, output_filters=320, kernel_size=3, num_repeat=1, expand_ratio=6, strides=(1, 1), se_ratio=0.25, id_skip=True, fused_conv=False, conv_type='depthwise')), stem_base_filters=32, top_base_filters=1280, activation='simple_swish', batch_norm='default', bn_momentum=0.99, bn_epsilon=0.001, weight_decay=5e-06, drop_connect_rate=0.2, depth_divisor=8, min_depth=None, use_se=True, input_channels=3, num_classes=1000, model_name='efficientnet', rescale_input=False, data_format='channels_last', dtype='float32')\n",
            "I0421 11:36:13.229106 139735367100288 ssd_efficientnet_bifpn_feature_extractor.py:146] EfficientDet EfficientNet backbone version: efficientnet-b2\n",
            "I0421 11:36:13.229233 139735367100288 ssd_efficientnet_bifpn_feature_extractor.py:147] EfficientDet BiFPN num filters: 112\n",
            "I0421 11:36:13.229298 139735367100288 ssd_efficientnet_bifpn_feature_extractor.py:149] EfficientDet BiFPN num iterations: 5\n",
            "I0421 11:36:13.231474 139735367100288 efficientnet_model.py:144] round_filter input=32 output=32\n",
            "I0421 11:36:13.247286 139735367100288 efficientnet_model.py:144] round_filter input=32 output=32\n",
            "I0421 11:36:13.247414 139735367100288 efficientnet_model.py:144] round_filter input=16 output=16\n",
            "I0421 11:36:13.354517 139735367100288 efficientnet_model.py:144] round_filter input=16 output=16\n",
            "I0421 11:36:13.354645 139735367100288 efficientnet_model.py:144] round_filter input=24 output=24\n",
            "I0421 11:36:13.555685 139735367100288 efficientnet_model.py:144] round_filter input=24 output=24\n",
            "I0421 11:36:13.555817 139735367100288 efficientnet_model.py:144] round_filter input=40 output=48\n",
            "I0421 11:36:13.763800 139735367100288 efficientnet_model.py:144] round_filter input=40 output=48\n",
            "I0421 11:36:13.763981 139735367100288 efficientnet_model.py:144] round_filter input=80 output=88\n",
            "I0421 11:36:14.048574 139735367100288 efficientnet_model.py:144] round_filter input=80 output=88\n",
            "I0421 11:36:14.048788 139735367100288 efficientnet_model.py:144] round_filter input=112 output=120\n",
            "I0421 11:36:14.339531 139735367100288 efficientnet_model.py:144] round_filter input=112 output=120\n",
            "I0421 11:36:14.339727 139735367100288 efficientnet_model.py:144] round_filter input=192 output=208\n",
            "I0421 11:36:14.687141 139735367100288 efficientnet_model.py:144] round_filter input=192 output=208\n",
            "I0421 11:36:14.687322 139735367100288 efficientnet_model.py:144] round_filter input=320 output=352\n",
            "I0421 11:36:14.822947 139735367100288 efficientnet_model.py:144] round_filter input=1280 output=1408\n",
            "I0421 11:36:14.849661 139735367100288 efficientnet_model.py:454] Building model efficientnet with params ModelConfig(width_coefficient=1.1, depth_coefficient=1.2, resolution=260, dropout_rate=0.3, blocks=(BlockConfig(input_filters=32, output_filters=16, kernel_size=3, num_repeat=1, expand_ratio=1, strides=(1, 1), se_ratio=0.25, id_skip=True, fused_conv=False, conv_type='depthwise'), BlockConfig(input_filters=16, output_filters=24, kernel_size=3, num_repeat=2, expand_ratio=6, strides=(2, 2), se_ratio=0.25, id_skip=True, fused_conv=False, conv_type='depthwise'), BlockConfig(input_filters=24, output_filters=40, kernel_size=5, num_repeat=2, expand_ratio=6, strides=(2, 2), se_ratio=0.25, id_skip=True, fused_conv=False, conv_type='depthwise'), BlockConfig(input_filters=40, output_filters=80, kernel_size=3, num_repeat=3, expand_ratio=6, strides=(2, 2), se_ratio=0.25, id_skip=True, fused_conv=False, conv_type='depthwise'), BlockConfig(input_filters=80, output_filters=112, kernel_size=5, num_repeat=3, expand_ratio=6, strides=(1, 1), se_ratio=0.25, id_skip=True, fused_conv=False, conv_type='depthwise'), BlockConfig(input_filters=112, output_filters=192, kernel_size=5, num_repeat=4, expand_ratio=6, strides=(2, 2), se_ratio=0.25, id_skip=True, fused_conv=False, conv_type='depthwise'), BlockConfig(input_filters=192, output_filters=320, kernel_size=3, num_repeat=1, expand_ratio=6, strides=(1, 1), se_ratio=0.25, id_skip=True, fused_conv=False, conv_type='depthwise')), stem_base_filters=32, top_base_filters=1280, activation='simple_swish', batch_norm='default', bn_momentum=0.99, bn_epsilon=0.001, weight_decay=5e-06, drop_connect_rate=0.2, depth_divisor=8, min_depth=None, use_se=True, input_channels=3, num_classes=1000, model_name='efficientnet', rescale_input=False, data_format='channels_last', dtype='float32')\n",
            "I0421 11:36:14.908985 139735367100288 ssd_efficientnet_bifpn_feature_extractor.py:146] EfficientDet EfficientNet backbone version: efficientnet-b3\n",
            "I0421 11:36:14.909123 139735367100288 ssd_efficientnet_bifpn_feature_extractor.py:147] EfficientDet BiFPN num filters: 160\n",
            "I0421 11:36:14.909202 139735367100288 ssd_efficientnet_bifpn_feature_extractor.py:149] EfficientDet BiFPN num iterations: 6\n",
            "I0421 11:36:14.910800 139735367100288 efficientnet_model.py:144] round_filter input=32 output=40\n",
            "I0421 11:36:14.925061 139735367100288 efficientnet_model.py:144] round_filter input=32 output=40\n",
            "I0421 11:36:14.925167 139735367100288 efficientnet_model.py:144] round_filter input=16 output=24\n",
            "I0421 11:36:15.229771 139735367100288 efficientnet_model.py:144] round_filter input=16 output=24\n",
            "I0421 11:36:15.229934 139735367100288 efficientnet_model.py:144] round_filter input=24 output=32\n",
            "I0421 11:36:15.435306 139735367100288 efficientnet_model.py:144] round_filter input=24 output=32\n",
            "I0421 11:36:15.435469 139735367100288 efficientnet_model.py:144] round_filter input=40 output=48\n",
            "I0421 11:36:15.642764 139735367100288 efficientnet_model.py:144] round_filter input=40 output=48\n",
            "I0421 11:36:15.642932 139735367100288 efficientnet_model.py:144] round_filter input=80 output=96\n",
            "I0421 11:36:16.000785 139735367100288 efficientnet_model.py:144] round_filter input=80 output=96\n",
            "I0421 11:36:16.000952 139735367100288 efficientnet_model.py:144] round_filter input=112 output=136\n",
            "I0421 11:36:16.355598 139735367100288 efficientnet_model.py:144] round_filter input=112 output=136\n",
            "I0421 11:36:16.355774 139735367100288 efficientnet_model.py:144] round_filter input=192 output=232\n",
            "I0421 11:36:16.765886 139735367100288 efficientnet_model.py:144] round_filter input=192 output=232\n",
            "I0421 11:36:16.766049 139735367100288 efficientnet_model.py:144] round_filter input=320 output=384\n",
            "I0421 11:36:16.902330 139735367100288 efficientnet_model.py:144] round_filter input=1280 output=1536\n",
            "I0421 11:36:16.931098 139735367100288 efficientnet_model.py:454] Building model efficientnet with params ModelConfig(width_coefficient=1.2, depth_coefficient=1.4, resolution=300, dropout_rate=0.3, blocks=(BlockConfig(input_filters=32, output_filters=16, kernel_size=3, num_repeat=1, expand_ratio=1, strides=(1, 1), se_ratio=0.25, id_skip=True, fused_conv=False, conv_type='depthwise'), BlockConfig(input_filters=16, output_filters=24, kernel_size=3, num_repeat=2, expand_ratio=6, strides=(2, 2), se_ratio=0.25, id_skip=True, fused_conv=False, conv_type='depthwise'), BlockConfig(input_filters=24, output_filters=40, kernel_size=5, num_repeat=2, expand_ratio=6, strides=(2, 2), se_ratio=0.25, id_skip=True, fused_conv=False, conv_type='depthwise'), BlockConfig(input_filters=40, output_filters=80, kernel_size=3, num_repeat=3, expand_ratio=6, strides=(2, 2), se_ratio=0.25, id_skip=True, fused_conv=False, conv_type='depthwise'), BlockConfig(input_filters=80, output_filters=112, kernel_size=5, num_repeat=3, expand_ratio=6, strides=(1, 1), se_ratio=0.25, id_skip=True, fused_conv=False, conv_type='depthwise'), BlockConfig(input_filters=112, output_filters=192, kernel_size=5, num_repeat=4, expand_ratio=6, strides=(2, 2), se_ratio=0.25, id_skip=True, fused_conv=False, conv_type='depthwise'), BlockConfig(input_filters=192, output_filters=320, kernel_size=3, num_repeat=1, expand_ratio=6, strides=(1, 1), se_ratio=0.25, id_skip=True, fused_conv=False, conv_type='depthwise')), stem_base_filters=32, top_base_filters=1280, activation='simple_swish', batch_norm='default', bn_momentum=0.99, bn_epsilon=0.001, weight_decay=5e-06, drop_connect_rate=0.2, depth_divisor=8, min_depth=None, use_se=True, input_channels=3, num_classes=1000, model_name='efficientnet', rescale_input=False, data_format='channels_last', dtype='float32')\n",
            "I0421 11:36:16.994890 139735367100288 ssd_efficientnet_bifpn_feature_extractor.py:146] EfficientDet EfficientNet backbone version: efficientnet-b4\n",
            "I0421 11:36:16.995042 139735367100288 ssd_efficientnet_bifpn_feature_extractor.py:147] EfficientDet BiFPN num filters: 224\n",
            "I0421 11:36:16.995132 139735367100288 ssd_efficientnet_bifpn_feature_extractor.py:149] EfficientDet BiFPN num iterations: 7\n",
            "I0421 11:36:16.996832 139735367100288 efficientnet_model.py:144] round_filter input=32 output=48\n",
            "I0421 11:36:17.013747 139735367100288 efficientnet_model.py:144] round_filter input=32 output=48\n",
            "I0421 11:36:17.013873 139735367100288 efficientnet_model.py:144] round_filter input=16 output=24\n",
            "I0421 11:36:17.133454 139735367100288 efficientnet_model.py:144] round_filter input=16 output=24\n",
            "I0421 11:36:17.133601 139735367100288 efficientnet_model.py:144] round_filter input=24 output=32\n",
            "I0421 11:36:17.408701 139735367100288 efficientnet_model.py:144] round_filter input=24 output=32\n",
            "I0421 11:36:17.408860 139735367100288 efficientnet_model.py:144] round_filter input=40 output=56\n",
            "I0421 11:36:17.686121 139735367100288 efficientnet_model.py:144] round_filter input=40 output=56\n",
            "I0421 11:36:17.686275 139735367100288 efficientnet_model.py:144] round_filter input=80 output=112\n",
            "I0421 11:36:18.102779 139735367100288 efficientnet_model.py:144] round_filter input=80 output=112\n",
            "I0421 11:36:18.102943 139735367100288 efficientnet_model.py:144] round_filter input=112 output=160\n",
            "I0421 11:36:18.536118 139735367100288 efficientnet_model.py:144] round_filter input=112 output=160\n",
            "I0421 11:36:18.536289 139735367100288 efficientnet_model.py:144] round_filter input=192 output=272\n",
            "I0421 11:36:19.095469 139735367100288 efficientnet_model.py:144] round_filter input=192 output=272\n",
            "I0421 11:36:19.095645 139735367100288 efficientnet_model.py:144] round_filter input=320 output=448\n",
            "I0421 11:36:19.236854 139735367100288 efficientnet_model.py:144] round_filter input=1280 output=1792\n",
            "I0421 11:36:19.264796 139735367100288 efficientnet_model.py:454] Building model efficientnet with params ModelConfig(width_coefficient=1.4, depth_coefficient=1.8, resolution=380, dropout_rate=0.4, blocks=(BlockConfig(input_filters=32, output_filters=16, kernel_size=3, num_repeat=1, expand_ratio=1, strides=(1, 1), se_ratio=0.25, id_skip=True, fused_conv=False, conv_type='depthwise'), BlockConfig(input_filters=16, output_filters=24, kernel_size=3, num_repeat=2, expand_ratio=6, strides=(2, 2), se_ratio=0.25, id_skip=True, fused_conv=False, conv_type='depthwise'), BlockConfig(input_filters=24, output_filters=40, kernel_size=5, num_repeat=2, expand_ratio=6, strides=(2, 2), se_ratio=0.25, id_skip=True, fused_conv=False, conv_type='depthwise'), BlockConfig(input_filters=40, output_filters=80, kernel_size=3, num_repeat=3, expand_ratio=6, strides=(2, 2), se_ratio=0.25, id_skip=True, fused_conv=False, conv_type='depthwise'), BlockConfig(input_filters=80, output_filters=112, kernel_size=5, num_repeat=3, expand_ratio=6, strides=(1, 1), se_ratio=0.25, id_skip=True, fused_conv=False, conv_type='depthwise'), BlockConfig(input_filters=112, output_filters=192, kernel_size=5, num_repeat=4, expand_ratio=6, strides=(2, 2), se_ratio=0.25, id_skip=True, fused_conv=False, conv_type='depthwise'), BlockConfig(input_filters=192, output_filters=320, kernel_size=3, num_repeat=1, expand_ratio=6, strides=(1, 1), se_ratio=0.25, id_skip=True, fused_conv=False, conv_type='depthwise')), stem_base_filters=32, top_base_filters=1280, activation='simple_swish', batch_norm='default', bn_momentum=0.99, bn_epsilon=0.001, weight_decay=5e-06, drop_connect_rate=0.2, depth_divisor=8, min_depth=None, use_se=True, input_channels=3, num_classes=1000, model_name='efficientnet', rescale_input=False, data_format='channels_last', dtype='float32')\n",
            "I0421 11:36:19.528062 139735367100288 ssd_efficientnet_bifpn_feature_extractor.py:146] EfficientDet EfficientNet backbone version: efficientnet-b5\n",
            "I0421 11:36:19.528243 139735367100288 ssd_efficientnet_bifpn_feature_extractor.py:147] EfficientDet BiFPN num filters: 288\n",
            "I0421 11:36:19.528317 139735367100288 ssd_efficientnet_bifpn_feature_extractor.py:149] EfficientDet BiFPN num iterations: 7\n",
            "I0421 11:36:19.529870 139735367100288 efficientnet_model.py:144] round_filter input=32 output=48\n",
            "I0421 11:36:19.544161 139735367100288 efficientnet_model.py:144] round_filter input=32 output=48\n",
            "I0421 11:36:19.544269 139735367100288 efficientnet_model.py:144] round_filter input=16 output=24\n",
            "I0421 11:36:19.708889 139735367100288 efficientnet_model.py:144] round_filter input=16 output=24\n",
            "I0421 11:36:19.709010 139735367100288 efficientnet_model.py:144] round_filter input=24 output=40\n",
            "I0421 11:36:20.059814 139735367100288 efficientnet_model.py:144] round_filter input=24 output=40\n",
            "I0421 11:36:20.059981 139735367100288 efficientnet_model.py:144] round_filter input=40 output=64\n",
            "I0421 11:36:20.419250 139735367100288 efficientnet_model.py:144] round_filter input=40 output=64\n",
            "I0421 11:36:20.419436 139735367100288 efficientnet_model.py:144] round_filter input=80 output=128\n",
            "I0421 11:36:20.907760 139735367100288 efficientnet_model.py:144] round_filter input=80 output=128\n",
            "I0421 11:36:20.907940 139735367100288 efficientnet_model.py:144] round_filter input=112 output=176\n",
            "I0421 11:36:21.407201 139735367100288 efficientnet_model.py:144] round_filter input=112 output=176\n",
            "I0421 11:36:21.407369 139735367100288 efficientnet_model.py:144] round_filter input=192 output=304\n",
            "I0421 11:36:22.038097 139735367100288 efficientnet_model.py:144] round_filter input=192 output=304\n",
            "I0421 11:36:22.038265 139735367100288 efficientnet_model.py:144] round_filter input=320 output=512\n",
            "I0421 11:36:22.252975 139735367100288 efficientnet_model.py:144] round_filter input=1280 output=2048\n",
            "I0421 11:36:22.278993 139735367100288 efficientnet_model.py:454] Building model efficientnet with params ModelConfig(width_coefficient=1.6, depth_coefficient=2.2, resolution=456, dropout_rate=0.4, blocks=(BlockConfig(input_filters=32, output_filters=16, kernel_size=3, num_repeat=1, expand_ratio=1, strides=(1, 1), se_ratio=0.25, id_skip=True, fused_conv=False, conv_type='depthwise'), BlockConfig(input_filters=16, output_filters=24, kernel_size=3, num_repeat=2, expand_ratio=6, strides=(2, 2), se_ratio=0.25, id_skip=True, fused_conv=False, conv_type='depthwise'), BlockConfig(input_filters=24, output_filters=40, kernel_size=5, num_repeat=2, expand_ratio=6, strides=(2, 2), se_ratio=0.25, id_skip=True, fused_conv=False, conv_type='depthwise'), BlockConfig(input_filters=40, output_filters=80, kernel_size=3, num_repeat=3, expand_ratio=6, strides=(2, 2), se_ratio=0.25, id_skip=True, fused_conv=False, conv_type='depthwise'), BlockConfig(input_filters=80, output_filters=112, kernel_size=5, num_repeat=3, expand_ratio=6, strides=(1, 1), se_ratio=0.25, id_skip=True, fused_conv=False, conv_type='depthwise'), BlockConfig(input_filters=112, output_filters=192, kernel_size=5, num_repeat=4, expand_ratio=6, strides=(2, 2), se_ratio=0.25, id_skip=True, fused_conv=False, conv_type='depthwise'), BlockConfig(input_filters=192, output_filters=320, kernel_size=3, num_repeat=1, expand_ratio=6, strides=(1, 1), se_ratio=0.25, id_skip=True, fused_conv=False, conv_type='depthwise')), stem_base_filters=32, top_base_filters=1280, activation='simple_swish', batch_norm='default', bn_momentum=0.99, bn_epsilon=0.001, weight_decay=5e-06, drop_connect_rate=0.2, depth_divisor=8, min_depth=None, use_se=True, input_channels=3, num_classes=1000, model_name='efficientnet', rescale_input=False, data_format='channels_last', dtype='float32')\n",
            "I0421 11:36:22.370563 139735367100288 ssd_efficientnet_bifpn_feature_extractor.py:146] EfficientDet EfficientNet backbone version: efficientnet-b6\n",
            "I0421 11:36:22.370718 139735367100288 ssd_efficientnet_bifpn_feature_extractor.py:147] EfficientDet BiFPN num filters: 384\n",
            "I0421 11:36:22.370793 139735367100288 ssd_efficientnet_bifpn_feature_extractor.py:149] EfficientDet BiFPN num iterations: 8\n",
            "I0421 11:36:22.372292 139735367100288 efficientnet_model.py:144] round_filter input=32 output=56\n",
            "I0421 11:36:22.386628 139735367100288 efficientnet_model.py:144] round_filter input=32 output=56\n",
            "I0421 11:36:22.386744 139735367100288 efficientnet_model.py:144] round_filter input=16 output=32\n",
            "I0421 11:36:22.552042 139735367100288 efficientnet_model.py:144] round_filter input=16 output=32\n",
            "I0421 11:36:22.552186 139735367100288 efficientnet_model.py:144] round_filter input=24 output=40\n",
            "I0421 11:36:22.969047 139735367100288 efficientnet_model.py:144] round_filter input=24 output=40\n",
            "I0421 11:36:22.969217 139735367100288 efficientnet_model.py:144] round_filter input=40 output=72\n",
            "I0421 11:36:23.395804 139735367100288 efficientnet_model.py:144] round_filter input=40 output=72\n",
            "I0421 11:36:23.395968 139735367100288 efficientnet_model.py:144] round_filter input=80 output=144\n",
            "I0421 11:36:23.947695 139735367100288 efficientnet_model.py:144] round_filter input=80 output=144\n",
            "I0421 11:36:23.947857 139735367100288 efficientnet_model.py:144] round_filter input=112 output=200\n",
            "I0421 11:36:24.761098 139735367100288 efficientnet_model.py:144] round_filter input=112 output=200\n",
            "I0421 11:36:24.761265 139735367100288 efficientnet_model.py:144] round_filter input=192 output=344\n",
            "I0421 11:36:25.545505 139735367100288 efficientnet_model.py:144] round_filter input=192 output=344\n",
            "I0421 11:36:25.545686 139735367100288 efficientnet_model.py:144] round_filter input=320 output=576\n",
            "I0421 11:36:25.750802 139735367100288 efficientnet_model.py:144] round_filter input=1280 output=2304\n",
            "I0421 11:36:25.777905 139735367100288 efficientnet_model.py:454] Building model efficientnet with params ModelConfig(width_coefficient=1.8, depth_coefficient=2.6, resolution=528, dropout_rate=0.5, blocks=(BlockConfig(input_filters=32, output_filters=16, kernel_size=3, num_repeat=1, expand_ratio=1, strides=(1, 1), se_ratio=0.25, id_skip=True, fused_conv=False, conv_type='depthwise'), BlockConfig(input_filters=16, output_filters=24, kernel_size=3, num_repeat=2, expand_ratio=6, strides=(2, 2), se_ratio=0.25, id_skip=True, fused_conv=False, conv_type='depthwise'), BlockConfig(input_filters=24, output_filters=40, kernel_size=5, num_repeat=2, expand_ratio=6, strides=(2, 2), se_ratio=0.25, id_skip=True, fused_conv=False, conv_type='depthwise'), BlockConfig(input_filters=40, output_filters=80, kernel_size=3, num_repeat=3, expand_ratio=6, strides=(2, 2), se_ratio=0.25, id_skip=True, fused_conv=False, conv_type='depthwise'), BlockConfig(input_filters=80, output_filters=112, kernel_size=5, num_repeat=3, expand_ratio=6, strides=(1, 1), se_ratio=0.25, id_skip=True, fused_conv=False, conv_type='depthwise'), BlockConfig(input_filters=112, output_filters=192, kernel_size=5, num_repeat=4, expand_ratio=6, strides=(2, 2), se_ratio=0.25, id_skip=True, fused_conv=False, conv_type='depthwise'), BlockConfig(input_filters=192, output_filters=320, kernel_size=3, num_repeat=1, expand_ratio=6, strides=(1, 1), se_ratio=0.25, id_skip=True, fused_conv=False, conv_type='depthwise')), stem_base_filters=32, top_base_filters=1280, activation='simple_swish', batch_norm='default', bn_momentum=0.99, bn_epsilon=0.001, weight_decay=5e-06, drop_connect_rate=0.2, depth_divisor=8, min_depth=None, use_se=True, input_channels=3, num_classes=1000, model_name='efficientnet', rescale_input=False, data_format='channels_last', dtype='float32')\n",
            "I0421 11:36:25.878363 139735367100288 ssd_efficientnet_bifpn_feature_extractor.py:146] EfficientDet EfficientNet backbone version: efficientnet-b7\n",
            "I0421 11:36:25.878507 139735367100288 ssd_efficientnet_bifpn_feature_extractor.py:147] EfficientDet BiFPN num filters: 384\n",
            "I0421 11:36:25.878578 139735367100288 ssd_efficientnet_bifpn_feature_extractor.py:149] EfficientDet BiFPN num iterations: 8\n",
            "I0421 11:36:25.880088 139735367100288 efficientnet_model.py:144] round_filter input=32 output=64\n",
            "I0421 11:36:25.894145 139735367100288 efficientnet_model.py:144] round_filter input=32 output=64\n",
            "I0421 11:36:25.894254 139735367100288 efficientnet_model.py:144] round_filter input=16 output=32\n",
            "I0421 11:36:26.116504 139735367100288 efficientnet_model.py:144] round_filter input=16 output=32\n",
            "I0421 11:36:26.116659 139735367100288 efficientnet_model.py:144] round_filter input=24 output=48\n",
            "I0421 11:36:26.611196 139735367100288 efficientnet_model.py:144] round_filter input=24 output=48\n",
            "I0421 11:36:26.611371 139735367100288 efficientnet_model.py:144] round_filter input=40 output=80\n",
            "I0421 11:36:27.099372 139735367100288 efficientnet_model.py:144] round_filter input=40 output=80\n",
            "I0421 11:36:27.099564 139735367100288 efficientnet_model.py:144] round_filter input=80 output=160\n",
            "I0421 11:36:27.840663 139735367100288 efficientnet_model.py:144] round_filter input=80 output=160\n",
            "I0421 11:36:27.840848 139735367100288 efficientnet_model.py:144] round_filter input=112 output=224\n",
            "I0421 11:36:28.558097 139735367100288 efficientnet_model.py:144] round_filter input=112 output=224\n",
            "I0421 11:36:28.558271 139735367100288 efficientnet_model.py:144] round_filter input=192 output=384\n",
            "I0421 11:36:29.496754 139735367100288 efficientnet_model.py:144] round_filter input=192 output=384\n",
            "I0421 11:36:29.496921 139735367100288 efficientnet_model.py:144] round_filter input=320 output=640\n",
            "I0421 11:36:30.027444 139735367100288 efficientnet_model.py:144] round_filter input=1280 output=2560\n",
            "I0421 11:36:30.054236 139735367100288 efficientnet_model.py:454] Building model efficientnet with params ModelConfig(width_coefficient=2.0, depth_coefficient=3.1, resolution=600, dropout_rate=0.5, blocks=(BlockConfig(input_filters=32, output_filters=16, kernel_size=3, num_repeat=1, expand_ratio=1, strides=(1, 1), se_ratio=0.25, id_skip=True, fused_conv=False, conv_type='depthwise'), BlockConfig(input_filters=16, output_filters=24, kernel_size=3, num_repeat=2, expand_ratio=6, strides=(2, 2), se_ratio=0.25, id_skip=True, fused_conv=False, conv_type='depthwise'), BlockConfig(input_filters=24, output_filters=40, kernel_size=5, num_repeat=2, expand_ratio=6, strides=(2, 2), se_ratio=0.25, id_skip=True, fused_conv=False, conv_type='depthwise'), BlockConfig(input_filters=40, output_filters=80, kernel_size=3, num_repeat=3, expand_ratio=6, strides=(2, 2), se_ratio=0.25, id_skip=True, fused_conv=False, conv_type='depthwise'), BlockConfig(input_filters=80, output_filters=112, kernel_size=5, num_repeat=3, expand_ratio=6, strides=(1, 1), se_ratio=0.25, id_skip=True, fused_conv=False, conv_type='depthwise'), BlockConfig(input_filters=112, output_filters=192, kernel_size=5, num_repeat=4, expand_ratio=6, strides=(2, 2), se_ratio=0.25, id_skip=True, fused_conv=False, conv_type='depthwise'), BlockConfig(input_filters=192, output_filters=320, kernel_size=3, num_repeat=1, expand_ratio=6, strides=(1, 1), se_ratio=0.25, id_skip=True, fused_conv=False, conv_type='depthwise')), stem_base_filters=32, top_base_filters=1280, activation='simple_swish', batch_norm='default', bn_momentum=0.99, bn_epsilon=0.001, weight_decay=5e-06, drop_connect_rate=0.2, depth_divisor=8, min_depth=None, use_se=True, input_channels=3, num_classes=1000, model_name='efficientnet', rescale_input=False, data_format='channels_last', dtype='float32')\n",
            "INFO:tensorflow:time(__main__.ModelBuilderTF2Test.test_create_ssd_models_from_config): 20.13s\n",
            "I0421 11:36:30.167493 139735367100288 test_util.py:2374] time(__main__.ModelBuilderTF2Test.test_create_ssd_models_from_config): 20.13s\n",
            "[       OK ] ModelBuilderTF2Test.test_create_ssd_models_from_config\n",
            "[ RUN      ] ModelBuilderTF2Test.test_invalid_faster_rcnn_batchnorm_update\n",
            "INFO:tensorflow:time(__main__.ModelBuilderTF2Test.test_invalid_faster_rcnn_batchnorm_update): 0.0s\n",
            "I0421 11:36:30.174399 139735367100288 test_util.py:2374] time(__main__.ModelBuilderTF2Test.test_invalid_faster_rcnn_batchnorm_update): 0.0s\n",
            "[       OK ] ModelBuilderTF2Test.test_invalid_faster_rcnn_batchnorm_update\n",
            "[ RUN      ] ModelBuilderTF2Test.test_invalid_first_stage_nms_iou_threshold\n",
            "INFO:tensorflow:time(__main__.ModelBuilderTF2Test.test_invalid_first_stage_nms_iou_threshold): 0.0s\n",
            "I0421 11:36:30.176035 139735367100288 test_util.py:2374] time(__main__.ModelBuilderTF2Test.test_invalid_first_stage_nms_iou_threshold): 0.0s\n",
            "[       OK ] ModelBuilderTF2Test.test_invalid_first_stage_nms_iou_threshold\n",
            "[ RUN      ] ModelBuilderTF2Test.test_invalid_model_config_proto\n",
            "INFO:tensorflow:time(__main__.ModelBuilderTF2Test.test_invalid_model_config_proto): 0.0s\n",
            "I0421 11:36:30.176535 139735367100288 test_util.py:2374] time(__main__.ModelBuilderTF2Test.test_invalid_model_config_proto): 0.0s\n",
            "[       OK ] ModelBuilderTF2Test.test_invalid_model_config_proto\n",
            "[ RUN      ] ModelBuilderTF2Test.test_invalid_second_stage_batch_size\n",
            "INFO:tensorflow:time(__main__.ModelBuilderTF2Test.test_invalid_second_stage_batch_size): 0.0s\n",
            "I0421 11:36:30.178004 139735367100288 test_util.py:2374] time(__main__.ModelBuilderTF2Test.test_invalid_second_stage_batch_size): 0.0s\n",
            "[       OK ] ModelBuilderTF2Test.test_invalid_second_stage_batch_size\n",
            "[ RUN      ] ModelBuilderTF2Test.test_session\n",
            "[  SKIPPED ] ModelBuilderTF2Test.test_session\n",
            "[ RUN      ] ModelBuilderTF2Test.test_unknown_faster_rcnn_feature_extractor\n",
            "INFO:tensorflow:time(__main__.ModelBuilderTF2Test.test_unknown_faster_rcnn_feature_extractor): 0.0s\n",
            "I0421 11:36:30.179393 139735367100288 test_util.py:2374] time(__main__.ModelBuilderTF2Test.test_unknown_faster_rcnn_feature_extractor): 0.0s\n",
            "[       OK ] ModelBuilderTF2Test.test_unknown_faster_rcnn_feature_extractor\n",
            "[ RUN      ] ModelBuilderTF2Test.test_unknown_meta_architecture\n",
            "INFO:tensorflow:time(__main__.ModelBuilderTF2Test.test_unknown_meta_architecture): 0.0s\n",
            "I0421 11:36:30.179831 139735367100288 test_util.py:2374] time(__main__.ModelBuilderTF2Test.test_unknown_meta_architecture): 0.0s\n",
            "[       OK ] ModelBuilderTF2Test.test_unknown_meta_architecture\n",
            "[ RUN      ] ModelBuilderTF2Test.test_unknown_ssd_feature_extractor\n",
            "INFO:tensorflow:time(__main__.ModelBuilderTF2Test.test_unknown_ssd_feature_extractor): 0.0s\n",
            "I0421 11:36:30.180889 139735367100288 test_util.py:2374] time(__main__.ModelBuilderTF2Test.test_unknown_ssd_feature_extractor): 0.0s\n",
            "[       OK ] ModelBuilderTF2Test.test_unknown_ssd_feature_extractor\n",
            "----------------------------------------------------------------------\n",
            "Ran 24 tests in 27.039s\n",
            "\n",
            "OK (skipped=1)\n"
          ]
        }
      ]
    },
    {
      "cell_type": "markdown",
      "source": [
        "###Download pre-trained model: SSD MobileNet V2 FPNLite 320x320"
      ],
      "metadata": {
        "id": "3ZcgDq6YmHDv"
      }
    },
    {
      "cell_type": "code",
      "source": [
        "cd /content/fabrik_tfod_demo/pre-trained-models"
      ],
      "metadata": {
        "colab": {
          "base_uri": "https://localhost:8080/"
        },
        "id": "AAoRhtn_lwUD",
        "outputId": "0744ec53-dc93-47cf-8d88-f6972c1496b7"
      },
      "execution_count": null,
      "outputs": [
        {
          "output_type": "stream",
          "name": "stdout",
          "text": [
            "/content/fabrik_tfod_demo/pre-trained-models\n"
          ]
        }
      ]
    },
    {
      "cell_type": "code",
      "source": [
        "!wget http://download.tensorflow.org/models/object_detection/tf2/20200711/ssd_mobilenet_v2_fpnlite_320x320_coco17_tpu-8.tar.gz"
      ],
      "metadata": {
        "colab": {
          "base_uri": "https://localhost:8080/"
        },
        "id": "wWGrydr5lwGd",
        "outputId": "051c2579-7ce7-4bad-eee7-ae89df98cd7a"
      },
      "execution_count": null,
      "outputs": [
        {
          "output_type": "stream",
          "name": "stdout",
          "text": [
            "--2022-04-21 11:37:01--  http://download.tensorflow.org/models/object_detection/tf2/20200711/ssd_mobilenet_v2_fpnlite_320x320_coco17_tpu-8.tar.gz\n",
            "Resolving download.tensorflow.org (download.tensorflow.org)... 108.177.126.128, 2a00:1450:4013:c01::80\n",
            "Connecting to download.tensorflow.org (download.tensorflow.org)|108.177.126.128|:80... connected.\n",
            "HTTP request sent, awaiting response... 200 OK\n",
            "Length: 20515344 (20M) [application/x-tar]\n",
            "Saving to: ‘ssd_mobilenet_v2_fpnlite_320x320_coco17_tpu-8.tar.gz.1’\n",
            "\n",
            "ssd_mobilenet_v2_fp 100%[===================>]  19.56M  52.6MB/s    in 0.4s    \n",
            "\n",
            "2022-04-21 11:37:02 (52.6 MB/s) - ‘ssd_mobilenet_v2_fpnlite_320x320_coco17_tpu-8.tar.gz.1’ saved [20515344/20515344]\n",
            "\n"
          ]
        }
      ]
    },
    {
      "cell_type": "code",
      "source": [
        "# Unzip the Pretrained Model\n",
        "\n",
        "!tar -xvf ssd_mobilenet_v2_fpnlite_320x320_coco17_tpu-8.tar.gz"
      ],
      "metadata": {
        "colab": {
          "base_uri": "https://localhost:8080/"
        },
        "id": "88bu12PDnA_o",
        "outputId": "fc435fe7-f4cb-4b46-e216-1ea33cb5d875"
      },
      "execution_count": null,
      "outputs": [
        {
          "output_type": "stream",
          "name": "stdout",
          "text": [
            "ssd_mobilenet_v2_fpnlite_320x320_coco17_tpu-8/\n",
            "ssd_mobilenet_v2_fpnlite_320x320_coco17_tpu-8/checkpoint/\n",
            "ssd_mobilenet_v2_fpnlite_320x320_coco17_tpu-8/checkpoint/ckpt-0.data-00000-of-00001\n",
            "ssd_mobilenet_v2_fpnlite_320x320_coco17_tpu-8/checkpoint/checkpoint\n",
            "ssd_mobilenet_v2_fpnlite_320x320_coco17_tpu-8/checkpoint/ckpt-0.index\n",
            "ssd_mobilenet_v2_fpnlite_320x320_coco17_tpu-8/pipeline.config\n",
            "ssd_mobilenet_v2_fpnlite_320x320_coco17_tpu-8/saved_model/\n",
            "ssd_mobilenet_v2_fpnlite_320x320_coco17_tpu-8/saved_model/saved_model.pb\n",
            "ssd_mobilenet_v2_fpnlite_320x320_coco17_tpu-8/saved_model/variables/\n",
            "ssd_mobilenet_v2_fpnlite_320x320_coco17_tpu-8/saved_model/variables/variables.data-00000-of-00001\n",
            "ssd_mobilenet_v2_fpnlite_320x320_coco17_tpu-8/saved_model/variables/variables.index\n"
          ]
        }
      ]
    },
    {
      "cell_type": "markdown",
      "source": [
        "###Create TF Records"
      ],
      "metadata": {
        "id": "uAbCE3B3nIqB"
      }
    },
    {
      "cell_type": "code",
      "source": [
        "cd /content/fabrik_tfod_demo"
      ],
      "metadata": {
        "colab": {
          "base_uri": "https://localhost:8080/"
        },
        "id": "dQPbE32fnEmS",
        "outputId": "c84ed5a2-5e56-4087-f87b-1926331008cc"
      },
      "execution_count": null,
      "outputs": [
        {
          "output_type": "stream",
          "name": "stdout",
          "text": [
            "/content/fabrik_tfod_demo\n"
          ]
        }
      ]
    },
    {
      "cell_type": "markdown",
      "source": [
        "**Create Train & Test TF Records**"
      ],
      "metadata": {
        "id": "6brKBtuEnpyc"
      }
    },
    {
      "cell_type": "code",
      "source": [
        "# Create train data:\n",
        "!python generate_tfrecord.py -x /content/fabrik_tfod_demo/images/train -l /content/fabrik_tfod_demo/annotations/label_map.pbtxt -o /content/fabrik_tfod_demo/annotations/train.record\n",
        "\n",
        "# Create test data:\n",
        "!python generate_tfrecord.py -x /content/fabrik_tfod_demo/images/test -l /content/fabrik_tfod_demo/annotations/label_map.pbtxt -o /content/fabrik_tfod_demo/annotations/test.record"
      ],
      "metadata": {
        "colab": {
          "base_uri": "https://localhost:8080/"
        },
        "id": "OBqQV0d3nNMj",
        "outputId": "ebf18d46-a186-414c-9739-5ac4ed03ea83"
      },
      "execution_count": null,
      "outputs": [
        {
          "output_type": "stream",
          "name": "stdout",
          "text": [
            "Successfully created the TFRecord file: /content/fabrik_tfod_demo/annotations/train.record\n",
            "Successfully created the TFRecord file: /content/fabrik_tfod_demo/annotations/test.record\n"
          ]
        }
      ]
    },
    {
      "cell_type": "markdown",
      "source": [
        "###Train the Model"
      ],
      "metadata": {
        "id": "Ida2PzI6n47q"
      }
    },
    {
      "cell_type": "code",
      "source": [
        "# Confirming GPU for training\n",
        "\n",
        "print(\"GPU\", \"available\" if tf.config.list_physical_devices(\"GPU\") else \"not available\")"
      ],
      "metadata": {
        "colab": {
          "base_uri": "https://localhost:8080/"
        },
        "id": "DWfLdvIwnxl4",
        "outputId": "5b4834e6-fd76-437d-eb71-5dba97390d1f"
      },
      "execution_count": 79,
      "outputs": [
        {
          "output_type": "stream",
          "name": "stdout",
          "text": [
            "GPU available\n"
          ]
        }
      ]
    },
    {
      "cell_type": "markdown",
      "source": [
        "**To resolve the OpenCV version conflict**"
      ],
      "metadata": {
        "id": "m7k2qVDEHywt"
      }
    },
    {
      "cell_type": "code",
      "source": [
        "#pip uninstall opencv-python-headless==4.5.5.62"
      ],
      "metadata": {
        "colab": {
          "base_uri": "https://localhost:8080/"
        },
        "id": "cDrgneIEHdsp",
        "outputId": "9d45bb5e-c5fb-445c-e456-1dba6dd76ee7"
      },
      "execution_count": null,
      "outputs": [
        {
          "output_type": "stream",
          "name": "stdout",
          "text": [
            "Found existing installation: opencv-python-headless 4.5.5.64\n",
            "Uninstalling opencv-python-headless-4.5.5.64:\n",
            "  Would remove:\n",
            "    /usr/local/lib/python3.7/dist-packages/cv2/*\n",
            "    /usr/local/lib/python3.7/dist-packages/opencv_python_headless-4.5.5.64.dist-info/*\n",
            "    /usr/local/lib/python3.7/dist-packages/opencv_python_headless.libs/libavcodec-65fa80df.so.58.134.100\n",
            "    /usr/local/lib/python3.7/dist-packages/opencv_python_headless.libs/libavformat-8ef5c7db.so.58.76.100\n",
            "    /usr/local/lib/python3.7/dist-packages/opencv_python_headless.libs/libavutil-9c768859.so.56.70.100\n",
            "    /usr/local/lib/python3.7/dist-packages/opencv_python_headless.libs/libbz2-a273e504.so.1.0.6\n",
            "    /usr/local/lib/python3.7/dist-packages/opencv_python_headless.libs/libcrypto-09fe7800.so.1.1\n",
            "    /usr/local/lib/python3.7/dist-packages/opencv_python_headless.libs/libgfortran-91cc3cb1.so.3.0.0\n",
            "    /usr/local/lib/python3.7/dist-packages/opencv_python_headless.libs/libopenblas-r0-f650aae0.3.3.so\n",
            "    /usr/local/lib/python3.7/dist-packages/opencv_python_headless.libs/libquadmath-96973f99.so.0.0.0\n",
            "    /usr/local/lib/python3.7/dist-packages/opencv_python_headless.libs/libssl-b92f8066.so.1.1\n",
            "    /usr/local/lib/python3.7/dist-packages/opencv_python_headless.libs/libswresample-99364a1c.so.3.9.100\n",
            "    /usr/local/lib/python3.7/dist-packages/opencv_python_headless.libs/libswscale-e6451464.so.5.9.100\n",
            "    /usr/local/lib/python3.7/dist-packages/opencv_python_headless.libs/libvpx-1016051d.so.7.0.0\n",
            "  Would not remove (might be manually added):\n",
            "    /usr/local/lib/python3.7/dist-packages/cv2/.libs/libQtCore-bbdab771.so.4.8.7\n",
            "    /usr/local/lib/python3.7/dist-packages/cv2/.libs/libQtGui-903938cd.so.4.8.7\n",
            "    /usr/local/lib/python3.7/dist-packages/cv2/.libs/libQtTest-1183da5d.so.4.8.7\n",
            "    /usr/local/lib/python3.7/dist-packages/cv2/.libs/libavcodec-3cdd3bd4.so.58.62.100\n",
            "    /usr/local/lib/python3.7/dist-packages/cv2/.libs/libavformat-69a63b50.so.58.35.100\n",
            "    /usr/local/lib/python3.7/dist-packages/cv2/.libs/libavutil-8e8979a8.so.56.36.100\n",
            "    /usr/local/lib/python3.7/dist-packages/cv2/.libs/libbz2-7225278b.so.1.0.3\n",
            "    /usr/local/lib/python3.7/dist-packages/cv2/.libs/libcrypto-a25ff511.so.1.1\n",
            "    /usr/local/lib/python3.7/dist-packages/cv2/.libs/libssl-fdf0b66c.so.1.1\n",
            "    /usr/local/lib/python3.7/dist-packages/cv2/.libs/libswresample-c6b3bbb9.so.3.6.100\n",
            "    /usr/local/lib/python3.7/dist-packages/cv2/.libs/libswscale-2d19f7d1.so.5.6.100\n",
            "    /usr/local/lib/python3.7/dist-packages/cv2/.libs/libvpx-c887ea55.so.6.1.0\n",
            "    /usr/local/lib/python3.7/dist-packages/cv2/.libs/libz-a147dcb0.so.1.2.3\n",
            "    /usr/local/lib/python3.7/dist-packages/cv2/cv2.cpython-37m-x86_64-linux-gnu.so\n",
            "Proceed (y/n)? y\n",
            "  Successfully uninstalled opencv-python-headless-4.5.5.64\n"
          ]
        }
      ]
    },
    {
      "cell_type": "code",
      "source": [
        "#pip install opencv-python-headless==4.5.2.52"
      ],
      "metadata": {
        "colab": {
          "base_uri": "https://localhost:8080/",
          "height": 212
        },
        "id": "7JQNmLm7HuMi",
        "outputId": "5550a377-66ef-484f-d41d-d3224ee64276"
      },
      "execution_count": null,
      "outputs": [
        {
          "output_type": "stream",
          "name": "stdout",
          "text": [
            "Collecting opencv-python-headless==4.5.2.52\n",
            "  Downloading opencv_python_headless-4.5.2.52-cp37-cp37m-manylinux2014_x86_64.whl (38.2 MB)\n",
            "\u001b[K     |████████████████████████████████| 38.2 MB 1.3 MB/s \n",
            "\u001b[?25hRequirement already satisfied: numpy>=1.14.5 in /usr/local/lib/python3.7/dist-packages (from opencv-python-headless==4.5.2.52) (1.21.6)\n",
            "Installing collected packages: opencv-python-headless\n",
            "Successfully installed opencv-python-headless-4.5.2.52\n"
          ]
        },
        {
          "output_type": "display_data",
          "data": {
            "application/vnd.colab-display-data+json": {
              "pip_warning": {
                "packages": [
                  "cv2"
                ]
              }
            }
          },
          "metadata": {}
        }
      ]
    },
    {
      "cell_type": "code",
      "source": [
        "# Train\n",
        "\n",
        "!python model_main_tf2.py --model_dir=/content/fabrik_tfod_demo/models/my_ssd_mobilenet_v2_fpnlite --pipeline_config_path=/content/fabrik_tfod_demo/models/my_ssd_mobilenet_v2_fpnlite/pipeline.config"
      ],
      "metadata": {
        "colab": {
          "base_uri": "https://localhost:8080/"
        },
        "id": "-_d7QP_1nxiw",
        "outputId": "d3adee6f-e0e9-4290-b00a-9f654595c328"
      },
      "execution_count": null,
      "outputs": [
        {
          "output_type": "stream",
          "name": "stdout",
          "text": [
            "2022-04-21 11:49:03.815003: W tensorflow/core/common_runtime/gpu/gpu_bfc_allocator.cc:39] Overriding allow_growth setting because the TF_FORCE_GPU_ALLOW_GROWTH environment variable is set. Original config value was 0.\n",
            "INFO:tensorflow:Using MirroredStrategy with devices ('/job:localhost/replica:0/task:0/device:GPU:0',)\n",
            "I0421 11:49:03.847517 140381122615168 mirrored_strategy.py:374] Using MirroredStrategy with devices ('/job:localhost/replica:0/task:0/device:GPU:0',)\n",
            "INFO:tensorflow:Maybe overwriting train_steps: None\n",
            "I0421 11:49:03.869364 140381122615168 config_util.py:552] Maybe overwriting train_steps: None\n",
            "INFO:tensorflow:Maybe overwriting use_bfloat16: False\n",
            "I0421 11:49:03.869562 140381122615168 config_util.py:552] Maybe overwriting use_bfloat16: False\n",
            "WARNING:tensorflow:From /usr/local/lib/python3.7/dist-packages/object_detection/model_lib_v2.py:564: StrategyBase.experimental_distribute_datasets_from_function (from tensorflow.python.distribute.distribute_lib) is deprecated and will be removed in a future version.\n",
            "Instructions for updating:\n",
            "rename to distribute_datasets_from_function\n",
            "W0421 11:49:04.187926 140381122615168 deprecation.py:343] From /usr/local/lib/python3.7/dist-packages/object_detection/model_lib_v2.py:564: StrategyBase.experimental_distribute_datasets_from_function (from tensorflow.python.distribute.distribute_lib) is deprecated and will be removed in a future version.\n",
            "Instructions for updating:\n",
            "rename to distribute_datasets_from_function\n",
            "INFO:tensorflow:Reading unweighted datasets: ['/content/fabrik_tfod_demo/annotations/train.record']\n",
            "I0421 11:49:04.201071 140381122615168 dataset_builder.py:162] Reading unweighted datasets: ['/content/fabrik_tfod_demo/annotations/train.record']\n",
            "INFO:tensorflow:Reading record datasets for input file: ['/content/fabrik_tfod_demo/annotations/train.record']\n",
            "I0421 11:49:04.201353 140381122615168 dataset_builder.py:79] Reading record datasets for input file: ['/content/fabrik_tfod_demo/annotations/train.record']\n",
            "INFO:tensorflow:Number of filenames to read: 1\n",
            "I0421 11:49:04.201480 140381122615168 dataset_builder.py:80] Number of filenames to read: 1\n",
            "WARNING:tensorflow:num_readers has been reduced to 1 to match input file shards.\n",
            "W0421 11:49:04.201594 140381122615168 dataset_builder.py:87] num_readers has been reduced to 1 to match input file shards.\n",
            "WARNING:tensorflow:From /usr/local/lib/python3.7/dist-packages/object_detection/builders/dataset_builder.py:104: parallel_interleave (from tensorflow.python.data.experimental.ops.interleave_ops) is deprecated and will be removed in a future version.\n",
            "Instructions for updating:\n",
            "Use `tf.data.Dataset.interleave(map_func, cycle_length, block_length, num_parallel_calls=tf.data.AUTOTUNE)` instead. If sloppy execution is desired, use `tf.data.Options.deterministic`.\n",
            "W0421 11:49:04.208494 140381122615168 deprecation.py:343] From /usr/local/lib/python3.7/dist-packages/object_detection/builders/dataset_builder.py:104: parallel_interleave (from tensorflow.python.data.experimental.ops.interleave_ops) is deprecated and will be removed in a future version.\n",
            "Instructions for updating:\n",
            "Use `tf.data.Dataset.interleave(map_func, cycle_length, block_length, num_parallel_calls=tf.data.AUTOTUNE)` instead. If sloppy execution is desired, use `tf.data.Options.deterministic`.\n",
            "WARNING:tensorflow:From /usr/local/lib/python3.7/dist-packages/object_detection/builders/dataset_builder.py:236: DatasetV1.map_with_legacy_function (from tensorflow.python.data.ops.dataset_ops) is deprecated and will be removed in a future version.\n",
            "Instructions for updating:\n",
            "Use `tf.data.Dataset.map()\n",
            "W0421 11:49:04.281436 140381122615168 deprecation.py:343] From /usr/local/lib/python3.7/dist-packages/object_detection/builders/dataset_builder.py:236: DatasetV1.map_with_legacy_function (from tensorflow.python.data.ops.dataset_ops) is deprecated and will be removed in a future version.\n",
            "Instructions for updating:\n",
            "Use `tf.data.Dataset.map()\n",
            "WARNING:tensorflow:From /usr/local/lib/python3.7/dist-packages/tensorflow/python/util/dispatch.py:1082: sparse_to_dense (from tensorflow.python.ops.sparse_ops) is deprecated and will be removed in a future version.\n",
            "Instructions for updating:\n",
            "Create a `tf.sparse.SparseTensor` and use `tf.sparse.to_dense` instead.\n",
            "W0421 11:49:12.798584 140381122615168 deprecation.py:343] From /usr/local/lib/python3.7/dist-packages/tensorflow/python/util/dispatch.py:1082: sparse_to_dense (from tensorflow.python.ops.sparse_ops) is deprecated and will be removed in a future version.\n",
            "Instructions for updating:\n",
            "Create a `tf.sparse.SparseTensor` and use `tf.sparse.to_dense` instead.\n",
            "WARNING:tensorflow:From /usr/local/lib/python3.7/dist-packages/tensorflow/python/util/dispatch.py:1082: sample_distorted_bounding_box (from tensorflow.python.ops.image_ops_impl) is deprecated and will be removed in a future version.\n",
            "Instructions for updating:\n",
            "`seed2` arg is deprecated.Use sample_distorted_bounding_box_v2 instead.\n",
            "W0421 11:49:15.740026 140381122615168 deprecation.py:343] From /usr/local/lib/python3.7/dist-packages/tensorflow/python/util/dispatch.py:1082: sample_distorted_bounding_box (from tensorflow.python.ops.image_ops_impl) is deprecated and will be removed in a future version.\n",
            "Instructions for updating:\n",
            "`seed2` arg is deprecated.Use sample_distorted_bounding_box_v2 instead.\n",
            "WARNING:tensorflow:From /usr/local/lib/python3.7/dist-packages/tensorflow/python/util/dispatch.py:1082: to_float (from tensorflow.python.ops.math_ops) is deprecated and will be removed in a future version.\n",
            "Instructions for updating:\n",
            "Use `tf.cast` instead.\n",
            "W0421 11:49:17.375221 140381122615168 deprecation.py:343] From /usr/local/lib/python3.7/dist-packages/tensorflow/python/util/dispatch.py:1082: to_float (from tensorflow.python.ops.math_ops) is deprecated and will be removed in a future version.\n",
            "Instructions for updating:\n",
            "Use `tf.cast` instead.\n",
            "/usr/local/lib/python3.7/dist-packages/keras/backend.py:450: UserWarning: `tf.keras.backend.set_learning_phase` is deprecated and will be removed after 2020-10-11. To update it, simply pass a True/False value to the `training` argument of the `__call__` method of your layer or model.\n",
            "  warnings.warn('`tf.keras.backend.set_learning_phase` is deprecated and '\n",
            "INFO:tensorflow:Reduce to /job:localhost/replica:0/task:0/device:CPU:0 then broadcast to ('/job:localhost/replica:0/task:0/device:CPU:0',).\n",
            "I0421 11:49:51.986455 140381122615168 cross_device_ops.py:618] Reduce to /job:localhost/replica:0/task:0/device:CPU:0 then broadcast to ('/job:localhost/replica:0/task:0/device:CPU:0',).\n",
            "INFO:tensorflow:Reduce to /job:localhost/replica:0/task:0/device:CPU:0 then broadcast to ('/job:localhost/replica:0/task:0/device:CPU:0',).\n",
            "I0421 11:49:51.987738 140381122615168 cross_device_ops.py:618] Reduce to /job:localhost/replica:0/task:0/device:CPU:0 then broadcast to ('/job:localhost/replica:0/task:0/device:CPU:0',).\n",
            "INFO:tensorflow:Reduce to /job:localhost/replica:0/task:0/device:CPU:0 then broadcast to ('/job:localhost/replica:0/task:0/device:CPU:0',).\n",
            "I0421 11:49:51.989859 140381122615168 cross_device_ops.py:618] Reduce to /job:localhost/replica:0/task:0/device:CPU:0 then broadcast to ('/job:localhost/replica:0/task:0/device:CPU:0',).\n",
            "INFO:tensorflow:Reduce to /job:localhost/replica:0/task:0/device:CPU:0 then broadcast to ('/job:localhost/replica:0/task:0/device:CPU:0',).\n",
            "I0421 11:49:51.990730 140381122615168 cross_device_ops.py:618] Reduce to /job:localhost/replica:0/task:0/device:CPU:0 then broadcast to ('/job:localhost/replica:0/task:0/device:CPU:0',).\n",
            "INFO:tensorflow:Reduce to /job:localhost/replica:0/task:0/device:CPU:0 then broadcast to ('/job:localhost/replica:0/task:0/device:CPU:0',).\n",
            "I0421 11:49:51.992754 140381122615168 cross_device_ops.py:618] Reduce to /job:localhost/replica:0/task:0/device:CPU:0 then broadcast to ('/job:localhost/replica:0/task:0/device:CPU:0',).\n",
            "INFO:tensorflow:Reduce to /job:localhost/replica:0/task:0/device:CPU:0 then broadcast to ('/job:localhost/replica:0/task:0/device:CPU:0',).\n",
            "I0421 11:49:51.993607 140381122615168 cross_device_ops.py:618] Reduce to /job:localhost/replica:0/task:0/device:CPU:0 then broadcast to ('/job:localhost/replica:0/task:0/device:CPU:0',).\n",
            "INFO:tensorflow:Reduce to /job:localhost/replica:0/task:0/device:CPU:0 then broadcast to ('/job:localhost/replica:0/task:0/device:CPU:0',).\n",
            "I0421 11:49:51.995587 140381122615168 cross_device_ops.py:618] Reduce to /job:localhost/replica:0/task:0/device:CPU:0 then broadcast to ('/job:localhost/replica:0/task:0/device:CPU:0',).\n",
            "INFO:tensorflow:Reduce to /job:localhost/replica:0/task:0/device:CPU:0 then broadcast to ('/job:localhost/replica:0/task:0/device:CPU:0',).\n",
            "I0421 11:49:51.996452 140381122615168 cross_device_ops.py:618] Reduce to /job:localhost/replica:0/task:0/device:CPU:0 then broadcast to ('/job:localhost/replica:0/task:0/device:CPU:0',).\n",
            "INFO:tensorflow:Reduce to /job:localhost/replica:0/task:0/device:CPU:0 then broadcast to ('/job:localhost/replica:0/task:0/device:CPU:0',).\n",
            "I0421 11:49:51.998465 140381122615168 cross_device_ops.py:618] Reduce to /job:localhost/replica:0/task:0/device:CPU:0 then broadcast to ('/job:localhost/replica:0/task:0/device:CPU:0',).\n",
            "INFO:tensorflow:Reduce to /job:localhost/replica:0/task:0/device:CPU:0 then broadcast to ('/job:localhost/replica:0/task:0/device:CPU:0',).\n",
            "I0421 11:49:51.999382 140381122615168 cross_device_ops.py:618] Reduce to /job:localhost/replica:0/task:0/device:CPU:0 then broadcast to ('/job:localhost/replica:0/task:0/device:CPU:0',).\n",
            "WARNING:tensorflow:From /usr/local/lib/python3.7/dist-packages/tensorflow/python/util/deprecation.py:616: calling map_fn_v2 (from tensorflow.python.ops.map_fn) with dtype is deprecated and will be removed in a future version.\n",
            "Instructions for updating:\n",
            "Use fn_output_signature instead\n",
            "W0421 11:49:52.607660 140375947155200 deprecation.py:547] From /usr/local/lib/python3.7/dist-packages/tensorflow/python/util/deprecation.py:616: calling map_fn_v2 (from tensorflow.python.ops.map_fn) with dtype is deprecated and will be removed in a future version.\n",
            "Instructions for updating:\n",
            "Use fn_output_signature instead\n",
            "INFO:tensorflow:Step 100 per-step time 0.512s\n",
            "I0421 11:50:43.644827 140381122615168 model_lib_v2.py:707] Step 100 per-step time 0.512s\n",
            "INFO:tensorflow:{'Loss/classification_loss': 0.2192017,\n",
            " 'Loss/localization_loss': 0.17838842,\n",
            " 'Loss/regularization_loss': 0.1540596,\n",
            " 'Loss/total_loss': 0.5516497,\n",
            " 'learning_rate': 0.0319994}\n",
            "I0421 11:50:43.645198 140381122615168 model_lib_v2.py:708] {'Loss/classification_loss': 0.2192017,\n",
            " 'Loss/localization_loss': 0.17838842,\n",
            " 'Loss/regularization_loss': 0.1540596,\n",
            " 'Loss/total_loss': 0.5516497,\n",
            " 'learning_rate': 0.0319994}\n",
            "INFO:tensorflow:Step 200 per-step time 0.159s\n",
            "I0421 11:50:59.306842 140381122615168 model_lib_v2.py:707] Step 200 per-step time 0.159s\n",
            "INFO:tensorflow:{'Loss/classification_loss': 0.14609924,\n",
            " 'Loss/localization_loss': 0.119960286,\n",
            " 'Loss/regularization_loss': 0.15403493,\n",
            " 'Loss/total_loss': 0.42009443,\n",
            " 'learning_rate': 0.0373328}\n",
            "I0421 11:50:59.307170 140381122615168 model_lib_v2.py:708] {'Loss/classification_loss': 0.14609924,\n",
            " 'Loss/localization_loss': 0.119960286,\n",
            " 'Loss/regularization_loss': 0.15403493,\n",
            " 'Loss/total_loss': 0.42009443,\n",
            " 'learning_rate': 0.0373328}\n",
            "INFO:tensorflow:Step 300 per-step time 0.158s\n",
            "I0421 11:51:15.120142 140381122615168 model_lib_v2.py:707] Step 300 per-step time 0.158s\n",
            "INFO:tensorflow:{'Loss/classification_loss': 0.119817175,\n",
            " 'Loss/localization_loss': 0.08524851,\n",
            " 'Loss/regularization_loss': 0.15389591,\n",
            " 'Loss/total_loss': 0.35896158,\n",
            " 'learning_rate': 0.0426662}\n",
            "I0421 11:51:15.120442 140381122615168 model_lib_v2.py:708] {'Loss/classification_loss': 0.119817175,\n",
            " 'Loss/localization_loss': 0.08524851,\n",
            " 'Loss/regularization_loss': 0.15389591,\n",
            " 'Loss/total_loss': 0.35896158,\n",
            " 'learning_rate': 0.0426662}\n",
            "INFO:tensorflow:Step 400 per-step time 0.159s\n",
            "I0421 11:51:31.007695 140381122615168 model_lib_v2.py:707] Step 400 per-step time 0.159s\n",
            "INFO:tensorflow:{'Loss/classification_loss': 0.10202589,\n",
            " 'Loss/localization_loss': 0.037470844,\n",
            " 'Loss/regularization_loss': 0.15365872,\n",
            " 'Loss/total_loss': 0.29315543,\n",
            " 'learning_rate': 0.047999598}\n",
            "I0421 11:51:31.008002 140381122615168 model_lib_v2.py:708] {'Loss/classification_loss': 0.10202589,\n",
            " 'Loss/localization_loss': 0.037470844,\n",
            " 'Loss/regularization_loss': 0.15365872,\n",
            " 'Loss/total_loss': 0.29315543,\n",
            " 'learning_rate': 0.047999598}\n",
            "INFO:tensorflow:Step 500 per-step time 0.160s\n",
            "I0421 11:51:46.964251 140381122615168 model_lib_v2.py:707] Step 500 per-step time 0.160s\n",
            "INFO:tensorflow:{'Loss/classification_loss': 0.14715865,\n",
            " 'Loss/localization_loss': 0.04531378,\n",
            " 'Loss/regularization_loss': 0.15331082,\n",
            " 'Loss/total_loss': 0.34578323,\n",
            " 'learning_rate': 0.053333}\n",
            "I0421 11:51:46.964549 140381122615168 model_lib_v2.py:708] {'Loss/classification_loss': 0.14715865,\n",
            " 'Loss/localization_loss': 0.04531378,\n",
            " 'Loss/regularization_loss': 0.15331082,\n",
            " 'Loss/total_loss': 0.34578323,\n",
            " 'learning_rate': 0.053333}\n",
            "INFO:tensorflow:Step 600 per-step time 0.162s\n",
            "I0421 11:52:03.118896 140381122615168 model_lib_v2.py:707] Step 600 per-step time 0.162s\n",
            "INFO:tensorflow:{'Loss/classification_loss': 0.169918,\n",
            " 'Loss/localization_loss': 0.16040201,\n",
            " 'Loss/regularization_loss': 0.15298642,\n",
            " 'Loss/total_loss': 0.4833064,\n",
            " 'learning_rate': 0.0586664}\n",
            "I0421 11:52:03.119205 140381122615168 model_lib_v2.py:708] {'Loss/classification_loss': 0.169918,\n",
            " 'Loss/localization_loss': 0.16040201,\n",
            " 'Loss/regularization_loss': 0.15298642,\n",
            " 'Loss/total_loss': 0.4833064,\n",
            " 'learning_rate': 0.0586664}\n",
            "INFO:tensorflow:Step 700 per-step time 0.164s\n",
            "I0421 11:52:19.548450 140381122615168 model_lib_v2.py:707] Step 700 per-step time 0.164s\n",
            "INFO:tensorflow:{'Loss/classification_loss': 0.08125254,\n",
            " 'Loss/localization_loss': 0.041689254,\n",
            " 'Loss/regularization_loss': 0.15258004,\n",
            " 'Loss/total_loss': 0.2755218,\n",
            " 'learning_rate': 0.0639998}\n",
            "I0421 11:52:19.548780 140381122615168 model_lib_v2.py:708] {'Loss/classification_loss': 0.08125254,\n",
            " 'Loss/localization_loss': 0.041689254,\n",
            " 'Loss/regularization_loss': 0.15258004,\n",
            " 'Loss/total_loss': 0.2755218,\n",
            " 'learning_rate': 0.0639998}\n",
            "INFO:tensorflow:Step 800 per-step time 0.165s\n",
            "I0421 11:52:36.035153 140381122615168 model_lib_v2.py:707] Step 800 per-step time 0.165s\n",
            "INFO:tensorflow:{'Loss/classification_loss': 0.09826586,\n",
            " 'Loss/localization_loss': 0.036781017,\n",
            " 'Loss/regularization_loss': 0.15212843,\n",
            " 'Loss/total_loss': 0.2871753,\n",
            " 'learning_rate': 0.069333196}\n",
            "I0421 11:52:36.035448 140381122615168 model_lib_v2.py:708] {'Loss/classification_loss': 0.09826586,\n",
            " 'Loss/localization_loss': 0.036781017,\n",
            " 'Loss/regularization_loss': 0.15212843,\n",
            " 'Loss/total_loss': 0.2871753,\n",
            " 'learning_rate': 0.069333196}\n",
            "INFO:tensorflow:Step 900 per-step time 0.164s\n",
            "I0421 11:52:52.472288 140381122615168 model_lib_v2.py:707] Step 900 per-step time 0.164s\n",
            "INFO:tensorflow:{'Loss/classification_loss': 0.07769386,\n",
            " 'Loss/localization_loss': 0.037867736,\n",
            " 'Loss/regularization_loss': 0.1516583,\n",
            " 'Loss/total_loss': 0.2672199,\n",
            " 'learning_rate': 0.074666604}\n",
            "I0421 11:52:52.472602 140381122615168 model_lib_v2.py:708] {'Loss/classification_loss': 0.07769386,\n",
            " 'Loss/localization_loss': 0.037867736,\n",
            " 'Loss/regularization_loss': 0.1516583,\n",
            " 'Loss/total_loss': 0.2672199,\n",
            " 'learning_rate': 0.074666604}\n",
            "INFO:tensorflow:Step 1000 per-step time 0.162s\n",
            "I0421 11:53:08.694123 140381122615168 model_lib_v2.py:707] Step 1000 per-step time 0.162s\n",
            "INFO:tensorflow:{'Loss/classification_loss': 0.11851422,\n",
            " 'Loss/localization_loss': 0.047201455,\n",
            " 'Loss/regularization_loss': 0.15112376,\n",
            " 'Loss/total_loss': 0.31683943,\n",
            " 'learning_rate': 0.08}\n",
            "I0421 11:53:08.694437 140381122615168 model_lib_v2.py:708] {'Loss/classification_loss': 0.11851422,\n",
            " 'Loss/localization_loss': 0.047201455,\n",
            " 'Loss/regularization_loss': 0.15112376,\n",
            " 'Loss/total_loss': 0.31683943,\n",
            " 'learning_rate': 0.08}\n",
            "INFO:tensorflow:Step 1100 per-step time 0.167s\n",
            "I0421 11:53:25.398116 140381122615168 model_lib_v2.py:707] Step 1100 per-step time 0.167s\n",
            "INFO:tensorflow:{'Loss/classification_loss': 0.06646927,\n",
            " 'Loss/localization_loss': 0.048679743,\n",
            " 'Loss/regularization_loss': 0.15055203,\n",
            " 'Loss/total_loss': 0.26570106,\n",
            " 'learning_rate': 0.07978087}\n",
            "I0421 11:53:25.398431 140381122615168 model_lib_v2.py:708] {'Loss/classification_loss': 0.06646927,\n",
            " 'Loss/localization_loss': 0.048679743,\n",
            " 'Loss/regularization_loss': 0.15055203,\n",
            " 'Loss/total_loss': 0.26570106,\n",
            " 'learning_rate': 0.07978087}\n",
            "INFO:tensorflow:Step 1200 per-step time 0.164s\n",
            "I0421 11:53:41.752252 140381122615168 model_lib_v2.py:707] Step 1200 per-step time 0.164s\n",
            "INFO:tensorflow:{'Loss/classification_loss': 0.06197069,\n",
            " 'Loss/localization_loss': 0.02502689,\n",
            " 'Loss/regularization_loss': 0.15002197,\n",
            " 'Loss/total_loss': 0.23701954,\n",
            " 'learning_rate': 0.0791259}\n",
            "I0421 11:53:41.752573 140381122615168 model_lib_v2.py:708] {'Loss/classification_loss': 0.06197069,\n",
            " 'Loss/localization_loss': 0.02502689,\n",
            " 'Loss/regularization_loss': 0.15002197,\n",
            " 'Loss/total_loss': 0.23701954,\n",
            " 'learning_rate': 0.0791259}\n",
            "INFO:tensorflow:Step 1300 per-step time 0.166s\n",
            "I0421 11:53:58.324748 140381122615168 model_lib_v2.py:707] Step 1300 per-step time 0.166s\n",
            "INFO:tensorflow:{'Loss/classification_loss': 0.07778429,\n",
            " 'Loss/localization_loss': 0.03824006,\n",
            " 'Loss/regularization_loss': 0.14939728,\n",
            " 'Loss/total_loss': 0.26542163,\n",
            " 'learning_rate': 0.078042254}\n",
            "I0421 11:53:58.325069 140381122615168 model_lib_v2.py:708] {'Loss/classification_loss': 0.07778429,\n",
            " 'Loss/localization_loss': 0.03824006,\n",
            " 'Loss/regularization_loss': 0.14939728,\n",
            " 'Loss/total_loss': 0.26542163,\n",
            " 'learning_rate': 0.078042254}\n",
            "INFO:tensorflow:Step 1400 per-step time 0.164s\n",
            "I0421 11:54:14.737675 140381122615168 model_lib_v2.py:707] Step 1400 per-step time 0.164s\n",
            "INFO:tensorflow:{'Loss/classification_loss': 0.10208723,\n",
            " 'Loss/localization_loss': 0.035924144,\n",
            " 'Loss/regularization_loss': 0.14874348,\n",
            " 'Loss/total_loss': 0.28675485,\n",
            " 'learning_rate': 0.07654182}\n",
            "I0421 11:54:14.737984 140381122615168 model_lib_v2.py:708] {'Loss/classification_loss': 0.10208723,\n",
            " 'Loss/localization_loss': 0.035924144,\n",
            " 'Loss/regularization_loss': 0.14874348,\n",
            " 'Loss/total_loss': 0.28675485,\n",
            " 'learning_rate': 0.07654182}\n",
            "INFO:tensorflow:Step 1500 per-step time 0.163s\n",
            "I0421 11:54:31.013374 140381122615168 model_lib_v2.py:707] Step 1500 per-step time 0.163s\n",
            "INFO:tensorflow:{'Loss/classification_loss': 0.11294231,\n",
            " 'Loss/localization_loss': 0.07295381,\n",
            " 'Loss/regularization_loss': 0.14807586,\n",
            " 'Loss/total_loss': 0.33397198,\n",
            " 'learning_rate': 0.07464102}\n",
            "I0421 11:54:31.013701 140381122615168 model_lib_v2.py:708] {'Loss/classification_loss': 0.11294231,\n",
            " 'Loss/localization_loss': 0.07295381,\n",
            " 'Loss/regularization_loss': 0.14807586,\n",
            " 'Loss/total_loss': 0.33397198,\n",
            " 'learning_rate': 0.07464102}\n",
            "INFO:tensorflow:Step 1600 per-step time 0.163s\n",
            "I0421 11:54:47.319802 140381122615168 model_lib_v2.py:707] Step 1600 per-step time 0.163s\n",
            "INFO:tensorflow:{'Loss/classification_loss': 0.038410973,\n",
            " 'Loss/localization_loss': 0.01512307,\n",
            " 'Loss/regularization_loss': 0.14741865,\n",
            " 'Loss/total_loss': 0.2009527,\n",
            " 'learning_rate': 0.07236068}\n",
            "I0421 11:54:47.320118 140381122615168 model_lib_v2.py:708] {'Loss/classification_loss': 0.038410973,\n",
            " 'Loss/localization_loss': 0.01512307,\n",
            " 'Loss/regularization_loss': 0.14741865,\n",
            " 'Loss/total_loss': 0.2009527,\n",
            " 'learning_rate': 0.07236068}\n",
            "INFO:tensorflow:Step 1700 per-step time 0.163s\n",
            "I0421 11:55:03.641438 140381122615168 model_lib_v2.py:707] Step 1700 per-step time 0.163s\n",
            "INFO:tensorflow:{'Loss/classification_loss': 0.053346664,\n",
            " 'Loss/localization_loss': 0.012510238,\n",
            " 'Loss/regularization_loss': 0.14676511,\n",
            " 'Loss/total_loss': 0.21262202,\n",
            " 'learning_rate': 0.06972579}\n",
            "I0421 11:55:03.641765 140381122615168 model_lib_v2.py:708] {'Loss/classification_loss': 0.053346664,\n",
            " 'Loss/localization_loss': 0.012510238,\n",
            " 'Loss/regularization_loss': 0.14676511,\n",
            " 'Loss/total_loss': 0.21262202,\n",
            " 'learning_rate': 0.06972579}\n",
            "INFO:tensorflow:Step 1800 per-step time 0.165s\n",
            "I0421 11:55:20.094901 140381122615168 model_lib_v2.py:707] Step 1800 per-step time 0.165s\n",
            "INFO:tensorflow:{'Loss/classification_loss': 0.06352181,\n",
            " 'Loss/localization_loss': 0.020883929,\n",
            " 'Loss/regularization_loss': 0.14618681,\n",
            " 'Loss/total_loss': 0.23059255,\n",
            " 'learning_rate': 0.06676522}\n",
            "I0421 11:55:20.095213 140381122615168 model_lib_v2.py:708] {'Loss/classification_loss': 0.06352181,\n",
            " 'Loss/localization_loss': 0.020883929,\n",
            " 'Loss/regularization_loss': 0.14618681,\n",
            " 'Loss/total_loss': 0.23059255,\n",
            " 'learning_rate': 0.06676522}\n",
            "INFO:tensorflow:Step 1900 per-step time 0.162s\n",
            "I0421 11:55:36.308188 140381122615168 model_lib_v2.py:707] Step 1900 per-step time 0.162s\n",
            "INFO:tensorflow:{'Loss/classification_loss': 0.05807866,\n",
            " 'Loss/localization_loss': 0.030310465,\n",
            " 'Loss/regularization_loss': 0.14554253,\n",
            " 'Loss/total_loss': 0.23393166,\n",
            " 'learning_rate': 0.06351141}\n",
            "I0421 11:55:36.308505 140381122615168 model_lib_v2.py:708] {'Loss/classification_loss': 0.05807866,\n",
            " 'Loss/localization_loss': 0.030310465,\n",
            " 'Loss/regularization_loss': 0.14554253,\n",
            " 'Loss/total_loss': 0.23393166,\n",
            " 'learning_rate': 0.06351141}\n",
            "INFO:tensorflow:Step 2000 per-step time 0.163s\n",
            "I0421 11:55:52.651987 140381122615168 model_lib_v2.py:707] Step 2000 per-step time 0.163s\n",
            "INFO:tensorflow:{'Loss/classification_loss': 0.04698129,\n",
            " 'Loss/localization_loss': 0.022442784,\n",
            " 'Loss/regularization_loss': 0.14491932,\n",
            " 'Loss/total_loss': 0.2143434,\n",
            " 'learning_rate': 0.06}\n",
            "I0421 11:55:52.652303 140381122615168 model_lib_v2.py:708] {'Loss/classification_loss': 0.04698129,\n",
            " 'Loss/localization_loss': 0.022442784,\n",
            " 'Loss/regularization_loss': 0.14491932,\n",
            " 'Loss/total_loss': 0.2143434,\n",
            " 'learning_rate': 0.06}\n",
            "INFO:tensorflow:Step 2100 per-step time 0.167s\n",
            "I0421 11:56:09.391399 140381122615168 model_lib_v2.py:707] Step 2100 per-step time 0.167s\n",
            "INFO:tensorflow:{'Loss/classification_loss': 0.044694077,\n",
            " 'Loss/localization_loss': 0.016007943,\n",
            " 'Loss/regularization_loss': 0.14433466,\n",
            " 'Loss/total_loss': 0.20503667,\n",
            " 'learning_rate': 0.056269463}\n",
            "I0421 11:56:09.391705 140381122615168 model_lib_v2.py:708] {'Loss/classification_loss': 0.044694077,\n",
            " 'Loss/localization_loss': 0.016007943,\n",
            " 'Loss/regularization_loss': 0.14433466,\n",
            " 'Loss/total_loss': 0.20503667,\n",
            " 'learning_rate': 0.056269463}\n",
            "INFO:tensorflow:Step 2200 per-step time 0.164s\n",
            "I0421 11:56:25.765618 140381122615168 model_lib_v2.py:707] Step 2200 per-step time 0.164s\n",
            "INFO:tensorflow:{'Loss/classification_loss': 0.043715812,\n",
            " 'Loss/localization_loss': 0.0073973965,\n",
            " 'Loss/regularization_loss': 0.14379367,\n",
            " 'Loss/total_loss': 0.19490689,\n",
            " 'learning_rate': 0.052360676}\n",
            "I0421 11:56:25.765921 140381122615168 model_lib_v2.py:708] {'Loss/classification_loss': 0.043715812,\n",
            " 'Loss/localization_loss': 0.0073973965,\n",
            " 'Loss/regularization_loss': 0.14379367,\n",
            " 'Loss/total_loss': 0.19490689,\n",
            " 'learning_rate': 0.052360676}\n",
            "INFO:tensorflow:Step 2300 per-step time 0.163s\n",
            "I0421 11:56:42.029970 140381122615168 model_lib_v2.py:707] Step 2300 per-step time 0.163s\n",
            "INFO:tensorflow:{'Loss/classification_loss': 0.04966953,\n",
            " 'Loss/localization_loss': 0.013913033,\n",
            " 'Loss/regularization_loss': 0.14327388,\n",
            " 'Loss/total_loss': 0.20685643,\n",
            " 'learning_rate': 0.048316464}\n",
            "I0421 11:56:42.030532 140381122615168 model_lib_v2.py:708] {'Loss/classification_loss': 0.04966953,\n",
            " 'Loss/localization_loss': 0.013913033,\n",
            " 'Loss/regularization_loss': 0.14327388,\n",
            " 'Loss/total_loss': 0.20685643,\n",
            " 'learning_rate': 0.048316464}\n",
            "INFO:tensorflow:Step 2400 per-step time 0.163s\n",
            "I0421 11:56:58.289597 140381122615168 model_lib_v2.py:707] Step 2400 per-step time 0.163s\n",
            "INFO:tensorflow:{'Loss/classification_loss': 0.051788762,\n",
            " 'Loss/localization_loss': 0.019007064,\n",
            " 'Loss/regularization_loss': 0.14279439,\n",
            " 'Loss/total_loss': 0.2135902,\n",
            " 'learning_rate': 0.044181135}\n",
            "I0421 11:56:58.289911 140381122615168 model_lib_v2.py:708] {'Loss/classification_loss': 0.051788762,\n",
            " 'Loss/localization_loss': 0.019007064,\n",
            " 'Loss/regularization_loss': 0.14279439,\n",
            " 'Loss/total_loss': 0.2135902,\n",
            " 'learning_rate': 0.044181135}\n",
            "INFO:tensorflow:Step 2500 per-step time 0.163s\n",
            "I0421 11:57:14.617071 140381122615168 model_lib_v2.py:707] Step 2500 per-step time 0.163s\n",
            "INFO:tensorflow:{'Loss/classification_loss': 0.04718286,\n",
            " 'Loss/localization_loss': 0.020906752,\n",
            " 'Loss/regularization_loss': 0.1423565,\n",
            " 'Loss/total_loss': 0.21044612,\n",
            " 'learning_rate': 0.039999995}\n",
            "I0421 11:57:14.617379 140381122615168 model_lib_v2.py:708] {'Loss/classification_loss': 0.04718286,\n",
            " 'Loss/localization_loss': 0.020906752,\n",
            " 'Loss/regularization_loss': 0.1423565,\n",
            " 'Loss/total_loss': 0.21044612,\n",
            " 'learning_rate': 0.039999995}\n",
            "INFO:tensorflow:Step 2600 per-step time 0.164s\n",
            "I0421 11:57:30.968831 140381122615168 model_lib_v2.py:707] Step 2600 per-step time 0.164s\n",
            "INFO:tensorflow:{'Loss/classification_loss': 0.06195897,\n",
            " 'Loss/localization_loss': 0.03179629,\n",
            " 'Loss/regularization_loss': 0.14195593,\n",
            " 'Loss/total_loss': 0.23571119,\n",
            " 'learning_rate': 0.03581886}\n",
            "I0421 11:57:30.969143 140381122615168 model_lib_v2.py:708] {'Loss/classification_loss': 0.06195897,\n",
            " 'Loss/localization_loss': 0.03179629,\n",
            " 'Loss/regularization_loss': 0.14195593,\n",
            " 'Loss/total_loss': 0.23571119,\n",
            " 'learning_rate': 0.03581886}\n",
            "INFO:tensorflow:Step 2700 per-step time 0.163s\n",
            "I0421 11:57:47.294188 140381122615168 model_lib_v2.py:707] Step 2700 per-step time 0.163s\n",
            "INFO:tensorflow:{'Loss/classification_loss': 0.030352449,\n",
            " 'Loss/localization_loss': 0.0073190792,\n",
            " 'Loss/regularization_loss': 0.14159048,\n",
            " 'Loss/total_loss': 0.17926201,\n",
            " 'learning_rate': 0.03168353}\n",
            "I0421 11:57:47.294491 140381122615168 model_lib_v2.py:708] {'Loss/classification_loss': 0.030352449,\n",
            " 'Loss/localization_loss': 0.0073190792,\n",
            " 'Loss/regularization_loss': 0.14159048,\n",
            " 'Loss/total_loss': 0.17926201,\n",
            " 'learning_rate': 0.03168353}\n",
            "INFO:tensorflow:Step 2800 per-step time 0.164s\n",
            "I0421 11:58:03.670022 140381122615168 model_lib_v2.py:707] Step 2800 per-step time 0.164s\n",
            "INFO:tensorflow:{'Loss/classification_loss': 0.024342641,\n",
            " 'Loss/localization_loss': 0.006369785,\n",
            " 'Loss/regularization_loss': 0.14129168,\n",
            " 'Loss/total_loss': 0.1720041,\n",
            " 'learning_rate': 0.027639322}\n",
            "I0421 11:58:03.670325 140381122615168 model_lib_v2.py:708] {'Loss/classification_loss': 0.024342641,\n",
            " 'Loss/localization_loss': 0.006369785,\n",
            " 'Loss/regularization_loss': 0.14129168,\n",
            " 'Loss/total_loss': 0.1720041,\n",
            " 'learning_rate': 0.027639322}\n",
            "INFO:tensorflow:Step 2900 per-step time 0.162s\n",
            "I0421 11:58:19.918596 140381122615168 model_lib_v2.py:707] Step 2900 per-step time 0.162s\n",
            "INFO:tensorflow:{'Loss/classification_loss': 0.04673399,\n",
            " 'Loss/localization_loss': 0.0125520425,\n",
            " 'Loss/regularization_loss': 0.14101629,\n",
            " 'Loss/total_loss': 0.20030232,\n",
            " 'learning_rate': 0.023730533}\n",
            "I0421 11:58:19.919015 140381122615168 model_lib_v2.py:708] {'Loss/classification_loss': 0.04673399,\n",
            " 'Loss/localization_loss': 0.0125520425,\n",
            " 'Loss/regularization_loss': 0.14101629,\n",
            " 'Loss/total_loss': 0.20030232,\n",
            " 'learning_rate': 0.023730533}\n",
            "INFO:tensorflow:Step 3000 per-step time 0.163s\n",
            "I0421 11:58:36.219935 140381122615168 model_lib_v2.py:707] Step 3000 per-step time 0.163s\n",
            "INFO:tensorflow:{'Loss/classification_loss': 0.031821217,\n",
            " 'Loss/localization_loss': 0.0074537303,\n",
            " 'Loss/regularization_loss': 0.14077643,\n",
            " 'Loss/total_loss': 0.18005137,\n",
            " 'learning_rate': 0.019999998}\n",
            "I0421 11:58:36.220233 140381122615168 model_lib_v2.py:708] {'Loss/classification_loss': 0.031821217,\n",
            " 'Loss/localization_loss': 0.0074537303,\n",
            " 'Loss/regularization_loss': 0.14077643,\n",
            " 'Loss/total_loss': 0.18005137,\n",
            " 'learning_rate': 0.019999998}\n",
            "INFO:tensorflow:Step 3100 per-step time 0.166s\n",
            "I0421 11:58:52.862742 140381122615168 model_lib_v2.py:707] Step 3100 per-step time 0.166s\n",
            "INFO:tensorflow:{'Loss/classification_loss': 0.033112224,\n",
            " 'Loss/localization_loss': 0.0052791038,\n",
            " 'Loss/regularization_loss': 0.14057365,\n",
            " 'Loss/total_loss': 0.17896497,\n",
            " 'learning_rate': 0.01648859}\n",
            "I0421 11:58:52.863092 140381122615168 model_lib_v2.py:708] {'Loss/classification_loss': 0.033112224,\n",
            " 'Loss/localization_loss': 0.0052791038,\n",
            " 'Loss/regularization_loss': 0.14057365,\n",
            " 'Loss/total_loss': 0.17896497,\n",
            " 'learning_rate': 0.01648859}\n",
            "INFO:tensorflow:Step 3200 per-step time 0.164s\n",
            "I0421 11:59:09.251821 140381122615168 model_lib_v2.py:707] Step 3200 per-step time 0.164s\n",
            "INFO:tensorflow:{'Loss/classification_loss': 0.026123809,\n",
            " 'Loss/localization_loss': 0.0043600933,\n",
            " 'Loss/regularization_loss': 0.14040701,\n",
            " 'Loss/total_loss': 0.17089091,\n",
            " 'learning_rate': 0.013234773}\n",
            "I0421 11:59:09.252130 140381122615168 model_lib_v2.py:708] {'Loss/classification_loss': 0.026123809,\n",
            " 'Loss/localization_loss': 0.0043600933,\n",
            " 'Loss/regularization_loss': 0.14040701,\n",
            " 'Loss/total_loss': 0.17089091,\n",
            " 'learning_rate': 0.013234773}\n",
            "INFO:tensorflow:Step 3300 per-step time 0.163s\n",
            "I0421 11:59:25.599924 140381122615168 model_lib_v2.py:707] Step 3300 per-step time 0.163s\n",
            "INFO:tensorflow:{'Loss/classification_loss': 0.036474623,\n",
            " 'Loss/localization_loss': 0.011383226,\n",
            " 'Loss/regularization_loss': 0.14027488,\n",
            " 'Loss/total_loss': 0.18813273,\n",
            " 'learning_rate': 0.010274207}\n",
            "I0421 11:59:25.600225 140381122615168 model_lib_v2.py:708] {'Loss/classification_loss': 0.036474623,\n",
            " 'Loss/localization_loss': 0.011383226,\n",
            " 'Loss/regularization_loss': 0.14027488,\n",
            " 'Loss/total_loss': 0.18813273,\n",
            " 'learning_rate': 0.010274207}\n",
            "INFO:tensorflow:Step 3400 per-step time 0.163s\n",
            "I0421 11:59:41.899348 140381122615168 model_lib_v2.py:707] Step 3400 per-step time 0.163s\n",
            "INFO:tensorflow:{'Loss/classification_loss': 0.021216182,\n",
            " 'Loss/localization_loss': 0.004113674,\n",
            " 'Loss/regularization_loss': 0.14017327,\n",
            " 'Loss/total_loss': 0.16550313,\n",
            " 'learning_rate': 0.0076393173}\n",
            "I0421 11:59:41.899677 140381122615168 model_lib_v2.py:708] {'Loss/classification_loss': 0.021216182,\n",
            " 'Loss/localization_loss': 0.004113674,\n",
            " 'Loss/regularization_loss': 0.14017327,\n",
            " 'Loss/total_loss': 0.16550313,\n",
            " 'learning_rate': 0.0076393173}\n",
            "INFO:tensorflow:Step 3500 per-step time 0.163s\n",
            "I0421 11:59:58.176115 140381122615168 model_lib_v2.py:707] Step 3500 per-step time 0.163s\n",
            "INFO:tensorflow:{'Loss/classification_loss': 0.023399025,\n",
            " 'Loss/localization_loss': 0.0023350336,\n",
            " 'Loss/regularization_loss': 0.14009877,\n",
            " 'Loss/total_loss': 0.16583282,\n",
            " 'learning_rate': 0.0053589796}\n",
            "I0421 11:59:58.176420 140381122615168 model_lib_v2.py:708] {'Loss/classification_loss': 0.023399025,\n",
            " 'Loss/localization_loss': 0.0023350336,\n",
            " 'Loss/regularization_loss': 0.14009877,\n",
            " 'Loss/total_loss': 0.16583282,\n",
            " 'learning_rate': 0.0053589796}\n",
            "INFO:tensorflow:Step 3600 per-step time 0.163s\n",
            "I0421 12:00:14.508208 140381122615168 model_lib_v2.py:707] Step 3600 per-step time 0.163s\n",
            "INFO:tensorflow:{'Loss/classification_loss': 0.029540284,\n",
            " 'Loss/localization_loss': 0.0030695524,\n",
            " 'Loss/regularization_loss': 0.14004783,\n",
            " 'Loss/total_loss': 0.17265767,\n",
            " 'learning_rate': 0.0034581805}\n",
            "I0421 12:00:14.508499 140381122615168 model_lib_v2.py:708] {'Loss/classification_loss': 0.029540284,\n",
            " 'Loss/localization_loss': 0.0030695524,\n",
            " 'Loss/regularization_loss': 0.14004783,\n",
            " 'Loss/total_loss': 0.17265767,\n",
            " 'learning_rate': 0.0034581805}\n",
            "INFO:tensorflow:Step 3700 per-step time 0.163s\n",
            "I0421 12:00:30.789237 140381122615168 model_lib_v2.py:707] Step 3700 per-step time 0.163s\n",
            "INFO:tensorflow:{'Loss/classification_loss': 0.02173702,\n",
            " 'Loss/localization_loss': 0.005130678,\n",
            " 'Loss/regularization_loss': 0.14001621,\n",
            " 'Loss/total_loss': 0.16688392,\n",
            " 'learning_rate': 0.001957736}\n",
            "I0421 12:00:30.789541 140381122615168 model_lib_v2.py:708] {'Loss/classification_loss': 0.02173702,\n",
            " 'Loss/localization_loss': 0.005130678,\n",
            " 'Loss/regularization_loss': 0.14001621,\n",
            " 'Loss/total_loss': 0.16688392,\n",
            " 'learning_rate': 0.001957736}\n",
            "INFO:tensorflow:Step 3800 per-step time 0.164s\n",
            "I0421 12:00:47.158749 140381122615168 model_lib_v2.py:707] Step 3800 per-step time 0.164s\n",
            "INFO:tensorflow:{'Loss/classification_loss': 0.03336714,\n",
            " 'Loss/localization_loss': 0.0070683663,\n",
            " 'Loss/regularization_loss': 0.13999943,\n",
            " 'Loss/total_loss': 0.18043494,\n",
            " 'learning_rate': 0.00087409496}\n",
            "I0421 12:00:47.159052 140381122615168 model_lib_v2.py:708] {'Loss/classification_loss': 0.03336714,\n",
            " 'Loss/localization_loss': 0.0070683663,\n",
            " 'Loss/regularization_loss': 0.13999943,\n",
            " 'Loss/total_loss': 0.18043494,\n",
            " 'learning_rate': 0.00087409496}\n",
            "INFO:tensorflow:Step 3900 per-step time 0.163s\n",
            "I0421 12:01:03.483228 140381122615168 model_lib_v2.py:707] Step 3900 per-step time 0.163s\n",
            "INFO:tensorflow:{'Loss/classification_loss': 0.039268985,\n",
            " 'Loss/localization_loss': 0.020223938,\n",
            " 'Loss/regularization_loss': 0.13999291,\n",
            " 'Loss/total_loss': 0.19948584,\n",
            " 'learning_rate': 0.00021912337}\n",
            "I0421 12:01:03.483531 140381122615168 model_lib_v2.py:708] {'Loss/classification_loss': 0.039268985,\n",
            " 'Loss/localization_loss': 0.020223938,\n",
            " 'Loss/regularization_loss': 0.13999291,\n",
            " 'Loss/total_loss': 0.19948584,\n",
            " 'learning_rate': 0.00021912337}\n",
            "INFO:tensorflow:Step 4000 per-step time 0.162s\n",
            "I0421 12:01:19.722745 140381122615168 model_lib_v2.py:707] Step 4000 per-step time 0.162s\n",
            "INFO:tensorflow:{'Loss/classification_loss': 0.042083543,\n",
            " 'Loss/localization_loss': 0.004444864,\n",
            " 'Loss/regularization_loss': 0.13999185,\n",
            " 'Loss/total_loss': 0.18652025,\n",
            " 'learning_rate': 0.0}\n",
            "I0421 12:01:19.723052 140381122615168 model_lib_v2.py:708] {'Loss/classification_loss': 0.042083543,\n",
            " 'Loss/localization_loss': 0.004444864,\n",
            " 'Loss/regularization_loss': 0.13999185,\n",
            " 'Loss/total_loss': 0.18652025,\n",
            " 'learning_rate': 0.0}\n"
          ]
        }
      ]
    },
    {
      "cell_type": "code",
      "source": [
        "import cv2 \n",
        "import numpy as np"
      ],
      "metadata": {
        "id": "IfdGP_jvEZHb"
      },
      "execution_count": null,
      "outputs": []
    },
    {
      "cell_type": "code",
      "source": [
        "import matplotlib.pyplot as plt\n",
        "%matplotlib inline"
      ],
      "metadata": {
        "id": "EQrRUC04Owb5"
      },
      "execution_count": 69,
      "outputs": []
    },
    {
      "cell_type": "markdown",
      "source": [
        "###Export Model"
      ],
      "metadata": {
        "id": "ezNIWc4joaeH"
      }
    },
    {
      "cell_type": "code",
      "source": [
        "!python exporter_main_v2.py --input_type image_tensor --pipeline_config_path /content/fabrik_tfod_demo/models/my_ssd_mobilenet_v2_fpnlite/pipeline.config --trained_checkpoint_dir /content/fabrik_tfod_demo/models/my_ssd_mobilenet_v2_fpnlite --output_directory /content/fabrik_tfod_demo/exported_models/my_model"
      ],
      "metadata": {
        "id": "DLovEMXpnxgI",
        "colab": {
          "base_uri": "https://localhost:8080/"
        },
        "outputId": "45ef71f3-44f5-4358-9883-9c34dfa22356"
      },
      "execution_count": 73,
      "outputs": [
        {
          "output_type": "stream",
          "name": "stdout",
          "text": [
            "2022-04-21 13:11:01.694209: W tensorflow/core/common_runtime/gpu/gpu_bfc_allocator.cc:39] Overriding allow_growth setting because the TF_FORCE_GPU_ALLOW_GROWTH environment variable is set. Original config value was 0.\n",
            "WARNING:tensorflow:From /usr/local/lib/python3.7/dist-packages/tensorflow/python/autograph/impl/api.py:458: calling map_fn_v2 (from tensorflow.python.ops.map_fn) with back_prop=False is deprecated and will be removed in a future version.\n",
            "Instructions for updating:\n",
            "back_prop=False is deprecated. Consider using tf.stop_gradient instead.\n",
            "Instead of:\n",
            "results = tf.map_fn(fn, elems, back_prop=False)\n",
            "Use:\n",
            "results = tf.nest.map_structure(tf.stop_gradient, tf.map_fn(fn, elems))\n",
            "W0421 13:11:01.835019 139819923027840 deprecation.py:615] From /usr/local/lib/python3.7/dist-packages/tensorflow/python/autograph/impl/api.py:458: calling map_fn_v2 (from tensorflow.python.ops.map_fn) with back_prop=False is deprecated and will be removed in a future version.\n",
            "Instructions for updating:\n",
            "back_prop=False is deprecated. Consider using tf.stop_gradient instead.\n",
            "Instead of:\n",
            "results = tf.map_fn(fn, elems, back_prop=False)\n",
            "Use:\n",
            "results = tf.nest.map_structure(tf.stop_gradient, tf.map_fn(fn, elems))\n",
            "2022-04-21 13:11:17.020657: W tensorflow/python/util/util.cc:368] Sets are not currently considered sequences, but this may change in the future, so consider avoiding using them.\n",
            "WARNING:tensorflow:Skipping full serialization of Keras layer <object_detection.meta_architectures.ssd_meta_arch.SSDMetaArch object at 0x7f29c0511490>, because it is not built.\n",
            "W0421 13:11:19.793048 139819923027840 save_impl.py:72] Skipping full serialization of Keras layer <object_detection.meta_architectures.ssd_meta_arch.SSDMetaArch object at 0x7f29c0511490>, because it is not built.\n",
            "WARNING:tensorflow:Skipping full serialization of Keras layer <keras.layers.convolutional.SeparableConv2D object at 0x7f29c0414fd0>, because it is not built.\n",
            "W0421 13:11:20.052239 139819923027840 save_impl.py:72] Skipping full serialization of Keras layer <keras.layers.convolutional.SeparableConv2D object at 0x7f29c0414fd0>, because it is not built.\n",
            "WARNING:tensorflow:Skipping full serialization of Keras layer <object_detection.core.freezable_batch_norm.FreezableBatchNorm object at 0x7f293adad090>, because it is not built.\n",
            "W0421 13:11:20.052461 139819923027840 save_impl.py:72] Skipping full serialization of Keras layer <object_detection.core.freezable_batch_norm.FreezableBatchNorm object at 0x7f293adad090>, because it is not built.\n",
            "WARNING:tensorflow:Skipping full serialization of Keras layer <keras.layers.core.lambda_layer.Lambda object at 0x7f293ad53810>, because it is not built.\n",
            "W0421 13:11:20.052575 139819923027840 save_impl.py:72] Skipping full serialization of Keras layer <keras.layers.core.lambda_layer.Lambda object at 0x7f293ad53810>, because it is not built.\n",
            "WARNING:tensorflow:Skipping full serialization of Keras layer <keras.layers.convolutional.SeparableConv2D object at 0x7f293acac990>, because it is not built.\n",
            "W0421 13:11:20.052681 139819923027840 save_impl.py:72] Skipping full serialization of Keras layer <keras.layers.convolutional.SeparableConv2D object at 0x7f293acac990>, because it is not built.\n",
            "WARNING:tensorflow:Skipping full serialization of Keras layer <object_detection.core.freezable_batch_norm.FreezableBatchNorm object at 0x7f293acac790>, because it is not built.\n",
            "W0421 13:11:20.052777 139819923027840 save_impl.py:72] Skipping full serialization of Keras layer <object_detection.core.freezable_batch_norm.FreezableBatchNorm object at 0x7f293acac790>, because it is not built.\n",
            "WARNING:tensorflow:Skipping full serialization of Keras layer <keras.layers.core.lambda_layer.Lambda object at 0x7f293ae36090>, because it is not built.\n",
            "W0421 13:11:20.052875 139819923027840 save_impl.py:72] Skipping full serialization of Keras layer <keras.layers.core.lambda_layer.Lambda object at 0x7f293ae36090>, because it is not built.\n",
            "WARNING:tensorflow:Skipping full serialization of Keras layer <keras.layers.convolutional.SeparableConv2D object at 0x7f29c01ae050>, because it is not built.\n",
            "W0421 13:11:20.052961 139819923027840 save_impl.py:72] Skipping full serialization of Keras layer <keras.layers.convolutional.SeparableConv2D object at 0x7f29c01ae050>, because it is not built.\n",
            "WARNING:tensorflow:Skipping full serialization of Keras layer <object_detection.core.freezable_batch_norm.FreezableBatchNorm object at 0x7f293af21590>, because it is not built.\n",
            "W0421 13:11:20.053044 139819923027840 save_impl.py:72] Skipping full serialization of Keras layer <object_detection.core.freezable_batch_norm.FreezableBatchNorm object at 0x7f293af21590>, because it is not built.\n",
            "WARNING:tensorflow:Skipping full serialization of Keras layer <keras.layers.core.lambda_layer.Lambda object at 0x7f293ac8e090>, because it is not built.\n",
            "W0421 13:11:20.053156 139819923027840 save_impl.py:72] Skipping full serialization of Keras layer <keras.layers.core.lambda_layer.Lambda object at 0x7f293ac8e090>, because it is not built.\n",
            "WARNING:tensorflow:Skipping full serialization of Keras layer <keras.layers.convolutional.SeparableConv2D object at 0x7f293ac8e6d0>, because it is not built.\n",
            "W0421 13:11:20.053245 139819923027840 save_impl.py:72] Skipping full serialization of Keras layer <keras.layers.convolutional.SeparableConv2D object at 0x7f293ac8e6d0>, because it is not built.\n",
            "WARNING:tensorflow:Skipping full serialization of Keras layer <object_detection.core.freezable_batch_norm.FreezableBatchNorm object at 0x7f293ac8efd0>, because it is not built.\n",
            "W0421 13:11:20.053327 139819923027840 save_impl.py:72] Skipping full serialization of Keras layer <object_detection.core.freezable_batch_norm.FreezableBatchNorm object at 0x7f293ac8efd0>, because it is not built.\n",
            "WARNING:tensorflow:Skipping full serialization of Keras layer <keras.layers.core.lambda_layer.Lambda object at 0x7f293ad514d0>, because it is not built.\n",
            "W0421 13:11:20.053408 139819923027840 save_impl.py:72] Skipping full serialization of Keras layer <keras.layers.core.lambda_layer.Lambda object at 0x7f293ad514d0>, because it is not built.\n",
            "WARNING:tensorflow:Skipping full serialization of Keras layer <object_detection.core.freezable_batch_norm.FreezableBatchNorm object at 0x7f29c041d310>, because it is not built.\n",
            "W0421 13:11:20.053489 139819923027840 save_impl.py:72] Skipping full serialization of Keras layer <object_detection.core.freezable_batch_norm.FreezableBatchNorm object at 0x7f29c041d310>, because it is not built.\n",
            "WARNING:tensorflow:Skipping full serialization of Keras layer <keras.layers.core.lambda_layer.Lambda object at 0x7f293afd4810>, because it is not built.\n",
            "W0421 13:11:20.053575 139819923027840 save_impl.py:72] Skipping full serialization of Keras layer <keras.layers.core.lambda_layer.Lambda object at 0x7f293afd4810>, because it is not built.\n",
            "WARNING:tensorflow:Skipping full serialization of Keras layer <object_detection.core.freezable_batch_norm.FreezableBatchNorm object at 0x7f293ae36550>, because it is not built.\n",
            "W0421 13:11:20.053673 139819923027840 save_impl.py:72] Skipping full serialization of Keras layer <object_detection.core.freezable_batch_norm.FreezableBatchNorm object at 0x7f293ae36550>, because it is not built.\n",
            "WARNING:tensorflow:Skipping full serialization of Keras layer <keras.layers.core.lambda_layer.Lambda object at 0x7f293aca1c90>, because it is not built.\n",
            "W0421 13:11:20.053768 139819923027840 save_impl.py:72] Skipping full serialization of Keras layer <keras.layers.core.lambda_layer.Lambda object at 0x7f293aca1c90>, because it is not built.\n",
            "WARNING:tensorflow:Skipping full serialization of Keras layer <object_detection.core.freezable_batch_norm.FreezableBatchNorm object at 0x7f294e0ad390>, because it is not built.\n",
            "W0421 13:11:20.053855 139819923027840 save_impl.py:72] Skipping full serialization of Keras layer <object_detection.core.freezable_batch_norm.FreezableBatchNorm object at 0x7f294e0ad390>, because it is not built.\n",
            "WARNING:tensorflow:Skipping full serialization of Keras layer <keras.layers.core.lambda_layer.Lambda object at 0x7f293aca1250>, because it is not built.\n",
            "W0421 13:11:20.053936 139819923027840 save_impl.py:72] Skipping full serialization of Keras layer <keras.layers.core.lambda_layer.Lambda object at 0x7f293aca1250>, because it is not built.\n",
            "WARNING:tensorflow:Skipping full serialization of Keras layer <object_detection.core.freezable_batch_norm.FreezableBatchNorm object at 0x7f293aca1750>, because it is not built.\n",
            "W0421 13:11:20.054016 139819923027840 save_impl.py:72] Skipping full serialization of Keras layer <object_detection.core.freezable_batch_norm.FreezableBatchNorm object at 0x7f293aca1750>, because it is not built.\n",
            "WARNING:tensorflow:Skipping full serialization of Keras layer <keras.layers.core.lambda_layer.Lambda object at 0x7f293ac6a790>, because it is not built.\n",
            "W0421 13:11:20.054097 139819923027840 save_impl.py:72] Skipping full serialization of Keras layer <keras.layers.core.lambda_layer.Lambda object at 0x7f293ac6a790>, because it is not built.\n",
            "WARNING:tensorflow:Skipping full serialization of Keras layer <object_detection.core.freezable_batch_norm.FreezableBatchNorm object at 0x7f29c041d350>, because it is not built.\n",
            "W0421 13:11:20.054184 139819923027840 save_impl.py:72] Skipping full serialization of Keras layer <object_detection.core.freezable_batch_norm.FreezableBatchNorm object at 0x7f29c041d350>, because it is not built.\n",
            "WARNING:tensorflow:Skipping full serialization of Keras layer <keras.layers.core.lambda_layer.Lambda object at 0x7f293aca6a90>, because it is not built.\n",
            "W0421 13:11:20.054265 139819923027840 save_impl.py:72] Skipping full serialization of Keras layer <keras.layers.core.lambda_layer.Lambda object at 0x7f293aca6a90>, because it is not built.\n",
            "WARNING:tensorflow:Skipping full serialization of Keras layer <object_detection.core.freezable_batch_norm.FreezableBatchNorm object at 0x7f293ac64a10>, because it is not built.\n",
            "W0421 13:11:20.054351 139819923027840 save_impl.py:72] Skipping full serialization of Keras layer <object_detection.core.freezable_batch_norm.FreezableBatchNorm object at 0x7f293ac64a10>, because it is not built.\n",
            "WARNING:tensorflow:Skipping full serialization of Keras layer <keras.layers.core.lambda_layer.Lambda object at 0x7f293ac64650>, because it is not built.\n",
            "W0421 13:11:20.054434 139819923027840 save_impl.py:72] Skipping full serialization of Keras layer <keras.layers.core.lambda_layer.Lambda object at 0x7f293ac64650>, because it is not built.\n",
            "WARNING:tensorflow:Skipping full serialization of Keras layer <object_detection.core.freezable_batch_norm.FreezableBatchNorm object at 0x7f293ac642d0>, because it is not built.\n",
            "W0421 13:11:20.054519 139819923027840 save_impl.py:72] Skipping full serialization of Keras layer <object_detection.core.freezable_batch_norm.FreezableBatchNorm object at 0x7f293ac642d0>, because it is not built.\n",
            "WARNING:tensorflow:Skipping full serialization of Keras layer <keras.layers.core.lambda_layer.Lambda object at 0x7f293ac64310>, because it is not built.\n",
            "W0421 13:11:20.054601 139819923027840 save_impl.py:72] Skipping full serialization of Keras layer <keras.layers.core.lambda_layer.Lambda object at 0x7f293ac64310>, because it is not built.\n",
            "WARNING:tensorflow:Skipping full serialization of Keras layer <object_detection.core.freezable_batch_norm.FreezableBatchNorm object at 0x7f293ac64510>, because it is not built.\n",
            "W0421 13:11:20.054691 139819923027840 save_impl.py:72] Skipping full serialization of Keras layer <object_detection.core.freezable_batch_norm.FreezableBatchNorm object at 0x7f293ac64510>, because it is not built.\n",
            "WARNING:tensorflow:Skipping full serialization of Keras layer <keras.layers.core.lambda_layer.Lambda object at 0x7f293abc50d0>, because it is not built.\n",
            "W0421 13:11:20.054785 139819923027840 save_impl.py:72] Skipping full serialization of Keras layer <keras.layers.core.lambda_layer.Lambda object at 0x7f293abc50d0>, because it is not built.\n",
            "WARNING:tensorflow:Skipping full serialization of Keras layer <object_detection.core.freezable_batch_norm.FreezableBatchNorm object at 0x7f293ac516d0>, because it is not built.\n",
            "W0421 13:11:20.054868 139819923027840 save_impl.py:72] Skipping full serialization of Keras layer <object_detection.core.freezable_batch_norm.FreezableBatchNorm object at 0x7f293ac516d0>, because it is not built.\n",
            "WARNING:tensorflow:Skipping full serialization of Keras layer <keras.layers.core.lambda_layer.Lambda object at 0x7f293ac5e850>, because it is not built.\n",
            "W0421 13:11:20.054949 139819923027840 save_impl.py:72] Skipping full serialization of Keras layer <keras.layers.core.lambda_layer.Lambda object at 0x7f293ac5e850>, because it is not built.\n",
            "WARNING:tensorflow:Skipping full serialization of Keras layer <object_detection.core.freezable_batch_norm.FreezableBatchNorm object at 0x7f293ac5ead0>, because it is not built.\n",
            "W0421 13:11:20.055030 139819923027840 save_impl.py:72] Skipping full serialization of Keras layer <object_detection.core.freezable_batch_norm.FreezableBatchNorm object at 0x7f293ac5ead0>, because it is not built.\n",
            "WARNING:tensorflow:Skipping full serialization of Keras layer <keras.layers.core.lambda_layer.Lambda object at 0x7f294e063d50>, because it is not built.\n",
            "W0421 13:11:20.055129 139819923027840 save_impl.py:72] Skipping full serialization of Keras layer <keras.layers.core.lambda_layer.Lambda object at 0x7f294e063d50>, because it is not built.\n",
            "WARNING:tensorflow:Skipping full serialization of Keras layer <object_detection.core.freezable_batch_norm.FreezableBatchNorm object at 0x7f293ac5efd0>, because it is not built.\n",
            "W0421 13:11:20.055264 139819923027840 save_impl.py:72] Skipping full serialization of Keras layer <object_detection.core.freezable_batch_norm.FreezableBatchNorm object at 0x7f293ac5efd0>, because it is not built.\n",
            "WARNING:tensorflow:Skipping full serialization of Keras layer <keras.layers.core.lambda_layer.Lambda object at 0x7f293ad38290>, because it is not built.\n",
            "W0421 13:11:20.055363 139819923027840 save_impl.py:72] Skipping full serialization of Keras layer <keras.layers.core.lambda_layer.Lambda object at 0x7f293ad38290>, because it is not built.\n",
            "WARNING:tensorflow:Skipping full serialization of Keras layer <object_detection.core.freezable_batch_norm.FreezableBatchNorm object at 0x7f293ad38090>, because it is not built.\n",
            "W0421 13:11:20.055468 139819923027840 save_impl.py:72] Skipping full serialization of Keras layer <object_detection.core.freezable_batch_norm.FreezableBatchNorm object at 0x7f293ad38090>, because it is not built.\n",
            "WARNING:tensorflow:Skipping full serialization of Keras layer <keras.layers.core.lambda_layer.Lambda object at 0x7f293aee5790>, because it is not built.\n",
            "W0421 13:11:20.055574 139819923027840 save_impl.py:72] Skipping full serialization of Keras layer <keras.layers.core.lambda_layer.Lambda object at 0x7f293aee5790>, because it is not built.\n",
            "WARNING:tensorflow:Skipping full serialization of Keras layer <object_detection.core.freezable_batch_norm.FreezableBatchNorm object at 0x7f29c041d390>, because it is not built.\n",
            "W0421 13:11:20.055691 139819923027840 save_impl.py:72] Skipping full serialization of Keras layer <object_detection.core.freezable_batch_norm.FreezableBatchNorm object at 0x7f29c041d390>, because it is not built.\n",
            "WARNING:tensorflow:Skipping full serialization of Keras layer <keras.layers.core.lambda_layer.Lambda object at 0x7f293ab99b10>, because it is not built.\n",
            "W0421 13:11:20.055794 139819923027840 save_impl.py:72] Skipping full serialization of Keras layer <keras.layers.core.lambda_layer.Lambda object at 0x7f293ab99b10>, because it is not built.\n",
            "WARNING:tensorflow:Skipping full serialization of Keras layer <object_detection.core.freezable_batch_norm.FreezableBatchNorm object at 0x7f293ab99dd0>, because it is not built.\n",
            "W0421 13:11:20.055897 139819923027840 save_impl.py:72] Skipping full serialization of Keras layer <object_detection.core.freezable_batch_norm.FreezableBatchNorm object at 0x7f293ab99dd0>, because it is not built.\n",
            "WARNING:tensorflow:Skipping full serialization of Keras layer <keras.layers.core.lambda_layer.Lambda object at 0x7f293ab992d0>, because it is not built.\n",
            "W0421 13:11:20.056002 139819923027840 save_impl.py:72] Skipping full serialization of Keras layer <keras.layers.core.lambda_layer.Lambda object at 0x7f293ab992d0>, because it is not built.\n",
            "WARNING:tensorflow:Skipping full serialization of Keras layer <object_detection.core.freezable_batch_norm.FreezableBatchNorm object at 0x7f293ab99890>, because it is not built.\n",
            "W0421 13:11:20.056120 139819923027840 save_impl.py:72] Skipping full serialization of Keras layer <object_detection.core.freezable_batch_norm.FreezableBatchNorm object at 0x7f293ab99890>, because it is not built.\n",
            "WARNING:tensorflow:Skipping full serialization of Keras layer <keras.layers.core.lambda_layer.Lambda object at 0x7f293ae880d0>, because it is not built.\n",
            "W0421 13:11:20.056219 139819923027840 save_impl.py:72] Skipping full serialization of Keras layer <keras.layers.core.lambda_layer.Lambda object at 0x7f293ae880d0>, because it is not built.\n",
            "WARNING:tensorflow:Skipping full serialization of Keras layer <object_detection.core.freezable_batch_norm.FreezableBatchNorm object at 0x7f293ab99e50>, because it is not built.\n",
            "W0421 13:11:20.056324 139819923027840 save_impl.py:72] Skipping full serialization of Keras layer <object_detection.core.freezable_batch_norm.FreezableBatchNorm object at 0x7f293ab99e50>, because it is not built.\n",
            "WARNING:tensorflow:Skipping full serialization of Keras layer <keras.layers.core.lambda_layer.Lambda object at 0x7f293ac4b110>, because it is not built.\n",
            "W0421 13:11:20.109621 139819923027840 save_impl.py:72] Skipping full serialization of Keras layer <keras.layers.core.lambda_layer.Lambda object at 0x7f293ac4b110>, because it is not built.\n",
            "W0421 13:11:36.058812 139819923027840 save.py:265] Found untraced functions such as WeightSharedConvolutionalBoxPredictor_layer_call_fn, WeightSharedConvolutionalBoxPredictor_layer_call_and_return_conditional_losses, WeightSharedConvolutionalBoxHead_layer_call_fn, WeightSharedConvolutionalBoxHead_layer_call_and_return_conditional_losses, WeightSharedConvolutionalClassHead_layer_call_fn while saving (showing 5 of 104). These functions will not be directly callable after loading.\n",
            "INFO:tensorflow:Assets written to: /content/fabrik_tfod_demo/exported_models/my_model/saved_model/assets\n",
            "I0421 13:11:41.330786 139819923027840 builder_impl.py:780] Assets written to: /content/fabrik_tfod_demo/exported_models/my_model/saved_model/assets\n",
            "INFO:tensorflow:Writing pipeline config file to /content/fabrik_tfod_demo/exported_models/my_model/pipeline.config\n",
            "I0421 13:11:41.876481 139819923027840 config_util.py:254] Writing pipeline config file to /content/fabrik_tfod_demo/exported_models/my_model/pipeline.config\n"
          ]
        }
      ]
    },
    {
      "cell_type": "markdown",
      "source": [
        "###Run Inference"
      ],
      "metadata": {
        "id": "7QkKhaDaon-M"
      }
    },
    {
      "cell_type": "code",
      "source": [
        "\"\"\"\n",
        "Object Detection (On Image) From TF2 Saved Model\n",
        "=====================================\n",
        "\"\"\"\n",
        "\n",
        "import os\n",
        "os.environ['TF_CPP_MIN_LOG_LEVEL'] = '1'    # Suppress TensorFlow logging (1)\n",
        "import pathlib\n",
        "import tensorflow as tf\n",
        "import cv2\n",
        "import argparse\n",
        "from google.colab.patches import cv2_imshow\n",
        "\n",
        "# Enable GPU dynamic memory allocation\n",
        "\n",
        "\n",
        "# PATH TO IMAGE DIRECTORY\n",
        "IMAGE_PATHS = '/content/fabrik_tfod_demo/images/train/connector137.jpg'\n",
        "\n",
        "\n",
        "# PATH TO MODEL DIRECTORY\n",
        "PATH_TO_MODEL_DIR = '/content/fabrik_tfod_demo/exported_models/my_model'\n",
        "\n",
        "# PATH TO LABEL MAP\n",
        "PATH_TO_LABELS = '/content/fabrik_tfod_demo/annotations/label_map.pbtxt'\n",
        "\n",
        "# MINIMUM CONFIDENCE THRESHOLD\n",
        "MIN_CONF_THRESH = float(0.60)\n",
        "\n",
        "# LOAD THE MODEL\n",
        "\n",
        "import time\n",
        "from object_detection.utils import label_map_util\n",
        "from object_detection.utils import visualization_utils as viz_utils\n",
        "\n",
        "PATH_TO_SAVED_MODEL = PATH_TO_MODEL_DIR + \"/saved_model\"\n",
        "\n",
        "print('Loading model...', end='')\n",
        "start_time = time.time()\n",
        "\n",
        "# LOAD SAVED MODEL AND BUILD DETECTION FUNCTION\n",
        "detect_fn = tf.saved_model.load(PATH_TO_SAVED_MODEL)\n",
        "\n",
        "end_time = time.time()\n",
        "elapsed_time = end_time - start_time\n",
        "print('Done! Took {} seconds'.format(elapsed_time))\n",
        "\n",
        "# LOAD LABEL MAP DATA FOR PLOTTING\n",
        "\n",
        "category_index = label_map_util.create_category_index_from_labelmap(PATH_TO_LABELS,\n",
        "                                                                    use_display_name=True)\n",
        "\n",
        "import numpy as np\n",
        "from PIL import Image\n",
        "import matplotlib.pyplot as plt\n",
        "import warnings\n",
        "warnings.filterwarnings('ignore')   # Suppress Matplotlib warnings\n",
        "\n",
        "def load_image_into_numpy_array(path):\n",
        "    \"\"\"Load an image #from file into a numpy array.\n",
        "    Puts image into numpy array to feed into tensorflow graph.\n",
        "    Note that by convention we put it into a numpy array #with shape\n",
        "    (height, width, channels), where #channels=3 #for RGB.\n",
        "    Args:\n",
        "      path: the #file path to the image\n",
        "    Returns:\n",
        "      uint8 numpy array #with shape (img_height, img_width, 3)\n",
        "    \"\"\"\n",
        "    return np.array(Image.open(path))\n",
        "\n",
        "\n",
        "\n",
        "\n",
        "print('Running inference for {}... '.format(IMAGE_PATHS), end='')\n",
        "\n",
        "image = cv2.imread(IMAGE_PATHS)\n",
        "image_rgb = cv2.cvtColor(image, cv2.COLOR_BGR2RGB)\n",
        "image_expanded = np.expand_dims(image_rgb, axis=0)\n",
        "\n",
        "# The input needs to be a tensor, convert it using `tf.convert_to_tensor`.\n",
        "input_tensor = tf.convert_to_tensor(image)\n",
        "# The model expects a batch of images, so add an axis with `tf.newaxis`.\n",
        "input_tensor = input_tensor[tf.newaxis, ...]\n",
        "\n",
        "# input_tensor = np.expand_dims(image_np, 0)\n",
        "detections = detect_fn(input_tensor)\n",
        "\n",
        "# All outputs are batches tensors.\n",
        "# Convert to numpy arrays, and take index [0] to remove the batch dimension.\n",
        "num_detections = int(detections.pop('num_detections'))\n",
        "detections = {key: value[0, :num_detections].numpy()\n",
        "               for key, value in detections.items()}\n",
        "detections['num_detections'] = num_detections\n",
        "\n",
        "# detection_classes should be ints.\n",
        "detections['detection_classes'] = detections['detection_classes'].astype(np.int64)\n",
        "\n",
        "image_with_detections = image.copy()\n",
        "\n",
        "# MIN_SCORE_THRESH BASED ON YOU MINIMUM THRESHOLD FOR DETECTIONS\n",
        "viz_utils.visualize_boxes_and_labels_on_image_array(\n",
        "      image_with_detections,\n",
        "      detections['detection_boxes'],\n",
        "      detections['detection_classes'],\n",
        "      detections['detection_scores'],\n",
        "      category_index,\n",
        "      use_normalized_coordinates=True,\n",
        "      max_boxes_to_draw=200,\n",
        "      min_score_thresh=0.5,\n",
        "      agnostic_mode=False)\n",
        "\n",
        "print('Done')\n",
        "# DISPLAYS OUTPUT IMAGE\n",
        "cv2_imshow(image_with_detections)"
      ],
      "metadata": {
        "id": "RJAcq2Upnxcv",
        "colab": {
          "base_uri": "https://localhost:8080/",
          "height": 292
        },
        "outputId": "e7dd4f91-83af-4707-8c37-863c96b12f84"
      },
      "execution_count": 82,
      "outputs": [
        {
          "output_type": "stream",
          "name": "stdout",
          "text": [
            "Loading model...Done! Took 10.767712116241455 seconds\n",
            "Running inference for /content/fabrik_tfod_demo/images/train/connector137.jpg... Done\n"
          ]
        },
        {
          "output_type": "display_data",
          "data": {
            "text/plain": [
              "<PIL.Image.Image image mode=RGB size=320x240 at 0x7FD7F00E9850>"
            ],
            "image/png": "[encoded data removed]"
          },
          "metadata": {}
        }
      ]
    },
    {
      "cell_type": "code",
      "source": [
        "#cd /content/fabrik_tfod_demo"
      ],
      "metadata": {
        "id": "PjBuRhF4nxQ3"
      },
      "execution_count": 149,
      "outputs": []
    },
    {
      "cell_type": "code",
      "source": [
        "#pwd"
      ],
      "metadata": {
        "colab": {
          "base_uri": "https://localhost:8080/",
          "height": 35
        },
        "id": "h04Ct_vSnO-o",
        "outputId": "c1bf3153-bab7-4ac6-e820-a3db2167ae29"
      },
      "execution_count": null,
      "outputs": [
        {
          "output_type": "execute_result",
          "data": {
            "text/plain": [
              "'/content/fabrik_tfod_demo'"
            ],
            "application/vnd.google.colaboratory.intrinsic+json": {
              "type": "string"
            }
          },
          "metadata": {},
          "execution_count": 79
        }
      ]
    },
    {
      "cell_type": "markdown",
      "source": [
        "### Convert to Tensorflow Js "
      ],
      "metadata": {
        "id": "VmWjGoDbYt4H"
      }
    },
    {
      "cell_type": "code",
      "source": [
        "cd /content/fabrik_tfod_demo/exported_models/my_model"
      ],
      "metadata": {
        "colab": {
          "base_uri": "https://localhost:8080/"
        },
        "id": "66MB515A3baZ",
        "outputId": "5676f248-4f97-46a3-e5c4-5323a5034267"
      },
      "execution_count": 156,
      "outputs": [
        {
          "output_type": "stream",
          "name": "stdout",
          "text": [
            "/content/fabrik_tfod_demo/exported_models/my_model\n"
          ]
        }
      ]
    },
    {
      "cell_type": "code",
      "source": [
        "!pip install tensorflowjs"
      ],
      "metadata": {
        "colab": {
          "base_uri": "https://localhost:8080/"
        },
        "id": "fpVGninYmWpg",
        "outputId": "ce002cef-7135-4a75-f37f-fc14eec13ae9"
      },
      "execution_count": 162,
      "outputs": [
        {
          "output_type": "stream",
          "name": "stdout",
          "text": [
            "Collecting tensorflowjs\n",
            "  Downloading tensorflowjs-3.15.0-py3-none-any.whl (77 kB)\n",
            "\u001b[?25l\r\u001b[K     |████▎                           | 10 kB 30.9 MB/s eta 0:00:01\r\u001b[K     |████████▌                       | 20 kB 37.2 MB/s eta 0:00:01\r\u001b[K     |████████████▊                   | 30 kB 27.7 MB/s eta 0:00:01\r\u001b[K     |█████████████████               | 40 kB 14.7 MB/s eta 0:00:01\r\u001b[K     |█████████████████████▏          | 51 kB 13.8 MB/s eta 0:00:01\r\u001b[K     |█████████████████████████▍      | 61 kB 16.1 MB/s eta 0:00:01\r\u001b[K     |█████████████████████████████▋  | 71 kB 15.5 MB/s eta 0:00:01\r\u001b[K     |████████████████████████████████| 77 kB 5.5 MB/s \n",
            "\u001b[?25hRequirement already satisfied: tensorflow-hub<0.13,>=0.7.0 in /usr/local/lib/python3.7/dist-packages (from tensorflowjs) (0.12.0)\n",
            "Requirement already satisfied: tensorflow<3,>=2.1.0 in /usr/local/lib/python3.7/dist-packages (from tensorflowjs) (2.9.0rc0)\n",
            "Requirement already satisfied: six<2,>=1.12.0 in /usr/local/lib/python3.7/dist-packages (from tensorflowjs) (1.15.0)\n",
            "Requirement already satisfied: setuptools in /usr/local/lib/python3.7/dist-packages (from tensorflow<3,>=2.1.0->tensorflowjs) (57.4.0)\n",
            "Requirement already satisfied: absl-py>=1.0.0 in /usr/local/lib/python3.7/dist-packages (from tensorflow<3,>=2.1.0->tensorflowjs) (1.0.0)\n",
            "Requirement already satisfied: grpcio<2.0,>=1.24.3 in /usr/local/lib/python3.7/dist-packages (from tensorflow<3,>=2.1.0->tensorflowjs) (1.44.0)\n",
            "Requirement already satisfied: termcolor>=1.1.0 in /usr/local/lib/python3.7/dist-packages (from tensorflow<3,>=2.1.0->tensorflowjs) (1.1.0)\n",
            "Requirement already satisfied: tensorboard<2.9,>=2.8 in /usr/local/lib/python3.7/dist-packages (from tensorflow<3,>=2.1.0->tensorflowjs) (2.8.0)\n",
            "Requirement already satisfied: tensorflow-io-gcs-filesystem>=0.23.1 in /usr/local/lib/python3.7/dist-packages (from tensorflow<3,>=2.1.0->tensorflowjs) (0.24.0)\n",
            "Requirement already satisfied: astunparse>=1.6.0 in /usr/local/lib/python3.7/dist-packages (from tensorflow<3,>=2.1.0->tensorflowjs) (1.6.3)\n",
            "Requirement already satisfied: tensorflow-estimator<2.10.0,>=2.9.0rc0 in /usr/local/lib/python3.7/dist-packages (from tensorflow<3,>=2.1.0->tensorflowjs) (2.9.0rc0)\n",
            "Requirement already satisfied: opt-einsum>=2.3.2 in /usr/local/lib/python3.7/dist-packages (from tensorflow<3,>=2.1.0->tensorflowjs) (3.3.0)\n",
            "Requirement already satisfied: keras<2.10.0,>=2.9.0rc0 in /usr/local/lib/python3.7/dist-packages (from tensorflow<3,>=2.1.0->tensorflowjs) (2.9.0rc1)\n",
            "Requirement already satisfied: keras-preprocessing>=1.1.1 in /usr/local/lib/python3.7/dist-packages (from tensorflow<3,>=2.1.0->tensorflowjs) (1.1.2)\n",
            "Requirement already satisfied: numpy>=1.20 in /usr/local/lib/python3.7/dist-packages (from tensorflow<3,>=2.1.0->tensorflowjs) (1.21.6)\n",
            "Requirement already satisfied: flatbuffers<2,>=1.12 in /usr/local/lib/python3.7/dist-packages (from tensorflow<3,>=2.1.0->tensorflowjs) (1.12)\n",
            "Requirement already satisfied: typing-extensions>=3.6.6 in /usr/local/lib/python3.7/dist-packages (from tensorflow<3,>=2.1.0->tensorflowjs) (4.1.1)\n",
            "Requirement already satisfied: gast<=0.4.0,>=0.2.1 in /usr/local/lib/python3.7/dist-packages (from tensorflow<3,>=2.1.0->tensorflowjs) (0.4.0)\n",
            "Requirement already satisfied: protobuf>=3.9.2 in /usr/local/lib/python3.7/dist-packages (from tensorflow<3,>=2.1.0->tensorflowjs) (3.20.0)\n",
            "Requirement already satisfied: libclang>=13.0.0 in /usr/local/lib/python3.7/dist-packages (from tensorflow<3,>=2.1.0->tensorflowjs) (13.0.0)\n",
            "Requirement already satisfied: h5py>=2.9.0 in /usr/local/lib/python3.7/dist-packages (from tensorflow<3,>=2.1.0->tensorflowjs) (3.1.0)\n",
            "Requirement already satisfied: google-pasta>=0.1.1 in /usr/local/lib/python3.7/dist-packages (from tensorflow<3,>=2.1.0->tensorflowjs) (0.2.0)\n",
            "Requirement already satisfied: packaging in /usr/local/lib/python3.7/dist-packages (from tensorflow<3,>=2.1.0->tensorflowjs) (21.3)\n",
            "Requirement already satisfied: wrapt>=1.11.0 in /usr/local/lib/python3.7/dist-packages (from tensorflow<3,>=2.1.0->tensorflowjs) (1.14.0)\n",
            "Requirement already satisfied: wheel<1.0,>=0.23.0 in /usr/local/lib/python3.7/dist-packages (from astunparse>=1.6.0->tensorflow<3,>=2.1.0->tensorflowjs) (0.37.1)\n",
            "Requirement already satisfied: cached-property in /usr/local/lib/python3.7/dist-packages (from h5py>=2.9.0->tensorflow<3,>=2.1.0->tensorflowjs) (1.5.2)\n",
            "Requirement already satisfied: markdown>=2.6.8 in /usr/local/lib/python3.7/dist-packages (from tensorboard<2.9,>=2.8->tensorflow<3,>=2.1.0->tensorflowjs) (3.3.6)\n",
            "Requirement already satisfied: requests<3,>=2.21.0 in /usr/local/lib/python3.7/dist-packages (from tensorboard<2.9,>=2.8->tensorflow<3,>=2.1.0->tensorflowjs) (2.27.1)\n",
            "Requirement already satisfied: werkzeug>=0.11.15 in /usr/local/lib/python3.7/dist-packages (from tensorboard<2.9,>=2.8->tensorflow<3,>=2.1.0->tensorflowjs) (1.0.1)\n",
            "Requirement already satisfied: google-auth<3,>=1.6.3 in /usr/local/lib/python3.7/dist-packages (from tensorboard<2.9,>=2.8->tensorflow<3,>=2.1.0->tensorflowjs) (1.35.0)\n",
            "Requirement already satisfied: google-auth-oauthlib<0.5,>=0.4.1 in /usr/local/lib/python3.7/dist-packages (from tensorboard<2.9,>=2.8->tensorflow<3,>=2.1.0->tensorflowjs) (0.4.6)\n",
            "Requirement already satisfied: tensorboard-plugin-wit>=1.6.0 in /usr/local/lib/python3.7/dist-packages (from tensorboard<2.9,>=2.8->tensorflow<3,>=2.1.0->tensorflowjs) (1.8.1)\n",
            "Requirement already satisfied: tensorboard-data-server<0.7.0,>=0.6.0 in /usr/local/lib/python3.7/dist-packages (from tensorboard<2.9,>=2.8->tensorflow<3,>=2.1.0->tensorflowjs) (0.6.1)\n",
            "Requirement already satisfied: rsa<5,>=3.1.4 in /usr/local/lib/python3.7/dist-packages (from google-auth<3,>=1.6.3->tensorboard<2.9,>=2.8->tensorflow<3,>=2.1.0->tensorflowjs) (4.8)\n",
            "Requirement already satisfied: pyasn1-modules>=0.2.1 in /usr/local/lib/python3.7/dist-packages (from google-auth<3,>=1.6.3->tensorboard<2.9,>=2.8->tensorflow<3,>=2.1.0->tensorflowjs) (0.2.8)\n",
            "Requirement already satisfied: cachetools<5.0,>=2.0.0 in /usr/local/lib/python3.7/dist-packages (from google-auth<3,>=1.6.3->tensorboard<2.9,>=2.8->tensorflow<3,>=2.1.0->tensorflowjs) (4.2.4)\n",
            "Requirement already satisfied: requests-oauthlib>=0.7.0 in /usr/local/lib/python3.7/dist-packages (from google-auth-oauthlib<0.5,>=0.4.1->tensorboard<2.9,>=2.8->tensorflow<3,>=2.1.0->tensorflowjs) (1.3.1)\n",
            "Requirement already satisfied: importlib-metadata>=4.4 in /usr/local/lib/python3.7/dist-packages (from markdown>=2.6.8->tensorboard<2.9,>=2.8->tensorflow<3,>=2.1.0->tensorflowjs) (4.11.3)\n",
            "Requirement already satisfied: zipp>=0.5 in /usr/local/lib/python3.7/dist-packages (from importlib-metadata>=4.4->markdown>=2.6.8->tensorboard<2.9,>=2.8->tensorflow<3,>=2.1.0->tensorflowjs) (3.8.0)\n",
            "Requirement already satisfied: pyasn1<0.5.0,>=0.4.6 in /usr/local/lib/python3.7/dist-packages (from pyasn1-modules>=0.2.1->google-auth<3,>=1.6.3->tensorboard<2.9,>=2.8->tensorflow<3,>=2.1.0->tensorflowjs) (0.4.8)\n",
            "Requirement already satisfied: idna<4,>=2.5 in /usr/local/lib/python3.7/dist-packages (from requests<3,>=2.21.0->tensorboard<2.9,>=2.8->tensorflow<3,>=2.1.0->tensorflowjs) (2.10)\n",
            "Requirement already satisfied: urllib3<1.27,>=1.21.1 in /usr/local/lib/python3.7/dist-packages (from requests<3,>=2.21.0->tensorboard<2.9,>=2.8->tensorflow<3,>=2.1.0->tensorflowjs) (1.24.3)\n",
            "Requirement already satisfied: certifi>=2017.4.17 in /usr/local/lib/python3.7/dist-packages (from requests<3,>=2.21.0->tensorboard<2.9,>=2.8->tensorflow<3,>=2.1.0->tensorflowjs) (2021.10.8)\n",
            "Requirement already satisfied: charset-normalizer~=2.0.0 in /usr/local/lib/python3.7/dist-packages (from requests<3,>=2.21.0->tensorboard<2.9,>=2.8->tensorflow<3,>=2.1.0->tensorflowjs) (2.0.12)\n",
            "Requirement already satisfied: oauthlib>=3.0.0 in /usr/local/lib/python3.7/dist-packages (from requests-oauthlib>=0.7.0->google-auth-oauthlib<0.5,>=0.4.1->tensorboard<2.9,>=2.8->tensorflow<3,>=2.1.0->tensorflowjs) (3.2.0)\n",
            "Requirement already satisfied: pyparsing!=3.0.5,>=2.0.2 in /usr/local/lib/python3.7/dist-packages (from packaging->tensorflow<3,>=2.1.0->tensorflowjs) (3.0.8)\n",
            "Installing collected packages: tensorflowjs\n",
            "Successfully installed tensorflowjs-3.15.0\n"
          ]
        }
      ]
    },
    {
      "cell_type": "code",
      "source": [
        "!tensorflowjs_converter --input_format=tf_saved_model --output_format=tfjs_graph_model --signature_name=serving_default --saved_model_tags=serve /content/fabrik_tfod_demo/exported_models/my_model/saved_model /content/fabrik_tfod_demo/exported_models/my_model/saved_model/web_model\n",
        "\n"
      ],
      "metadata": {
        "colab": {
          "base_uri": "https://localhost:8080/"
        },
        "id": "ATkBBK2Mk0EF",
        "outputId": "56ef1d6d-1008-4769-f014-202e533feb43"
      },
      "execution_count": 165,
      "outputs": [
        {
          "output_type": "stream",
          "name": "stdout",
          "text": [
            "2022-04-21 15:01:16.648627: W tensorflow/core/common_runtime/gpu/gpu_bfc_allocator.cc:42] Overriding orig_value setting because the TF_FORCE_GPU_ALLOW_GROWTH environment variable is set. Original config value was 0.\n",
            "Writing weight file /content/fabrik_tfod_demo/exported_models/my_model/saved_model/web_model/model.json...\n"
          ]
        }
      ]
    },
    {
      "cell_type": "code",
      "source": [
        "#cd /content/fabrik_tfod_demo/exported_models/my_model/my_model/web_model"
      ],
      "metadata": {
        "colab": {
          "base_uri": "https://localhost:8080/"
        },
        "id": "8M9jKkIXfDDP",
        "outputId": "8af220a0-0f01-4e0e-c6bb-91f2004d7876"
      },
      "execution_count": null,
      "outputs": [
        {
          "output_type": "stream",
          "name": "stdout",
          "text": [
            "/content/fabrik_tfod_demo/exported_models/my_model/my_model/web_model\n"
          ]
        }
      ]
    },
    {
      "cell_type": "code",
      "source": [
        "#cd /content/fabrik_tfod_demo"
      ],
      "metadata": {
        "colab": {
          "base_uri": "https://localhost:8080/"
        },
        "id": "bNsfxiUcaliy",
        "outputId": "3aaee016-c311-4a87-b53f-2f760205528a"
      },
      "execution_count": null,
      "outputs": [
        {
          "output_type": "stream",
          "name": "stdout",
          "text": [
            "/content/fabrik_tfod_demo\n"
          ]
        }
      ]
    },
    {
      "cell_type": "markdown",
      "source": [
        "**Tensorflow js format successfully generated**"
      ],
      "metadata": {
        "id": "wgw08jBq77nk"
      }
    },
    {
      "cell_type": "code",
      "source": [
        ""
      ],
      "metadata": {
        "id": "81gRvkVeZE2H"
      },
      "execution_count": null,
      "outputs": []
    }
  ]
}