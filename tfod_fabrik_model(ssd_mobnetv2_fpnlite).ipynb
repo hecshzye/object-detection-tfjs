{
  "nbformat": 4,
  "nbformat_minor": 0,
  "metadata": {
    "colab": {
      "name": "tfod_fabrik_model.ipynb",
      "provenance": [],
      "collapsed_sections": [],
      "mount_file_id": "1595h-E4f1DKs2x-3ibziFYT7inbpf20L",
      "authorship_tag": "ABX9TyMXU9ABtat6hnPIYuYDVEvB",
      "include_colab_link": true
    },
    "kernelspec": {
      "name": "python3",
      "display_name": "Python 3"
    },
    "language_info": {
      "name": "python"
    },
    "accelerator": "GPU"
  },
  "cells": [
    {
      "cell_type": "markdown",
      "metadata": {
        "id": "view-in-github",
        "colab_type": "text"
      },
      "source": [
        "<a href=\"https://colab.research.google.com/github/hecshzye/object-detection-tfjs/blob/main/tfod_fabrik_model(ssd_mobnetv2_fpnlite).ipynb\" target=\"_parent\"><img src=\"https://colab.research.google.com/assets/colab-badge.svg\" alt=\"Open In Colab\"/></a>"
      ]
    },
    {
      "cell_type": "markdown",
      "source": [
        "# **Realtime Detection using TensorFlow**"
      ],
      "metadata": {
        "id": "gFOO_OJNe6Ww"
      }
    },
    {
      "cell_type": "markdown",
      "source": [
        "## **Objective**\n",
        "\n",
        "  - To construct a Computer Vision algorithm using TensorFlow and TensorFlow Js to recognise the connector inside a machinery (🚘)\n",
        "\n",
        "  - Build a web application where the TensorFlow Js model is running inference over the live webcam."
      ],
      "metadata": {
        "id": "Qrhi6O9Ce6O8"
      }
    },
    {
      "cell_type": "markdown",
      "source": [
        "## **Tools**\n",
        "\n",
        "  - TensorFlow Training Custom Object Detector API\n",
        "    - https://github.com/tensorflow/models/tree/master/research/object_detection\n",
        "\n",
        "  - TFOD API Pretrained Model: ssd_mobilenet_v2 fpnlite 320x320\n",
        "    - https://github.com/tensorflow/models/blob/master/research/object_detection/g3doc/tf2_detection_zoo.md#:~:text=SSD%20MobileNet%20V2%20FPNLite%20320x320\n",
        "\n",
        "\n",
        "  - Dataset labelled using LabelImg\n",
        "    - https://github.com/tzutalin/labelImg "
      ],
      "metadata": {
        "id": "vVGqwFThe6Dq"
      }
    },
    {
      "cell_type": "code",
      "source": [
        "# Connect Google Drive\n",
        "\n",
        "from google.colab import drive\n",
        "drive.mount('/content/drive')"
      ],
      "metadata": {
        "colab": {
          "base_uri": "https://localhost:8080/"
        },
        "id": "2JFI5riG5zj3",
        "outputId": "492374b8-5b28-4a1f-d6d2-509819a83a7d"
      },
      "execution_count": null,
      "outputs": [
        {
          "output_type": "stream",
          "name": "stdout",
          "text": [
            "Drive already mounted at /content/drive; to attempt to forcibly remount, call drive.mount(\"/content/drive\", force_remount=True).\n"
          ]
        }
      ]
    },
    {
      "cell_type": "markdown",
      "source": [
        "####Libraries "
      ],
      "metadata": {
        "id": "em9-g5OJiU5i"
      }
    },
    {
      "cell_type": "code",
      "source": [
        "import tensorflow as tf\n",
        "print(tf.__version__)"
      ],
      "metadata": {
        "colab": {
          "base_uri": "https://localhost:8080/"
        },
        "id": "AFNzaauhiDR0",
        "outputId": "ed7cee8e-d573-4d72-ad1d-816d547d0e90"
      },
      "execution_count": 23,
      "outputs": [
        {
          "output_type": "stream",
          "name": "stdout",
          "text": [
            "2.8.0\n"
          ]
        }
      ]
    },
    {
      "cell_type": "code",
      "source": [
        "# Tensorflow js for inference\n",
        "\n",
        "!pip install tensorflowjs"
      ],
      "metadata": {
        "colab": {
          "base_uri": "https://localhost:8080/"
        },
        "id": "Qf5acTNDhuzn",
        "outputId": "73aab09c-24d6-484a-f2ab-afdcefb99878"
      },
      "execution_count": null,
      "outputs": [
        {
          "output_type": "stream",
          "name": "stdout",
          "text": [
            "Collecting tensorflowjs\n",
            "  Downloading tensorflowjs-3.15.0-py3-none-any.whl (77 kB)\n",
            "\u001b[?25l\r\u001b[K     |████▎                           | 10 kB 25.2 MB/s eta 0:00:01\r\u001b[K     |████████▌                       | 20 kB 30.0 MB/s eta 0:00:01\r\u001b[K     |████████████▊                   | 30 kB 32.9 MB/s eta 0:00:01\r\u001b[K     |█████████████████               | 40 kB 16.3 MB/s eta 0:00:01\r\u001b[K     |█████████████████████▏          | 51 kB 13.9 MB/s eta 0:00:01\r\u001b[K     |█████████████████████████▍      | 61 kB 16.2 MB/s eta 0:00:01\r\u001b[K     |█████████████████████████████▋  | 71 kB 16.4 MB/s eta 0:00:01\r\u001b[K     |████████████████████████████████| 77 kB 5.2 MB/s \n",
            "\u001b[?25hRequirement already satisfied: six<2,>=1.12.0 in /usr/local/lib/python3.7/dist-packages (from tensorflowjs) (1.15.0)\n",
            "Requirement already satisfied: tensorflow-hub<0.13,>=0.7.0 in /usr/local/lib/python3.7/dist-packages (from tensorflowjs) (0.12.0)\n",
            "Requirement already satisfied: tensorflow<3,>=2.1.0 in /usr/local/lib/python3.7/dist-packages (from tensorflowjs) (2.8.0)\n",
            "Requirement already satisfied: google-pasta>=0.1.1 in /usr/local/lib/python3.7/dist-packages (from tensorflow<3,>=2.1.0->tensorflowjs) (0.2.0)\n",
            "Requirement already satisfied: setuptools in /usr/local/lib/python3.7/dist-packages (from tensorflow<3,>=2.1.0->tensorflowjs) (57.4.0)\n",
            "Collecting tf-estimator-nightly==2.8.0.dev2021122109\n",
            "  Downloading tf_estimator_nightly-2.8.0.dev2021122109-py2.py3-none-any.whl (462 kB)\n",
            "\u001b[K     |████████████████████████████████| 462 kB 36.6 MB/s \n",
            "\u001b[?25hRequirement already satisfied: tensorflow-io-gcs-filesystem>=0.23.1 in /usr/local/lib/python3.7/dist-packages (from tensorflow<3,>=2.1.0->tensorflowjs) (0.24.0)\n",
            "Requirement already satisfied: gast>=0.2.1 in /usr/local/lib/python3.7/dist-packages (from tensorflow<3,>=2.1.0->tensorflowjs) (0.5.3)\n",
            "Requirement already satisfied: protobuf>=3.9.2 in /usr/local/lib/python3.7/dist-packages (from tensorflow<3,>=2.1.0->tensorflowjs) (3.17.3)\n",
            "Requirement already satisfied: termcolor>=1.1.0 in /usr/local/lib/python3.7/dist-packages (from tensorflow<3,>=2.1.0->tensorflowjs) (1.1.0)\n",
            "Requirement already satisfied: flatbuffers>=1.12 in /usr/local/lib/python3.7/dist-packages (from tensorflow<3,>=2.1.0->tensorflowjs) (2.0)\n",
            "Requirement already satisfied: typing-extensions>=3.6.6 in /usr/local/lib/python3.7/dist-packages (from tensorflow<3,>=2.1.0->tensorflowjs) (4.1.1)\n",
            "Requirement already satisfied: grpcio<2.0,>=1.24.3 in /usr/local/lib/python3.7/dist-packages (from tensorflow<3,>=2.1.0->tensorflowjs) (1.44.0)\n",
            "Requirement already satisfied: tensorboard<2.9,>=2.8 in /usr/local/lib/python3.7/dist-packages (from tensorflow<3,>=2.1.0->tensorflowjs) (2.8.0)\n",
            "Requirement already satisfied: absl-py>=0.4.0 in /usr/local/lib/python3.7/dist-packages (from tensorflow<3,>=2.1.0->tensorflowjs) (1.0.0)\n",
            "Requirement already satisfied: numpy>=1.20 in /usr/local/lib/python3.7/dist-packages (from tensorflow<3,>=2.1.0->tensorflowjs) (1.21.6)\n",
            "Requirement already satisfied: libclang>=9.0.1 in /usr/local/lib/python3.7/dist-packages (from tensorflow<3,>=2.1.0->tensorflowjs) (13.0.0)\n",
            "Requirement already satisfied: h5py>=2.9.0 in /usr/local/lib/python3.7/dist-packages (from tensorflow<3,>=2.1.0->tensorflowjs) (3.1.0)\n",
            "Requirement already satisfied: astunparse>=1.6.0 in /usr/local/lib/python3.7/dist-packages (from tensorflow<3,>=2.1.0->tensorflowjs) (1.6.3)\n",
            "Requirement already satisfied: wrapt>=1.11.0 in /usr/local/lib/python3.7/dist-packages (from tensorflow<3,>=2.1.0->tensorflowjs) (1.14.0)\n",
            "Requirement already satisfied: keras-preprocessing>=1.1.1 in /usr/local/lib/python3.7/dist-packages (from tensorflow<3,>=2.1.0->tensorflowjs) (1.1.2)\n",
            "Requirement already satisfied: opt-einsum>=2.3.2 in /usr/local/lib/python3.7/dist-packages (from tensorflow<3,>=2.1.0->tensorflowjs) (3.3.0)\n",
            "Requirement already satisfied: keras<2.9,>=2.8.0rc0 in /usr/local/lib/python3.7/dist-packages (from tensorflow<3,>=2.1.0->tensorflowjs) (2.8.0)\n",
            "Requirement already satisfied: wheel<1.0,>=0.23.0 in /usr/local/lib/python3.7/dist-packages (from astunparse>=1.6.0->tensorflow<3,>=2.1.0->tensorflowjs) (0.37.1)\n",
            "Requirement already satisfied: cached-property in /usr/local/lib/python3.7/dist-packages (from h5py>=2.9.0->tensorflow<3,>=2.1.0->tensorflowjs) (1.5.2)\n",
            "Requirement already satisfied: markdown>=2.6.8 in /usr/local/lib/python3.7/dist-packages (from tensorboard<2.9,>=2.8->tensorflow<3,>=2.1.0->tensorflowjs) (3.3.6)\n",
            "Requirement already satisfied: tensorboard-data-server<0.7.0,>=0.6.0 in /usr/local/lib/python3.7/dist-packages (from tensorboard<2.9,>=2.8->tensorflow<3,>=2.1.0->tensorflowjs) (0.6.1)\n",
            "Requirement already satisfied: google-auth-oauthlib<0.5,>=0.4.1 in /usr/local/lib/python3.7/dist-packages (from tensorboard<2.9,>=2.8->tensorflow<3,>=2.1.0->tensorflowjs) (0.4.6)\n",
            "Requirement already satisfied: google-auth<3,>=1.6.3 in /usr/local/lib/python3.7/dist-packages (from tensorboard<2.9,>=2.8->tensorflow<3,>=2.1.0->tensorflowjs) (1.35.0)\n",
            "Requirement already satisfied: tensorboard-plugin-wit>=1.6.0 in /usr/local/lib/python3.7/dist-packages (from tensorboard<2.9,>=2.8->tensorflow<3,>=2.1.0->tensorflowjs) (1.8.1)\n",
            "Requirement already satisfied: werkzeug>=0.11.15 in /usr/local/lib/python3.7/dist-packages (from tensorboard<2.9,>=2.8->tensorflow<3,>=2.1.0->tensorflowjs) (1.0.1)\n",
            "Requirement already satisfied: requests<3,>=2.21.0 in /usr/local/lib/python3.7/dist-packages (from tensorboard<2.9,>=2.8->tensorflow<3,>=2.1.0->tensorflowjs) (2.23.0)\n",
            "Requirement already satisfied: pyasn1-modules>=0.2.1 in /usr/local/lib/python3.7/dist-packages (from google-auth<3,>=1.6.3->tensorboard<2.9,>=2.8->tensorflow<3,>=2.1.0->tensorflowjs) (0.2.8)\n",
            "Requirement already satisfied: cachetools<5.0,>=2.0.0 in /usr/local/lib/python3.7/dist-packages (from google-auth<3,>=1.6.3->tensorboard<2.9,>=2.8->tensorflow<3,>=2.1.0->tensorflowjs) (4.2.4)\n",
            "Requirement already satisfied: rsa<5,>=3.1.4 in /usr/local/lib/python3.7/dist-packages (from google-auth<3,>=1.6.3->tensorboard<2.9,>=2.8->tensorflow<3,>=2.1.0->tensorflowjs) (4.8)\n",
            "Requirement already satisfied: requests-oauthlib>=0.7.0 in /usr/local/lib/python3.7/dist-packages (from google-auth-oauthlib<0.5,>=0.4.1->tensorboard<2.9,>=2.8->tensorflow<3,>=2.1.0->tensorflowjs) (1.3.1)\n",
            "Requirement already satisfied: importlib-metadata>=4.4 in /usr/local/lib/python3.7/dist-packages (from markdown>=2.6.8->tensorboard<2.9,>=2.8->tensorflow<3,>=2.1.0->tensorflowjs) (4.11.3)\n",
            "Requirement already satisfied: zipp>=0.5 in /usr/local/lib/python3.7/dist-packages (from importlib-metadata>=4.4->markdown>=2.6.8->tensorboard<2.9,>=2.8->tensorflow<3,>=2.1.0->tensorflowjs) (3.8.0)\n",
            "Requirement already satisfied: pyasn1<0.5.0,>=0.4.6 in /usr/local/lib/python3.7/dist-packages (from pyasn1-modules>=0.2.1->google-auth<3,>=1.6.3->tensorboard<2.9,>=2.8->tensorflow<3,>=2.1.0->tensorflowjs) (0.4.8)\n",
            "Requirement already satisfied: certifi>=2017.4.17 in /usr/local/lib/python3.7/dist-packages (from requests<3,>=2.21.0->tensorboard<2.9,>=2.8->tensorflow<3,>=2.1.0->tensorflowjs) (2021.10.8)\n",
            "Requirement already satisfied: chardet<4,>=3.0.2 in /usr/local/lib/python3.7/dist-packages (from requests<3,>=2.21.0->tensorboard<2.9,>=2.8->tensorflow<3,>=2.1.0->tensorflowjs) (3.0.4)\n",
            "Requirement already satisfied: idna<3,>=2.5 in /usr/local/lib/python3.7/dist-packages (from requests<3,>=2.21.0->tensorboard<2.9,>=2.8->tensorflow<3,>=2.1.0->tensorflowjs) (2.10)\n",
            "Requirement already satisfied: urllib3!=1.25.0,!=1.25.1,<1.26,>=1.21.1 in /usr/local/lib/python3.7/dist-packages (from requests<3,>=2.21.0->tensorboard<2.9,>=2.8->tensorflow<3,>=2.1.0->tensorflowjs) (1.24.3)\n",
            "Requirement already satisfied: oauthlib>=3.0.0 in /usr/local/lib/python3.7/dist-packages (from requests-oauthlib>=0.7.0->google-auth-oauthlib<0.5,>=0.4.1->tensorboard<2.9,>=2.8->tensorflow<3,>=2.1.0->tensorflowjs) (3.2.0)\n",
            "Installing collected packages: tf-estimator-nightly, tensorflowjs\n",
            "Successfully installed tensorflowjs-3.15.0 tf-estimator-nightly-2.8.0.dev2021122109\n"
          ]
        }
      ]
    },
    {
      "cell_type": "code",
      "source": [
        "import numpy as np\n",
        "import pandas as pd\n",
        "import os\n",
        "import pathlib\n",
        "import matplotlib.pyplot as plt\n",
        "import sklearn\n",
        "import cv2\n",
        "import argparse\n",
        "from google.colab.patches import cv2_imshow"
      ],
      "metadata": {
        "id": "Yy1Fx0UBjEHA"
      },
      "execution_count": 24,
      "outputs": []
    },
    {
      "cell_type": "code",
      "source": [
        "# In case of version issues\n",
        "\n",
        "#!pip install tensorflow-gpu\n",
        "#pip uninstall opencv-python-headless==4.5.5.62\n",
        "#pip install opencv-python-headless==4.5.2.52\n",
        "#!pip install tensorflow==2.7.0\n",
        "#!apt install --allow-change-held-packages libcudnn8=8.1.0.77-1+cuda11.2"
      ],
      "metadata": {
        "id": "yNzvm-mWiJsm"
      },
      "execution_count": null,
      "outputs": []
    },
    {
      "cell_type": "code",
      "source": [
        "# Check GPU Availability \n",
        "\n",
        "print(\"GPU\", \"available\" if tf.config.list_physical_devices(\"GPU\") else \"not available\")"
      ],
      "metadata": {
        "colab": {
          "base_uri": "https://localhost:8080/"
        },
        "id": "7t-Veb0OiBaj",
        "outputId": "a54b39c1-8f3a-4998-c08b-819d647af322"
      },
      "execution_count": null,
      "outputs": [
        {
          "output_type": "stream",
          "name": "stdout",
          "text": [
            "GPU available\n"
          ]
        }
      ]
    },
    {
      "cell_type": "code",
      "execution_count": 25,
      "metadata": {
        "colab": {
          "base_uri": "https://localhost:8080/"
        },
        "id": "CTPFpd1aerLJ",
        "outputId": "b489fa57-561f-4c5f-b7a9-4954cdc23877"
      },
      "outputs": [
        {
          "output_type": "stream",
          "name": "stdout",
          "text": [
            "GPU 0: Tesla P100-PCIE-16GB (UUID: GPU-c0fbe6d4-343a-7367-00d4-fbabe702f935)\n"
          ]
        }
      ],
      "source": [
        "# GPU \n",
        "\n",
        "!nvidia-smi -L"
      ]
    },
    {
      "cell_type": "markdown",
      "source": [
        "### Clone Tensorflow Object Detection Models"
      ],
      "metadata": {
        "id": "YTAkuVfdkORy"
      }
    },
    {
      "cell_type": "code",
      "source": [
        "!git clone https://github.com/tensorflow/models.git"
      ],
      "metadata": {
        "colab": {
          "base_uri": "https://localhost:8080/"
        },
        "id": "JZq2U9KCkFl0",
        "outputId": "86488db7-8094-44c9-e01d-bbd1af3197a3"
      },
      "execution_count": null,
      "outputs": [
        {
          "output_type": "stream",
          "name": "stdout",
          "text": [
            "Cloning into 'models'...\n",
            "remote: Enumerating objects: 71948, done.\u001b[K\n",
            "remote: Total 71948 (delta 0), reused 0 (delta 0), pack-reused 71948\u001b[K\n",
            "Receiving objects: 100% (71948/71948), 578.90 MiB | 31.88 MiB/s, done.\n",
            "Resolving deltas: 100% (50899/50899), done.\n"
          ]
        }
      ]
    },
    {
      "cell_type": "markdown",
      "source": [
        "####From the TFOD Official Documentation, installing protobuf inside the TFOD research folder\n"
      ],
      "metadata": {
        "id": "sqVrfUvqkau6"
      }
    },
    {
      "cell_type": "code",
      "source": [
        "cd /content/models/research"
      ],
      "metadata": {
        "colab": {
          "base_uri": "https://localhost:8080/"
        },
        "id": "Ui78zwJ0kYI0",
        "outputId": "38954a90-e1a6-4664-8c21-c8ed9558e1dc"
      },
      "execution_count": null,
      "outputs": [
        {
          "output_type": "stream",
          "name": "stdout",
          "text": [
            "/content/models/research\n"
          ]
        }
      ]
    },
    {
      "cell_type": "code",
      "source": [
        "# Install protobuf\n",
        "\n",
        "!protoc object_detection/protos/*.proto --python_out=."
      ],
      "metadata": {
        "id": "tQf2GILdkhP7"
      },
      "execution_count": null,
      "outputs": []
    },
    {
      "cell_type": "code",
      "source": [
        "# Install COCO API \n",
        "\n",
        "!git clone https://github.com/cocodataset/cocoapi.git"
      ],
      "metadata": {
        "colab": {
          "base_uri": "https://localhost:8080/"
        },
        "id": "iPNMMAREkot7",
        "outputId": "f662c2d0-cd03-4302-8cc9-d615f2529155"
      },
      "execution_count": null,
      "outputs": [
        {
          "output_type": "stream",
          "name": "stdout",
          "text": [
            "Cloning into 'cocoapi'...\n",
            "remote: Enumerating objects: 975, done.\u001b[K\n",
            "remote: Total 975 (delta 0), reused 0 (delta 0), pack-reused 975\u001b[K\n",
            "Receiving objects: 100% (975/975), 11.72 MiB | 8.54 MiB/s, done.\n",
            "Resolving deltas: 100% (576/576), done.\n"
          ]
        }
      ]
    },
    {
      "cell_type": "code",
      "source": [
        "cd cocoapi/PythonAPI"
      ],
      "metadata": {
        "colab": {
          "base_uri": "https://localhost:8080/"
        },
        "id": "cXj9Hx7Pkoki",
        "outputId": "e6f37c5e-bc29-4e81-b5d5-0c9a5ad01b79"
      },
      "execution_count": null,
      "outputs": [
        {
          "output_type": "stream",
          "name": "stdout",
          "text": [
            "/content/models/research/cocoapi/PythonAPI\n"
          ]
        }
      ]
    },
    {
      "cell_type": "code",
      "source": [
        "!make"
      ],
      "metadata": {
        "colab": {
          "base_uri": "https://localhost:8080/"
        },
        "id": "Wj7DlaQSkn6V",
        "outputId": "7f893aa7-2709-406f-ec84-eb68ef5ae0e9"
      },
      "execution_count": null,
      "outputs": [
        {
          "output_type": "stream",
          "name": "stdout",
          "text": [
            "python setup.py build_ext --inplace\n",
            "running build_ext\n",
            "skipping 'pycocotools/_mask.c' Cython extension (up-to-date)\n",
            "building 'pycocotools._mask' extension\n",
            "creating build\n",
            "creating build/common\n",
            "creating build/temp.linux-x86_64-3.7\n",
            "creating build/temp.linux-x86_64-3.7/pycocotools\n",
            "x86_64-linux-gnu-gcc -pthread -Wno-unused-result -Wsign-compare -DNDEBUG -g -fwrapv -O2 -Wall -g -fdebug-prefix-map=/build/python3.7-dIfpci/python3.7-3.7.13=. -fstack-protector-strong -Wformat -Werror=format-security -g -fdebug-prefix-map=/build/python3.7-dIfpci/python3.7-3.7.13=. -fstack-protector-strong -Wformat -Werror=format-security -Wdate-time -D_FORTIFY_SOURCE=2 -fPIC -I/usr/local/lib/python3.7/dist-packages/numpy/core/include -I../common -I/usr/include/python3.7m -c ../common/maskApi.c -o build/temp.linux-x86_64-3.7/../common/maskApi.o -Wno-cpp -Wno-unused-function -std=c99\n",
            "\u001b[01m\u001b[K../common/maskApi.c:\u001b[m\u001b[K In function ‘\u001b[01m\u001b[KrleDecode\u001b[m\u001b[K’:\n",
            "\u001b[01m\u001b[K../common/maskApi.c:46:7:\u001b[m\u001b[K \u001b[01;35m\u001b[Kwarning: \u001b[m\u001b[Kthis ‘\u001b[01m\u001b[Kfor\u001b[m\u001b[K’ clause does not guard... [\u001b[01;35m\u001b[K-Wmisleading-indentation\u001b[m\u001b[K]\n",
            "       \u001b[01;35m\u001b[Kfor\u001b[m\u001b[K( k=0; k<R[i].cnts[j]; k++ ) *(M++)=v; v=!v; }}\n",
            "       \u001b[01;35m\u001b[K^~~\u001b[m\u001b[K\n",
            "\u001b[01m\u001b[K../common/maskApi.c:46:49:\u001b[m\u001b[K \u001b[01;36m\u001b[Knote: \u001b[m\u001b[K...this statement, but the latter is misleadingly indented as if it were guarded by the ‘\u001b[01m\u001b[Kfor\u001b[m\u001b[K’\n",
            "       for( k=0; k<R[i].cnts[j]; k++ ) *(M++)=v; \u001b[01;36m\u001b[Kv\u001b[m\u001b[K=!v; }}\n",
            "                                                 \u001b[01;36m\u001b[K^\u001b[m\u001b[K\n",
            "\u001b[01m\u001b[K../common/maskApi.c:\u001b[m\u001b[K In function ‘\u001b[01m\u001b[KrleFrPoly\u001b[m\u001b[K’:\n",
            "\u001b[01m\u001b[K../common/maskApi.c:166:3:\u001b[m\u001b[K \u001b[01;35m\u001b[Kwarning: \u001b[m\u001b[Kthis ‘\u001b[01m\u001b[Kfor\u001b[m\u001b[K’ clause does not guard... [\u001b[01;35m\u001b[K-Wmisleading-indentation\u001b[m\u001b[K]\n",
            "   \u001b[01;35m\u001b[Kfor\u001b[m\u001b[K(j=0; j<k; j++) x[j]=(int)(scale*xy[j*2+0]+.5); x[k]=x[0];\n",
            "   \u001b[01;35m\u001b[K^~~\u001b[m\u001b[K\n",
            "\u001b[01m\u001b[K../common/maskApi.c:166:54:\u001b[m\u001b[K \u001b[01;36m\u001b[Knote: \u001b[m\u001b[K...this statement, but the latter is misleadingly indented as if it were guarded by the ‘\u001b[01m\u001b[Kfor\u001b[m\u001b[K’\n",
            "   for(j=0; j<k; j++) x[j]=(int)(scale*xy[j*2+0]+.5); \u001b[01;36m\u001b[Kx\u001b[m\u001b[K[k]=x[0];\n",
            "                                                      \u001b[01;36m\u001b[K^\u001b[m\u001b[K\n",
            "\u001b[01m\u001b[K../common/maskApi.c:167:3:\u001b[m\u001b[K \u001b[01;35m\u001b[Kwarning: \u001b[m\u001b[Kthis ‘\u001b[01m\u001b[Kfor\u001b[m\u001b[K’ clause does not guard... [\u001b[01;35m\u001b[K-Wmisleading-indentation\u001b[m\u001b[K]\n",
            "   \u001b[01;35m\u001b[Kfor\u001b[m\u001b[K(j=0; j<k; j++) y[j]=(int)(scale*xy[j*2+1]+.5); y[k]=y[0];\n",
            "   \u001b[01;35m\u001b[K^~~\u001b[m\u001b[K\n",
            "\u001b[01m\u001b[K../common/maskApi.c:167:54:\u001b[m\u001b[K \u001b[01;36m\u001b[Knote: \u001b[m\u001b[K...this statement, but the latter is misleadingly indented as if it were guarded by the ‘\u001b[01m\u001b[Kfor\u001b[m\u001b[K’\n",
            "   for(j=0; j<k; j++) y[j]=(int)(scale*xy[j*2+1]+.5); \u001b[01;36m\u001b[Ky\u001b[m\u001b[K[k]=y[0];\n",
            "                                                      \u001b[01;36m\u001b[K^\u001b[m\u001b[K\n",
            "\u001b[01m\u001b[K../common/maskApi.c:\u001b[m\u001b[K In function ‘\u001b[01m\u001b[KrleToString\u001b[m\u001b[K’:\n",
            "\u001b[01m\u001b[K../common/maskApi.c:212:7:\u001b[m\u001b[K \u001b[01;35m\u001b[Kwarning: \u001b[m\u001b[Kthis ‘\u001b[01m\u001b[Kif\u001b[m\u001b[K’ clause does not guard... [\u001b[01;35m\u001b[K-Wmisleading-indentation\u001b[m\u001b[K]\n",
            "       \u001b[01;35m\u001b[Kif\u001b[m\u001b[K(more) c |= 0x20; c+=48; s[p++]=c;\n",
            "       \u001b[01;35m\u001b[K^~\u001b[m\u001b[K\n",
            "\u001b[01m\u001b[K../common/maskApi.c:212:27:\u001b[m\u001b[K \u001b[01;36m\u001b[Knote: \u001b[m\u001b[K...this statement, but the latter is misleadingly indented as if it were guarded by the ‘\u001b[01m\u001b[Kif\u001b[m\u001b[K’\n",
            "       if(more) c |= 0x20; \u001b[01;36m\u001b[Kc\u001b[m\u001b[K+=48; s[p++]=c;\n",
            "                           \u001b[01;36m\u001b[K^\u001b[m\u001b[K\n",
            "\u001b[01m\u001b[K../common/maskApi.c:\u001b[m\u001b[K In function ‘\u001b[01m\u001b[KrleFrString\u001b[m\u001b[K’:\n",
            "\u001b[01m\u001b[K../common/maskApi.c:220:3:\u001b[m\u001b[K \u001b[01;35m\u001b[Kwarning: \u001b[m\u001b[Kthis ‘\u001b[01m\u001b[Kwhile\u001b[m\u001b[K’ clause does not guard... [\u001b[01;35m\u001b[K-Wmisleading-indentation\u001b[m\u001b[K]\n",
            "   \u001b[01;35m\u001b[Kwhile\u001b[m\u001b[K( s[m] ) m++; cnts=malloc(sizeof(uint)*m); m=0;\n",
            "   \u001b[01;35m\u001b[K^~~~~\u001b[m\u001b[K\n",
            "\u001b[01m\u001b[K../common/maskApi.c:220:22:\u001b[m\u001b[K \u001b[01;36m\u001b[Knote: \u001b[m\u001b[K...this statement, but the latter is misleadingly indented as if it were guarded by the ‘\u001b[01m\u001b[Kwhile\u001b[m\u001b[K’\n",
            "   while( s[m] ) m++; \u001b[01;36m\u001b[Kcnts\u001b[m\u001b[K=malloc(sizeof(uint)*m); m=0;\n",
            "                      \u001b[01;36m\u001b[K^~~~\u001b[m\u001b[K\n",
            "\u001b[01m\u001b[K../common/maskApi.c:228:5:\u001b[m\u001b[K \u001b[01;35m\u001b[Kwarning: \u001b[m\u001b[Kthis ‘\u001b[01m\u001b[Kif\u001b[m\u001b[K’ clause does not guard... [\u001b[01;35m\u001b[K-Wmisleading-indentation\u001b[m\u001b[K]\n",
            "     \u001b[01;35m\u001b[Kif\u001b[m\u001b[K(m>2) x+=(long) cnts[m-2]; cnts[m++]=(uint) x;\n",
            "     \u001b[01;35m\u001b[K^~\u001b[m\u001b[K\n",
            "\u001b[01m\u001b[K../common/maskApi.c:228:34:\u001b[m\u001b[K \u001b[01;36m\u001b[Knote: \u001b[m\u001b[K...this statement, but the latter is misleadingly indented as if it were guarded by the ‘\u001b[01m\u001b[Kif\u001b[m\u001b[K’\n",
            "     if(m>2) x+=(long) cnts[m-2]; \u001b[01;36m\u001b[Kcnts\u001b[m\u001b[K[m++]=(uint) x;\n",
            "                                  \u001b[01;36m\u001b[K^~~~\u001b[m\u001b[K\n",
            "\u001b[01m\u001b[K../common/maskApi.c:\u001b[m\u001b[K In function ‘\u001b[01m\u001b[KrleToBbox\u001b[m\u001b[K’:\n",
            "\u001b[01m\u001b[K../common/maskApi.c:141:31:\u001b[m\u001b[K \u001b[01;35m\u001b[Kwarning: \u001b[m\u001b[K‘\u001b[01m\u001b[Kxp\u001b[m\u001b[K’ may be used uninitialized in this function [\u001b[01;35m\u001b[K-Wmaybe-uninitialized\u001b[m\u001b[K]\n",
            "       if(j%2==0) xp=x; else if\u001b[01;35m\u001b[K(\u001b[m\u001b[Kxp<x) { ys=0; ye=h-1; }\n",
            "                               \u001b[01;35m\u001b[K^\u001b[m\u001b[K\n",
            "x86_64-linux-gnu-gcc -pthread -Wno-unused-result -Wsign-compare -DNDEBUG -g -fwrapv -O2 -Wall -g -fdebug-prefix-map=/build/python3.7-dIfpci/python3.7-3.7.13=. -fstack-protector-strong -Wformat -Werror=format-security -g -fdebug-prefix-map=/build/python3.7-dIfpci/python3.7-3.7.13=. -fstack-protector-strong -Wformat -Werror=format-security -Wdate-time -D_FORTIFY_SOURCE=2 -fPIC -I/usr/local/lib/python3.7/dist-packages/numpy/core/include -I../common -I/usr/include/python3.7m -c pycocotools/_mask.c -o build/temp.linux-x86_64-3.7/pycocotools/_mask.o -Wno-cpp -Wno-unused-function -std=c99\n",
            "creating build/lib.linux-x86_64-3.7\n",
            "creating build/lib.linux-x86_64-3.7/pycocotools\n",
            "x86_64-linux-gnu-gcc -pthread -shared -Wl,-O1 -Wl,-Bsymbolic-functions -Wl,-Bsymbolic-functions -Wl,-z,relro -Wl,-Bsymbolic-functions -Wl,-z,relro -g -fdebug-prefix-map=/build/python3.7-dIfpci/python3.7-3.7.13=. -fstack-protector-strong -Wformat -Werror=format-security -Wdate-time -D_FORTIFY_SOURCE=2 build/temp.linux-x86_64-3.7/../common/maskApi.o build/temp.linux-x86_64-3.7/pycocotools/_mask.o -o build/lib.linux-x86_64-3.7/pycocotools/_mask.cpython-37m-x86_64-linux-gnu.so\n",
            "copying build/lib.linux-x86_64-3.7/pycocotools/_mask.cpython-37m-x86_64-linux-gnu.so -> pycocotools\n",
            "rm -rf build\n"
          ]
        }
      ]
    },
    {
      "cell_type": "code",
      "source": [
        "cp -r pycocotools /content/models/research"
      ],
      "metadata": {
        "id": "Bz2sPqTSk3-W"
      },
      "execution_count": null,
      "outputs": []
    },
    {
      "cell_type": "markdown",
      "source": [
        "###Install TensorFlow Object Detection API"
      ],
      "metadata": {
        "id": "937EBO0alAxI"
      }
    },
    {
      "cell_type": "code",
      "source": [
        "cd .."
      ],
      "metadata": {
        "colab": {
          "base_uri": "https://localhost:8080/"
        },
        "id": "UQx8AGu1k8wa",
        "outputId": "dc861a6d-ba40-4393-e632-dd29a9bbc297"
      },
      "execution_count": null,
      "outputs": [
        {
          "output_type": "stream",
          "name": "stdout",
          "text": [
            "/content/models/research/cocoapi\n"
          ]
        }
      ]
    },
    {
      "cell_type": "code",
      "source": [
        "cd .."
      ],
      "metadata": {
        "colab": {
          "base_uri": "https://localhost:8080/"
        },
        "id": "73e-bI3_k8hX",
        "outputId": "ce62b024-6e55-40c5-e026-c0930d1a6e3e"
      },
      "execution_count": null,
      "outputs": [
        {
          "output_type": "stream",
          "name": "stdout",
          "text": [
            "/content/models/research\n"
          ]
        }
      ]
    },
    {
      "cell_type": "code",
      "source": [
        "cp object_detection/packages/tf2/setup.py ."
      ],
      "metadata": {
        "id": "9obg9t43lJQ6"
      },
      "execution_count": null,
      "outputs": []
    },
    {
      "cell_type": "code",
      "source": [
        "# Install\n",
        "\n",
        "!python -m pip install ."
      ],
      "metadata": {
        "colab": {
          "base_uri": "https://localhost:8080/"
        },
        "id": "AhoBRmt_lJA2",
        "outputId": "f9296aa4-7531-4440-abfb-2aef8fe8cfc0"
      },
      "execution_count": null,
      "outputs": [
        {
          "output_type": "stream",
          "name": "stdout",
          "text": [
            "Processing /content/models/research\n",
            "\u001b[33m  DEPRECATION: A future pip version will change local packages to be built in-place without first copying to a temporary directory. We recommend you use --use-feature=in-tree-build to test your packages with this new behavior before it becomes the default.\n",
            "   pip 21.3 will remove support for this functionality. You can find discussion regarding this at https://github.com/pypa/pip/issues/7555.\u001b[0m\n",
            "Requirement already satisfied: avro-python3 in /usr/local/lib/python3.7/dist-packages (from object-detection==0.1) (1.10.2)\n",
            "Requirement already satisfied: apache-beam in /usr/local/lib/python3.7/dist-packages (from object-detection==0.1) (2.37.0)\n",
            "Requirement already satisfied: pillow in /usr/local/lib/python3.7/dist-packages (from object-detection==0.1) (7.1.2)\n",
            "Requirement already satisfied: lxml in /usr/local/lib/python3.7/dist-packages (from object-detection==0.1) (4.2.6)\n",
            "Requirement already satisfied: matplotlib in /usr/local/lib/python3.7/dist-packages (from object-detection==0.1) (3.2.2)\n",
            "Requirement already satisfied: Cython in /usr/local/lib/python3.7/dist-packages (from object-detection==0.1) (0.29.28)\n",
            "Requirement already satisfied: contextlib2 in /usr/local/lib/python3.7/dist-packages (from object-detection==0.1) (0.5.5)\n",
            "Requirement already satisfied: tf-slim in /usr/local/lib/python3.7/dist-packages (from object-detection==0.1) (1.1.0)\n",
            "Requirement already satisfied: six in /usr/local/lib/python3.7/dist-packages (from object-detection==0.1) (1.15.0)\n",
            "Requirement already satisfied: pycocotools in /usr/local/lib/python3.7/dist-packages (from object-detection==0.1) (2.0.4)\n",
            "Requirement already satisfied: lvis in /usr/local/lib/python3.7/dist-packages (from object-detection==0.1) (0.5.3)\n",
            "Requirement already satisfied: scipy in /usr/local/lib/python3.7/dist-packages (from object-detection==0.1) (1.4.1)\n",
            "Requirement already satisfied: pandas in /usr/local/lib/python3.7/dist-packages (from object-detection==0.1) (1.3.5)\n",
            "Requirement already satisfied: tf-models-official>=2.5.1 in /usr/local/lib/python3.7/dist-packages (from object-detection==0.1) (2.8.0)\n",
            "Requirement already satisfied: tensorflow_io in /usr/local/lib/python3.7/dist-packages (from object-detection==0.1) (0.24.0)\n",
            "Requirement already satisfied: keras in /usr/local/lib/python3.7/dist-packages (from object-detection==0.1) (2.8.0)\n",
            "Requirement already satisfied: google-api-python-client>=1.6.7 in /usr/local/lib/python3.7/dist-packages (from tf-models-official>=2.5.1->object-detection==0.1) (1.12.11)\n",
            "Requirement already satisfied: oauth2client in /usr/local/lib/python3.7/dist-packages (from tf-models-official>=2.5.1->object-detection==0.1) (4.1.3)\n",
            "Requirement already satisfied: opencv-python-headless in /usr/local/lib/python3.7/dist-packages (from tf-models-official>=2.5.1->object-detection==0.1) (4.5.2.52)\n",
            "Requirement already satisfied: sentencepiece in /usr/local/lib/python3.7/dist-packages (from tf-models-official>=2.5.1->object-detection==0.1) (0.1.96)\n",
            "Requirement already satisfied: tensorflow~=2.8.0 in /usr/local/lib/python3.7/dist-packages (from tf-models-official>=2.5.1->object-detection==0.1) (2.8.0)\n",
            "Requirement already satisfied: py-cpuinfo>=3.3.0 in /usr/local/lib/python3.7/dist-packages (from tf-models-official>=2.5.1->object-detection==0.1) (8.0.0)\n",
            "Requirement already satisfied: tensorflow-addons in /usr/local/lib/python3.7/dist-packages (from tf-models-official>=2.5.1->object-detection==0.1) (0.16.1)\n",
            "Requirement already satisfied: numpy>=1.15.4 in /usr/local/lib/python3.7/dist-packages (from tf-models-official>=2.5.1->object-detection==0.1) (1.21.6)\n",
            "Requirement already satisfied: seqeval in /usr/local/lib/python3.7/dist-packages (from tf-models-official>=2.5.1->object-detection==0.1) (1.2.2)\n",
            "Requirement already satisfied: pyyaml<6.0,>=5.1 in /usr/local/lib/python3.7/dist-packages (from tf-models-official>=2.5.1->object-detection==0.1) (5.4.1)\n",
            "Requirement already satisfied: sacrebleu in /usr/local/lib/python3.7/dist-packages (from tf-models-official>=2.5.1->object-detection==0.1) (2.0.0)\n",
            "Requirement already satisfied: tensorflow-hub>=0.6.0 in /usr/local/lib/python3.7/dist-packages (from tf-models-official>=2.5.1->object-detection==0.1) (0.12.0)\n",
            "Requirement already satisfied: tensorflow-model-optimization>=0.4.1 in /usr/local/lib/python3.7/dist-packages (from tf-models-official>=2.5.1->object-detection==0.1) (0.7.2)\n",
            "Requirement already satisfied: tensorflow-text~=2.8.0 in /usr/local/lib/python3.7/dist-packages (from tf-models-official>=2.5.1->object-detection==0.1) (2.8.1)\n",
            "Requirement already satisfied: kaggle>=1.3.9 in /usr/local/lib/python3.7/dist-packages (from tf-models-official>=2.5.1->object-detection==0.1) (1.5.12)\n",
            "Requirement already satisfied: tensorflow-datasets in /usr/local/lib/python3.7/dist-packages (from tf-models-official>=2.5.1->object-detection==0.1) (4.0.1)\n",
            "Requirement already satisfied: gin-config in /usr/local/lib/python3.7/dist-packages (from tf-models-official>=2.5.1->object-detection==0.1) (0.5.0)\n",
            "Requirement already satisfied: psutil>=5.4.3 in /usr/local/lib/python3.7/dist-packages (from tf-models-official>=2.5.1->object-detection==0.1) (5.4.8)\n",
            "Requirement already satisfied: httplib2<1dev,>=0.15.0 in /usr/local/lib/python3.7/dist-packages (from google-api-python-client>=1.6.7->tf-models-official>=2.5.1->object-detection==0.1) (0.17.4)\n",
            "Requirement already satisfied: uritemplate<4dev,>=3.0.0 in /usr/local/lib/python3.7/dist-packages (from google-api-python-client>=1.6.7->tf-models-official>=2.5.1->object-detection==0.1) (3.0.1)\n",
            "Requirement already satisfied: google-auth-httplib2>=0.0.3 in /usr/local/lib/python3.7/dist-packages (from google-api-python-client>=1.6.7->tf-models-official>=2.5.1->object-detection==0.1) (0.0.4)\n",
            "Requirement already satisfied: google-auth<3dev,>=1.16.0 in /usr/local/lib/python3.7/dist-packages (from google-api-python-client>=1.6.7->tf-models-official>=2.5.1->object-detection==0.1) (1.35.0)\n",
            "Requirement already satisfied: google-api-core<3dev,>=1.21.0 in /usr/local/lib/python3.7/dist-packages (from google-api-python-client>=1.6.7->tf-models-official>=2.5.1->object-detection==0.1) (1.31.5)\n",
            "Requirement already satisfied: googleapis-common-protos<2.0dev,>=1.6.0 in /usr/local/lib/python3.7/dist-packages (from google-api-core<3dev,>=1.21.0->google-api-python-client>=1.6.7->tf-models-official>=2.5.1->object-detection==0.1) (1.56.0)\n",
            "Requirement already satisfied: requests<3.0.0dev,>=2.18.0 in /usr/local/lib/python3.7/dist-packages (from google-api-core<3dev,>=1.21.0->google-api-python-client>=1.6.7->tf-models-official>=2.5.1->object-detection==0.1) (2.27.1)\n",
            "Requirement already satisfied: pytz in /usr/local/lib/python3.7/dist-packages (from google-api-core<3dev,>=1.21.0->google-api-python-client>=1.6.7->tf-models-official>=2.5.1->object-detection==0.1) (2022.1)\n",
            "Requirement already satisfied: protobuf>=3.12.0 in /usr/local/lib/python3.7/dist-packages (from google-api-core<3dev,>=1.21.0->google-api-python-client>=1.6.7->tf-models-official>=2.5.1->object-detection==0.1) (3.20.0)\n",
            "Requirement already satisfied: packaging>=14.3 in /usr/local/lib/python3.7/dist-packages (from google-api-core<3dev,>=1.21.0->google-api-python-client>=1.6.7->tf-models-official>=2.5.1->object-detection==0.1) (21.3)\n",
            "Requirement already satisfied: setuptools>=40.3.0 in /usr/local/lib/python3.7/dist-packages (from google-api-core<3dev,>=1.21.0->google-api-python-client>=1.6.7->tf-models-official>=2.5.1->object-detection==0.1) (57.4.0)\n",
            "Requirement already satisfied: rsa<5,>=3.1.4 in /usr/local/lib/python3.7/dist-packages (from google-auth<3dev,>=1.16.0->google-api-python-client>=1.6.7->tf-models-official>=2.5.1->object-detection==0.1) (4.8)\n",
            "Requirement already satisfied: pyasn1-modules>=0.2.1 in /usr/local/lib/python3.7/dist-packages (from google-auth<3dev,>=1.16.0->google-api-python-client>=1.6.7->tf-models-official>=2.5.1->object-detection==0.1) (0.2.8)\n",
            "Requirement already satisfied: cachetools<5.0,>=2.0.0 in /usr/local/lib/python3.7/dist-packages (from google-auth<3dev,>=1.16.0->google-api-python-client>=1.6.7->tf-models-official>=2.5.1->object-detection==0.1) (4.2.4)\n",
            "Requirement already satisfied: certifi in /usr/local/lib/python3.7/dist-packages (from kaggle>=1.3.9->tf-models-official>=2.5.1->object-detection==0.1) (2021.10.8)\n",
            "Requirement already satisfied: python-slugify in /usr/local/lib/python3.7/dist-packages (from kaggle>=1.3.9->tf-models-official>=2.5.1->object-detection==0.1) (6.1.1)\n",
            "Requirement already satisfied: urllib3 in /usr/local/lib/python3.7/dist-packages (from kaggle>=1.3.9->tf-models-official>=2.5.1->object-detection==0.1) (1.24.3)\n",
            "Requirement already satisfied: tqdm in /usr/local/lib/python3.7/dist-packages (from kaggle>=1.3.9->tf-models-official>=2.5.1->object-detection==0.1) (4.64.0)\n",
            "Requirement already satisfied: python-dateutil in /usr/local/lib/python3.7/dist-packages (from kaggle>=1.3.9->tf-models-official>=2.5.1->object-detection==0.1) (2.8.2)\n",
            "Requirement already satisfied: pyparsing!=3.0.5,>=2.0.2 in /usr/local/lib/python3.7/dist-packages (from packaging>=14.3->google-api-core<3dev,>=1.21.0->google-api-python-client>=1.6.7->tf-models-official>=2.5.1->object-detection==0.1) (3.0.8)\n",
            "Requirement already satisfied: pyasn1<0.5.0,>=0.4.6 in /usr/local/lib/python3.7/dist-packages (from pyasn1-modules>=0.2.1->google-auth<3dev,>=1.16.0->google-api-python-client>=1.6.7->tf-models-official>=2.5.1->object-detection==0.1) (0.4.8)\n",
            "Requirement already satisfied: idna<4,>=2.5 in /usr/local/lib/python3.7/dist-packages (from requests<3.0.0dev,>=2.18.0->google-api-core<3dev,>=1.21.0->google-api-python-client>=1.6.7->tf-models-official>=2.5.1->object-detection==0.1) (2.10)\n",
            "Requirement already satisfied: charset-normalizer~=2.0.0 in /usr/local/lib/python3.7/dist-packages (from requests<3.0.0dev,>=2.18.0->google-api-core<3dev,>=1.21.0->google-api-python-client>=1.6.7->tf-models-official>=2.5.1->object-detection==0.1) (2.0.12)\n",
            "Requirement already satisfied: tensorboard<2.9,>=2.8 in /usr/local/lib/python3.7/dist-packages (from tensorflow~=2.8.0->tf-models-official>=2.5.1->object-detection==0.1) (2.8.0)\n",
            "Requirement already satisfied: absl-py>=0.4.0 in /usr/local/lib/python3.7/dist-packages (from tensorflow~=2.8.0->tf-models-official>=2.5.1->object-detection==0.1) (1.0.0)\n",
            "Requirement already satisfied: tensorflow-io-gcs-filesystem>=0.23.1 in /usr/local/lib/python3.7/dist-packages (from tensorflow~=2.8.0->tf-models-official>=2.5.1->object-detection==0.1) (0.24.0)\n",
            "Requirement already satisfied: opt-einsum>=2.3.2 in /usr/local/lib/python3.7/dist-packages (from tensorflow~=2.8.0->tf-models-official>=2.5.1->object-detection==0.1) (3.3.0)\n",
            "Requirement already satisfied: flatbuffers>=1.12 in /usr/local/lib/python3.7/dist-packages (from tensorflow~=2.8.0->tf-models-official>=2.5.1->object-detection==0.1) (2.0)\n",
            "Requirement already satisfied: tf-estimator-nightly==2.8.0.dev2021122109 in /usr/local/lib/python3.7/dist-packages (from tensorflow~=2.8.0->tf-models-official>=2.5.1->object-detection==0.1) (2.8.0.dev2021122109)\n",
            "Requirement already satisfied: gast>=0.2.1 in /usr/local/lib/python3.7/dist-packages (from tensorflow~=2.8.0->tf-models-official>=2.5.1->object-detection==0.1) (0.5.3)\n",
            "Requirement already satisfied: termcolor>=1.1.0 in /usr/local/lib/python3.7/dist-packages (from tensorflow~=2.8.0->tf-models-official>=2.5.1->object-detection==0.1) (1.1.0)\n",
            "Requirement already satisfied: grpcio<2.0,>=1.24.3 in /usr/local/lib/python3.7/dist-packages (from tensorflow~=2.8.0->tf-models-official>=2.5.1->object-detection==0.1) (1.44.0)\n",
            "Requirement already satisfied: google-pasta>=0.1.1 in /usr/local/lib/python3.7/dist-packages (from tensorflow~=2.8.0->tf-models-official>=2.5.1->object-detection==0.1) (0.2.0)\n",
            "Requirement already satisfied: wrapt>=1.11.0 in /usr/local/lib/python3.7/dist-packages (from tensorflow~=2.8.0->tf-models-official>=2.5.1->object-detection==0.1) (1.14.0)\n",
            "Requirement already satisfied: typing-extensions>=3.6.6 in /usr/local/lib/python3.7/dist-packages (from tensorflow~=2.8.0->tf-models-official>=2.5.1->object-detection==0.1) (4.1.1)\n",
            "Requirement already satisfied: libclang>=9.0.1 in /usr/local/lib/python3.7/dist-packages (from tensorflow~=2.8.0->tf-models-official>=2.5.1->object-detection==0.1) (13.0.0)\n",
            "Requirement already satisfied: keras-preprocessing>=1.1.1 in /usr/local/lib/python3.7/dist-packages (from tensorflow~=2.8.0->tf-models-official>=2.5.1->object-detection==0.1) (1.1.2)\n",
            "Requirement already satisfied: h5py>=2.9.0 in /usr/local/lib/python3.7/dist-packages (from tensorflow~=2.8.0->tf-models-official>=2.5.1->object-detection==0.1) (3.1.0)\n",
            "Requirement already satisfied: astunparse>=1.6.0 in /usr/local/lib/python3.7/dist-packages (from tensorflow~=2.8.0->tf-models-official>=2.5.1->object-detection==0.1) (1.6.3)\n",
            "Requirement already satisfied: wheel<1.0,>=0.23.0 in /usr/local/lib/python3.7/dist-packages (from astunparse>=1.6.0->tensorflow~=2.8.0->tf-models-official>=2.5.1->object-detection==0.1) (0.37.1)\n",
            "Requirement already satisfied: cached-property in /usr/local/lib/python3.7/dist-packages (from h5py>=2.9.0->tensorflow~=2.8.0->tf-models-official>=2.5.1->object-detection==0.1) (1.5.2)\n",
            "Requirement already satisfied: tensorboard-data-server<0.7.0,>=0.6.0 in /usr/local/lib/python3.7/dist-packages (from tensorboard<2.9,>=2.8->tensorflow~=2.8.0->tf-models-official>=2.5.1->object-detection==0.1) (0.6.1)\n",
            "Requirement already satisfied: werkzeug>=0.11.15 in /usr/local/lib/python3.7/dist-packages (from tensorboard<2.9,>=2.8->tensorflow~=2.8.0->tf-models-official>=2.5.1->object-detection==0.1) (1.0.1)\n",
            "Requirement already satisfied: markdown>=2.6.8 in /usr/local/lib/python3.7/dist-packages (from tensorboard<2.9,>=2.8->tensorflow~=2.8.0->tf-models-official>=2.5.1->object-detection==0.1) (3.3.6)\n",
            "Requirement already satisfied: tensorboard-plugin-wit>=1.6.0 in /usr/local/lib/python3.7/dist-packages (from tensorboard<2.9,>=2.8->tensorflow~=2.8.0->tf-models-official>=2.5.1->object-detection==0.1) (1.8.1)\n",
            "Requirement already satisfied: google-auth-oauthlib<0.5,>=0.4.1 in /usr/local/lib/python3.7/dist-packages (from tensorboard<2.9,>=2.8->tensorflow~=2.8.0->tf-models-official>=2.5.1->object-detection==0.1) (0.4.6)\n",
            "Requirement already satisfied: requests-oauthlib>=0.7.0 in /usr/local/lib/python3.7/dist-packages (from google-auth-oauthlib<0.5,>=0.4.1->tensorboard<2.9,>=2.8->tensorflow~=2.8.0->tf-models-official>=2.5.1->object-detection==0.1) (1.3.1)\n",
            "Requirement already satisfied: importlib-metadata>=4.4 in /usr/local/lib/python3.7/dist-packages (from markdown>=2.6.8->tensorboard<2.9,>=2.8->tensorflow~=2.8.0->tf-models-official>=2.5.1->object-detection==0.1) (4.11.3)\n",
            "Requirement already satisfied: zipp>=0.5 in /usr/local/lib/python3.7/dist-packages (from importlib-metadata>=4.4->markdown>=2.6.8->tensorboard<2.9,>=2.8->tensorflow~=2.8.0->tf-models-official>=2.5.1->object-detection==0.1) (3.8.0)\n",
            "Requirement already satisfied: oauthlib>=3.0.0 in /usr/local/lib/python3.7/dist-packages (from requests-oauthlib>=0.7.0->google-auth-oauthlib<0.5,>=0.4.1->tensorboard<2.9,>=2.8->tensorflow~=2.8.0->tf-models-official>=2.5.1->object-detection==0.1) (3.2.0)\n",
            "Requirement already satisfied: dm-tree~=0.1.1 in /usr/local/lib/python3.7/dist-packages (from tensorflow-model-optimization>=0.4.1->tf-models-official>=2.5.1->object-detection==0.1) (0.1.7)\n",
            "Requirement already satisfied: orjson<4.0 in /usr/local/lib/python3.7/dist-packages (from apache-beam->object-detection==0.1) (3.6.8)\n",
            "Requirement already satisfied: crcmod<2.0,>=1.7 in /usr/local/lib/python3.7/dist-packages (from apache-beam->object-detection==0.1) (1.7)\n",
            "Requirement already satisfied: pydot<2,>=1.2.0 in /usr/local/lib/python3.7/dist-packages (from apache-beam->object-detection==0.1) (1.3.0)\n",
            "Requirement already satisfied: cloudpickle<3,>=2.0.0 in /usr/local/lib/python3.7/dist-packages (from apache-beam->object-detection==0.1) (2.0.0)\n",
            "Requirement already satisfied: hdfs<3.0.0,>=2.1.0 in /usr/local/lib/python3.7/dist-packages (from apache-beam->object-detection==0.1) (2.7.0)\n",
            "Requirement already satisfied: fastavro<2,>=0.23.6 in /usr/local/lib/python3.7/dist-packages (from apache-beam->object-detection==0.1) (1.4.10)\n",
            "Requirement already satisfied: dill<0.3.2,>=0.3.1.1 in /usr/local/lib/python3.7/dist-packages (from apache-beam->object-detection==0.1) (0.3.1.1)\n",
            "Requirement already satisfied: pymongo<4.0.0,>=3.8.0 in /usr/local/lib/python3.7/dist-packages (from apache-beam->object-detection==0.1) (3.12.3)\n",
            "Requirement already satisfied: proto-plus<2,>=1.7.1 in /usr/local/lib/python3.7/dist-packages (from apache-beam->object-detection==0.1) (1.20.3)\n",
            "Requirement already satisfied: pyarrow<7.0.0,>=0.15.1 in /usr/local/lib/python3.7/dist-packages (from apache-beam->object-detection==0.1) (6.0.1)\n",
            "Requirement already satisfied: docopt in /usr/local/lib/python3.7/dist-packages (from hdfs<3.0.0,>=2.1.0->apache-beam->object-detection==0.1) (0.6.2)\n",
            "Requirement already satisfied: kiwisolver>=1.1.0 in /usr/local/lib/python3.7/dist-packages (from lvis->object-detection==0.1) (1.4.2)\n",
            "Requirement already satisfied: opencv-python>=4.1.0.25 in /usr/local/lib/python3.7/dist-packages (from lvis->object-detection==0.1) (4.1.2.30)\n",
            "Requirement already satisfied: cycler>=0.10.0 in /usr/local/lib/python3.7/dist-packages (from lvis->object-detection==0.1) (0.11.0)\n",
            "Requirement already satisfied: text-unidecode>=1.3 in /usr/local/lib/python3.7/dist-packages (from python-slugify->kaggle>=1.3.9->tf-models-official>=2.5.1->object-detection==0.1) (1.3)\n",
            "Requirement already satisfied: colorama in /usr/local/lib/python3.7/dist-packages (from sacrebleu->tf-models-official>=2.5.1->object-detection==0.1) (0.4.4)\n",
            "Requirement already satisfied: tabulate>=0.8.9 in /usr/local/lib/python3.7/dist-packages (from sacrebleu->tf-models-official>=2.5.1->object-detection==0.1) (0.8.9)\n",
            "Requirement already satisfied: portalocker in /usr/local/lib/python3.7/dist-packages (from sacrebleu->tf-models-official>=2.5.1->object-detection==0.1) (2.4.0)\n",
            "Requirement already satisfied: regex in /usr/local/lib/python3.7/dist-packages (from sacrebleu->tf-models-official>=2.5.1->object-detection==0.1) (2019.12.20)\n",
            "Requirement already satisfied: scikit-learn>=0.21.3 in /usr/local/lib/python3.7/dist-packages (from seqeval->tf-models-official>=2.5.1->object-detection==0.1) (1.0.2)\n",
            "Requirement already satisfied: joblib>=0.11 in /usr/local/lib/python3.7/dist-packages (from scikit-learn>=0.21.3->seqeval->tf-models-official>=2.5.1->object-detection==0.1) (1.1.0)\n",
            "Requirement already satisfied: threadpoolctl>=2.0.0 in /usr/local/lib/python3.7/dist-packages (from scikit-learn>=0.21.3->seqeval->tf-models-official>=2.5.1->object-detection==0.1) (3.1.0)\n",
            "Requirement already satisfied: typeguard>=2.7 in /usr/local/lib/python3.7/dist-packages (from tensorflow-addons->tf-models-official>=2.5.1->object-detection==0.1) (2.7.1)\n",
            "Requirement already satisfied: importlib-resources in /usr/local/lib/python3.7/dist-packages (from tensorflow-datasets->tf-models-official>=2.5.1->object-detection==0.1) (5.7.0)\n",
            "Requirement already satisfied: promise in /usr/local/lib/python3.7/dist-packages (from tensorflow-datasets->tf-models-official>=2.5.1->object-detection==0.1) (2.3)\n",
            "Requirement already satisfied: future in /usr/local/lib/python3.7/dist-packages (from tensorflow-datasets->tf-models-official>=2.5.1->object-detection==0.1) (0.16.0)\n",
            "Requirement already satisfied: attrs>=18.1.0 in /usr/local/lib/python3.7/dist-packages (from tensorflow-datasets->tf-models-official>=2.5.1->object-detection==0.1) (21.4.0)\n",
            "Requirement already satisfied: tensorflow-metadata in /usr/local/lib/python3.7/dist-packages (from tensorflow-datasets->tf-models-official>=2.5.1->object-detection==0.1) (1.7.0)\n",
            "Building wheels for collected packages: object-detection\n",
            "  Building wheel for object-detection (setup.py) ... \u001b[?25l\u001b[?25hdone\n",
            "  Created wheel for object-detection: filename=object_detection-0.1-py3-none-any.whl size=1690985 sha256=379042b93103bd87f73d0b4a42e6bdd5c8a7e7078414c6a7a22b1370e4c648fe\n",
            "  Stored in directory: /tmp/pip-ephem-wheel-cache-ex9_g_hm/wheels/fa/a4/d2/e9a5057e414fd46c8e543d2706cd836d64e1fcd9eccceb2329\n",
            "Successfully built object-detection\n",
            "Installing collected packages: object-detection\n",
            "  Attempting uninstall: object-detection\n",
            "    Found existing installation: object-detection 0.1\n",
            "    Uninstalling object-detection-0.1:\n",
            "      Successfully uninstalled object-detection-0.1\n",
            "Successfully installed object-detection-0.1\n"
          ]
        }
      ]
    },
    {
      "cell_type": "code",
      "source": [
        "# Check Tensorflow version \n",
        "\n",
        "print(tf.__version__)"
      ],
      "metadata": {
        "colab": {
          "base_uri": "https://localhost:8080/"
        },
        "id": "632l_hv7lhOx",
        "outputId": "3b5a7d1b-f43a-4115-d430-7e3075c369f3"
      },
      "execution_count": null,
      "outputs": [
        {
          "output_type": "stream",
          "name": "stdout",
          "text": [
            "2.8.0\n"
          ]
        }
      ]
    },
    {
      "cell_type": "markdown",
      "source": [
        "###Test run the TFOD API"
      ],
      "metadata": {
        "id": "JrX9itNrlzFQ"
      }
    },
    {
      "cell_type": "code",
      "source": [
        "!python object_detection/builders/model_builder_tf2_test.py"
      ],
      "metadata": {
        "colab": {
          "base_uri": "https://localhost:8080/"
        },
        "id": "NVOB3g_TlwbZ",
        "outputId": "41b450ae-3352-4f08-a712-cee0f6a6b638"
      },
      "execution_count": null,
      "outputs": [
        {
          "output_type": "stream",
          "name": "stdout",
          "text": [
            "Running tests under Python 3.7.13: /usr/bin/python3\n",
            "[ RUN      ] ModelBuilderTF2Test.test_create_center_net_deepmac\n",
            "2022-04-20 04:03:45.242643: W tensorflow/core/common_runtime/gpu/gpu_bfc_allocator.cc:39] Overriding allow_growth setting because the TF_FORCE_GPU_ALLOW_GROWTH environment variable is set. Original config value was 0.\n",
            "W0420 04:03:45.462156 140416010540928 model_builder.py:1102] Building experimental DeepMAC meta-arch. Some features may be omitted.\n",
            "INFO:tensorflow:time(__main__.ModelBuilderTF2Test.test_create_center_net_deepmac): 1.15s\n",
            "I0420 04:03:45.829509 140416010540928 test_util.py:2374] time(__main__.ModelBuilderTF2Test.test_create_center_net_deepmac): 1.15s\n",
            "[       OK ] ModelBuilderTF2Test.test_create_center_net_deepmac\n",
            "[ RUN      ] ModelBuilderTF2Test.test_create_center_net_model0 (customize_head_params=True)\n",
            "INFO:tensorflow:time(__main__.ModelBuilderTF2Test.test_create_center_net_model0 (customize_head_params=True)): 0.52s\n",
            "I0420 04:03:46.350820 140416010540928 test_util.py:2374] time(__main__.ModelBuilderTF2Test.test_create_center_net_model0 (customize_head_params=True)): 0.52s\n",
            "[       OK ] ModelBuilderTF2Test.test_create_center_net_model0 (customize_head_params=True)\n",
            "[ RUN      ] ModelBuilderTF2Test.test_create_center_net_model1 (customize_head_params=False)\n",
            "INFO:tensorflow:time(__main__.ModelBuilderTF2Test.test_create_center_net_model1 (customize_head_params=False)): 0.25s\n",
            "I0420 04:03:46.597937 140416010540928 test_util.py:2374] time(__main__.ModelBuilderTF2Test.test_create_center_net_model1 (customize_head_params=False)): 0.25s\n",
            "[       OK ] ModelBuilderTF2Test.test_create_center_net_model1 (customize_head_params=False)\n",
            "[ RUN      ] ModelBuilderTF2Test.test_create_center_net_model_from_keypoints\n",
            "INFO:tensorflow:time(__main__.ModelBuilderTF2Test.test_create_center_net_model_from_keypoints): 0.23s\n",
            "I0420 04:03:46.830961 140416010540928 test_util.py:2374] time(__main__.ModelBuilderTF2Test.test_create_center_net_model_from_keypoints): 0.23s\n",
            "[       OK ] ModelBuilderTF2Test.test_create_center_net_model_from_keypoints\n",
            "[ RUN      ] ModelBuilderTF2Test.test_create_center_net_model_mobilenet\n",
            "INFO:tensorflow:time(__main__.ModelBuilderTF2Test.test_create_center_net_model_mobilenet): 1.63s\n",
            "I0420 04:03:48.462675 140416010540928 test_util.py:2374] time(__main__.ModelBuilderTF2Test.test_create_center_net_model_mobilenet): 1.63s\n",
            "[       OK ] ModelBuilderTF2Test.test_create_center_net_model_mobilenet\n",
            "[ RUN      ] ModelBuilderTF2Test.test_create_experimental_model\n",
            "INFO:tensorflow:time(__main__.ModelBuilderTF2Test.test_create_experimental_model): 0.0s\n",
            "I0420 04:03:48.463589 140416010540928 test_util.py:2374] time(__main__.ModelBuilderTF2Test.test_create_experimental_model): 0.0s\n",
            "[       OK ] ModelBuilderTF2Test.test_create_experimental_model\n",
            "[ RUN      ] ModelBuilderTF2Test.test_create_faster_rcnn_from_config_with_crop_feature0 (True)\n",
            "INFO:tensorflow:time(__main__.ModelBuilderTF2Test.test_create_faster_rcnn_from_config_with_crop_feature0 (True)): 0.02s\n",
            "I0420 04:03:48.484769 140416010540928 test_util.py:2374] time(__main__.ModelBuilderTF2Test.test_create_faster_rcnn_from_config_with_crop_feature0 (True)): 0.02s\n",
            "[       OK ] ModelBuilderTF2Test.test_create_faster_rcnn_from_config_with_crop_feature0 (True)\n",
            "[ RUN      ] ModelBuilderTF2Test.test_create_faster_rcnn_from_config_with_crop_feature1 (False)\n",
            "INFO:tensorflow:time(__main__.ModelBuilderTF2Test.test_create_faster_rcnn_from_config_with_crop_feature1 (False)): 0.01s\n",
            "I0420 04:03:48.498287 140416010540928 test_util.py:2374] time(__main__.ModelBuilderTF2Test.test_create_faster_rcnn_from_config_with_crop_feature1 (False)): 0.01s\n",
            "[       OK ] ModelBuilderTF2Test.test_create_faster_rcnn_from_config_with_crop_feature1 (False)\n",
            "[ RUN      ] ModelBuilderTF2Test.test_create_faster_rcnn_model_from_config_with_example_miner\n",
            "INFO:tensorflow:time(__main__.ModelBuilderTF2Test.test_create_faster_rcnn_model_from_config_with_example_miner): 0.01s\n",
            "I0420 04:03:48.512454 140416010540928 test_util.py:2374] time(__main__.ModelBuilderTF2Test.test_create_faster_rcnn_model_from_config_with_example_miner): 0.01s\n",
            "[       OK ] ModelBuilderTF2Test.test_create_faster_rcnn_model_from_config_with_example_miner\n",
            "[ RUN      ] ModelBuilderTF2Test.test_create_faster_rcnn_models_from_config_faster_rcnn_with_matmul\n",
            "INFO:tensorflow:time(__main__.ModelBuilderTF2Test.test_create_faster_rcnn_models_from_config_faster_rcnn_with_matmul): 0.09s\n",
            "I0420 04:03:48.603660 140416010540928 test_util.py:2374] time(__main__.ModelBuilderTF2Test.test_create_faster_rcnn_models_from_config_faster_rcnn_with_matmul): 0.09s\n",
            "[       OK ] ModelBuilderTF2Test.test_create_faster_rcnn_models_from_config_faster_rcnn_with_matmul\n",
            "[ RUN      ] ModelBuilderTF2Test.test_create_faster_rcnn_models_from_config_faster_rcnn_without_matmul\n",
            "INFO:tensorflow:time(__main__.ModelBuilderTF2Test.test_create_faster_rcnn_models_from_config_faster_rcnn_without_matmul): 0.09s\n",
            "I0420 04:03:48.689460 140416010540928 test_util.py:2374] time(__main__.ModelBuilderTF2Test.test_create_faster_rcnn_models_from_config_faster_rcnn_without_matmul): 0.09s\n",
            "[       OK ] ModelBuilderTF2Test.test_create_faster_rcnn_models_from_config_faster_rcnn_without_matmul\n",
            "[ RUN      ] ModelBuilderTF2Test.test_create_faster_rcnn_models_from_config_mask_rcnn_with_matmul\n",
            "INFO:tensorflow:time(__main__.ModelBuilderTF2Test.test_create_faster_rcnn_models_from_config_mask_rcnn_with_matmul): 0.09s\n",
            "I0420 04:03:48.782325 140416010540928 test_util.py:2374] time(__main__.ModelBuilderTF2Test.test_create_faster_rcnn_models_from_config_mask_rcnn_with_matmul): 0.09s\n",
            "[       OK ] ModelBuilderTF2Test.test_create_faster_rcnn_models_from_config_mask_rcnn_with_matmul\n",
            "[ RUN      ] ModelBuilderTF2Test.test_create_faster_rcnn_models_from_config_mask_rcnn_without_matmul\n",
            "INFO:tensorflow:time(__main__.ModelBuilderTF2Test.test_create_faster_rcnn_models_from_config_mask_rcnn_without_matmul): 0.09s\n",
            "I0420 04:03:48.871772 140416010540928 test_util.py:2374] time(__main__.ModelBuilderTF2Test.test_create_faster_rcnn_models_from_config_mask_rcnn_without_matmul): 0.09s\n",
            "[       OK ] ModelBuilderTF2Test.test_create_faster_rcnn_models_from_config_mask_rcnn_without_matmul\n",
            "[ RUN      ] ModelBuilderTF2Test.test_create_rfcn_model_from_config\n",
            "INFO:tensorflow:time(__main__.ModelBuilderTF2Test.test_create_rfcn_model_from_config): 0.09s\n",
            "I0420 04:03:48.958000 140416010540928 test_util.py:2374] time(__main__.ModelBuilderTF2Test.test_create_rfcn_model_from_config): 0.09s\n",
            "[       OK ] ModelBuilderTF2Test.test_create_rfcn_model_from_config\n",
            "[ RUN      ] ModelBuilderTF2Test.test_create_ssd_fpn_model_from_config\n",
            "INFO:tensorflow:time(__main__.ModelBuilderTF2Test.test_create_ssd_fpn_model_from_config): 0.03s\n",
            "I0420 04:03:48.984400 140416010540928 test_util.py:2374] time(__main__.ModelBuilderTF2Test.test_create_ssd_fpn_model_from_config): 0.03s\n",
            "[       OK ] ModelBuilderTF2Test.test_create_ssd_fpn_model_from_config\n",
            "[ RUN      ] ModelBuilderTF2Test.test_create_ssd_models_from_config\n",
            "I0420 04:03:49.155853 140416010540928 ssd_efficientnet_bifpn_feature_extractor.py:146] EfficientDet EfficientNet backbone version: efficientnet-b0\n",
            "I0420 04:03:49.156007 140416010540928 ssd_efficientnet_bifpn_feature_extractor.py:147] EfficientDet BiFPN num filters: 64\n",
            "I0420 04:03:49.156083 140416010540928 ssd_efficientnet_bifpn_feature_extractor.py:149] EfficientDet BiFPN num iterations: 3\n",
            "I0420 04:03:49.158144 140416010540928 efficientnet_model.py:144] round_filter input=32 output=32\n",
            "I0420 04:03:49.172960 140416010540928 efficientnet_model.py:144] round_filter input=32 output=32\n",
            "I0420 04:03:49.173074 140416010540928 efficientnet_model.py:144] round_filter input=16 output=16\n",
            "I0420 04:03:49.227698 140416010540928 efficientnet_model.py:144] round_filter input=16 output=16\n",
            "I0420 04:03:49.227848 140416010540928 efficientnet_model.py:144] round_filter input=24 output=24\n",
            "I0420 04:03:49.363502 140416010540928 efficientnet_model.py:144] round_filter input=24 output=24\n",
            "I0420 04:03:49.363670 140416010540928 efficientnet_model.py:144] round_filter input=40 output=40\n",
            "I0420 04:03:49.506876 140416010540928 efficientnet_model.py:144] round_filter input=40 output=40\n",
            "I0420 04:03:49.507037 140416010540928 efficientnet_model.py:144] round_filter input=80 output=80\n",
            "I0420 04:03:49.713970 140416010540928 efficientnet_model.py:144] round_filter input=80 output=80\n",
            "I0420 04:03:49.714147 140416010540928 efficientnet_model.py:144] round_filter input=112 output=112\n",
            "I0420 04:03:49.926490 140416010540928 efficientnet_model.py:144] round_filter input=112 output=112\n",
            "I0420 04:03:49.926659 140416010540928 efficientnet_model.py:144] round_filter input=192 output=192\n",
            "I0420 04:03:50.362597 140416010540928 efficientnet_model.py:144] round_filter input=192 output=192\n",
            "I0420 04:03:50.362781 140416010540928 efficientnet_model.py:144] round_filter input=320 output=320\n",
            "I0420 04:03:50.429180 140416010540928 efficientnet_model.py:144] round_filter input=1280 output=1280\n",
            "I0420 04:03:50.456094 140416010540928 efficientnet_model.py:454] Building model efficientnet with params ModelConfig(width_coefficient=1.0, depth_coefficient=1.0, resolution=224, dropout_rate=0.2, blocks=(BlockConfig(input_filters=32, output_filters=16, kernel_size=3, num_repeat=1, expand_ratio=1, strides=(1, 1), se_ratio=0.25, id_skip=True, fused_conv=False, conv_type='depthwise'), BlockConfig(input_filters=16, output_filters=24, kernel_size=3, num_repeat=2, expand_ratio=6, strides=(2, 2), se_ratio=0.25, id_skip=True, fused_conv=False, conv_type='depthwise'), BlockConfig(input_filters=24, output_filters=40, kernel_size=5, num_repeat=2, expand_ratio=6, strides=(2, 2), se_ratio=0.25, id_skip=True, fused_conv=False, conv_type='depthwise'), BlockConfig(input_filters=40, output_filters=80, kernel_size=3, num_repeat=3, expand_ratio=6, strides=(2, 2), se_ratio=0.25, id_skip=True, fused_conv=False, conv_type='depthwise'), BlockConfig(input_filters=80, output_filters=112, kernel_size=5, num_repeat=3, expand_ratio=6, strides=(1, 1), se_ratio=0.25, id_skip=True, fused_conv=False, conv_type='depthwise'), BlockConfig(input_filters=112, output_filters=192, kernel_size=5, num_repeat=4, expand_ratio=6, strides=(2, 2), se_ratio=0.25, id_skip=True, fused_conv=False, conv_type='depthwise'), BlockConfig(input_filters=192, output_filters=320, kernel_size=3, num_repeat=1, expand_ratio=6, strides=(1, 1), se_ratio=0.25, id_skip=True, fused_conv=False, conv_type='depthwise')), stem_base_filters=32, top_base_filters=1280, activation='simple_swish', batch_norm='default', bn_momentum=0.99, bn_epsilon=0.001, weight_decay=5e-06, drop_connect_rate=0.2, depth_divisor=8, min_depth=None, use_se=True, input_channels=3, num_classes=1000, model_name='efficientnet', rescale_input=False, data_format='channels_last', dtype='float32')\n",
            "I0420 04:03:50.505170 140416010540928 ssd_efficientnet_bifpn_feature_extractor.py:146] EfficientDet EfficientNet backbone version: efficientnet-b1\n",
            "I0420 04:03:50.505331 140416010540928 ssd_efficientnet_bifpn_feature_extractor.py:147] EfficientDet BiFPN num filters: 88\n",
            "I0420 04:03:50.505402 140416010540928 ssd_efficientnet_bifpn_feature_extractor.py:149] EfficientDet BiFPN num iterations: 4\n",
            "I0420 04:03:50.506992 140416010540928 efficientnet_model.py:144] round_filter input=32 output=32\n",
            "I0420 04:03:50.520778 140416010540928 efficientnet_model.py:144] round_filter input=32 output=32\n",
            "I0420 04:03:50.520884 140416010540928 efficientnet_model.py:144] round_filter input=16 output=16\n",
            "I0420 04:03:50.628398 140416010540928 efficientnet_model.py:144] round_filter input=16 output=16\n",
            "I0420 04:03:50.628571 140416010540928 efficientnet_model.py:144] round_filter input=24 output=24\n",
            "I0420 04:03:50.837042 140416010540928 efficientnet_model.py:144] round_filter input=24 output=24\n",
            "I0420 04:03:50.837226 140416010540928 efficientnet_model.py:144] round_filter input=40 output=40\n",
            "I0420 04:03:51.042720 140416010540928 efficientnet_model.py:144] round_filter input=40 output=40\n",
            "I0420 04:03:51.042928 140416010540928 efficientnet_model.py:144] round_filter input=80 output=80\n",
            "I0420 04:03:51.332802 140416010540928 efficientnet_model.py:144] round_filter input=80 output=80\n",
            "I0420 04:03:51.332969 140416010540928 efficientnet_model.py:144] round_filter input=112 output=112\n",
            "I0420 04:03:51.604127 140416010540928 efficientnet_model.py:144] round_filter input=112 output=112\n",
            "I0420 04:03:51.604292 140416010540928 efficientnet_model.py:144] round_filter input=192 output=192\n",
            "I0420 04:03:51.946383 140416010540928 efficientnet_model.py:144] round_filter input=192 output=192\n",
            "I0420 04:03:51.946551 140416010540928 efficientnet_model.py:144] round_filter input=320 output=320\n",
            "I0420 04:03:52.076529 140416010540928 efficientnet_model.py:144] round_filter input=1280 output=1280\n",
            "I0420 04:03:52.102370 140416010540928 efficientnet_model.py:454] Building model efficientnet with params ModelConfig(width_coefficient=1.0, depth_coefficient=1.1, resolution=240, dropout_rate=0.2, blocks=(BlockConfig(input_filters=32, output_filters=16, kernel_size=3, num_repeat=1, expand_ratio=1, strides=(1, 1), se_ratio=0.25, id_skip=True, fused_conv=False, conv_type='depthwise'), BlockConfig(input_filters=16, output_filters=24, kernel_size=3, num_repeat=2, expand_ratio=6, strides=(2, 2), se_ratio=0.25, id_skip=True, fused_conv=False, conv_type='depthwise'), BlockConfig(input_filters=24, output_filters=40, kernel_size=5, num_repeat=2, expand_ratio=6, strides=(2, 2), se_ratio=0.25, id_skip=True, fused_conv=False, conv_type='depthwise'), BlockConfig(input_filters=40, output_filters=80, kernel_size=3, num_repeat=3, expand_ratio=6, strides=(2, 2), se_ratio=0.25, id_skip=True, fused_conv=False, conv_type='depthwise'), BlockConfig(input_filters=80, output_filters=112, kernel_size=5, num_repeat=3, expand_ratio=6, strides=(1, 1), se_ratio=0.25, id_skip=True, fused_conv=False, conv_type='depthwise'), BlockConfig(input_filters=112, output_filters=192, kernel_size=5, num_repeat=4, expand_ratio=6, strides=(2, 2), se_ratio=0.25, id_skip=True, fused_conv=False, conv_type='depthwise'), BlockConfig(input_filters=192, output_filters=320, kernel_size=3, num_repeat=1, expand_ratio=6, strides=(1, 1), se_ratio=0.25, id_skip=True, fused_conv=False, conv_type='depthwise')), stem_base_filters=32, top_base_filters=1280, activation='simple_swish', batch_norm='default', bn_momentum=0.99, bn_epsilon=0.001, weight_decay=5e-06, drop_connect_rate=0.2, depth_divisor=8, min_depth=None, use_se=True, input_channels=3, num_classes=1000, model_name='efficientnet', rescale_input=False, data_format='channels_last', dtype='float32')\n",
            "I0420 04:03:52.160295 140416010540928 ssd_efficientnet_bifpn_feature_extractor.py:146] EfficientDet EfficientNet backbone version: efficientnet-b2\n",
            "I0420 04:03:52.160434 140416010540928 ssd_efficientnet_bifpn_feature_extractor.py:147] EfficientDet BiFPN num filters: 112\n",
            "I0420 04:03:52.160509 140416010540928 ssd_efficientnet_bifpn_feature_extractor.py:149] EfficientDet BiFPN num iterations: 5\n",
            "I0420 04:03:52.162251 140416010540928 efficientnet_model.py:144] round_filter input=32 output=32\n",
            "I0420 04:03:52.183121 140416010540928 efficientnet_model.py:144] round_filter input=32 output=32\n",
            "I0420 04:03:52.183273 140416010540928 efficientnet_model.py:144] round_filter input=16 output=16\n",
            "I0420 04:03:52.293307 140416010540928 efficientnet_model.py:144] round_filter input=16 output=16\n",
            "I0420 04:03:52.293466 140416010540928 efficientnet_model.py:144] round_filter input=24 output=24\n",
            "I0420 04:03:52.499964 140416010540928 efficientnet_model.py:144] round_filter input=24 output=24\n",
            "I0420 04:03:52.500127 140416010540928 efficientnet_model.py:144] round_filter input=40 output=48\n",
            "I0420 04:03:52.704781 140416010540928 efficientnet_model.py:144] round_filter input=40 output=48\n",
            "I0420 04:03:52.704943 140416010540928 efficientnet_model.py:144] round_filter input=80 output=88\n",
            "I0420 04:03:52.989897 140416010540928 efficientnet_model.py:144] round_filter input=80 output=88\n",
            "I0420 04:03:52.990063 140416010540928 efficientnet_model.py:144] round_filter input=112 output=120\n",
            "I0420 04:03:53.264114 140416010540928 efficientnet_model.py:144] round_filter input=112 output=120\n",
            "I0420 04:03:53.264279 140416010540928 efficientnet_model.py:144] round_filter input=192 output=208\n",
            "I0420 04:03:53.602961 140416010540928 efficientnet_model.py:144] round_filter input=192 output=208\n",
            "I0420 04:03:53.603135 140416010540928 efficientnet_model.py:144] round_filter input=320 output=352\n",
            "I0420 04:03:53.736789 140416010540928 efficientnet_model.py:144] round_filter input=1280 output=1408\n",
            "I0420 04:03:53.765609 140416010540928 efficientnet_model.py:454] Building model efficientnet with params ModelConfig(width_coefficient=1.1, depth_coefficient=1.2, resolution=260, dropout_rate=0.3, blocks=(BlockConfig(input_filters=32, output_filters=16, kernel_size=3, num_repeat=1, expand_ratio=1, strides=(1, 1), se_ratio=0.25, id_skip=True, fused_conv=False, conv_type='depthwise'), BlockConfig(input_filters=16, output_filters=24, kernel_size=3, num_repeat=2, expand_ratio=6, strides=(2, 2), se_ratio=0.25, id_skip=True, fused_conv=False, conv_type='depthwise'), BlockConfig(input_filters=24, output_filters=40, kernel_size=5, num_repeat=2, expand_ratio=6, strides=(2, 2), se_ratio=0.25, id_skip=True, fused_conv=False, conv_type='depthwise'), BlockConfig(input_filters=40, output_filters=80, kernel_size=3, num_repeat=3, expand_ratio=6, strides=(2, 2), se_ratio=0.25, id_skip=True, fused_conv=False, conv_type='depthwise'), BlockConfig(input_filters=80, output_filters=112, kernel_size=5, num_repeat=3, expand_ratio=6, strides=(1, 1), se_ratio=0.25, id_skip=True, fused_conv=False, conv_type='depthwise'), BlockConfig(input_filters=112, output_filters=192, kernel_size=5, num_repeat=4, expand_ratio=6, strides=(2, 2), se_ratio=0.25, id_skip=True, fused_conv=False, conv_type='depthwise'), BlockConfig(input_filters=192, output_filters=320, kernel_size=3, num_repeat=1, expand_ratio=6, strides=(1, 1), se_ratio=0.25, id_skip=True, fused_conv=False, conv_type='depthwise')), stem_base_filters=32, top_base_filters=1280, activation='simple_swish', batch_norm='default', bn_momentum=0.99, bn_epsilon=0.001, weight_decay=5e-06, drop_connect_rate=0.2, depth_divisor=8, min_depth=None, use_se=True, input_channels=3, num_classes=1000, model_name='efficientnet', rescale_input=False, data_format='channels_last', dtype='float32')\n",
            "I0420 04:03:53.828162 140416010540928 ssd_efficientnet_bifpn_feature_extractor.py:146] EfficientDet EfficientNet backbone version: efficientnet-b3\n",
            "I0420 04:03:53.828308 140416010540928 ssd_efficientnet_bifpn_feature_extractor.py:147] EfficientDet BiFPN num filters: 160\n",
            "I0420 04:03:53.828385 140416010540928 ssd_efficientnet_bifpn_feature_extractor.py:149] EfficientDet BiFPN num iterations: 6\n",
            "I0420 04:03:53.829958 140416010540928 efficientnet_model.py:144] round_filter input=32 output=40\n",
            "I0420 04:03:53.844360 140416010540928 efficientnet_model.py:144] round_filter input=32 output=40\n",
            "I0420 04:03:53.844470 140416010540928 efficientnet_model.py:144] round_filter input=16 output=24\n",
            "I0420 04:03:54.151996 140416010540928 efficientnet_model.py:144] round_filter input=16 output=24\n",
            "I0420 04:03:54.152161 140416010540928 efficientnet_model.py:144] round_filter input=24 output=32\n",
            "I0420 04:03:54.376145 140416010540928 efficientnet_model.py:144] round_filter input=24 output=32\n",
            "I0420 04:03:54.376326 140416010540928 efficientnet_model.py:144] round_filter input=40 output=48\n",
            "I0420 04:03:54.578241 140416010540928 efficientnet_model.py:144] round_filter input=40 output=48\n",
            "I0420 04:03:54.578412 140416010540928 efficientnet_model.py:144] round_filter input=80 output=96\n",
            "I0420 04:03:54.920744 140416010540928 efficientnet_model.py:144] round_filter input=80 output=96\n",
            "I0420 04:03:54.920918 140416010540928 efficientnet_model.py:144] round_filter input=112 output=136\n",
            "I0420 04:03:55.269609 140416010540928 efficientnet_model.py:144] round_filter input=112 output=136\n",
            "I0420 04:03:55.269793 140416010540928 efficientnet_model.py:144] round_filter input=192 output=232\n",
            "I0420 04:03:55.685232 140416010540928 efficientnet_model.py:144] round_filter input=192 output=232\n",
            "I0420 04:03:55.685406 140416010540928 efficientnet_model.py:144] round_filter input=320 output=384\n",
            "I0420 04:03:55.817886 140416010540928 efficientnet_model.py:144] round_filter input=1280 output=1536\n",
            "I0420 04:03:55.847124 140416010540928 efficientnet_model.py:454] Building model efficientnet with params ModelConfig(width_coefficient=1.2, depth_coefficient=1.4, resolution=300, dropout_rate=0.3, blocks=(BlockConfig(input_filters=32, output_filters=16, kernel_size=3, num_repeat=1, expand_ratio=1, strides=(1, 1), se_ratio=0.25, id_skip=True, fused_conv=False, conv_type='depthwise'), BlockConfig(input_filters=16, output_filters=24, kernel_size=3, num_repeat=2, expand_ratio=6, strides=(2, 2), se_ratio=0.25, id_skip=True, fused_conv=False, conv_type='depthwise'), BlockConfig(input_filters=24, output_filters=40, kernel_size=5, num_repeat=2, expand_ratio=6, strides=(2, 2), se_ratio=0.25, id_skip=True, fused_conv=False, conv_type='depthwise'), BlockConfig(input_filters=40, output_filters=80, kernel_size=3, num_repeat=3, expand_ratio=6, strides=(2, 2), se_ratio=0.25, id_skip=True, fused_conv=False, conv_type='depthwise'), BlockConfig(input_filters=80, output_filters=112, kernel_size=5, num_repeat=3, expand_ratio=6, strides=(1, 1), se_ratio=0.25, id_skip=True, fused_conv=False, conv_type='depthwise'), BlockConfig(input_filters=112, output_filters=192, kernel_size=5, num_repeat=4, expand_ratio=6, strides=(2, 2), se_ratio=0.25, id_skip=True, fused_conv=False, conv_type='depthwise'), BlockConfig(input_filters=192, output_filters=320, kernel_size=3, num_repeat=1, expand_ratio=6, strides=(1, 1), se_ratio=0.25, id_skip=True, fused_conv=False, conv_type='depthwise')), stem_base_filters=32, top_base_filters=1280, activation='simple_swish', batch_norm='default', bn_momentum=0.99, bn_epsilon=0.001, weight_decay=5e-06, drop_connect_rate=0.2, depth_divisor=8, min_depth=None, use_se=True, input_channels=3, num_classes=1000, model_name='efficientnet', rescale_input=False, data_format='channels_last', dtype='float32')\n",
            "I0420 04:03:55.906801 140416010540928 ssd_efficientnet_bifpn_feature_extractor.py:146] EfficientDet EfficientNet backbone version: efficientnet-b4\n",
            "I0420 04:03:55.906955 140416010540928 ssd_efficientnet_bifpn_feature_extractor.py:147] EfficientDet BiFPN num filters: 224\n",
            "I0420 04:03:55.907040 140416010540928 ssd_efficientnet_bifpn_feature_extractor.py:149] EfficientDet BiFPN num iterations: 7\n",
            "I0420 04:03:55.908529 140416010540928 efficientnet_model.py:144] round_filter input=32 output=48\n",
            "I0420 04:03:55.923360 140416010540928 efficientnet_model.py:144] round_filter input=32 output=48\n",
            "I0420 04:03:55.923468 140416010540928 efficientnet_model.py:144] round_filter input=16 output=24\n",
            "I0420 04:03:56.032860 140416010540928 efficientnet_model.py:144] round_filter input=16 output=24\n",
            "I0420 04:03:56.032994 140416010540928 efficientnet_model.py:144] round_filter input=24 output=32\n",
            "I0420 04:03:56.331006 140416010540928 efficientnet_model.py:144] round_filter input=24 output=32\n",
            "I0420 04:03:56.331173 140416010540928 efficientnet_model.py:144] round_filter input=40 output=56\n",
            "I0420 04:03:56.610793 140416010540928 efficientnet_model.py:144] round_filter input=40 output=56\n",
            "I0420 04:03:56.610950 140416010540928 efficientnet_model.py:144] round_filter input=80 output=112\n",
            "I0420 04:03:57.022352 140416010540928 efficientnet_model.py:144] round_filter input=80 output=112\n",
            "I0420 04:03:57.022524 140416010540928 efficientnet_model.py:144] round_filter input=112 output=160\n",
            "I0420 04:03:57.440624 140416010540928 efficientnet_model.py:144] round_filter input=112 output=160\n",
            "I0420 04:03:57.440809 140416010540928 efficientnet_model.py:144] round_filter input=192 output=272\n",
            "I0420 04:03:57.994062 140416010540928 efficientnet_model.py:144] round_filter input=192 output=272\n",
            "I0420 04:03:57.994241 140416010540928 efficientnet_model.py:144] round_filter input=320 output=448\n",
            "I0420 04:03:58.126900 140416010540928 efficientnet_model.py:144] round_filter input=1280 output=1792\n",
            "I0420 04:03:58.151832 140416010540928 efficientnet_model.py:454] Building model efficientnet with params ModelConfig(width_coefficient=1.4, depth_coefficient=1.8, resolution=380, dropout_rate=0.4, blocks=(BlockConfig(input_filters=32, output_filters=16, kernel_size=3, num_repeat=1, expand_ratio=1, strides=(1, 1), se_ratio=0.25, id_skip=True, fused_conv=False, conv_type='depthwise'), BlockConfig(input_filters=16, output_filters=24, kernel_size=3, num_repeat=2, expand_ratio=6, strides=(2, 2), se_ratio=0.25, id_skip=True, fused_conv=False, conv_type='depthwise'), BlockConfig(input_filters=24, output_filters=40, kernel_size=5, num_repeat=2, expand_ratio=6, strides=(2, 2), se_ratio=0.25, id_skip=True, fused_conv=False, conv_type='depthwise'), BlockConfig(input_filters=40, output_filters=80, kernel_size=3, num_repeat=3, expand_ratio=6, strides=(2, 2), se_ratio=0.25, id_skip=True, fused_conv=False, conv_type='depthwise'), BlockConfig(input_filters=80, output_filters=112, kernel_size=5, num_repeat=3, expand_ratio=6, strides=(1, 1), se_ratio=0.25, id_skip=True, fused_conv=False, conv_type='depthwise'), BlockConfig(input_filters=112, output_filters=192, kernel_size=5, num_repeat=4, expand_ratio=6, strides=(2, 2), se_ratio=0.25, id_skip=True, fused_conv=False, conv_type='depthwise'), BlockConfig(input_filters=192, output_filters=320, kernel_size=3, num_repeat=1, expand_ratio=6, strides=(1, 1), se_ratio=0.25, id_skip=True, fused_conv=False, conv_type='depthwise')), stem_base_filters=32, top_base_filters=1280, activation='simple_swish', batch_norm='default', bn_momentum=0.99, bn_epsilon=0.001, weight_decay=5e-06, drop_connect_rate=0.2, depth_divisor=8, min_depth=None, use_se=True, input_channels=3, num_classes=1000, model_name='efficientnet', rescale_input=False, data_format='channels_last', dtype='float32')\n",
            "I0420 04:03:58.419466 140416010540928 ssd_efficientnet_bifpn_feature_extractor.py:146] EfficientDet EfficientNet backbone version: efficientnet-b5\n",
            "I0420 04:03:58.419637 140416010540928 ssd_efficientnet_bifpn_feature_extractor.py:147] EfficientDet BiFPN num filters: 288\n",
            "I0420 04:03:58.419721 140416010540928 ssd_efficientnet_bifpn_feature_extractor.py:149] EfficientDet BiFPN num iterations: 7\n",
            "I0420 04:03:58.421458 140416010540928 efficientnet_model.py:144] round_filter input=32 output=48\n",
            "I0420 04:03:58.435670 140416010540928 efficientnet_model.py:144] round_filter input=32 output=48\n",
            "I0420 04:03:58.435796 140416010540928 efficientnet_model.py:144] round_filter input=16 output=24\n",
            "I0420 04:03:58.599389 140416010540928 efficientnet_model.py:144] round_filter input=16 output=24\n",
            "I0420 04:03:58.599546 140416010540928 efficientnet_model.py:144] round_filter input=24 output=40\n",
            "I0420 04:03:58.946065 140416010540928 efficientnet_model.py:144] round_filter input=24 output=40\n",
            "I0420 04:03:58.946249 140416010540928 efficientnet_model.py:144] round_filter input=40 output=64\n",
            "I0420 04:03:59.290053 140416010540928 efficientnet_model.py:144] round_filter input=40 output=64\n",
            "I0420 04:03:59.290224 140416010540928 efficientnet_model.py:144] round_filter input=80 output=128\n",
            "I0420 04:03:59.775287 140416010540928 efficientnet_model.py:144] round_filter input=80 output=128\n",
            "I0420 04:03:59.775449 140416010540928 efficientnet_model.py:144] round_filter input=112 output=176\n",
            "I0420 04:04:00.263586 140416010540928 efficientnet_model.py:144] round_filter input=112 output=176\n",
            "I0420 04:04:00.263765 140416010540928 efficientnet_model.py:144] round_filter input=192 output=304\n",
            "I0420 04:04:00.884997 140416010540928 efficientnet_model.py:144] round_filter input=192 output=304\n",
            "I0420 04:04:00.885171 140416010540928 efficientnet_model.py:144] round_filter input=320 output=512\n",
            "I0420 04:04:01.089859 140416010540928 efficientnet_model.py:144] round_filter input=1280 output=2048\n",
            "I0420 04:04:01.117295 140416010540928 efficientnet_model.py:454] Building model efficientnet with params ModelConfig(width_coefficient=1.6, depth_coefficient=2.2, resolution=456, dropout_rate=0.4, blocks=(BlockConfig(input_filters=32, output_filters=16, kernel_size=3, num_repeat=1, expand_ratio=1, strides=(1, 1), se_ratio=0.25, id_skip=True, fused_conv=False, conv_type='depthwise'), BlockConfig(input_filters=16, output_filters=24, kernel_size=3, num_repeat=2, expand_ratio=6, strides=(2, 2), se_ratio=0.25, id_skip=True, fused_conv=False, conv_type='depthwise'), BlockConfig(input_filters=24, output_filters=40, kernel_size=5, num_repeat=2, expand_ratio=6, strides=(2, 2), se_ratio=0.25, id_skip=True, fused_conv=False, conv_type='depthwise'), BlockConfig(input_filters=40, output_filters=80, kernel_size=3, num_repeat=3, expand_ratio=6, strides=(2, 2), se_ratio=0.25, id_skip=True, fused_conv=False, conv_type='depthwise'), BlockConfig(input_filters=80, output_filters=112, kernel_size=5, num_repeat=3, expand_ratio=6, strides=(1, 1), se_ratio=0.25, id_skip=True, fused_conv=False, conv_type='depthwise'), BlockConfig(input_filters=112, output_filters=192, kernel_size=5, num_repeat=4, expand_ratio=6, strides=(2, 2), se_ratio=0.25, id_skip=True, fused_conv=False, conv_type='depthwise'), BlockConfig(input_filters=192, output_filters=320, kernel_size=3, num_repeat=1, expand_ratio=6, strides=(1, 1), se_ratio=0.25, id_skip=True, fused_conv=False, conv_type='depthwise')), stem_base_filters=32, top_base_filters=1280, activation='simple_swish', batch_norm='default', bn_momentum=0.99, bn_epsilon=0.001, weight_decay=5e-06, drop_connect_rate=0.2, depth_divisor=8, min_depth=None, use_se=True, input_channels=3, num_classes=1000, model_name='efficientnet', rescale_input=False, data_format='channels_last', dtype='float32')\n",
            "I0420 04:04:01.198323 140416010540928 ssd_efficientnet_bifpn_feature_extractor.py:146] EfficientDet EfficientNet backbone version: efficientnet-b6\n",
            "I0420 04:04:01.198475 140416010540928 ssd_efficientnet_bifpn_feature_extractor.py:147] EfficientDet BiFPN num filters: 384\n",
            "I0420 04:04:01.198546 140416010540928 ssd_efficientnet_bifpn_feature_extractor.py:149] EfficientDet BiFPN num iterations: 8\n",
            "I0420 04:04:01.200067 140416010540928 efficientnet_model.py:144] round_filter input=32 output=56\n",
            "I0420 04:04:01.214049 140416010540928 efficientnet_model.py:144] round_filter input=32 output=56\n",
            "I0420 04:04:01.214155 140416010540928 efficientnet_model.py:144] round_filter input=16 output=32\n",
            "I0420 04:04:01.382498 140416010540928 efficientnet_model.py:144] round_filter input=16 output=32\n",
            "I0420 04:04:01.382673 140416010540928 efficientnet_model.py:144] round_filter input=24 output=40\n",
            "I0420 04:04:01.788628 140416010540928 efficientnet_model.py:144] round_filter input=24 output=40\n",
            "I0420 04:04:01.788827 140416010540928 efficientnet_model.py:144] round_filter input=40 output=72\n",
            "I0420 04:04:02.227879 140416010540928 efficientnet_model.py:144] round_filter input=40 output=72\n",
            "I0420 04:04:02.228045 140416010540928 efficientnet_model.py:144] round_filter input=80 output=144\n",
            "I0420 04:04:02.778117 140416010540928 efficientnet_model.py:144] round_filter input=80 output=144\n",
            "I0420 04:04:02.778285 140416010540928 efficientnet_model.py:144] round_filter input=112 output=200\n",
            "I0420 04:04:03.601306 140416010540928 efficientnet_model.py:144] round_filter input=112 output=200\n",
            "I0420 04:04:03.601475 140416010540928 efficientnet_model.py:144] round_filter input=192 output=344\n",
            "I0420 04:04:04.381042 140416010540928 efficientnet_model.py:144] round_filter input=192 output=344\n",
            "I0420 04:04:04.381209 140416010540928 efficientnet_model.py:144] round_filter input=320 output=576\n",
            "I0420 04:04:04.587157 140416010540928 efficientnet_model.py:144] round_filter input=1280 output=2304\n",
            "I0420 04:04:04.612123 140416010540928 efficientnet_model.py:454] Building model efficientnet with params ModelConfig(width_coefficient=1.8, depth_coefficient=2.6, resolution=528, dropout_rate=0.5, blocks=(BlockConfig(input_filters=32, output_filters=16, kernel_size=3, num_repeat=1, expand_ratio=1, strides=(1, 1), se_ratio=0.25, id_skip=True, fused_conv=False, conv_type='depthwise'), BlockConfig(input_filters=16, output_filters=24, kernel_size=3, num_repeat=2, expand_ratio=6, strides=(2, 2), se_ratio=0.25, id_skip=True, fused_conv=False, conv_type='depthwise'), BlockConfig(input_filters=24, output_filters=40, kernel_size=5, num_repeat=2, expand_ratio=6, strides=(2, 2), se_ratio=0.25, id_skip=True, fused_conv=False, conv_type='depthwise'), BlockConfig(input_filters=40, output_filters=80, kernel_size=3, num_repeat=3, expand_ratio=6, strides=(2, 2), se_ratio=0.25, id_skip=True, fused_conv=False, conv_type='depthwise'), BlockConfig(input_filters=80, output_filters=112, kernel_size=5, num_repeat=3, expand_ratio=6, strides=(1, 1), se_ratio=0.25, id_skip=True, fused_conv=False, conv_type='depthwise'), BlockConfig(input_filters=112, output_filters=192, kernel_size=5, num_repeat=4, expand_ratio=6, strides=(2, 2), se_ratio=0.25, id_skip=True, fused_conv=False, conv_type='depthwise'), BlockConfig(input_filters=192, output_filters=320, kernel_size=3, num_repeat=1, expand_ratio=6, strides=(1, 1), se_ratio=0.25, id_skip=True, fused_conv=False, conv_type='depthwise')), stem_base_filters=32, top_base_filters=1280, activation='simple_swish', batch_norm='default', bn_momentum=0.99, bn_epsilon=0.001, weight_decay=5e-06, drop_connect_rate=0.2, depth_divisor=8, min_depth=None, use_se=True, input_channels=3, num_classes=1000, model_name='efficientnet', rescale_input=False, data_format='channels_last', dtype='float32')\n",
            "I0420 04:04:04.707281 140416010540928 ssd_efficientnet_bifpn_feature_extractor.py:146] EfficientDet EfficientNet backbone version: efficientnet-b7\n",
            "I0420 04:04:04.707436 140416010540928 ssd_efficientnet_bifpn_feature_extractor.py:147] EfficientDet BiFPN num filters: 384\n",
            "I0420 04:04:04.707506 140416010540928 ssd_efficientnet_bifpn_feature_extractor.py:149] EfficientDet BiFPN num iterations: 8\n",
            "I0420 04:04:04.709012 140416010540928 efficientnet_model.py:144] round_filter input=32 output=64\n",
            "I0420 04:04:04.723143 140416010540928 efficientnet_model.py:144] round_filter input=32 output=64\n",
            "I0420 04:04:04.723258 140416010540928 efficientnet_model.py:144] round_filter input=16 output=32\n",
            "I0420 04:04:04.952349 140416010540928 efficientnet_model.py:144] round_filter input=16 output=32\n",
            "I0420 04:04:04.952517 140416010540928 efficientnet_model.py:144] round_filter input=24 output=48\n",
            "I0420 04:04:05.471665 140416010540928 efficientnet_model.py:144] round_filter input=24 output=48\n",
            "I0420 04:04:05.471857 140416010540928 efficientnet_model.py:144] round_filter input=40 output=80\n",
            "I0420 04:04:05.955233 140416010540928 efficientnet_model.py:144] round_filter input=40 output=80\n",
            "I0420 04:04:05.955410 140416010540928 efficientnet_model.py:144] round_filter input=80 output=160\n",
            "I0420 04:04:06.650341 140416010540928 efficientnet_model.py:144] round_filter input=80 output=160\n",
            "I0420 04:04:06.650513 140416010540928 efficientnet_model.py:144] round_filter input=112 output=224\n",
            "I0420 04:04:07.331229 140416010540928 efficientnet_model.py:144] round_filter input=112 output=224\n",
            "I0420 04:04:07.331398 140416010540928 efficientnet_model.py:144] round_filter input=192 output=384\n",
            "I0420 04:04:08.241207 140416010540928 efficientnet_model.py:144] round_filter input=192 output=384\n",
            "I0420 04:04:08.241380 140416010540928 efficientnet_model.py:144] round_filter input=320 output=640\n",
            "I0420 04:04:08.785999 140416010540928 efficientnet_model.py:144] round_filter input=1280 output=2560\n",
            "I0420 04:04:08.811770 140416010540928 efficientnet_model.py:454] Building model efficientnet with params ModelConfig(width_coefficient=2.0, depth_coefficient=3.1, resolution=600, dropout_rate=0.5, blocks=(BlockConfig(input_filters=32, output_filters=16, kernel_size=3, num_repeat=1, expand_ratio=1, strides=(1, 1), se_ratio=0.25, id_skip=True, fused_conv=False, conv_type='depthwise'), BlockConfig(input_filters=16, output_filters=24, kernel_size=3, num_repeat=2, expand_ratio=6, strides=(2, 2), se_ratio=0.25, id_skip=True, fused_conv=False, conv_type='depthwise'), BlockConfig(input_filters=24, output_filters=40, kernel_size=5, num_repeat=2, expand_ratio=6, strides=(2, 2), se_ratio=0.25, id_skip=True, fused_conv=False, conv_type='depthwise'), BlockConfig(input_filters=40, output_filters=80, kernel_size=3, num_repeat=3, expand_ratio=6, strides=(2, 2), se_ratio=0.25, id_skip=True, fused_conv=False, conv_type='depthwise'), BlockConfig(input_filters=80, output_filters=112, kernel_size=5, num_repeat=3, expand_ratio=6, strides=(1, 1), se_ratio=0.25, id_skip=True, fused_conv=False, conv_type='depthwise'), BlockConfig(input_filters=112, output_filters=192, kernel_size=5, num_repeat=4, expand_ratio=6, strides=(2, 2), se_ratio=0.25, id_skip=True, fused_conv=False, conv_type='depthwise'), BlockConfig(input_filters=192, output_filters=320, kernel_size=3, num_repeat=1, expand_ratio=6, strides=(1, 1), se_ratio=0.25, id_skip=True, fused_conv=False, conv_type='depthwise')), stem_base_filters=32, top_base_filters=1280, activation='simple_swish', batch_norm='default', bn_momentum=0.99, bn_epsilon=0.001, weight_decay=5e-06, drop_connect_rate=0.2, depth_divisor=8, min_depth=None, use_se=True, input_channels=3, num_classes=1000, model_name='efficientnet', rescale_input=False, data_format='channels_last', dtype='float32')\n",
            "INFO:tensorflow:time(__main__.ModelBuilderTF2Test.test_create_ssd_models_from_config): 19.94s\n",
            "I0420 04:04:08.925918 140416010540928 test_util.py:2374] time(__main__.ModelBuilderTF2Test.test_create_ssd_models_from_config): 19.94s\n",
            "[       OK ] ModelBuilderTF2Test.test_create_ssd_models_from_config\n",
            "[ RUN      ] ModelBuilderTF2Test.test_invalid_faster_rcnn_batchnorm_update\n",
            "INFO:tensorflow:time(__main__.ModelBuilderTF2Test.test_invalid_faster_rcnn_batchnorm_update): 0.0s\n",
            "I0420 04:04:08.932392 140416010540928 test_util.py:2374] time(__main__.ModelBuilderTF2Test.test_invalid_faster_rcnn_batchnorm_update): 0.0s\n",
            "[       OK ] ModelBuilderTF2Test.test_invalid_faster_rcnn_batchnorm_update\n",
            "[ RUN      ] ModelBuilderTF2Test.test_invalid_first_stage_nms_iou_threshold\n",
            "INFO:tensorflow:time(__main__.ModelBuilderTF2Test.test_invalid_first_stage_nms_iou_threshold): 0.0s\n",
            "I0420 04:04:08.933977 140416010540928 test_util.py:2374] time(__main__.ModelBuilderTF2Test.test_invalid_first_stage_nms_iou_threshold): 0.0s\n",
            "[       OK ] ModelBuilderTF2Test.test_invalid_first_stage_nms_iou_threshold\n",
            "[ RUN      ] ModelBuilderTF2Test.test_invalid_model_config_proto\n",
            "INFO:tensorflow:time(__main__.ModelBuilderTF2Test.test_invalid_model_config_proto): 0.0s\n",
            "I0420 04:04:08.934442 140416010540928 test_util.py:2374] time(__main__.ModelBuilderTF2Test.test_invalid_model_config_proto): 0.0s\n",
            "[       OK ] ModelBuilderTF2Test.test_invalid_model_config_proto\n",
            "[ RUN      ] ModelBuilderTF2Test.test_invalid_second_stage_batch_size\n",
            "INFO:tensorflow:time(__main__.ModelBuilderTF2Test.test_invalid_second_stage_batch_size): 0.0s\n",
            "I0420 04:04:08.935869 140416010540928 test_util.py:2374] time(__main__.ModelBuilderTF2Test.test_invalid_second_stage_batch_size): 0.0s\n",
            "[       OK ] ModelBuilderTF2Test.test_invalid_second_stage_batch_size\n",
            "[ RUN      ] ModelBuilderTF2Test.test_session\n",
            "[  SKIPPED ] ModelBuilderTF2Test.test_session\n",
            "[ RUN      ] ModelBuilderTF2Test.test_unknown_faster_rcnn_feature_extractor\n",
            "INFO:tensorflow:time(__main__.ModelBuilderTF2Test.test_unknown_faster_rcnn_feature_extractor): 0.0s\n",
            "I0420 04:04:08.937163 140416010540928 test_util.py:2374] time(__main__.ModelBuilderTF2Test.test_unknown_faster_rcnn_feature_extractor): 0.0s\n",
            "[       OK ] ModelBuilderTF2Test.test_unknown_faster_rcnn_feature_extractor\n",
            "[ RUN      ] ModelBuilderTF2Test.test_unknown_meta_architecture\n",
            "INFO:tensorflow:time(__main__.ModelBuilderTF2Test.test_unknown_meta_architecture): 0.0s\n",
            "I0420 04:04:08.937589 140416010540928 test_util.py:2374] time(__main__.ModelBuilderTF2Test.test_unknown_meta_architecture): 0.0s\n",
            "[       OK ] ModelBuilderTF2Test.test_unknown_meta_architecture\n",
            "[ RUN      ] ModelBuilderTF2Test.test_unknown_ssd_feature_extractor\n",
            "INFO:tensorflow:time(__main__.ModelBuilderTF2Test.test_unknown_ssd_feature_extractor): 0.0s\n",
            "I0420 04:04:08.938528 140416010540928 test_util.py:2374] time(__main__.ModelBuilderTF2Test.test_unknown_ssd_feature_extractor): 0.0s\n",
            "[       OK ] ModelBuilderTF2Test.test_unknown_ssd_feature_extractor\n",
            "----------------------------------------------------------------------\n",
            "Ran 24 tests in 24.259s\n",
            "\n",
            "OK (skipped=1)\n"
          ]
        }
      ]
    },
    {
      "cell_type": "markdown",
      "source": [
        "###Download pre-trained model: SSD MobileNet V2 FPNLite 320x320"
      ],
      "metadata": {
        "id": "3ZcgDq6YmHDv"
      }
    },
    {
      "cell_type": "code",
      "source": [
        "cd /content/fabrik_tfod_demo/pre-trained-models"
      ],
      "metadata": {
        "colab": {
          "base_uri": "https://localhost:8080/"
        },
        "id": "AAoRhtn_lwUD",
        "outputId": "bc623ffa-9afe-491a-d083-20f9ab21b451"
      },
      "execution_count": null,
      "outputs": [
        {
          "output_type": "stream",
          "name": "stdout",
          "text": [
            "/content/fabrik_tfod_demo/pre-trained-models\n"
          ]
        }
      ]
    },
    {
      "cell_type": "code",
      "source": [
        "!wget http://download.tensorflow.org/models/object_detection/tf2/20200711/ssd_mobilenet_v2_fpnlite_320x320_coco17_tpu-8.tar.gz"
      ],
      "metadata": {
        "colab": {
          "base_uri": "https://localhost:8080/"
        },
        "id": "wWGrydr5lwGd",
        "outputId": "4f843b91-24e5-4dae-893b-83a1a0c288e4"
      },
      "execution_count": null,
      "outputs": [
        {
          "output_type": "stream",
          "name": "stdout",
          "text": [
            "--2022-04-20 03:18:11--  http://download.tensorflow.org/models/object_detection/tf2/20200711/ssd_mobilenet_v2_fpnlite_320x320_coco17_tpu-8.tar.gz\n",
            "Resolving download.tensorflow.org (download.tensorflow.org)... 108.177.126.128, 2a00:1450:4013:c01::80\n",
            "Connecting to download.tensorflow.org (download.tensorflow.org)|108.177.126.128|:80... connected.\n",
            "HTTP request sent, awaiting response... 200 OK\n",
            "Length: 20515344 (20M) [application/x-tar]\n",
            "Saving to: ‘ssd_mobilenet_v2_fpnlite_320x320_coco17_tpu-8.tar.gz’\n",
            "\n",
            "ssd_mobilenet_v2_fp 100%[===================>]  19.56M  72.1MB/s    in 0.3s    \n",
            "\n",
            "2022-04-20 03:18:12 (72.1 MB/s) - ‘ssd_mobilenet_v2_fpnlite_320x320_coco17_tpu-8.tar.gz’ saved [20515344/20515344]\n",
            "\n"
          ]
        }
      ]
    },
    {
      "cell_type": "code",
      "source": [
        "# Unzip the Pretrained Model\n",
        "\n",
        "!tar -xvf ssd_mobilenet_v2_fpnlite_320x320_coco17_tpu-8.tar.gz"
      ],
      "metadata": {
        "colab": {
          "base_uri": "https://localhost:8080/"
        },
        "id": "88bu12PDnA_o",
        "outputId": "f8f32304-9e97-4315-cbc5-9881b6369fd0"
      },
      "execution_count": null,
      "outputs": [
        {
          "output_type": "stream",
          "name": "stdout",
          "text": [
            "ssd_mobilenet_v2_fpnlite_320x320_coco17_tpu-8/\n",
            "ssd_mobilenet_v2_fpnlite_320x320_coco17_tpu-8/checkpoint/\n",
            "ssd_mobilenet_v2_fpnlite_320x320_coco17_tpu-8/checkpoint/ckpt-0.data-00000-of-00001\n",
            "ssd_mobilenet_v2_fpnlite_320x320_coco17_tpu-8/checkpoint/checkpoint\n",
            "ssd_mobilenet_v2_fpnlite_320x320_coco17_tpu-8/checkpoint/ckpt-0.index\n",
            "ssd_mobilenet_v2_fpnlite_320x320_coco17_tpu-8/pipeline.config\n",
            "ssd_mobilenet_v2_fpnlite_320x320_coco17_tpu-8/saved_model/\n",
            "ssd_mobilenet_v2_fpnlite_320x320_coco17_tpu-8/saved_model/saved_model.pb\n",
            "ssd_mobilenet_v2_fpnlite_320x320_coco17_tpu-8/saved_model/variables/\n",
            "ssd_mobilenet_v2_fpnlite_320x320_coco17_tpu-8/saved_model/variables/variables.data-00000-of-00001\n",
            "ssd_mobilenet_v2_fpnlite_320x320_coco17_tpu-8/saved_model/variables/variables.index\n"
          ]
        }
      ]
    },
    {
      "cell_type": "markdown",
      "source": [
        "###Create TF Records"
      ],
      "metadata": {
        "id": "uAbCE3B3nIqB"
      }
    },
    {
      "cell_type": "code",
      "source": [
        "cd /content/fabrik_tfod_demo"
      ],
      "metadata": {
        "colab": {
          "base_uri": "https://localhost:8080/"
        },
        "id": "dQPbE32fnEmS",
        "outputId": "40fa27ec-c6b8-4dda-b2f9-57d1283827ac"
      },
      "execution_count": null,
      "outputs": [
        {
          "output_type": "stream",
          "name": "stdout",
          "text": [
            "/content/fabrik_tfod_demo\n"
          ]
        }
      ]
    },
    {
      "cell_type": "markdown",
      "source": [
        "**Create Train & Test TF Records**"
      ],
      "metadata": {
        "id": "6brKBtuEnpyc"
      }
    },
    {
      "cell_type": "code",
      "source": [
        "# Create train data:\n",
        "!python generate_tfrecord.py -x /content/fabrik_tfod_demo/images/train -l /content/fabrik_tfod_demo/annotations/label_map.pbtxt -o /content/fabrik_tfod_demo/annotations/train.record\n",
        "\n",
        "# Create test data:\n",
        "!python generate_tfrecord.py -x /content/fabrik_tfod_demo/images/test -l /content/fabrik_tfod_demo/annotations/label_map.pbtxt -o /content/fabrik_tfod_demo/annotations/test.record"
      ],
      "metadata": {
        "colab": {
          "base_uri": "https://localhost:8080/"
        },
        "id": "OBqQV0d3nNMj",
        "outputId": "e8303310-98f3-42bc-c532-28d2b6817d97"
      },
      "execution_count": null,
      "outputs": [
        {
          "output_type": "stream",
          "name": "stdout",
          "text": [
            "Successfully created the TFRecord file: /content/fabrik_tfod_demo/annotations/train.record\n",
            "Successfully created the TFRecord file: /content/fabrik_tfod_demo/annotations/test.record\n"
          ]
        }
      ]
    },
    {
      "cell_type": "markdown",
      "source": [
        "###Train the Model"
      ],
      "metadata": {
        "id": "Ida2PzI6n47q"
      }
    },
    {
      "cell_type": "code",
      "source": [
        "# Confirming GPU for training\n",
        "\n",
        "print(\"GPU\", \"available\" if tf.config.list_physical_devices(\"GPU\") else \"not available\")"
      ],
      "metadata": {
        "colab": {
          "base_uri": "https://localhost:8080/"
        },
        "id": "DWfLdvIwnxl4",
        "outputId": "c8dbc728-db13-4e6b-ca5c-1b8dafeacc3d"
      },
      "execution_count": null,
      "outputs": [
        {
          "output_type": "stream",
          "name": "stdout",
          "text": [
            "GPU available\n"
          ]
        }
      ]
    },
    {
      "cell_type": "markdown",
      "source": [
        "**To resolve the OpenCV version conflict**"
      ],
      "metadata": {
        "id": "m7k2qVDEHywt"
      }
    },
    {
      "cell_type": "code",
      "source": [
        "#pip uninstall opencv-python-headless==4.5.5.62"
      ],
      "metadata": {
        "colab": {
          "base_uri": "https://localhost:8080/"
        },
        "id": "cDrgneIEHdsp",
        "outputId": "1ad3467f-6409-4853-df6f-7127711c855e"
      },
      "execution_count": null,
      "outputs": [
        {
          "output_type": "stream",
          "name": "stdout",
          "text": [
            "Found existing installation: opencv-python-headless 4.5.5.64\n",
            "Uninstalling opencv-python-headless-4.5.5.64:\n",
            "  Would remove:\n",
            "    /usr/local/lib/python3.7/dist-packages/cv2/*\n",
            "    /usr/local/lib/python3.7/dist-packages/opencv_python_headless-4.5.5.64.dist-info/*\n",
            "    /usr/local/lib/python3.7/dist-packages/opencv_python_headless.libs/libavcodec-65fa80df.so.58.134.100\n",
            "    /usr/local/lib/python3.7/dist-packages/opencv_python_headless.libs/libavformat-8ef5c7db.so.58.76.100\n",
            "    /usr/local/lib/python3.7/dist-packages/opencv_python_headless.libs/libavutil-9c768859.so.56.70.100\n",
            "    /usr/local/lib/python3.7/dist-packages/opencv_python_headless.libs/libbz2-a273e504.so.1.0.6\n",
            "    /usr/local/lib/python3.7/dist-packages/opencv_python_headless.libs/libcrypto-09fe7800.so.1.1\n",
            "    /usr/local/lib/python3.7/dist-packages/opencv_python_headless.libs/libgfortran-91cc3cb1.so.3.0.0\n",
            "    /usr/local/lib/python3.7/dist-packages/opencv_python_headless.libs/libopenblas-r0-f650aae0.3.3.so\n",
            "    /usr/local/lib/python3.7/dist-packages/opencv_python_headless.libs/libquadmath-96973f99.so.0.0.0\n",
            "    /usr/local/lib/python3.7/dist-packages/opencv_python_headless.libs/libssl-b92f8066.so.1.1\n",
            "    /usr/local/lib/python3.7/dist-packages/opencv_python_headless.libs/libswresample-99364a1c.so.3.9.100\n",
            "    /usr/local/lib/python3.7/dist-packages/opencv_python_headless.libs/libswscale-e6451464.so.5.9.100\n",
            "    /usr/local/lib/python3.7/dist-packages/opencv_python_headless.libs/libvpx-1016051d.so.7.0.0\n",
            "  Would not remove (might be manually added):\n",
            "    /usr/local/lib/python3.7/dist-packages/cv2/.libs/libQtCore-bbdab771.so.4.8.7\n",
            "    /usr/local/lib/python3.7/dist-packages/cv2/.libs/libQtGui-903938cd.so.4.8.7\n",
            "    /usr/local/lib/python3.7/dist-packages/cv2/.libs/libQtTest-1183da5d.so.4.8.7\n",
            "    /usr/local/lib/python3.7/dist-packages/cv2/.libs/libavcodec-3cdd3bd4.so.58.62.100\n",
            "    /usr/local/lib/python3.7/dist-packages/cv2/.libs/libavformat-69a63b50.so.58.35.100\n",
            "    /usr/local/lib/python3.7/dist-packages/cv2/.libs/libavutil-8e8979a8.so.56.36.100\n",
            "    /usr/local/lib/python3.7/dist-packages/cv2/.libs/libbz2-7225278b.so.1.0.3\n",
            "    /usr/local/lib/python3.7/dist-packages/cv2/.libs/libcrypto-a25ff511.so.1.1\n",
            "    /usr/local/lib/python3.7/dist-packages/cv2/.libs/libssl-fdf0b66c.so.1.1\n",
            "    /usr/local/lib/python3.7/dist-packages/cv2/.libs/libswresample-c6b3bbb9.so.3.6.100\n",
            "    /usr/local/lib/python3.7/dist-packages/cv2/.libs/libswscale-2d19f7d1.so.5.6.100\n",
            "    /usr/local/lib/python3.7/dist-packages/cv2/.libs/libvpx-c887ea55.so.6.1.0\n",
            "    /usr/local/lib/python3.7/dist-packages/cv2/.libs/libz-a147dcb0.so.1.2.3\n",
            "    /usr/local/lib/python3.7/dist-packages/cv2/cv2.cpython-37m-x86_64-linux-gnu.so\n",
            "Proceed (y/n)? y\n",
            "  Successfully uninstalled opencv-python-headless-4.5.5.64\n"
          ]
        }
      ]
    },
    {
      "cell_type": "code",
      "source": [
        "#pip install opencv-python-headless==4.5.2.52"
      ],
      "metadata": {
        "colab": {
          "base_uri": "https://localhost:8080/",
          "height": 212
        },
        "id": "7JQNmLm7HuMi",
        "outputId": "1fb0844c-915c-4341-bdbf-fb72fe3376e2"
      },
      "execution_count": null,
      "outputs": [
        {
          "output_type": "stream",
          "name": "stdout",
          "text": [
            "Collecting opencv-python-headless==4.5.2.52\n",
            "  Downloading opencv_python_headless-4.5.2.52-cp37-cp37m-manylinux2014_x86_64.whl (38.2 MB)\n",
            "\u001b[K     |████████████████████████████████| 38.2 MB 1.2 MB/s \n",
            "\u001b[?25hRequirement already satisfied: numpy>=1.14.5 in /usr/local/lib/python3.7/dist-packages (from opencv-python-headless==4.5.2.52) (1.21.6)\n",
            "Installing collected packages: opencv-python-headless\n",
            "Successfully installed opencv-python-headless-4.5.2.52\n"
          ]
        },
        {
          "output_type": "display_data",
          "data": {
            "application/vnd.colab-display-data+json": {
              "pip_warning": {
                "packages": [
                  "cv2"
                ]
              }
            }
          },
          "metadata": {}
        }
      ]
    },
    {
      "cell_type": "code",
      "source": [
        "# Train\n",
        "\n",
        "!python model_main_tf2.py --model_dir=/content/fabrik_tfod_demo/models/my_ssd_mobilenet_v2_fpnlite --pipeline_config_path=/content/fabrik_tfod_demo/models/my_ssd_mobilenet_v2_fpnlite/pipeline.config"
      ],
      "metadata": {
        "colab": {
          "base_uri": "https://localhost:8080/"
        },
        "id": "-_d7QP_1nxiw",
        "outputId": "41700bcd-a9f9-479c-91a7-1ca2d905a8e8"
      },
      "execution_count": null,
      "outputs": [
        {
          "output_type": "stream",
          "name": "stdout",
          "text": [
            "2022-04-20 04:05:12.995578: W tensorflow/core/common_runtime/gpu/gpu_bfc_allocator.cc:39] Overriding allow_growth setting because the TF_FORCE_GPU_ALLOW_GROWTH environment variable is set. Original config value was 0.\n",
            "INFO:tensorflow:Using MirroredStrategy with devices ('/job:localhost/replica:0/task:0/device:GPU:0',)\n",
            "I0420 04:05:13.001011 140312505128832 mirrored_strategy.py:374] Using MirroredStrategy with devices ('/job:localhost/replica:0/task:0/device:GPU:0',)\n",
            "INFO:tensorflow:Maybe overwriting train_steps: None\n",
            "I0420 04:05:13.004664 140312505128832 config_util.py:552] Maybe overwriting train_steps: None\n",
            "INFO:tensorflow:Maybe overwriting use_bfloat16: False\n",
            "I0420 04:05:13.004822 140312505128832 config_util.py:552] Maybe overwriting use_bfloat16: False\n",
            "WARNING:tensorflow:From /usr/local/lib/python3.7/dist-packages/object_detection/model_lib_v2.py:564: StrategyBase.experimental_distribute_datasets_from_function (from tensorflow.python.distribute.distribute_lib) is deprecated and will be removed in a future version.\n",
            "Instructions for updating:\n",
            "rename to distribute_datasets_from_function\n",
            "W0420 04:05:13.147706 140312505128832 deprecation.py:343] From /usr/local/lib/python3.7/dist-packages/object_detection/model_lib_v2.py:564: StrategyBase.experimental_distribute_datasets_from_function (from tensorflow.python.distribute.distribute_lib) is deprecated and will be removed in a future version.\n",
            "Instructions for updating:\n",
            "rename to distribute_datasets_from_function\n",
            "INFO:tensorflow:Reading unweighted datasets: ['/content/fabrik_tfod_demo/annotations/train.record']\n",
            "I0420 04:05:13.159941 140312505128832 dataset_builder.py:162] Reading unweighted datasets: ['/content/fabrik_tfod_demo/annotations/train.record']\n",
            "INFO:tensorflow:Reading record datasets for input file: ['/content/fabrik_tfod_demo/annotations/train.record']\n",
            "I0420 04:05:13.160118 140312505128832 dataset_builder.py:79] Reading record datasets for input file: ['/content/fabrik_tfod_demo/annotations/train.record']\n",
            "INFO:tensorflow:Number of filenames to read: 1\n",
            "I0420 04:05:13.160200 140312505128832 dataset_builder.py:80] Number of filenames to read: 1\n",
            "WARNING:tensorflow:num_readers has been reduced to 1 to match input file shards.\n",
            "W0420 04:05:13.160277 140312505128832 dataset_builder.py:87] num_readers has been reduced to 1 to match input file shards.\n",
            "WARNING:tensorflow:From /usr/local/lib/python3.7/dist-packages/object_detection/builders/dataset_builder.py:104: parallel_interleave (from tensorflow.python.data.experimental.ops.interleave_ops) is deprecated and will be removed in a future version.\n",
            "Instructions for updating:\n",
            "Use `tf.data.Dataset.interleave(map_func, cycle_length, block_length, num_parallel_calls=tf.data.AUTOTUNE)` instead. If sloppy execution is desired, use `tf.data.Options.deterministic`.\n",
            "W0420 04:05:13.165903 140312505128832 deprecation.py:343] From /usr/local/lib/python3.7/dist-packages/object_detection/builders/dataset_builder.py:104: parallel_interleave (from tensorflow.python.data.experimental.ops.interleave_ops) is deprecated and will be removed in a future version.\n",
            "Instructions for updating:\n",
            "Use `tf.data.Dataset.interleave(map_func, cycle_length, block_length, num_parallel_calls=tf.data.AUTOTUNE)` instead. If sloppy execution is desired, use `tf.data.Options.deterministic`.\n",
            "WARNING:tensorflow:From /usr/local/lib/python3.7/dist-packages/object_detection/builders/dataset_builder.py:236: DatasetV1.map_with_legacy_function (from tensorflow.python.data.ops.dataset_ops) is deprecated and will be removed in a future version.\n",
            "Instructions for updating:\n",
            "Use `tf.data.Dataset.map()\n",
            "W0420 04:05:13.191425 140312505128832 deprecation.py:343] From /usr/local/lib/python3.7/dist-packages/object_detection/builders/dataset_builder.py:236: DatasetV1.map_with_legacy_function (from tensorflow.python.data.ops.dataset_ops) is deprecated and will be removed in a future version.\n",
            "Instructions for updating:\n",
            "Use `tf.data.Dataset.map()\n",
            "WARNING:tensorflow:From /usr/local/lib/python3.7/dist-packages/tensorflow/python/util/dispatch.py:1082: sparse_to_dense (from tensorflow.python.ops.sparse_ops) is deprecated and will be removed in a future version.\n",
            "Instructions for updating:\n",
            "Create a `tf.sparse.SparseTensor` and use `tf.sparse.to_dense` instead.\n",
            "W0420 04:05:19.892224 140312505128832 deprecation.py:343] From /usr/local/lib/python3.7/dist-packages/tensorflow/python/util/dispatch.py:1082: sparse_to_dense (from tensorflow.python.ops.sparse_ops) is deprecated and will be removed in a future version.\n",
            "Instructions for updating:\n",
            "Create a `tf.sparse.SparseTensor` and use `tf.sparse.to_dense` instead.\n",
            "WARNING:tensorflow:From /usr/local/lib/python3.7/dist-packages/tensorflow/python/util/dispatch.py:1082: sample_distorted_bounding_box (from tensorflow.python.ops.image_ops_impl) is deprecated and will be removed in a future version.\n",
            "Instructions for updating:\n",
            "`seed2` arg is deprecated.Use sample_distorted_bounding_box_v2 instead.\n",
            "W0420 04:05:22.780570 140312505128832 deprecation.py:343] From /usr/local/lib/python3.7/dist-packages/tensorflow/python/util/dispatch.py:1082: sample_distorted_bounding_box (from tensorflow.python.ops.image_ops_impl) is deprecated and will be removed in a future version.\n",
            "Instructions for updating:\n",
            "`seed2` arg is deprecated.Use sample_distorted_bounding_box_v2 instead.\n",
            "WARNING:tensorflow:From /usr/local/lib/python3.7/dist-packages/tensorflow/python/util/dispatch.py:1082: to_float (from tensorflow.python.ops.math_ops) is deprecated and will be removed in a future version.\n",
            "Instructions for updating:\n",
            "Use `tf.cast` instead.\n",
            "W0420 04:05:24.363962 140312505128832 deprecation.py:343] From /usr/local/lib/python3.7/dist-packages/tensorflow/python/util/dispatch.py:1082: to_float (from tensorflow.python.ops.math_ops) is deprecated and will be removed in a future version.\n",
            "Instructions for updating:\n",
            "Use `tf.cast` instead.\n",
            "/usr/local/lib/python3.7/dist-packages/keras/backend.py:450: UserWarning: `tf.keras.backend.set_learning_phase` is deprecated and will be removed after 2020-10-11. To update it, simply pass a True/False value to the `training` argument of the `__call__` method of your layer or model.\n",
            "  warnings.warn('`tf.keras.backend.set_learning_phase` is deprecated and '\n",
            "INFO:tensorflow:Reduce to /job:localhost/replica:0/task:0/device:CPU:0 then broadcast to ('/job:localhost/replica:0/task:0/device:CPU:0',).\n",
            "I0420 04:05:58.193542 140312505128832 cross_device_ops.py:618] Reduce to /job:localhost/replica:0/task:0/device:CPU:0 then broadcast to ('/job:localhost/replica:0/task:0/device:CPU:0',).\n",
            "INFO:tensorflow:Reduce to /job:localhost/replica:0/task:0/device:CPU:0 then broadcast to ('/job:localhost/replica:0/task:0/device:CPU:0',).\n",
            "I0420 04:05:58.194757 140312505128832 cross_device_ops.py:618] Reduce to /job:localhost/replica:0/task:0/device:CPU:0 then broadcast to ('/job:localhost/replica:0/task:0/device:CPU:0',).\n",
            "INFO:tensorflow:Reduce to /job:localhost/replica:0/task:0/device:CPU:0 then broadcast to ('/job:localhost/replica:0/task:0/device:CPU:0',).\n",
            "I0420 04:05:58.196902 140312505128832 cross_device_ops.py:618] Reduce to /job:localhost/replica:0/task:0/device:CPU:0 then broadcast to ('/job:localhost/replica:0/task:0/device:CPU:0',).\n",
            "INFO:tensorflow:Reduce to /job:localhost/replica:0/task:0/device:CPU:0 then broadcast to ('/job:localhost/replica:0/task:0/device:CPU:0',).\n",
            "I0420 04:05:58.197814 140312505128832 cross_device_ops.py:618] Reduce to /job:localhost/replica:0/task:0/device:CPU:0 then broadcast to ('/job:localhost/replica:0/task:0/device:CPU:0',).\n",
            "INFO:tensorflow:Reduce to /job:localhost/replica:0/task:0/device:CPU:0 then broadcast to ('/job:localhost/replica:0/task:0/device:CPU:0',).\n",
            "I0420 04:05:58.199813 140312505128832 cross_device_ops.py:618] Reduce to /job:localhost/replica:0/task:0/device:CPU:0 then broadcast to ('/job:localhost/replica:0/task:0/device:CPU:0',).\n",
            "INFO:tensorflow:Reduce to /job:localhost/replica:0/task:0/device:CPU:0 then broadcast to ('/job:localhost/replica:0/task:0/device:CPU:0',).\n",
            "I0420 04:05:58.200649 140312505128832 cross_device_ops.py:618] Reduce to /job:localhost/replica:0/task:0/device:CPU:0 then broadcast to ('/job:localhost/replica:0/task:0/device:CPU:0',).\n",
            "INFO:tensorflow:Reduce to /job:localhost/replica:0/task:0/device:CPU:0 then broadcast to ('/job:localhost/replica:0/task:0/device:CPU:0',).\n",
            "I0420 04:05:58.202569 140312505128832 cross_device_ops.py:618] Reduce to /job:localhost/replica:0/task:0/device:CPU:0 then broadcast to ('/job:localhost/replica:0/task:0/device:CPU:0',).\n",
            "INFO:tensorflow:Reduce to /job:localhost/replica:0/task:0/device:CPU:0 then broadcast to ('/job:localhost/replica:0/task:0/device:CPU:0',).\n",
            "I0420 04:05:58.203492 140312505128832 cross_device_ops.py:618] Reduce to /job:localhost/replica:0/task:0/device:CPU:0 then broadcast to ('/job:localhost/replica:0/task:0/device:CPU:0',).\n",
            "INFO:tensorflow:Reduce to /job:localhost/replica:0/task:0/device:CPU:0 then broadcast to ('/job:localhost/replica:0/task:0/device:CPU:0',).\n",
            "I0420 04:05:58.205436 140312505128832 cross_device_ops.py:618] Reduce to /job:localhost/replica:0/task:0/device:CPU:0 then broadcast to ('/job:localhost/replica:0/task:0/device:CPU:0',).\n",
            "INFO:tensorflow:Reduce to /job:localhost/replica:0/task:0/device:CPU:0 then broadcast to ('/job:localhost/replica:0/task:0/device:CPU:0',).\n",
            "I0420 04:05:58.206291 140312505128832 cross_device_ops.py:618] Reduce to /job:localhost/replica:0/task:0/device:CPU:0 then broadcast to ('/job:localhost/replica:0/task:0/device:CPU:0',).\n",
            "WARNING:tensorflow:From /usr/local/lib/python3.7/dist-packages/tensorflow/python/util/deprecation.py:616: calling map_fn_v2 (from tensorflow.python.ops.map_fn) with dtype is deprecated and will be removed in a future version.\n",
            "Instructions for updating:\n",
            "Use fn_output_signature instead\n",
            "W0420 04:05:58.787500 140307296343808 deprecation.py:547] From /usr/local/lib/python3.7/dist-packages/tensorflow/python/util/deprecation.py:616: calling map_fn_v2 (from tensorflow.python.ops.map_fn) with dtype is deprecated and will be removed in a future version.\n",
            "Instructions for updating:\n",
            "Use fn_output_signature instead\n",
            "INFO:tensorflow:Step 100 per-step time 0.494s\n",
            "I0420 04:06:48.012120 140312505128832 model_lib_v2.py:707] Step 100 per-step time 0.494s\n",
            "INFO:tensorflow:{'Loss/classification_loss': 0.2129384,\n",
            " 'Loss/localization_loss': 0.26252896,\n",
            " 'Loss/regularization_loss': 0.15391016,\n",
            " 'Loss/total_loss': 0.6293775,\n",
            " 'learning_rate': 0.0319994}\n",
            "I0420 04:06:48.012465 140312505128832 model_lib_v2.py:708] {'Loss/classification_loss': 0.2129384,\n",
            " 'Loss/localization_loss': 0.26252896,\n",
            " 'Loss/regularization_loss': 0.15391016,\n",
            " 'Loss/total_loss': 0.6293775,\n",
            " 'learning_rate': 0.0319994}\n",
            "INFO:tensorflow:Step 200 per-step time 0.154s\n",
            "I0420 04:07:03.210244 140312505128832 model_lib_v2.py:707] Step 200 per-step time 0.154s\n",
            "INFO:tensorflow:{'Loss/classification_loss': 0.15418191,\n",
            " 'Loss/localization_loss': 0.12765677,\n",
            " 'Loss/regularization_loss': 0.15394077,\n",
            " 'Loss/total_loss': 0.43577945,\n",
            " 'learning_rate': 0.0373328}\n",
            "I0420 04:07:03.210560 140312505128832 model_lib_v2.py:708] {'Loss/classification_loss': 0.15418191,\n",
            " 'Loss/localization_loss': 0.12765677,\n",
            " 'Loss/regularization_loss': 0.15394077,\n",
            " 'Loss/total_loss': 0.43577945,\n",
            " 'learning_rate': 0.0373328}\n",
            "INFO:tensorflow:Step 300 per-step time 0.152s\n",
            "I0420 04:07:18.370048 140312505128832 model_lib_v2.py:707] Step 300 per-step time 0.152s\n",
            "INFO:tensorflow:{'Loss/classification_loss': 0.106171645,\n",
            " 'Loss/localization_loss': 0.067921996,\n",
            " 'Loss/regularization_loss': 0.15375389,\n",
            " 'Loss/total_loss': 0.32784754,\n",
            " 'learning_rate': 0.0426662}\n",
            "I0420 04:07:18.370368 140312505128832 model_lib_v2.py:708] {'Loss/classification_loss': 0.106171645,\n",
            " 'Loss/localization_loss': 0.067921996,\n",
            " 'Loss/regularization_loss': 0.15375389,\n",
            " 'Loss/total_loss': 0.32784754,\n",
            " 'learning_rate': 0.0426662}\n",
            "INFO:tensorflow:Step 400 per-step time 0.152s\n",
            "I0420 04:07:33.551409 140312505128832 model_lib_v2.py:707] Step 400 per-step time 0.152s\n",
            "INFO:tensorflow:{'Loss/classification_loss': 0.10678745,\n",
            " 'Loss/localization_loss': 0.06259319,\n",
            " 'Loss/regularization_loss': 0.153496,\n",
            " 'Loss/total_loss': 0.32287663,\n",
            " 'learning_rate': 0.047999598}\n",
            "I0420 04:07:33.551728 140312505128832 model_lib_v2.py:708] {'Loss/classification_loss': 0.10678745,\n",
            " 'Loss/localization_loss': 0.06259319,\n",
            " 'Loss/regularization_loss': 0.153496,\n",
            " 'Loss/total_loss': 0.32287663,\n",
            " 'learning_rate': 0.047999598}\n",
            "INFO:tensorflow:Step 500 per-step time 0.152s\n",
            "I0420 04:07:48.782016 140312505128832 model_lib_v2.py:707] Step 500 per-step time 0.152s\n",
            "INFO:tensorflow:{'Loss/classification_loss': 0.10401046,\n",
            " 'Loss/localization_loss': 0.053518217,\n",
            " 'Loss/regularization_loss': 0.153193,\n",
            " 'Loss/total_loss': 0.3107217,\n",
            " 'learning_rate': 0.053333}\n",
            "I0420 04:07:48.782309 140312505128832 model_lib_v2.py:708] {'Loss/classification_loss': 0.10401046,\n",
            " 'Loss/localization_loss': 0.053518217,\n",
            " 'Loss/regularization_loss': 0.153193,\n",
            " 'Loss/total_loss': 0.3107217,\n",
            " 'learning_rate': 0.053333}\n",
            "INFO:tensorflow:Step 600 per-step time 0.151s\n",
            "I0420 04:08:03.845365 140312505128832 model_lib_v2.py:707] Step 600 per-step time 0.151s\n",
            "INFO:tensorflow:{'Loss/classification_loss': 0.13136815,\n",
            " 'Loss/localization_loss': 0.06949488,\n",
            " 'Loss/regularization_loss': 0.15284394,\n",
            " 'Loss/total_loss': 0.35370696,\n",
            " 'learning_rate': 0.0586664}\n",
            "I0420 04:08:03.845695 140312505128832 model_lib_v2.py:708] {'Loss/classification_loss': 0.13136815,\n",
            " 'Loss/localization_loss': 0.06949488,\n",
            " 'Loss/regularization_loss': 0.15284394,\n",
            " 'Loss/total_loss': 0.35370696,\n",
            " 'learning_rate': 0.0586664}\n",
            "INFO:tensorflow:Step 700 per-step time 0.151s\n",
            "I0420 04:08:18.992307 140312505128832 model_lib_v2.py:707] Step 700 per-step time 0.151s\n",
            "INFO:tensorflow:{'Loss/classification_loss': 0.067730844,\n",
            " 'Loss/localization_loss': 0.037453037,\n",
            " 'Loss/regularization_loss': 0.15247887,\n",
            " 'Loss/total_loss': 0.25766277,\n",
            " 'learning_rate': 0.0639998}\n",
            "I0420 04:08:18.992618 140312505128832 model_lib_v2.py:708] {'Loss/classification_loss': 0.067730844,\n",
            " 'Loss/localization_loss': 0.037453037,\n",
            " 'Loss/regularization_loss': 0.15247887,\n",
            " 'Loss/total_loss': 0.25766277,\n",
            " 'learning_rate': 0.0639998}\n",
            "INFO:tensorflow:Step 800 per-step time 0.153s\n",
            "I0420 04:08:34.283738 140312505128832 model_lib_v2.py:707] Step 800 per-step time 0.153s\n",
            "INFO:tensorflow:{'Loss/classification_loss': 0.05943991,\n",
            " 'Loss/localization_loss': 0.02913651,\n",
            " 'Loss/regularization_loss': 0.151967,\n",
            " 'Loss/total_loss': 0.24054343,\n",
            " 'learning_rate': 0.069333196}\n",
            "I0420 04:08:34.284061 140312505128832 model_lib_v2.py:708] {'Loss/classification_loss': 0.05943991,\n",
            " 'Loss/localization_loss': 0.02913651,\n",
            " 'Loss/regularization_loss': 0.151967,\n",
            " 'Loss/total_loss': 0.24054343,\n",
            " 'learning_rate': 0.069333196}\n",
            "INFO:tensorflow:Step 900 per-step time 0.152s\n",
            "I0420 04:08:49.472349 140312505128832 model_lib_v2.py:707] Step 900 per-step time 0.152s\n",
            "INFO:tensorflow:{'Loss/classification_loss': 0.06587871,\n",
            " 'Loss/localization_loss': 0.030231686,\n",
            " 'Loss/regularization_loss': 0.1514993,\n",
            " 'Loss/total_loss': 0.2476097,\n",
            " 'learning_rate': 0.074666604}\n",
            "I0420 04:08:49.472667 140312505128832 model_lib_v2.py:708] {'Loss/classification_loss': 0.06587871,\n",
            " 'Loss/localization_loss': 0.030231686,\n",
            " 'Loss/regularization_loss': 0.1514993,\n",
            " 'Loss/total_loss': 0.2476097,\n",
            " 'learning_rate': 0.074666604}\n",
            "INFO:tensorflow:Step 1000 per-step time 0.152s\n",
            "I0420 04:09:04.646945 140312505128832 model_lib_v2.py:707] Step 1000 per-step time 0.152s\n",
            "INFO:tensorflow:{'Loss/classification_loss': 0.09370869,\n",
            " 'Loss/localization_loss': 0.041436028,\n",
            " 'Loss/regularization_loss': 0.15091777,\n",
            " 'Loss/total_loss': 0.28606248,\n",
            " 'learning_rate': 0.08}\n",
            "I0420 04:09:04.647265 140312505128832 model_lib_v2.py:708] {'Loss/classification_loss': 0.09370869,\n",
            " 'Loss/localization_loss': 0.041436028,\n",
            " 'Loss/regularization_loss': 0.15091777,\n",
            " 'Loss/total_loss': 0.28606248,\n",
            " 'learning_rate': 0.08}\n",
            "INFO:tensorflow:Step 1100 per-step time 0.157s\n",
            "I0420 04:09:20.378742 140312505128832 model_lib_v2.py:707] Step 1100 per-step time 0.157s\n",
            "INFO:tensorflow:{'Loss/classification_loss': 0.072140925,\n",
            " 'Loss/localization_loss': 0.027588785,\n",
            " 'Loss/regularization_loss': 0.15054594,\n",
            " 'Loss/total_loss': 0.25027564,\n",
            " 'learning_rate': 0.07978087}\n",
            "I0420 04:09:20.379060 140312505128832 model_lib_v2.py:708] {'Loss/classification_loss': 0.072140925,\n",
            " 'Loss/localization_loss': 0.027588785,\n",
            " 'Loss/regularization_loss': 0.15054594,\n",
            " 'Loss/total_loss': 0.25027564,\n",
            " 'learning_rate': 0.07978087}\n",
            "INFO:tensorflow:Step 1200 per-step time 0.152s\n",
            "I0420 04:09:35.530921 140312505128832 model_lib_v2.py:707] Step 1200 per-step time 0.152s\n",
            "INFO:tensorflow:{'Loss/classification_loss': 0.0590477,\n",
            " 'Loss/localization_loss': 0.027982036,\n",
            " 'Loss/regularization_loss': 0.14992154,\n",
            " 'Loss/total_loss': 0.23695126,\n",
            " 'learning_rate': 0.0791259}\n",
            "I0420 04:09:35.531243 140312505128832 model_lib_v2.py:708] {'Loss/classification_loss': 0.0590477,\n",
            " 'Loss/localization_loss': 0.027982036,\n",
            " 'Loss/regularization_loss': 0.14992154,\n",
            " 'Loss/total_loss': 0.23695126,\n",
            " 'learning_rate': 0.0791259}\n",
            "INFO:tensorflow:Step 1300 per-step time 0.152s\n",
            "I0420 04:09:50.684799 140312505128832 model_lib_v2.py:707] Step 1300 per-step time 0.152s\n",
            "INFO:tensorflow:{'Loss/classification_loss': 0.09672991,\n",
            " 'Loss/localization_loss': 0.04771553,\n",
            " 'Loss/regularization_loss': 0.14935644,\n",
            " 'Loss/total_loss': 0.2938019,\n",
            " 'learning_rate': 0.078042254}\n",
            "I0420 04:09:50.685105 140312505128832 model_lib_v2.py:708] {'Loss/classification_loss': 0.09672991,\n",
            " 'Loss/localization_loss': 0.04771553,\n",
            " 'Loss/regularization_loss': 0.14935644,\n",
            " 'Loss/total_loss': 0.2938019,\n",
            " 'learning_rate': 0.078042254}\n",
            "INFO:tensorflow:Step 1400 per-step time 0.152s\n",
            "I0420 04:10:05.852731 140312505128832 model_lib_v2.py:707] Step 1400 per-step time 0.152s\n",
            "INFO:tensorflow:{'Loss/classification_loss': 0.123632535,\n",
            " 'Loss/localization_loss': 0.07567334,\n",
            " 'Loss/regularization_loss': 0.14871357,\n",
            " 'Loss/total_loss': 0.34801945,\n",
            " 'learning_rate': 0.07654182}\n",
            "I0420 04:10:05.853082 140312505128832 model_lib_v2.py:708] {'Loss/classification_loss': 0.123632535,\n",
            " 'Loss/localization_loss': 0.07567334,\n",
            " 'Loss/regularization_loss': 0.14871357,\n",
            " 'Loss/total_loss': 0.34801945,\n",
            " 'learning_rate': 0.07654182}\n",
            "INFO:tensorflow:Step 1500 per-step time 0.151s\n",
            "I0420 04:10:20.954913 140312505128832 model_lib_v2.py:707] Step 1500 per-step time 0.151s\n",
            "INFO:tensorflow:{'Loss/classification_loss': 0.07770185,\n",
            " 'Loss/localization_loss': 0.04015562,\n",
            " 'Loss/regularization_loss': 0.14814053,\n",
            " 'Loss/total_loss': 0.265998,\n",
            " 'learning_rate': 0.07464102}\n",
            "I0420 04:10:20.955252 140312505128832 model_lib_v2.py:708] {'Loss/classification_loss': 0.07770185,\n",
            " 'Loss/localization_loss': 0.04015562,\n",
            " 'Loss/regularization_loss': 0.14814053,\n",
            " 'Loss/total_loss': 0.265998,\n",
            " 'learning_rate': 0.07464102}\n",
            "INFO:tensorflow:Step 1600 per-step time 0.151s\n",
            "I0420 04:10:36.080970 140312505128832 model_lib_v2.py:707] Step 1600 per-step time 0.151s\n",
            "INFO:tensorflow:{'Loss/classification_loss': 0.048927672,\n",
            " 'Loss/localization_loss': 0.02209095,\n",
            " 'Loss/regularization_loss': 0.14753161,\n",
            " 'Loss/total_loss': 0.21855024,\n",
            " 'learning_rate': 0.07236068}\n",
            "I0420 04:10:36.081305 140312505128832 model_lib_v2.py:708] {'Loss/classification_loss': 0.048927672,\n",
            " 'Loss/localization_loss': 0.02209095,\n",
            " 'Loss/regularization_loss': 0.14753161,\n",
            " 'Loss/total_loss': 0.21855024,\n",
            " 'learning_rate': 0.07236068}\n",
            "INFO:tensorflow:Step 1700 per-step time 0.152s\n",
            "I0420 04:10:51.301194 140312505128832 model_lib_v2.py:707] Step 1700 per-step time 0.152s\n",
            "INFO:tensorflow:{'Loss/classification_loss': 0.050193027,\n",
            " 'Loss/localization_loss': 0.013264832,\n",
            " 'Loss/regularization_loss': 0.14692502,\n",
            " 'Loss/total_loss': 0.21038288,\n",
            " 'learning_rate': 0.06972579}\n",
            "I0420 04:10:51.301503 140312505128832 model_lib_v2.py:708] {'Loss/classification_loss': 0.050193027,\n",
            " 'Loss/localization_loss': 0.013264832,\n",
            " 'Loss/regularization_loss': 0.14692502,\n",
            " 'Loss/total_loss': 0.21038288,\n",
            " 'learning_rate': 0.06972579}\n",
            "INFO:tensorflow:Step 1800 per-step time 0.153s\n",
            "I0420 04:11:06.565418 140312505128832 model_lib_v2.py:707] Step 1800 per-step time 0.153s\n",
            "INFO:tensorflow:{'Loss/classification_loss': 0.03566582,\n",
            " 'Loss/localization_loss': 0.019968914,\n",
            " 'Loss/regularization_loss': 0.14625661,\n",
            " 'Loss/total_loss': 0.20189135,\n",
            " 'learning_rate': 0.06676522}\n",
            "I0420 04:11:06.565740 140312505128832 model_lib_v2.py:708] {'Loss/classification_loss': 0.03566582,\n",
            " 'Loss/localization_loss': 0.019968914,\n",
            " 'Loss/regularization_loss': 0.14625661,\n",
            " 'Loss/total_loss': 0.20189135,\n",
            " 'learning_rate': 0.06676522}\n",
            "INFO:tensorflow:Step 1900 per-step time 0.150s\n",
            "I0420 04:11:21.593008 140312505128832 model_lib_v2.py:707] Step 1900 per-step time 0.150s\n",
            "INFO:tensorflow:{'Loss/classification_loss': 0.06188273,\n",
            " 'Loss/localization_loss': 0.033140734,\n",
            " 'Loss/regularization_loss': 0.1456341,\n",
            " 'Loss/total_loss': 0.24065757,\n",
            " 'learning_rate': 0.06351141}\n",
            "I0420 04:11:21.593329 140312505128832 model_lib_v2.py:708] {'Loss/classification_loss': 0.06188273,\n",
            " 'Loss/localization_loss': 0.033140734,\n",
            " 'Loss/regularization_loss': 0.1456341,\n",
            " 'Loss/total_loss': 0.24065757,\n",
            " 'learning_rate': 0.06351141}\n",
            "INFO:tensorflow:Step 2000 per-step time 0.151s\n",
            "I0420 04:11:36.643283 140312505128832 model_lib_v2.py:707] Step 2000 per-step time 0.151s\n",
            "INFO:tensorflow:{'Loss/classification_loss': 0.08892808,\n",
            " 'Loss/localization_loss': 0.04396304,\n",
            " 'Loss/regularization_loss': 0.14509842,\n",
            " 'Loss/total_loss': 0.27798954,\n",
            " 'learning_rate': 0.06}\n",
            "I0420 04:11:36.643588 140312505128832 model_lib_v2.py:708] {'Loss/classification_loss': 0.08892808,\n",
            " 'Loss/localization_loss': 0.04396304,\n",
            " 'Loss/regularization_loss': 0.14509842,\n",
            " 'Loss/total_loss': 0.27798954,\n",
            " 'learning_rate': 0.06}\n",
            "INFO:tensorflow:Step 2100 per-step time 0.155s\n",
            "I0420 04:11:52.185208 140312505128832 model_lib_v2.py:707] Step 2100 per-step time 0.155s\n",
            "INFO:tensorflow:{'Loss/classification_loss': 0.057251967,\n",
            " 'Loss/localization_loss': 0.027068298,\n",
            " 'Loss/regularization_loss': 0.14451283,\n",
            " 'Loss/total_loss': 0.2288331,\n",
            " 'learning_rate': 0.056269463}\n",
            "I0420 04:11:52.185519 140312505128832 model_lib_v2.py:708] {'Loss/classification_loss': 0.057251967,\n",
            " 'Loss/localization_loss': 0.027068298,\n",
            " 'Loss/regularization_loss': 0.14451283,\n",
            " 'Loss/total_loss': 0.2288331,\n",
            " 'learning_rate': 0.056269463}\n",
            "INFO:tensorflow:Step 2200 per-step time 0.151s\n",
            "I0420 04:12:07.292720 140312505128832 model_lib_v2.py:707] Step 2200 per-step time 0.151s\n",
            "INFO:tensorflow:{'Loss/classification_loss': 0.072507,\n",
            " 'Loss/localization_loss': 0.019295419,\n",
            " 'Loss/regularization_loss': 0.143952,\n",
            " 'Loss/total_loss': 0.23575442,\n",
            " 'learning_rate': 0.052360676}\n",
            "I0420 04:12:07.293015 140312505128832 model_lib_v2.py:708] {'Loss/classification_loss': 0.072507,\n",
            " 'Loss/localization_loss': 0.019295419,\n",
            " 'Loss/regularization_loss': 0.143952,\n",
            " 'Loss/total_loss': 0.23575442,\n",
            " 'learning_rate': 0.052360676}\n",
            "INFO:tensorflow:Step 2300 per-step time 0.151s\n",
            "I0420 04:12:22.382735 140312505128832 model_lib_v2.py:707] Step 2300 per-step time 0.151s\n",
            "INFO:tensorflow:{'Loss/classification_loss': 0.054903083,\n",
            " 'Loss/localization_loss': 0.012983574,\n",
            " 'Loss/regularization_loss': 0.14343083,\n",
            " 'Loss/total_loss': 0.21131748,\n",
            " 'learning_rate': 0.048316464}\n",
            "I0420 04:12:22.383095 140312505128832 model_lib_v2.py:708] {'Loss/classification_loss': 0.054903083,\n",
            " 'Loss/localization_loss': 0.012983574,\n",
            " 'Loss/regularization_loss': 0.14343083,\n",
            " 'Loss/total_loss': 0.21131748,\n",
            " 'learning_rate': 0.048316464}\n",
            "INFO:tensorflow:Step 2400 per-step time 0.151s\n",
            "I0420 04:12:37.496740 140312505128832 model_lib_v2.py:707] Step 2400 per-step time 0.151s\n",
            "INFO:tensorflow:{'Loss/classification_loss': 0.027546309,\n",
            " 'Loss/localization_loss': 0.009587472,\n",
            " 'Loss/regularization_loss': 0.14295466,\n",
            " 'Loss/total_loss': 0.18008845,\n",
            " 'learning_rate': 0.044181135}\n",
            "I0420 04:12:37.497070 140312505128832 model_lib_v2.py:708] {'Loss/classification_loss': 0.027546309,\n",
            " 'Loss/localization_loss': 0.009587472,\n",
            " 'Loss/regularization_loss': 0.14295466,\n",
            " 'Loss/total_loss': 0.18008845,\n",
            " 'learning_rate': 0.044181135}\n",
            "INFO:tensorflow:Step 2500 per-step time 0.152s\n",
            "I0420 04:12:52.716356 140312505128832 model_lib_v2.py:707] Step 2500 per-step time 0.152s\n",
            "INFO:tensorflow:{'Loss/classification_loss': 0.048263676,\n",
            " 'Loss/localization_loss': 0.01686414,\n",
            " 'Loss/regularization_loss': 0.14252175,\n",
            " 'Loss/total_loss': 0.20764957,\n",
            " 'learning_rate': 0.039999995}\n",
            "I0420 04:12:52.716670 140312505128832 model_lib_v2.py:708] {'Loss/classification_loss': 0.048263676,\n",
            " 'Loss/localization_loss': 0.01686414,\n",
            " 'Loss/regularization_loss': 0.14252175,\n",
            " 'Loss/total_loss': 0.20764957,\n",
            " 'learning_rate': 0.039999995}\n",
            "INFO:tensorflow:Step 2600 per-step time 0.151s\n",
            "I0420 04:13:07.817289 140312505128832 model_lib_v2.py:707] Step 2600 per-step time 0.151s\n",
            "INFO:tensorflow:{'Loss/classification_loss': 0.01830071,\n",
            " 'Loss/localization_loss': 0.005578732,\n",
            " 'Loss/regularization_loss': 0.14211573,\n",
            " 'Loss/total_loss': 0.16599517,\n",
            " 'learning_rate': 0.03581886}\n",
            "I0420 04:13:07.817603 140312505128832 model_lib_v2.py:708] {'Loss/classification_loss': 0.01830071,\n",
            " 'Loss/localization_loss': 0.005578732,\n",
            " 'Loss/regularization_loss': 0.14211573,\n",
            " 'Loss/total_loss': 0.16599517,\n",
            " 'learning_rate': 0.03581886}\n",
            "INFO:tensorflow:Step 2700 per-step time 0.151s\n",
            "I0420 04:13:22.950756 140312505128832 model_lib_v2.py:707] Step 2700 per-step time 0.151s\n",
            "INFO:tensorflow:{'Loss/classification_loss': 0.055970702,\n",
            " 'Loss/localization_loss': 0.026764378,\n",
            " 'Loss/regularization_loss': 0.14175093,\n",
            " 'Loss/total_loss': 0.22448601,\n",
            " 'learning_rate': 0.03168353}\n",
            "I0420 04:13:22.951049 140312505128832 model_lib_v2.py:708] {'Loss/classification_loss': 0.055970702,\n",
            " 'Loss/localization_loss': 0.026764378,\n",
            " 'Loss/regularization_loss': 0.14175093,\n",
            " 'Loss/total_loss': 0.22448601,\n",
            " 'learning_rate': 0.03168353}\n",
            "INFO:tensorflow:Step 2800 per-step time 0.152s\n",
            "I0420 04:13:38.156960 140312505128832 model_lib_v2.py:707] Step 2800 per-step time 0.152s\n",
            "INFO:tensorflow:{'Loss/classification_loss': 0.032779537,\n",
            " 'Loss/localization_loss': 0.011608471,\n",
            " 'Loss/regularization_loss': 0.14143182,\n",
            " 'Loss/total_loss': 0.18581983,\n",
            " 'learning_rate': 0.027639322}\n",
            "I0420 04:13:38.157274 140312505128832 model_lib_v2.py:708] {'Loss/classification_loss': 0.032779537,\n",
            " 'Loss/localization_loss': 0.011608471,\n",
            " 'Loss/regularization_loss': 0.14143182,\n",
            " 'Loss/total_loss': 0.18581983,\n",
            " 'learning_rate': 0.027639322}\n",
            "INFO:tensorflow:Step 2900 per-step time 0.152s\n",
            "I0420 04:13:53.322772 140312505128832 model_lib_v2.py:707] Step 2900 per-step time 0.152s\n",
            "INFO:tensorflow:{'Loss/classification_loss': 0.026681239,\n",
            " 'Loss/localization_loss': 0.020095965,\n",
            " 'Loss/regularization_loss': 0.14114879,\n",
            " 'Loss/total_loss': 0.187926,\n",
            " 'learning_rate': 0.023730533}\n",
            "I0420 04:13:53.323088 140312505128832 model_lib_v2.py:708] {'Loss/classification_loss': 0.026681239,\n",
            " 'Loss/localization_loss': 0.020095965,\n",
            " 'Loss/regularization_loss': 0.14114879,\n",
            " 'Loss/total_loss': 0.187926,\n",
            " 'learning_rate': 0.023730533}\n",
            "INFO:tensorflow:Step 3000 per-step time 0.152s\n",
            "I0420 04:14:08.508301 140312505128832 model_lib_v2.py:707] Step 3000 per-step time 0.152s\n",
            "INFO:tensorflow:{'Loss/classification_loss': 0.035995033,\n",
            " 'Loss/localization_loss': 0.0045094327,\n",
            " 'Loss/regularization_loss': 0.14090624,\n",
            " 'Loss/total_loss': 0.18141071,\n",
            " 'learning_rate': 0.019999998}\n",
            "I0420 04:14:08.508610 140312505128832 model_lib_v2.py:708] {'Loss/classification_loss': 0.035995033,\n",
            " 'Loss/localization_loss': 0.0045094327,\n",
            " 'Loss/regularization_loss': 0.14090624,\n",
            " 'Loss/total_loss': 0.18141071,\n",
            " 'learning_rate': 0.019999998}\n",
            "INFO:tensorflow:Step 3100 per-step time 0.157s\n",
            "I0420 04:14:24.190476 140312505128832 model_lib_v2.py:707] Step 3100 per-step time 0.157s\n",
            "INFO:tensorflow:{'Loss/classification_loss': 0.039367653,\n",
            " 'Loss/localization_loss': 0.0063307495,\n",
            " 'Loss/regularization_loss': 0.14070307,\n",
            " 'Loss/total_loss': 0.18640147,\n",
            " 'learning_rate': 0.01648859}\n",
            "I0420 04:14:24.190817 140312505128832 model_lib_v2.py:708] {'Loss/classification_loss': 0.039367653,\n",
            " 'Loss/localization_loss': 0.0063307495,\n",
            " 'Loss/regularization_loss': 0.14070307,\n",
            " 'Loss/total_loss': 0.18640147,\n",
            " 'learning_rate': 0.01648859}\n",
            "INFO:tensorflow:Step 3200 per-step time 0.152s\n",
            "I0420 04:14:39.423482 140312505128832 model_lib_v2.py:707] Step 3200 per-step time 0.152s\n",
            "INFO:tensorflow:{'Loss/classification_loss': 0.028242424,\n",
            " 'Loss/localization_loss': 0.0040980894,\n",
            " 'Loss/regularization_loss': 0.1405372,\n",
            " 'Loss/total_loss': 0.17287771,\n",
            " 'learning_rate': 0.013234773}\n",
            "I0420 04:14:39.423836 140312505128832 model_lib_v2.py:708] {'Loss/classification_loss': 0.028242424,\n",
            " 'Loss/localization_loss': 0.0040980894,\n",
            " 'Loss/regularization_loss': 0.1405372,\n",
            " 'Loss/total_loss': 0.17287771,\n",
            " 'learning_rate': 0.013234773}\n",
            "INFO:tensorflow:Step 3300 per-step time 0.153s\n",
            "I0420 04:14:54.761632 140312505128832 model_lib_v2.py:707] Step 3300 per-step time 0.153s\n",
            "INFO:tensorflow:{'Loss/classification_loss': 0.019540124,\n",
            " 'Loss/localization_loss': 0.003599179,\n",
            " 'Loss/regularization_loss': 0.14040451,\n",
            " 'Loss/total_loss': 0.1635438,\n",
            " 'learning_rate': 0.010274207}\n",
            "I0420 04:14:54.761965 140312505128832 model_lib_v2.py:708] {'Loss/classification_loss': 0.019540124,\n",
            " 'Loss/localization_loss': 0.003599179,\n",
            " 'Loss/regularization_loss': 0.14040451,\n",
            " 'Loss/total_loss': 0.1635438,\n",
            " 'learning_rate': 0.010274207}\n",
            "INFO:tensorflow:Step 3400 per-step time 0.152s\n",
            "I0420 04:15:09.913495 140312505128832 model_lib_v2.py:707] Step 3400 per-step time 0.152s\n",
            "INFO:tensorflow:{'Loss/classification_loss': 0.019384896,\n",
            " 'Loss/localization_loss': 0.0058670924,\n",
            " 'Loss/regularization_loss': 0.14030251,\n",
            " 'Loss/total_loss': 0.1655545,\n",
            " 'learning_rate': 0.0076393173}\n",
            "I0420 04:15:09.913829 140312505128832 model_lib_v2.py:708] {'Loss/classification_loss': 0.019384896,\n",
            " 'Loss/localization_loss': 0.0058670924,\n",
            " 'Loss/regularization_loss': 0.14030251,\n",
            " 'Loss/total_loss': 0.1655545,\n",
            " 'learning_rate': 0.0076393173}\n",
            "INFO:tensorflow:Step 3500 per-step time 0.152s\n",
            "I0420 04:15:25.116780 140312505128832 model_lib_v2.py:707] Step 3500 per-step time 0.152s\n",
            "INFO:tensorflow:{'Loss/classification_loss': 0.017269555,\n",
            " 'Loss/localization_loss': 0.0047363117,\n",
            " 'Loss/regularization_loss': 0.14022794,\n",
            " 'Loss/total_loss': 0.16223381,\n",
            " 'learning_rate': 0.0053589796}\n",
            "I0420 04:15:25.117082 140312505128832 model_lib_v2.py:708] {'Loss/classification_loss': 0.017269555,\n",
            " 'Loss/localization_loss': 0.0047363117,\n",
            " 'Loss/regularization_loss': 0.14022794,\n",
            " 'Loss/total_loss': 0.16223381,\n",
            " 'learning_rate': 0.0053589796}\n",
            "INFO:tensorflow:Step 3600 per-step time 0.151s\n",
            "I0420 04:15:40.223921 140312505128832 model_lib_v2.py:707] Step 3600 per-step time 0.151s\n",
            "INFO:tensorflow:{'Loss/classification_loss': 0.02090094,\n",
            " 'Loss/localization_loss': 0.0037369945,\n",
            " 'Loss/regularization_loss': 0.14017698,\n",
            " 'Loss/total_loss': 0.16481492,\n",
            " 'learning_rate': 0.0034581805}\n",
            "I0420 04:15:40.224233 140312505128832 model_lib_v2.py:708] {'Loss/classification_loss': 0.02090094,\n",
            " 'Loss/localization_loss': 0.0037369945,\n",
            " 'Loss/regularization_loss': 0.14017698,\n",
            " 'Loss/total_loss': 0.16481492,\n",
            " 'learning_rate': 0.0034581805}\n",
            "INFO:tensorflow:Step 3700 per-step time 0.151s\n",
            "I0420 04:15:55.280466 140312505128832 model_lib_v2.py:707] Step 3700 per-step time 0.151s\n",
            "INFO:tensorflow:{'Loss/classification_loss': 0.022872666,\n",
            " 'Loss/localization_loss': 0.0044946033,\n",
            " 'Loss/regularization_loss': 0.14014533,\n",
            " 'Loss/total_loss': 0.1675126,\n",
            " 'learning_rate': 0.001957736}\n",
            "I0420 04:15:55.280779 140312505128832 model_lib_v2.py:708] {'Loss/classification_loss': 0.022872666,\n",
            " 'Loss/localization_loss': 0.0044946033,\n",
            " 'Loss/regularization_loss': 0.14014533,\n",
            " 'Loss/total_loss': 0.1675126,\n",
            " 'learning_rate': 0.001957736}\n",
            "INFO:tensorflow:Step 3800 per-step time 0.153s\n",
            "I0420 04:16:10.594732 140312505128832 model_lib_v2.py:707] Step 3800 per-step time 0.153s\n",
            "INFO:tensorflow:{'Loss/classification_loss': 0.021754727,\n",
            " 'Loss/localization_loss': 0.0047254004,\n",
            " 'Loss/regularization_loss': 0.14012857,\n",
            " 'Loss/total_loss': 0.16660869,\n",
            " 'learning_rate': 0.00087409496}\n",
            "I0420 04:16:10.595045 140312505128832 model_lib_v2.py:708] {'Loss/classification_loss': 0.021754727,\n",
            " 'Loss/localization_loss': 0.0047254004,\n",
            " 'Loss/regularization_loss': 0.14012857,\n",
            " 'Loss/total_loss': 0.16660869,\n",
            " 'learning_rate': 0.00087409496}\n",
            "INFO:tensorflow:Step 3900 per-step time 0.152s\n",
            "I0420 04:16:25.798672 140312505128832 model_lib_v2.py:707] Step 3900 per-step time 0.152s\n",
            "INFO:tensorflow:{'Loss/classification_loss': 0.040492754,\n",
            " 'Loss/localization_loss': 0.024938041,\n",
            " 'Loss/regularization_loss': 0.14012201,\n",
            " 'Loss/total_loss': 0.20555282,\n",
            " 'learning_rate': 0.00021912337}\n",
            "I0420 04:16:25.799004 140312505128832 model_lib_v2.py:708] {'Loss/classification_loss': 0.040492754,\n",
            " 'Loss/localization_loss': 0.024938041,\n",
            " 'Loss/regularization_loss': 0.14012201,\n",
            " 'Loss/total_loss': 0.20555282,\n",
            " 'learning_rate': 0.00021912337}\n",
            "INFO:tensorflow:Step 4000 per-step time 0.152s\n",
            "I0420 04:16:40.986935 140312505128832 model_lib_v2.py:707] Step 4000 per-step time 0.152s\n",
            "INFO:tensorflow:{'Loss/classification_loss': 0.025161264,\n",
            " 'Loss/localization_loss': 0.0055745696,\n",
            " 'Loss/regularization_loss': 0.14012095,\n",
            " 'Loss/total_loss': 0.17085679,\n",
            " 'learning_rate': 0.0}\n",
            "I0420 04:16:40.987253 140312505128832 model_lib_v2.py:708] {'Loss/classification_loss': 0.025161264,\n",
            " 'Loss/localization_loss': 0.0055745696,\n",
            " 'Loss/regularization_loss': 0.14012095,\n",
            " 'Loss/total_loss': 0.17085679,\n",
            " 'learning_rate': 0.0}\n"
          ]
        }
      ]
    },
    {
      "cell_type": "markdown",
      "source": [
        "###Export Model"
      ],
      "metadata": {
        "id": "ezNIWc4joaeH"
      }
    },
    {
      "cell_type": "code",
      "source": [
        "!python exporter_main_v2.py --input_type image_tensor --pipeline_config_path /content/fabrik_tfod_demo/models/my_ssd_mobilenet_v2_fpnlite/pipeline.config --trained_checkpoint_dir /content/fabrik_tfod_demo/models/my_ssd_mobilenet_v2_fpnlite --output_directory /content/fabrik_tfod_demo/exported_models/my_model"
      ],
      "metadata": {
        "id": "DLovEMXpnxgI",
        "colab": {
          "base_uri": "https://localhost:8080/"
        },
        "outputId": "07fd1adf-3365-4702-b82e-6ea8b39866e3"
      },
      "execution_count": 22,
      "outputs": [
        {
          "output_type": "stream",
          "name": "stdout",
          "text": [
            "2022-04-20 04:29:29.895599: W tensorflow/core/common_runtime/gpu/gpu_bfc_allocator.cc:39] Overriding allow_growth setting because the TF_FORCE_GPU_ALLOW_GROWTH environment variable is set. Original config value was 0.\n",
            "WARNING:tensorflow:From /usr/local/lib/python3.7/dist-packages/tensorflow/python/autograph/impl/api.py:458: calling map_fn_v2 (from tensorflow.python.ops.map_fn) with back_prop=False is deprecated and will be removed in a future version.\n",
            "Instructions for updating:\n",
            "back_prop=False is deprecated. Consider using tf.stop_gradient instead.\n",
            "Instead of:\n",
            "results = tf.map_fn(fn, elems, back_prop=False)\n",
            "Use:\n",
            "results = tf.nest.map_structure(tf.stop_gradient, tf.map_fn(fn, elems))\n",
            "W0420 04:29:30.034361 139856417703808 deprecation.py:615] From /usr/local/lib/python3.7/dist-packages/tensorflow/python/autograph/impl/api.py:458: calling map_fn_v2 (from tensorflow.python.ops.map_fn) with back_prop=False is deprecated and will be removed in a future version.\n",
            "Instructions for updating:\n",
            "back_prop=False is deprecated. Consider using tf.stop_gradient instead.\n",
            "Instead of:\n",
            "results = tf.map_fn(fn, elems, back_prop=False)\n",
            "Use:\n",
            "results = tf.nest.map_structure(tf.stop_gradient, tf.map_fn(fn, elems))\n",
            "2022-04-20 04:29:44.632429: W tensorflow/python/util/util.cc:368] Sets are not currently considered sequences, but this may change in the future, so consider avoiding using them.\n",
            "WARNING:tensorflow:Skipping full serialization of Keras layer <object_detection.meta_architectures.ssd_meta_arch.SSDMetaArch object at 0x7f3240123590>, because it is not built.\n",
            "W0420 04:29:47.295691 139856417703808 save_impl.py:72] Skipping full serialization of Keras layer <object_detection.meta_architectures.ssd_meta_arch.SSDMetaArch object at 0x7f3240123590>, because it is not built.\n",
            "WARNING:tensorflow:Skipping full serialization of Keras layer <keras.layers.convolutional.SeparableConv2D object at 0x7f3240028d50>, because it is not built.\n",
            "W0420 04:29:47.545471 139856417703808 save_impl.py:72] Skipping full serialization of Keras layer <keras.layers.convolutional.SeparableConv2D object at 0x7f3240028d50>, because it is not built.\n",
            "WARNING:tensorflow:Skipping full serialization of Keras layer <object_detection.core.freezable_batch_norm.FreezableBatchNorm object at 0x7f31b8141f90>, because it is not built.\n",
            "W0420 04:29:47.545687 139856417703808 save_impl.py:72] Skipping full serialization of Keras layer <object_detection.core.freezable_batch_norm.FreezableBatchNorm object at 0x7f31b8141f90>, because it is not built.\n",
            "WARNING:tensorflow:Skipping full serialization of Keras layer <keras.layers.core.lambda_layer.Lambda object at 0x7f31b81dab90>, because it is not built.\n",
            "W0420 04:29:47.545820 139856417703808 save_impl.py:72] Skipping full serialization of Keras layer <keras.layers.core.lambda_layer.Lambda object at 0x7f31b81dab90>, because it is not built.\n",
            "WARNING:tensorflow:Skipping full serialization of Keras layer <keras.layers.convolutional.SeparableConv2D object at 0x7f31b8203b10>, because it is not built.\n",
            "W0420 04:29:47.545912 139856417703808 save_impl.py:72] Skipping full serialization of Keras layer <keras.layers.convolutional.SeparableConv2D object at 0x7f31b8203b10>, because it is not built.\n",
            "WARNING:tensorflow:Skipping full serialization of Keras layer <object_detection.core.freezable_batch_norm.FreezableBatchNorm object at 0x7f31b80f4550>, because it is not built.\n",
            "W0420 04:29:47.546008 139856417703808 save_impl.py:72] Skipping full serialization of Keras layer <object_detection.core.freezable_batch_norm.FreezableBatchNorm object at 0x7f31b80f4550>, because it is not built.\n",
            "WARNING:tensorflow:Skipping full serialization of Keras layer <keras.layers.core.lambda_layer.Lambda object at 0x7f31b8090e50>, because it is not built.\n",
            "W0420 04:29:47.546101 139856417703808 save_impl.py:72] Skipping full serialization of Keras layer <keras.layers.core.lambda_layer.Lambda object at 0x7f31b8090e50>, because it is not built.\n",
            "WARNING:tensorflow:Skipping full serialization of Keras layer <keras.layers.convolutional.SeparableConv2D object at 0x7f31b80f4b50>, because it is not built.\n",
            "W0420 04:29:47.546186 139856417703808 save_impl.py:72] Skipping full serialization of Keras layer <keras.layers.convolutional.SeparableConv2D object at 0x7f31b80f4b50>, because it is not built.\n",
            "WARNING:tensorflow:Skipping full serialization of Keras layer <object_detection.core.freezable_batch_norm.FreezableBatchNorm object at 0x7f31b80f4210>, because it is not built.\n",
            "W0420 04:29:47.546270 139856417703808 save_impl.py:72] Skipping full serialization of Keras layer <object_detection.core.freezable_batch_norm.FreezableBatchNorm object at 0x7f31b80f4210>, because it is not built.\n",
            "WARNING:tensorflow:Skipping full serialization of Keras layer <keras.layers.core.lambda_layer.Lambda object at 0x7f31b8171c90>, because it is not built.\n",
            "W0420 04:29:47.546351 139856417703808 save_impl.py:72] Skipping full serialization of Keras layer <keras.layers.core.lambda_layer.Lambda object at 0x7f31b8171c90>, because it is not built.\n",
            "WARNING:tensorflow:Skipping full serialization of Keras layer <keras.layers.convolutional.SeparableConv2D object at 0x7f31b81ef050>, because it is not built.\n",
            "W0420 04:29:47.546432 139856417703808 save_impl.py:72] Skipping full serialization of Keras layer <keras.layers.convolutional.SeparableConv2D object at 0x7f31b81ef050>, because it is not built.\n",
            "WARNING:tensorflow:Skipping full serialization of Keras layer <object_detection.core.freezable_batch_norm.FreezableBatchNorm object at 0x7f31b8171bd0>, because it is not built.\n",
            "W0420 04:29:47.546520 139856417703808 save_impl.py:72] Skipping full serialization of Keras layer <object_detection.core.freezable_batch_norm.FreezableBatchNorm object at 0x7f31b8171bd0>, because it is not built.\n",
            "WARNING:tensorflow:Skipping full serialization of Keras layer <keras.layers.core.lambda_layer.Lambda object at 0x7f31b80d3210>, because it is not built.\n",
            "W0420 04:29:47.546607 139856417703808 save_impl.py:72] Skipping full serialization of Keras layer <keras.layers.core.lambda_layer.Lambda object at 0x7f31b80d3210>, because it is not built.\n",
            "WARNING:tensorflow:Skipping full serialization of Keras layer <object_detection.core.freezable_batch_norm.FreezableBatchNorm object at 0x7f3240030590>, because it is not built.\n",
            "W0420 04:29:47.546688 139856417703808 save_impl.py:72] Skipping full serialization of Keras layer <object_detection.core.freezable_batch_norm.FreezableBatchNorm object at 0x7f3240030590>, because it is not built.\n",
            "WARNING:tensorflow:Skipping full serialization of Keras layer <keras.layers.core.lambda_layer.Lambda object at 0x7f31b807c410>, because it is not built.\n",
            "W0420 04:29:47.546787 139856417703808 save_impl.py:72] Skipping full serialization of Keras layer <keras.layers.core.lambda_layer.Lambda object at 0x7f31b807c410>, because it is not built.\n",
            "WARNING:tensorflow:Skipping full serialization of Keras layer <object_detection.core.freezable_batch_norm.FreezableBatchNorm object at 0x7f31b807c510>, because it is not built.\n",
            "W0420 04:29:47.546870 139856417703808 save_impl.py:72] Skipping full serialization of Keras layer <object_detection.core.freezable_batch_norm.FreezableBatchNorm object at 0x7f31b807c510>, because it is not built.\n",
            "WARNING:tensorflow:Skipping full serialization of Keras layer <keras.layers.core.lambda_layer.Lambda object at 0x7f31b8307e90>, because it is not built.\n",
            "W0420 04:29:47.546951 139856417703808 save_impl.py:72] Skipping full serialization of Keras layer <keras.layers.core.lambda_layer.Lambda object at 0x7f31b8307e90>, because it is not built.\n",
            "WARNING:tensorflow:Skipping full serialization of Keras layer <object_detection.core.freezable_batch_norm.FreezableBatchNorm object at 0x7f31b807cd10>, because it is not built.\n",
            "W0420 04:29:47.547032 139856417703808 save_impl.py:72] Skipping full serialization of Keras layer <object_detection.core.freezable_batch_norm.FreezableBatchNorm object at 0x7f31b807cd10>, because it is not built.\n",
            "WARNING:tensorflow:Skipping full serialization of Keras layer <keras.layers.core.lambda_layer.Lambda object at 0x7f31b81fa450>, because it is not built.\n",
            "W0420 04:29:47.547113 139856417703808 save_impl.py:72] Skipping full serialization of Keras layer <keras.layers.core.lambda_layer.Lambda object at 0x7f31b81fa450>, because it is not built.\n",
            "WARNING:tensorflow:Skipping full serialization of Keras layer <object_detection.core.freezable_batch_norm.FreezableBatchNorm object at 0x7f31b80a9390>, because it is not built.\n",
            "W0420 04:29:47.547194 139856417703808 save_impl.py:72] Skipping full serialization of Keras layer <object_detection.core.freezable_batch_norm.FreezableBatchNorm object at 0x7f31b80a9390>, because it is not built.\n",
            "WARNING:tensorflow:Skipping full serialization of Keras layer <keras.layers.core.lambda_layer.Lambda object at 0x7f31b80a9c50>, because it is not built.\n",
            "W0420 04:29:47.547276 139856417703808 save_impl.py:72] Skipping full serialization of Keras layer <keras.layers.core.lambda_layer.Lambda object at 0x7f31b80a9c50>, because it is not built.\n",
            "WARNING:tensorflow:Skipping full serialization of Keras layer <object_detection.core.freezable_batch_norm.FreezableBatchNorm object at 0x7f32400305d0>, because it is not built.\n",
            "W0420 04:29:47.547356 139856417703808 save_impl.py:72] Skipping full serialization of Keras layer <object_detection.core.freezable_batch_norm.FreezableBatchNorm object at 0x7f32400305d0>, because it is not built.\n",
            "WARNING:tensorflow:Skipping full serialization of Keras layer <keras.layers.core.lambda_layer.Lambda object at 0x7f31b80bf5d0>, because it is not built.\n",
            "W0420 04:29:47.547437 139856417703808 save_impl.py:72] Skipping full serialization of Keras layer <keras.layers.core.lambda_layer.Lambda object at 0x7f31b80bf5d0>, because it is not built.\n",
            "WARNING:tensorflow:Skipping full serialization of Keras layer <object_detection.core.freezable_batch_norm.FreezableBatchNorm object at 0x7f31b80bf8d0>, because it is not built.\n",
            "W0420 04:29:47.547516 139856417703808 save_impl.py:72] Skipping full serialization of Keras layer <object_detection.core.freezable_batch_norm.FreezableBatchNorm object at 0x7f31b80bf8d0>, because it is not built.\n",
            "WARNING:tensorflow:Skipping full serialization of Keras layer <keras.layers.core.lambda_layer.Lambda object at 0x7f31b8009090>, because it is not built.\n",
            "W0420 04:29:47.547597 139856417703808 save_impl.py:72] Skipping full serialization of Keras layer <keras.layers.core.lambda_layer.Lambda object at 0x7f31b8009090>, because it is not built.\n",
            "WARNING:tensorflow:Skipping full serialization of Keras layer <object_detection.core.freezable_batch_norm.FreezableBatchNorm object at 0x7f31b8009650>, because it is not built.\n",
            "W0420 04:29:47.547681 139856417703808 save_impl.py:72] Skipping full serialization of Keras layer <object_detection.core.freezable_batch_norm.FreezableBatchNorm object at 0x7f31b8009650>, because it is not built.\n",
            "WARNING:tensorflow:Skipping full serialization of Keras layer <keras.layers.core.lambda_layer.Lambda object at 0x7f31b8009b50>, because it is not built.\n",
            "W0420 04:29:47.547777 139856417703808 save_impl.py:72] Skipping full serialization of Keras layer <keras.layers.core.lambda_layer.Lambda object at 0x7f31b8009b50>, because it is not built.\n",
            "WARNING:tensorflow:Skipping full serialization of Keras layer <object_detection.core.freezable_batch_norm.FreezableBatchNorm object at 0x7f31b8009bd0>, because it is not built.\n",
            "W0420 04:29:47.547862 139856417703808 save_impl.py:72] Skipping full serialization of Keras layer <object_detection.core.freezable_batch_norm.FreezableBatchNorm object at 0x7f31b8009bd0>, because it is not built.\n",
            "WARNING:tensorflow:Skipping full serialization of Keras layer <keras.layers.core.lambda_layer.Lambda object at 0x7f31b8083090>, because it is not built.\n",
            "W0420 04:29:47.547947 139856417703808 save_impl.py:72] Skipping full serialization of Keras layer <keras.layers.core.lambda_layer.Lambda object at 0x7f31b8083090>, because it is not built.\n",
            "WARNING:tensorflow:Skipping full serialization of Keras layer <object_detection.core.freezable_batch_norm.FreezableBatchNorm object at 0x7f31b8083d90>, because it is not built.\n",
            "W0420 04:29:47.548028 139856417703808 save_impl.py:72] Skipping full serialization of Keras layer <object_detection.core.freezable_batch_norm.FreezableBatchNorm object at 0x7f31b8083d90>, because it is not built.\n",
            "WARNING:tensorflow:Skipping full serialization of Keras layer <keras.layers.core.lambda_layer.Lambda object at 0x7f31ce0de3d0>, because it is not built.\n",
            "W0420 04:29:47.548110 139856417703808 save_impl.py:72] Skipping full serialization of Keras layer <keras.layers.core.lambda_layer.Lambda object at 0x7f31ce0de3d0>, because it is not built.\n",
            "WARNING:tensorflow:Skipping full serialization of Keras layer <object_detection.core.freezable_batch_norm.FreezableBatchNorm object at 0x7f31b8141ed0>, because it is not built.\n",
            "W0420 04:29:47.548201 139856417703808 save_impl.py:72] Skipping full serialization of Keras layer <object_detection.core.freezable_batch_norm.FreezableBatchNorm object at 0x7f31b8141ed0>, because it is not built.\n",
            "WARNING:tensorflow:Skipping full serialization of Keras layer <keras.layers.core.lambda_layer.Lambda object at 0x7f31b8749090>, because it is not built.\n",
            "W0420 04:29:47.548282 139856417703808 save_impl.py:72] Skipping full serialization of Keras layer <keras.layers.core.lambda_layer.Lambda object at 0x7f31b8749090>, because it is not built.\n",
            "WARNING:tensorflow:Skipping full serialization of Keras layer <object_detection.core.freezable_batch_norm.FreezableBatchNorm object at 0x7f31b81bff10>, because it is not built.\n",
            "W0420 04:29:47.548363 139856417703808 save_impl.py:72] Skipping full serialization of Keras layer <object_detection.core.freezable_batch_norm.FreezableBatchNorm object at 0x7f31b81bff10>, because it is not built.\n",
            "WARNING:tensorflow:Skipping full serialization of Keras layer <keras.layers.core.lambda_layer.Lambda object at 0x7f31b807c590>, because it is not built.\n",
            "W0420 04:29:47.548444 139856417703808 save_impl.py:72] Skipping full serialization of Keras layer <keras.layers.core.lambda_layer.Lambda object at 0x7f31b807c590>, because it is not built.\n",
            "WARNING:tensorflow:Skipping full serialization of Keras layer <object_detection.core.freezable_batch_norm.FreezableBatchNorm object at 0x7f31b877e210>, because it is not built.\n",
            "W0420 04:29:47.548525 139856417703808 save_impl.py:72] Skipping full serialization of Keras layer <object_detection.core.freezable_batch_norm.FreezableBatchNorm object at 0x7f31b877e210>, because it is not built.\n",
            "WARNING:tensorflow:Skipping full serialization of Keras layer <keras.layers.core.lambda_layer.Lambda object at 0x7f31b815b3d0>, because it is not built.\n",
            "W0420 04:29:47.548608 139856417703808 save_impl.py:72] Skipping full serialization of Keras layer <keras.layers.core.lambda_layer.Lambda object at 0x7f31b815b3d0>, because it is not built.\n",
            "WARNING:tensorflow:Skipping full serialization of Keras layer <object_detection.core.freezable_batch_norm.FreezableBatchNorm object at 0x7f3240030610>, because it is not built.\n",
            "W0420 04:29:47.548707 139856417703808 save_impl.py:72] Skipping full serialization of Keras layer <object_detection.core.freezable_batch_norm.FreezableBatchNorm object at 0x7f3240030610>, because it is not built.\n",
            "WARNING:tensorflow:Skipping full serialization of Keras layer <keras.layers.core.lambda_layer.Lambda object at 0x7f31b80c3a50>, because it is not built.\n",
            "W0420 04:29:47.548811 139856417703808 save_impl.py:72] Skipping full serialization of Keras layer <keras.layers.core.lambda_layer.Lambda object at 0x7f31b80c3a50>, because it is not built.\n",
            "WARNING:tensorflow:Skipping full serialization of Keras layer <object_detection.core.freezable_batch_norm.FreezableBatchNorm object at 0x7f31b80c3b50>, because it is not built.\n",
            "W0420 04:29:47.548896 139856417703808 save_impl.py:72] Skipping full serialization of Keras layer <object_detection.core.freezable_batch_norm.FreezableBatchNorm object at 0x7f31b80c3b50>, because it is not built.\n",
            "WARNING:tensorflow:Skipping full serialization of Keras layer <keras.layers.core.lambda_layer.Lambda object at 0x7f31b80c3f50>, because it is not built.\n",
            "W0420 04:29:47.548979 139856417703808 save_impl.py:72] Skipping full serialization of Keras layer <keras.layers.core.lambda_layer.Lambda object at 0x7f31b80c3f50>, because it is not built.\n",
            "WARNING:tensorflow:Skipping full serialization of Keras layer <object_detection.core.freezable_batch_norm.FreezableBatchNorm object at 0x7f31b80c3410>, because it is not built.\n",
            "W0420 04:29:47.549061 139856417703808 save_impl.py:72] Skipping full serialization of Keras layer <object_detection.core.freezable_batch_norm.FreezableBatchNorm object at 0x7f31b80c3410>, because it is not built.\n",
            "WARNING:tensorflow:Skipping full serialization of Keras layer <keras.layers.core.lambda_layer.Lambda object at 0x7f31b8115ed0>, because it is not built.\n",
            "W0420 04:29:47.549146 139856417703808 save_impl.py:72] Skipping full serialization of Keras layer <keras.layers.core.lambda_layer.Lambda object at 0x7f31b8115ed0>, because it is not built.\n",
            "WARNING:tensorflow:Skipping full serialization of Keras layer <object_detection.core.freezable_batch_norm.FreezableBatchNorm object at 0x7f31b81b6e50>, because it is not built.\n",
            "W0420 04:29:47.549228 139856417703808 save_impl.py:72] Skipping full serialization of Keras layer <object_detection.core.freezable_batch_norm.FreezableBatchNorm object at 0x7f31b81b6e50>, because it is not built.\n",
            "WARNING:tensorflow:Skipping full serialization of Keras layer <keras.layers.core.lambda_layer.Lambda object at 0x7f31b81b6c90>, because it is not built.\n",
            "W0420 04:29:47.635887 139856417703808 save_impl.py:72] Skipping full serialization of Keras layer <keras.layers.core.lambda_layer.Lambda object at 0x7f31b81b6c90>, because it is not built.\n",
            "W0420 04:30:02.890999 139856417703808 save.py:265] Found untraced functions such as WeightSharedConvolutionalBoxPredictor_layer_call_fn, WeightSharedConvolutionalBoxPredictor_layer_call_and_return_conditional_losses, WeightSharedConvolutionalBoxHead_layer_call_fn, WeightSharedConvolutionalBoxHead_layer_call_and_return_conditional_losses, WeightSharedConvolutionalClassHead_layer_call_fn while saving (showing 5 of 104). These functions will not be directly callable after loading.\n",
            "INFO:tensorflow:Assets written to: /content/fabrik_tfod_demo/exported_models/my_model/saved_model/assets\n",
            "I0420 04:30:08.016850 139856417703808 builder_impl.py:780] Assets written to: /content/fabrik_tfod_demo/exported_models/my_model/saved_model/assets\n",
            "INFO:tensorflow:Writing pipeline config file to /content/fabrik_tfod_demo/exported_models/my_model/pipeline.config\n",
            "I0420 04:30:08.554788 139856417703808 config_util.py:254] Writing pipeline config file to /content/fabrik_tfod_demo/exported_models/my_model/pipeline.config\n"
          ]
        }
      ]
    },
    {
      "cell_type": "code",
      "source": [
        "# Save to Google Drive\n",
        "\n",
        "#import os\n",
        "#from google.colab import drive\n",
        "#drive.mount('/content/drive')\n",
        "\n",
        "#os.environ['SAVE_MODEL_TO_DRIVE'] = PROJECT_NAME + \"/\" + os.getenv('MODEL_NAME') + str(RUN_ID) + \"/\" + SAVE_MODEL_NAME"
      ],
      "metadata": {
        "id": "pto631pzqokN"
      },
      "execution_count": null,
      "outputs": []
    },
    {
      "cell_type": "code",
      "source": [
        "#%%bash\n",
        "#SAVE_TO_DRIVE=/content/drive/MyDrive/tensorflow-object-detection-api-tf-2-4-1-trained-models/${SAVE_MODEL_TO_DRIVE}\n",
        "#mkdir -p ${SAVE_TO_DRIVE}\n",
        "#cp  -r ${EXPORT_MODEL_PATH} ${SAVE_TO_DRIVE}"
      ],
      "metadata": {
        "id": "-obT5AbFrJsT"
      },
      "execution_count": null,
      "outputs": []
    },
    {
      "cell_type": "markdown",
      "source": [
        "###Run Inference"
      ],
      "metadata": {
        "id": "7QkKhaDaon-M"
      }
    },
    {
      "cell_type": "code",
      "source": [
        "\"\"\"\n",
        "Object Detection (On Image) From TF2 Saved Model\n",
        "=====================================\n",
        "\"\"\"\n",
        "\n",
        "import os\n",
        "os.environ['TF_CPP_MIN_LOG_LEVEL'] = '2'    # Suppress TensorFlow logging (1)\n",
        "import pathlib\n",
        "import tensorflow as tf\n",
        "import cv2\n",
        "import argparse\n",
        "from google.colab.patches import cv2_imshow\n",
        "\n",
        "# Enable GPU dynamic memory allocation\n",
        "gpus = tf.config.experimental.list_physical_devices('GPU')\n",
        "for gpu in gpus:\n",
        "    tf.config.experimental.set_memory_growth(gpu, True)\n",
        "\n",
        "# PATH TO IMAGE DIRECTORY\n",
        "IMAGE_PATHS = '/content/fabrik_tfod_demo/images/train/connector137.jpg'\n",
        "\n",
        "\n",
        "# PATH TO MODEL DIRECTORY\n",
        "PATH_TO_MODEL_DIR = '/content/fabrik_tfod_demo/exported_models/my_model'\n",
        "\n",
        "# PATH TO LABEL MAP\n",
        "PATH_TO_LABELS = '/content/fabrik_tfod_demo/annotations/label_map.pbtxt'\n",
        "\n",
        "# MINIMUM CONFIDENCE THRESHOLD\n",
        "MIN_CONF_THRESH = float(0.60)\n",
        "\n",
        "# LOAD THE MODEL\n",
        "\n",
        "import time\n",
        "from object_detection.utils import label_map_util\n",
        "from object_detection.utils import visualization_utils as viz_utils\n",
        "\n",
        "PATH_TO_SAVED_MODEL = PATH_TO_MODEL_DIR + \"/saved_model\"\n",
        "\n",
        "print('Loading model...', end='')\n",
        "start_time = time.time()\n",
        "\n",
        "# LOAD SAVED MODEL AND BUILD DETECTION FUNCTION\n",
        "detect_fn = tf.saved_model.load(PATH_TO_SAVED_MODEL)\n",
        "\n",
        "end_time = time.time()\n",
        "elapsed_time = end_time - start_time\n",
        "print('Done! Took {} seconds'.format(elapsed_time))\n",
        "\n",
        "# LOAD LABEL MAP DATA FOR PLOTTING\n",
        "\n",
        "category_index = label_map_util.create_category_index_from_labelmap(PATH_TO_LABELS,\n",
        "                                                                    use_display_name=True)\n",
        "\n",
        "import numpy as np\n",
        "from PIL import Image\n",
        "import matplotlib.pyplot as plt\n",
        "import warnings\n",
        "warnings.filterwarnings('ignore')   # Suppress Matplotlib warnings\n",
        "\n",
        "def load_image_into_numpy_array(path):\n",
        "    \"\"\"Load an image #from file into a numpy array.\n",
        "    Puts image into numpy array to feed into tensorflow graph.\n",
        "    Note that by convention we put it into a numpy array #with shape\n",
        "    (height, width, channels), where #channels=3 #for RGB.\n",
        "    Args:\n",
        "      path: the #file path to the image\n",
        "    Returns:\n",
        "      uint8 numpy array #with shape (img_height, img_width, 3)\n",
        "    \"\"\"\n",
        "    return np.array(Image.open(path))\n",
        "\n",
        "\n",
        "\n",
        "\n",
        "print('Running inference for {}... '.format(IMAGE_PATHS), end='')\n",
        "\n",
        "image = cv2.imread(IMAGE_PATHS)\n",
        "image_rgb = cv2.cvtColor(image, cv2.COLOR_BGR2RGB)\n",
        "image_expanded = np.expand_dims(image_rgb, axis=0)\n",
        "\n",
        "# The input needs to be a tensor, convert it using `tf.convert_to_tensor`.\n",
        "input_tensor = tf.convert_to_tensor(image)\n",
        "# The model expects a batch of images, so add an axis with `tf.newaxis`.\n",
        "input_tensor = input_tensor[tf.newaxis, ...]\n",
        "\n",
        "# input_tensor = np.expand_dims(image_np, 0)\n",
        "detections = detect_fn(input_tensor)\n",
        "\n",
        "# All outputs are batches tensors.\n",
        "# Convert to numpy arrays, and take index [0] to remove the batch dimension.\n",
        "num_detections = int(detections.pop('num_detections'))\n",
        "detections = {key: value[0, :num_detections].numpy()\n",
        "               for key, value in detections.items()}\n",
        "detections['num_detections'] = num_detections\n",
        "\n",
        "# detection_classes should be ints.\n",
        "detections['detection_classes'] = detections['detection_classes'].astype(np.int64)\n",
        "\n",
        "image_with_detections = image.copy()\n",
        "\n",
        "# MIN_SCORE_THRESH BASED ON YOU MINIMUM THRESHOLD FOR DETECTIONS\n",
        "viz_utils.visualize_boxes_and_labels_on_image_array(\n",
        "      image_with_detections,\n",
        "      detections['detection_boxes'],\n",
        "      detections['detection_classes'],\n",
        "      detections['detection_scores'],\n",
        "      category_index,\n",
        "      use_normalized_coordinates=True,\n",
        "      max_boxes_to_draw=200,\n",
        "      min_score_thresh=0.5,\n",
        "      agnostic_mode=False)\n",
        "\n",
        "print('Done')\n",
        "# DISPLAYS OUTPUT IMAGE\n",
        "cv2_imshow(image_with_detections)"
      ],
      "metadata": {
        "id": "RJAcq2Upnxcv",
        "colab": {
          "base_uri": "https://localhost:8080/",
          "height": 292
        },
        "outputId": "c4fa0e71-572a-46c6-81fd-82352fa335c2"
      },
      "execution_count": 26,
      "outputs": [
        {
          "output_type": "stream",
          "name": "stdout",
          "text": [
            "Loading model...Done! Took 11.040645360946655 seconds\n",
            "Running inference for /content/fabrik_tfod_demo/images/train/connector137.jpg... Done\n"
          ]
        },
        {
          "output_type": "display_data",
          "data": {
            "text/plain": [
              "<PIL.Image.Image image mode=RGB size=320x240 at 0x7F03F120C990>"
            ],
            "image/png": "[encoded data removed]"
          },
          "metadata": {}
        }
      ]
    },
    {
      "cell_type": "code",
      "source": [
        ""
      ],
      "metadata": {
        "id": "PjBuRhF4nxQ3"
      },
      "execution_count": null,
      "outputs": []
    }
  ]
}